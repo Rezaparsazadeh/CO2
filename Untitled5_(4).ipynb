{
  "cells": [
    {
      "cell_type": "markdown",
      "metadata": {
        "id": "view-in-github",
        "colab_type": "text"
      },
      "source": [
        "<a href=\"https://colab.research.google.com/github/Rezaparsazadeh/CO2/blob/main/Untitled5_(4).ipynb\" target=\"_parent\"><img src=\"https://colab.research.google.com/assets/colab-badge.svg\" alt=\"Open In Colab\"/></a>"
      ]
    },
    {
      "cell_type": "code",
      "execution_count": 308,
      "metadata": {
        "id": "71vgPF-CBDH5"
      },
      "outputs": [],
      "source": [
        "from tensorflow import keras\n",
        "from tensorflow.keras.optimizers import Adam\n",
        "from keras.models import Sequential\n",
        "from keras.layers import Dense, Dropout, Activation\n",
        "from sklearn.preprocessing import LabelBinarizer\n",
        "from sklearn.preprocessing import MinMaxScaler\n",
        "from sklearn.model_selection import train_test_split\n",
        "import pandas as pd\n",
        "import numpy as np\n",
        "import glob\n",
        "import cv2\n",
        "import os\n",
        "import locale\n",
        "import seaborn as sns\n",
        "from datetime import timedelta, datetime\n",
        "from sklearn.metrics import mean_squared_error\n",
        "import xgboost as xgb\n",
        "import plotly.graph_objects as go\n"
      ]
    },
    {
      "cell_type": "code",
      "source": [
        "!pip install keras-tuner"
      ],
      "metadata": {
        "colab": {
          "base_uri": "https://localhost:8080/"
        },
        "id": "cPtgsHOq5yMy",
        "outputId": "49a91add-fe37-4b42-f28e-a99575b2a408"
      },
      "execution_count": 309,
      "outputs": [
        {
          "output_type": "stream",
          "name": "stdout",
          "text": [
            "Looking in indexes: https://pypi.org/simple, https://us-python.pkg.dev/colab-wheels/public/simple/\n",
            "Requirement already satisfied: keras-tuner in /usr/local/lib/python3.8/dist-packages (1.1.3)\n",
            "Requirement already satisfied: ipython in /usr/local/lib/python3.8/dist-packages (from keras-tuner) (7.9.0)\n",
            "Requirement already satisfied: packaging in /usr/local/lib/python3.8/dist-packages (from keras-tuner) (21.3)\n",
            "Requirement already satisfied: kt-legacy in /usr/local/lib/python3.8/dist-packages (from keras-tuner) (1.0.4)\n",
            "Requirement already satisfied: tensorboard in /usr/local/lib/python3.8/dist-packages (from keras-tuner) (2.9.1)\n",
            "Requirement already satisfied: numpy in /usr/local/lib/python3.8/dist-packages (from keras-tuner) (1.21.6)\n",
            "Requirement already satisfied: requests in /usr/local/lib/python3.8/dist-packages (from keras-tuner) (2.25.1)\n",
            "Requirement already satisfied: decorator in /usr/local/lib/python3.8/dist-packages (from ipython->keras-tuner) (4.4.2)\n",
            "Requirement already satisfied: prompt-toolkit<2.1.0,>=2.0.0 in /usr/local/lib/python3.8/dist-packages (from ipython->keras-tuner) (2.0.10)\n",
            "Requirement already satisfied: jedi>=0.10 in /usr/local/lib/python3.8/dist-packages (from ipython->keras-tuner) (0.18.2)\n",
            "Requirement already satisfied: pexpect in /usr/local/lib/python3.8/dist-packages (from ipython->keras-tuner) (4.8.0)\n",
            "Requirement already satisfied: pickleshare in /usr/local/lib/python3.8/dist-packages (from ipython->keras-tuner) (0.7.5)\n",
            "Requirement already satisfied: setuptools>=18.5 in /usr/local/lib/python3.8/dist-packages (from ipython->keras-tuner) (57.4.0)\n",
            "Requirement already satisfied: traitlets>=4.2 in /usr/local/lib/python3.8/dist-packages (from ipython->keras-tuner) (5.7.1)\n",
            "Requirement already satisfied: pygments in /usr/local/lib/python3.8/dist-packages (from ipython->keras-tuner) (2.6.1)\n",
            "Requirement already satisfied: backcall in /usr/local/lib/python3.8/dist-packages (from ipython->keras-tuner) (0.2.0)\n",
            "Requirement already satisfied: pyparsing!=3.0.5,>=2.0.2 in /usr/local/lib/python3.8/dist-packages (from packaging->keras-tuner) (3.0.9)\n",
            "Requirement already satisfied: urllib3<1.27,>=1.21.1 in /usr/local/lib/python3.8/dist-packages (from requests->keras-tuner) (1.24.3)\n",
            "Requirement already satisfied: certifi>=2017.4.17 in /usr/local/lib/python3.8/dist-packages (from requests->keras-tuner) (2022.12.7)\n",
            "Requirement already satisfied: idna<3,>=2.5 in /usr/local/lib/python3.8/dist-packages (from requests->keras-tuner) (2.10)\n",
            "Requirement already satisfied: chardet<5,>=3.0.2 in /usr/local/lib/python3.8/dist-packages (from requests->keras-tuner) (4.0.0)\n",
            "Requirement already satisfied: wheel>=0.26 in /usr/local/lib/python3.8/dist-packages (from tensorboard->keras-tuner) (0.38.4)\n",
            "Requirement already satisfied: markdown>=2.6.8 in /usr/local/lib/python3.8/dist-packages (from tensorboard->keras-tuner) (3.4.1)\n",
            "Requirement already satisfied: google-auth-oauthlib<0.5,>=0.4.1 in /usr/local/lib/python3.8/dist-packages (from tensorboard->keras-tuner) (0.4.6)\n",
            "Requirement already satisfied: google-auth<3,>=1.6.3 in /usr/local/lib/python3.8/dist-packages (from tensorboard->keras-tuner) (2.16.0)\n",
            "Requirement already satisfied: werkzeug>=1.0.1 in /usr/local/lib/python3.8/dist-packages (from tensorboard->keras-tuner) (1.0.1)\n",
            "Requirement already satisfied: grpcio>=1.24.3 in /usr/local/lib/python3.8/dist-packages (from tensorboard->keras-tuner) (1.51.1)\n",
            "Requirement already satisfied: tensorboard-data-server<0.7.0,>=0.6.0 in /usr/local/lib/python3.8/dist-packages (from tensorboard->keras-tuner) (0.6.1)\n",
            "Requirement already satisfied: protobuf<3.20,>=3.9.2 in /usr/local/lib/python3.8/dist-packages (from tensorboard->keras-tuner) (3.19.6)\n",
            "Requirement already satisfied: absl-py>=0.4 in /usr/local/lib/python3.8/dist-packages (from tensorboard->keras-tuner) (1.3.0)\n",
            "Requirement already satisfied: tensorboard-plugin-wit>=1.6.0 in /usr/local/lib/python3.8/dist-packages (from tensorboard->keras-tuner) (1.8.1)\n",
            "Requirement already satisfied: pyasn1-modules>=0.2.1 in /usr/local/lib/python3.8/dist-packages (from google-auth<3,>=1.6.3->tensorboard->keras-tuner) (0.2.8)\n",
            "Requirement already satisfied: cachetools<6.0,>=2.0.0 in /usr/local/lib/python3.8/dist-packages (from google-auth<3,>=1.6.3->tensorboard->keras-tuner) (5.2.1)\n",
            "Requirement already satisfied: rsa<5,>=3.1.4 in /usr/local/lib/python3.8/dist-packages (from google-auth<3,>=1.6.3->tensorboard->keras-tuner) (4.9)\n",
            "Requirement already satisfied: six>=1.9.0 in /usr/local/lib/python3.8/dist-packages (from google-auth<3,>=1.6.3->tensorboard->keras-tuner) (1.15.0)\n",
            "Requirement already satisfied: requests-oauthlib>=0.7.0 in /usr/local/lib/python3.8/dist-packages (from google-auth-oauthlib<0.5,>=0.4.1->tensorboard->keras-tuner) (1.3.1)\n",
            "Requirement already satisfied: parso<0.9.0,>=0.8.0 in /usr/local/lib/python3.8/dist-packages (from jedi>=0.10->ipython->keras-tuner) (0.8.3)\n",
            "Requirement already satisfied: importlib-metadata>=4.4 in /usr/local/lib/python3.8/dist-packages (from markdown>=2.6.8->tensorboard->keras-tuner) (6.0.0)\n",
            "Requirement already satisfied: wcwidth in /usr/local/lib/python3.8/dist-packages (from prompt-toolkit<2.1.0,>=2.0.0->ipython->keras-tuner) (0.2.5)\n",
            "Requirement already satisfied: ptyprocess>=0.5 in /usr/local/lib/python3.8/dist-packages (from pexpect->ipython->keras-tuner) (0.7.0)\n",
            "Requirement already satisfied: zipp>=0.5 in /usr/local/lib/python3.8/dist-packages (from importlib-metadata>=4.4->markdown>=2.6.8->tensorboard->keras-tuner) (3.11.0)\n",
            "Requirement already satisfied: pyasn1<0.5.0,>=0.4.6 in /usr/local/lib/python3.8/dist-packages (from pyasn1-modules>=0.2.1->google-auth<3,>=1.6.3->tensorboard->keras-tuner) (0.4.8)\n",
            "Requirement already satisfied: oauthlib>=3.0.0 in /usr/local/lib/python3.8/dist-packages (from requests-oauthlib>=0.7.0->google-auth-oauthlib<0.5,>=0.4.1->tensorboard->keras-tuner) (3.2.2)\n"
          ]
        }
      ]
    },
    {
      "cell_type": "code",
      "source": [
        "from kerastuner.tuners import RandomSearch\n",
        "import kerastuner as kt"
      ],
      "metadata": {
        "id": "LBjP0y8256SD"
      },
      "execution_count": 310,
      "outputs": []
    },
    {
      "cell_type": "code",
      "execution_count": 311,
      "metadata": {
        "id": "vXF-A97FBNyr"
      },
      "outputs": [],
      "source": [
        "df=pd.read_csv(r\"Data.csv\")\n"
      ]
    },
    {
      "cell_type": "code",
      "execution_count": 312,
      "metadata": {
        "colab": {
          "base_uri": "https://localhost:8080/",
          "height": 423
        },
        "id": "k8Q0HtRiBmQn",
        "outputId": "557ded95-cdf2-4a06-b159-4cdbf1efd635"
      },
      "outputs": [
        {
          "output_type": "execute_result",
          "data": {
            "text/plain": [
              "      TOC (%)  Moisture (%)  Temp (C)  Pres. (MPa)  \\\n",
              "0        1.66          1.42        50       0.4413   \n",
              "1        1.66          1.42        50       0.9308   \n",
              "2        1.66          1.42        50       1.4617   \n",
              "3        1.66          1.42        50       2.8337   \n",
              "4        1.66          1.42        50       5.7158   \n",
              "...       ...           ...       ...          ...   \n",
              "1195     4.76          1.50        70       2.2100   \n",
              "1196     4.76          1.50        70       4.2800   \n",
              "1197     4.76          1.50        70       6.2100   \n",
              "1198     4.76          1.50        70       8.6700   \n",
              "1199     4.76          1.50        70      10.9400   \n",
              "\n",
              "      CO2 Excess Sorption (cm3/gr)  \n",
              "0                           0.0468  \n",
              "1                           0.0842  \n",
              "2                           0.1186  \n",
              "3                           0.2246  \n",
              "4                           0.3682  \n",
              "...                            ...  \n",
              "1195                        1.4600  \n",
              "1196                        1.9500  \n",
              "1197                        2.1700  \n",
              "1198                        2.2600  \n",
              "1199                        2.3000  \n",
              "\n",
              "[1200 rows x 5 columns]"
            ],
            "text/html": [
              "\n",
              "  <div id=\"df-c204842c-5871-4e73-91e7-1a278730b599\">\n",
              "    <div class=\"colab-df-container\">\n",
              "      <div>\n",
              "<style scoped>\n",
              "    .dataframe tbody tr th:only-of-type {\n",
              "        vertical-align: middle;\n",
              "    }\n",
              "\n",
              "    .dataframe tbody tr th {\n",
              "        vertical-align: top;\n",
              "    }\n",
              "\n",
              "    .dataframe thead th {\n",
              "        text-align: right;\n",
              "    }\n",
              "</style>\n",
              "<table border=\"1\" class=\"dataframe\">\n",
              "  <thead>\n",
              "    <tr style=\"text-align: right;\">\n",
              "      <th></th>\n",
              "      <th>TOC (%)</th>\n",
              "      <th>Moisture (%)</th>\n",
              "      <th>Temp (C)</th>\n",
              "      <th>Pres. (MPa)</th>\n",
              "      <th>CO2 Excess Sorption (cm3/gr)</th>\n",
              "    </tr>\n",
              "  </thead>\n",
              "  <tbody>\n",
              "    <tr>\n",
              "      <th>0</th>\n",
              "      <td>1.66</td>\n",
              "      <td>1.42</td>\n",
              "      <td>50</td>\n",
              "      <td>0.4413</td>\n",
              "      <td>0.0468</td>\n",
              "    </tr>\n",
              "    <tr>\n",
              "      <th>1</th>\n",
              "      <td>1.66</td>\n",
              "      <td>1.42</td>\n",
              "      <td>50</td>\n",
              "      <td>0.9308</td>\n",
              "      <td>0.0842</td>\n",
              "    </tr>\n",
              "    <tr>\n",
              "      <th>2</th>\n",
              "      <td>1.66</td>\n",
              "      <td>1.42</td>\n",
              "      <td>50</td>\n",
              "      <td>1.4617</td>\n",
              "      <td>0.1186</td>\n",
              "    </tr>\n",
              "    <tr>\n",
              "      <th>3</th>\n",
              "      <td>1.66</td>\n",
              "      <td>1.42</td>\n",
              "      <td>50</td>\n",
              "      <td>2.8337</td>\n",
              "      <td>0.2246</td>\n",
              "    </tr>\n",
              "    <tr>\n",
              "      <th>4</th>\n",
              "      <td>1.66</td>\n",
              "      <td>1.42</td>\n",
              "      <td>50</td>\n",
              "      <td>5.7158</td>\n",
              "      <td>0.3682</td>\n",
              "    </tr>\n",
              "    <tr>\n",
              "      <th>...</th>\n",
              "      <td>...</td>\n",
              "      <td>...</td>\n",
              "      <td>...</td>\n",
              "      <td>...</td>\n",
              "      <td>...</td>\n",
              "    </tr>\n",
              "    <tr>\n",
              "      <th>1195</th>\n",
              "      <td>4.76</td>\n",
              "      <td>1.50</td>\n",
              "      <td>70</td>\n",
              "      <td>2.2100</td>\n",
              "      <td>1.4600</td>\n",
              "    </tr>\n",
              "    <tr>\n",
              "      <th>1196</th>\n",
              "      <td>4.76</td>\n",
              "      <td>1.50</td>\n",
              "      <td>70</td>\n",
              "      <td>4.2800</td>\n",
              "      <td>1.9500</td>\n",
              "    </tr>\n",
              "    <tr>\n",
              "      <th>1197</th>\n",
              "      <td>4.76</td>\n",
              "      <td>1.50</td>\n",
              "      <td>70</td>\n",
              "      <td>6.2100</td>\n",
              "      <td>2.1700</td>\n",
              "    </tr>\n",
              "    <tr>\n",
              "      <th>1198</th>\n",
              "      <td>4.76</td>\n",
              "      <td>1.50</td>\n",
              "      <td>70</td>\n",
              "      <td>8.6700</td>\n",
              "      <td>2.2600</td>\n",
              "    </tr>\n",
              "    <tr>\n",
              "      <th>1199</th>\n",
              "      <td>4.76</td>\n",
              "      <td>1.50</td>\n",
              "      <td>70</td>\n",
              "      <td>10.9400</td>\n",
              "      <td>2.3000</td>\n",
              "    </tr>\n",
              "  </tbody>\n",
              "</table>\n",
              "<p>1200 rows × 5 columns</p>\n",
              "</div>\n",
              "      <button class=\"colab-df-convert\" onclick=\"convertToInteractive('df-c204842c-5871-4e73-91e7-1a278730b599')\"\n",
              "              title=\"Convert this dataframe to an interactive table.\"\n",
              "              style=\"display:none;\">\n",
              "        \n",
              "  <svg xmlns=\"http://www.w3.org/2000/svg\" height=\"24px\"viewBox=\"0 0 24 24\"\n",
              "       width=\"24px\">\n",
              "    <path d=\"M0 0h24v24H0V0z\" fill=\"none\"/>\n",
              "    <path d=\"M18.56 5.44l.94 2.06.94-2.06 2.06-.94-2.06-.94-.94-2.06-.94 2.06-2.06.94zm-11 1L8.5 8.5l.94-2.06 2.06-.94-2.06-.94L8.5 2.5l-.94 2.06-2.06.94zm10 10l.94 2.06.94-2.06 2.06-.94-2.06-.94-.94-2.06-.94 2.06-2.06.94z\"/><path d=\"M17.41 7.96l-1.37-1.37c-.4-.4-.92-.59-1.43-.59-.52 0-1.04.2-1.43.59L10.3 9.45l-7.72 7.72c-.78.78-.78 2.05 0 2.83L4 21.41c.39.39.9.59 1.41.59.51 0 1.02-.2 1.41-.59l7.78-7.78 2.81-2.81c.8-.78.8-2.07 0-2.86zM5.41 20L4 18.59l7.72-7.72 1.47 1.35L5.41 20z\"/>\n",
              "  </svg>\n",
              "      </button>\n",
              "      \n",
              "  <style>\n",
              "    .colab-df-container {\n",
              "      display:flex;\n",
              "      flex-wrap:wrap;\n",
              "      gap: 12px;\n",
              "    }\n",
              "\n",
              "    .colab-df-convert {\n",
              "      background-color: #E8F0FE;\n",
              "      border: none;\n",
              "      border-radius: 50%;\n",
              "      cursor: pointer;\n",
              "      display: none;\n",
              "      fill: #1967D2;\n",
              "      height: 32px;\n",
              "      padding: 0 0 0 0;\n",
              "      width: 32px;\n",
              "    }\n",
              "\n",
              "    .colab-df-convert:hover {\n",
              "      background-color: #E2EBFA;\n",
              "      box-shadow: 0px 1px 2px rgba(60, 64, 67, 0.3), 0px 1px 3px 1px rgba(60, 64, 67, 0.15);\n",
              "      fill: #174EA6;\n",
              "    }\n",
              "\n",
              "    [theme=dark] .colab-df-convert {\n",
              "      background-color: #3B4455;\n",
              "      fill: #D2E3FC;\n",
              "    }\n",
              "\n",
              "    [theme=dark] .colab-df-convert:hover {\n",
              "      background-color: #434B5C;\n",
              "      box-shadow: 0px 1px 3px 1px rgba(0, 0, 0, 0.15);\n",
              "      filter: drop-shadow(0px 1px 2px rgba(0, 0, 0, 0.3));\n",
              "      fill: #FFFFFF;\n",
              "    }\n",
              "  </style>\n",
              "\n",
              "      <script>\n",
              "        const buttonEl =\n",
              "          document.querySelector('#df-c204842c-5871-4e73-91e7-1a278730b599 button.colab-df-convert');\n",
              "        buttonEl.style.display =\n",
              "          google.colab.kernel.accessAllowed ? 'block' : 'none';\n",
              "\n",
              "        async function convertToInteractive(key) {\n",
              "          const element = document.querySelector('#df-c204842c-5871-4e73-91e7-1a278730b599');\n",
              "          const dataTable =\n",
              "            await google.colab.kernel.invokeFunction('convertToInteractive',\n",
              "                                                     [key], {});\n",
              "          if (!dataTable) return;\n",
              "\n",
              "          const docLinkHtml = 'Like what you see? Visit the ' +\n",
              "            '<a target=\"_blank\" href=https://colab.research.google.com/notebooks/data_table.ipynb>data table notebook</a>'\n",
              "            + ' to learn more about interactive tables.';\n",
              "          element.innerHTML = '';\n",
              "          dataTable['output_type'] = 'display_data';\n",
              "          await google.colab.output.renderOutput(dataTable, element);\n",
              "          const docLink = document.createElement('div');\n",
              "          docLink.innerHTML = docLinkHtml;\n",
              "          element.appendChild(docLink);\n",
              "        }\n",
              "      </script>\n",
              "    </div>\n",
              "  </div>\n",
              "  "
            ]
          },
          "metadata": {},
          "execution_count": 312
        }
      ],
      "source": [
        "df"
      ]
    },
    {
      "cell_type": "code",
      "execution_count": 313,
      "metadata": {
        "colab": {
          "base_uri": "https://localhost:8080/",
          "height": 206
        },
        "id": "iGxwt2TaF1HA",
        "outputId": "94796e21-985a-4882-9c62-28c8cf79b471"
      },
      "outputs": [
        {
          "output_type": "execute_result",
          "data": {
            "text/plain": [
              "   TOC (%)  Moisture (%)  Temp (C)  Pres. (MPa)  CO2 Excess Sorption (cm3/gr)\n",
              "0     1.66          1.42        50       0.4413                        0.0468\n",
              "1     1.66          1.42        50       0.9308                        0.0842\n",
              "2     1.66          1.42        50       1.4617                        0.1186\n",
              "3     1.66          1.42        50       2.8337                        0.2246\n",
              "4     1.66          1.42        50       5.7158                        0.3682"
            ],
            "text/html": [
              "\n",
              "  <div id=\"df-6cda670b-56fa-4ced-92a7-5b2a80306e03\">\n",
              "    <div class=\"colab-df-container\">\n",
              "      <div>\n",
              "<style scoped>\n",
              "    .dataframe tbody tr th:only-of-type {\n",
              "        vertical-align: middle;\n",
              "    }\n",
              "\n",
              "    .dataframe tbody tr th {\n",
              "        vertical-align: top;\n",
              "    }\n",
              "\n",
              "    .dataframe thead th {\n",
              "        text-align: right;\n",
              "    }\n",
              "</style>\n",
              "<table border=\"1\" class=\"dataframe\">\n",
              "  <thead>\n",
              "    <tr style=\"text-align: right;\">\n",
              "      <th></th>\n",
              "      <th>TOC (%)</th>\n",
              "      <th>Moisture (%)</th>\n",
              "      <th>Temp (C)</th>\n",
              "      <th>Pres. (MPa)</th>\n",
              "      <th>CO2 Excess Sorption (cm3/gr)</th>\n",
              "    </tr>\n",
              "  </thead>\n",
              "  <tbody>\n",
              "    <tr>\n",
              "      <th>0</th>\n",
              "      <td>1.66</td>\n",
              "      <td>1.42</td>\n",
              "      <td>50</td>\n",
              "      <td>0.4413</td>\n",
              "      <td>0.0468</td>\n",
              "    </tr>\n",
              "    <tr>\n",
              "      <th>1</th>\n",
              "      <td>1.66</td>\n",
              "      <td>1.42</td>\n",
              "      <td>50</td>\n",
              "      <td>0.9308</td>\n",
              "      <td>0.0842</td>\n",
              "    </tr>\n",
              "    <tr>\n",
              "      <th>2</th>\n",
              "      <td>1.66</td>\n",
              "      <td>1.42</td>\n",
              "      <td>50</td>\n",
              "      <td>1.4617</td>\n",
              "      <td>0.1186</td>\n",
              "    </tr>\n",
              "    <tr>\n",
              "      <th>3</th>\n",
              "      <td>1.66</td>\n",
              "      <td>1.42</td>\n",
              "      <td>50</td>\n",
              "      <td>2.8337</td>\n",
              "      <td>0.2246</td>\n",
              "    </tr>\n",
              "    <tr>\n",
              "      <th>4</th>\n",
              "      <td>1.66</td>\n",
              "      <td>1.42</td>\n",
              "      <td>50</td>\n",
              "      <td>5.7158</td>\n",
              "      <td>0.3682</td>\n",
              "    </tr>\n",
              "  </tbody>\n",
              "</table>\n",
              "</div>\n",
              "      <button class=\"colab-df-convert\" onclick=\"convertToInteractive('df-6cda670b-56fa-4ced-92a7-5b2a80306e03')\"\n",
              "              title=\"Convert this dataframe to an interactive table.\"\n",
              "              style=\"display:none;\">\n",
              "        \n",
              "  <svg xmlns=\"http://www.w3.org/2000/svg\" height=\"24px\"viewBox=\"0 0 24 24\"\n",
              "       width=\"24px\">\n",
              "    <path d=\"M0 0h24v24H0V0z\" fill=\"none\"/>\n",
              "    <path d=\"M18.56 5.44l.94 2.06.94-2.06 2.06-.94-2.06-.94-.94-2.06-.94 2.06-2.06.94zm-11 1L8.5 8.5l.94-2.06 2.06-.94-2.06-.94L8.5 2.5l-.94 2.06-2.06.94zm10 10l.94 2.06.94-2.06 2.06-.94-2.06-.94-.94-2.06-.94 2.06-2.06.94z\"/><path d=\"M17.41 7.96l-1.37-1.37c-.4-.4-.92-.59-1.43-.59-.52 0-1.04.2-1.43.59L10.3 9.45l-7.72 7.72c-.78.78-.78 2.05 0 2.83L4 21.41c.39.39.9.59 1.41.59.51 0 1.02-.2 1.41-.59l7.78-7.78 2.81-2.81c.8-.78.8-2.07 0-2.86zM5.41 20L4 18.59l7.72-7.72 1.47 1.35L5.41 20z\"/>\n",
              "  </svg>\n",
              "      </button>\n",
              "      \n",
              "  <style>\n",
              "    .colab-df-container {\n",
              "      display:flex;\n",
              "      flex-wrap:wrap;\n",
              "      gap: 12px;\n",
              "    }\n",
              "\n",
              "    .colab-df-convert {\n",
              "      background-color: #E8F0FE;\n",
              "      border: none;\n",
              "      border-radius: 50%;\n",
              "      cursor: pointer;\n",
              "      display: none;\n",
              "      fill: #1967D2;\n",
              "      height: 32px;\n",
              "      padding: 0 0 0 0;\n",
              "      width: 32px;\n",
              "    }\n",
              "\n",
              "    .colab-df-convert:hover {\n",
              "      background-color: #E2EBFA;\n",
              "      box-shadow: 0px 1px 2px rgba(60, 64, 67, 0.3), 0px 1px 3px 1px rgba(60, 64, 67, 0.15);\n",
              "      fill: #174EA6;\n",
              "    }\n",
              "\n",
              "    [theme=dark] .colab-df-convert {\n",
              "      background-color: #3B4455;\n",
              "      fill: #D2E3FC;\n",
              "    }\n",
              "\n",
              "    [theme=dark] .colab-df-convert:hover {\n",
              "      background-color: #434B5C;\n",
              "      box-shadow: 0px 1px 3px 1px rgba(0, 0, 0, 0.15);\n",
              "      filter: drop-shadow(0px 1px 2px rgba(0, 0, 0, 0.3));\n",
              "      fill: #FFFFFF;\n",
              "    }\n",
              "  </style>\n",
              "\n",
              "      <script>\n",
              "        const buttonEl =\n",
              "          document.querySelector('#df-6cda670b-56fa-4ced-92a7-5b2a80306e03 button.colab-df-convert');\n",
              "        buttonEl.style.display =\n",
              "          google.colab.kernel.accessAllowed ? 'block' : 'none';\n",
              "\n",
              "        async function convertToInteractive(key) {\n",
              "          const element = document.querySelector('#df-6cda670b-56fa-4ced-92a7-5b2a80306e03');\n",
              "          const dataTable =\n",
              "            await google.colab.kernel.invokeFunction('convertToInteractive',\n",
              "                                                     [key], {});\n",
              "          if (!dataTable) return;\n",
              "\n",
              "          const docLinkHtml = 'Like what you see? Visit the ' +\n",
              "            '<a target=\"_blank\" href=https://colab.research.google.com/notebooks/data_table.ipynb>data table notebook</a>'\n",
              "            + ' to learn more about interactive tables.';\n",
              "          element.innerHTML = '';\n",
              "          dataTable['output_type'] = 'display_data';\n",
              "          await google.colab.output.renderOutput(dataTable, element);\n",
              "          const docLink = document.createElement('div');\n",
              "          docLink.innerHTML = docLinkHtml;\n",
              "          element.appendChild(docLink);\n",
              "        }\n",
              "      </script>\n",
              "    </div>\n",
              "  </div>\n",
              "  "
            ]
          },
          "metadata": {},
          "execution_count": 313
        }
      ],
      "source": [
        "df.head()"
      ]
    },
    {
      "cell_type": "code",
      "execution_count": 314,
      "metadata": {
        "colab": {
          "base_uri": "https://localhost:8080/"
        },
        "id": "CoiO6PohBg0v",
        "outputId": "3123f3ee-7b01-4d89-d69c-47ac40c39cb0"
      },
      "outputs": [
        {
          "output_type": "execute_result",
          "data": {
            "text/plain": [
              "(1200, 5)"
            ]
          },
          "metadata": {},
          "execution_count": 314
        }
      ],
      "source": [
        "df.shape"
      ]
    },
    {
      "cell_type": "code",
      "execution_count": 315,
      "metadata": {
        "id": "Y5xZZnMLZFJB"
      },
      "outputs": [],
      "source": [
        "import matplotlib.pyplot as plt"
      ]
    },
    {
      "cell_type": "code",
      "execution_count": 316,
      "metadata": {
        "colab": {
          "base_uri": "https://localhost:8080/",
          "height": 1000
        },
        "id": "TM7CFsvmGD2i",
        "outputId": "a34fc57f-c5a5-49d5-b758-b2b777773574"
      },
      "outputs": [
        {
          "output_type": "execute_result",
          "data": {
            "text/plain": [
              "<matplotlib.axes._subplots.AxesSubplot at 0x7f985cc61520>"
            ]
          },
          "metadata": {},
          "execution_count": 316
        },
        {
          "output_type": "display_data",
          "data": {
            "text/plain": [
              "<Figure size 1800x1800 with 2 Axes>"
            ],
            "image/png": "[encoded data removed]"
          },
          "metadata": {
            "needs_background": "light"
          }
        }
      ],
      "source": [
        "corr=df.corr()\n",
        "plt.figure(figsize=(25,25))\n",
        "sns.heatmap(corr , cbar=True, square= True, fmt='.1f', annot=True, annot_kws={'size':15}, cmap='Greens')"
      ]
    },
    {
      "cell_type": "code",
      "execution_count": 317,
      "metadata": {
        "colab": {
          "base_uri": "https://localhost:8080/"
        },
        "id": "z9vszoACIjjw",
        "outputId": "670a167d-f5a9-4660-dc55-6064dc9797d1"
      },
      "outputs": [
        {
          "output_type": "execute_result",
          "data": {
            "text/plain": [
              "Index(['TOC (%)', 'Moisture (%)', 'Temp (C)', 'Pres. (MPa)',\n",
              "       'CO2 Excess Sorption (cm3/gr)'],\n",
              "      dtype='object')"
            ]
          },
          "metadata": {},
          "execution_count": 317
        }
      ],
      "source": [
        "df.columns"
      ]
    },
    {
      "cell_type": "code",
      "execution_count": 318,
      "metadata": {
        "colab": {
          "base_uri": "https://localhost:8080/"
        },
        "id": "x3fnw-CNI6-t",
        "outputId": "0fef5a33-aa74-4d0c-f65d-5060992ec92e"
      },
      "outputs": [
        {
          "output_type": "execute_result",
          "data": {
            "text/plain": [
              "TOC (%)                         float64\n",
              "Moisture (%)                    float64\n",
              "Temp (C)                          int64\n",
              "Pres. (MPa)                     float64\n",
              "CO2 Excess Sorption (cm3/gr)    float64\n",
              "dtype: object"
            ]
          },
          "metadata": {},
          "execution_count": 318
        }
      ],
      "source": [
        "df.dtypes"
      ]
    },
    {
      "cell_type": "code",
      "execution_count": 319,
      "metadata": {
        "colab": {
          "base_uri": "https://localhost:8080/"
        },
        "id": "6oXdTfL2JLL2",
        "outputId": "e32478f0-64ce-4f15-8354-feb89c72c05a"
      },
      "outputs": [
        {
          "output_type": "stream",
          "name": "stdout",
          "text": [
            "<class 'pandas.core.frame.DataFrame'>\n",
            "RangeIndex: 1200 entries, 0 to 1199\n",
            "Data columns (total 5 columns):\n",
            " #   Column                        Non-Null Count  Dtype  \n",
            "---  ------                        --------------  -----  \n",
            " 0   TOC (%)                       1200 non-null   float64\n",
            " 1   Moisture (%)                  1200 non-null   float64\n",
            " 2   Temp (C)                      1200 non-null   int64  \n",
            " 3   Pres. (MPa)                   1200 non-null   float64\n",
            " 4   CO2 Excess Sorption (cm3/gr)  1200 non-null   float64\n",
            "dtypes: float64(4), int64(1)\n",
            "memory usage: 47.0 KB\n"
          ]
        }
      ],
      "source": [
        "df.info()"
      ]
    },
    {
      "cell_type": "code",
      "execution_count": 320,
      "metadata": {
        "colab": {
          "base_uri": "https://localhost:8080/",
          "height": 300
        },
        "id": "YJN55BpjJTiL",
        "outputId": "185d5ee0-c3f5-4825-9a77-d15e7abc9a35"
      },
      "outputs": [
        {
          "output_type": "execute_result",
          "data": {
            "text/plain": [
              "           TOC (%)  Moisture (%)     Temp (C)  Pres. (MPa)  \\\n",
              "count  1200.000000   1200.000000  1200.000000  1200.000000   \n",
              "mean     11.946637      2.495300    48.523333     9.969668   \n",
              "std      21.084400      2.050286    19.675333     7.214140   \n",
              "min       0.090000      0.200000    30.000000     0.164000   \n",
              "25%       1.700000      0.680000    30.000000     5.233850   \n",
              "50%       5.150000      1.660000    45.000000     7.018250   \n",
              "75%      10.940000      4.000000    60.000000    14.900250   \n",
              "max      88.500000     10.970000   130.000000    27.861700   \n",
              "\n",
              "       CO2 Excess Sorption (cm3/gr)  \n",
              "count                   1200.000000  \n",
              "mean                       1.260853  \n",
              "std                        1.260792  \n",
              "min                        0.001600  \n",
              "25%                        0.300000  \n",
              "50%                        0.695720  \n",
              "75%                        1.720940  \n",
              "max                        5.360000  "
            ],
            "text/html": [
              "\n",
              "  <div id=\"df-d101b40c-53ea-4c6a-a244-ef6618514f31\">\n",
              "    <div class=\"colab-df-container\">\n",
              "      <div>\n",
              "<style scoped>\n",
              "    .dataframe tbody tr th:only-of-type {\n",
              "        vertical-align: middle;\n",
              "    }\n",
              "\n",
              "    .dataframe tbody tr th {\n",
              "        vertical-align: top;\n",
              "    }\n",
              "\n",
              "    .dataframe thead th {\n",
              "        text-align: right;\n",
              "    }\n",
              "</style>\n",
              "<table border=\"1\" class=\"dataframe\">\n",
              "  <thead>\n",
              "    <tr style=\"text-align: right;\">\n",
              "      <th></th>\n",
              "      <th>TOC (%)</th>\n",
              "      <th>Moisture (%)</th>\n",
              "      <th>Temp (C)</th>\n",
              "      <th>Pres. (MPa)</th>\n",
              "      <th>CO2 Excess Sorption (cm3/gr)</th>\n",
              "    </tr>\n",
              "  </thead>\n",
              "  <tbody>\n",
              "    <tr>\n",
              "      <th>count</th>\n",
              "      <td>1200.000000</td>\n",
              "      <td>1200.000000</td>\n",
              "      <td>1200.000000</td>\n",
              "      <td>1200.000000</td>\n",
              "      <td>1200.000000</td>\n",
              "    </tr>\n",
              "    <tr>\n",
              "      <th>mean</th>\n",
              "      <td>11.946637</td>\n",
              "      <td>2.495300</td>\n",
              "      <td>48.523333</td>\n",
              "      <td>9.969668</td>\n",
              "      <td>1.260853</td>\n",
              "    </tr>\n",
              "    <tr>\n",
              "      <th>std</th>\n",
              "      <td>21.084400</td>\n",
              "      <td>2.050286</td>\n",
              "      <td>19.675333</td>\n",
              "      <td>7.214140</td>\n",
              "      <td>1.260792</td>\n",
              "    </tr>\n",
              "    <tr>\n",
              "      <th>min</th>\n",
              "      <td>0.090000</td>\n",
              "      <td>0.200000</td>\n",
              "      <td>30.000000</td>\n",
              "      <td>0.164000</td>\n",
              "      <td>0.001600</td>\n",
              "    </tr>\n",
              "    <tr>\n",
              "      <th>25%</th>\n",
              "      <td>1.700000</td>\n",
              "      <td>0.680000</td>\n",
              "      <td>30.000000</td>\n",
              "      <td>5.233850</td>\n",
              "      <td>0.300000</td>\n",
              "    </tr>\n",
              "    <tr>\n",
              "      <th>50%</th>\n",
              "      <td>5.150000</td>\n",
              "      <td>1.660000</td>\n",
              "      <td>45.000000</td>\n",
              "      <td>7.018250</td>\n",
              "      <td>0.695720</td>\n",
              "    </tr>\n",
              "    <tr>\n",
              "      <th>75%</th>\n",
              "      <td>10.940000</td>\n",
              "      <td>4.000000</td>\n",
              "      <td>60.000000</td>\n",
              "      <td>14.900250</td>\n",
              "      <td>1.720940</td>\n",
              "    </tr>\n",
              "    <tr>\n",
              "      <th>max</th>\n",
              "      <td>88.500000</td>\n",
              "      <td>10.970000</td>\n",
              "      <td>130.000000</td>\n",
              "      <td>27.861700</td>\n",
              "      <td>5.360000</td>\n",
              "    </tr>\n",
              "  </tbody>\n",
              "</table>\n",
              "</div>\n",
              "      <button class=\"colab-df-convert\" onclick=\"convertToInteractive('df-d101b40c-53ea-4c6a-a244-ef6618514f31')\"\n",
              "              title=\"Convert this dataframe to an interactive table.\"\n",
              "              style=\"display:none;\">\n",
              "        \n",
              "  <svg xmlns=\"http://www.w3.org/2000/svg\" height=\"24px\"viewBox=\"0 0 24 24\"\n",
              "       width=\"24px\">\n",
              "    <path d=\"M0 0h24v24H0V0z\" fill=\"none\"/>\n",
              "    <path d=\"M18.56 5.44l.94 2.06.94-2.06 2.06-.94-2.06-.94-.94-2.06-.94 2.06-2.06.94zm-11 1L8.5 8.5l.94-2.06 2.06-.94-2.06-.94L8.5 2.5l-.94 2.06-2.06.94zm10 10l.94 2.06.94-2.06 2.06-.94-2.06-.94-.94-2.06-.94 2.06-2.06.94z\"/><path d=\"M17.41 7.96l-1.37-1.37c-.4-.4-.92-.59-1.43-.59-.52 0-1.04.2-1.43.59L10.3 9.45l-7.72 7.72c-.78.78-.78 2.05 0 2.83L4 21.41c.39.39.9.59 1.41.59.51 0 1.02-.2 1.41-.59l7.78-7.78 2.81-2.81c.8-.78.8-2.07 0-2.86zM5.41 20L4 18.59l7.72-7.72 1.47 1.35L5.41 20z\"/>\n",
              "  </svg>\n",
              "      </button>\n",
              "      \n",
              "  <style>\n",
              "    .colab-df-container {\n",
              "      display:flex;\n",
              "      flex-wrap:wrap;\n",
              "      gap: 12px;\n",
              "    }\n",
              "\n",
              "    .colab-df-convert {\n",
              "      background-color: #E8F0FE;\n",
              "      border: none;\n",
              "      border-radius: 50%;\n",
              "      cursor: pointer;\n",
              "      display: none;\n",
              "      fill: #1967D2;\n",
              "      height: 32px;\n",
              "      padding: 0 0 0 0;\n",
              "      width: 32px;\n",
              "    }\n",
              "\n",
              "    .colab-df-convert:hover {\n",
              "      background-color: #E2EBFA;\n",
              "      box-shadow: 0px 1px 2px rgba(60, 64, 67, 0.3), 0px 1px 3px 1px rgba(60, 64, 67, 0.15);\n",
              "      fill: #174EA6;\n",
              "    }\n",
              "\n",
              "    [theme=dark] .colab-df-convert {\n",
              "      background-color: #3B4455;\n",
              "      fill: #D2E3FC;\n",
              "    }\n",
              "\n",
              "    [theme=dark] .colab-df-convert:hover {\n",
              "      background-color: #434B5C;\n",
              "      box-shadow: 0px 1px 3px 1px rgba(0, 0, 0, 0.15);\n",
              "      filter: drop-shadow(0px 1px 2px rgba(0, 0, 0, 0.3));\n",
              "      fill: #FFFFFF;\n",
              "    }\n",
              "  </style>\n",
              "\n",
              "      <script>\n",
              "        const buttonEl =\n",
              "          document.querySelector('#df-d101b40c-53ea-4c6a-a244-ef6618514f31 button.colab-df-convert');\n",
              "        buttonEl.style.display =\n",
              "          google.colab.kernel.accessAllowed ? 'block' : 'none';\n",
              "\n",
              "        async function convertToInteractive(key) {\n",
              "          const element = document.querySelector('#df-d101b40c-53ea-4c6a-a244-ef6618514f31');\n",
              "          const dataTable =\n",
              "            await google.colab.kernel.invokeFunction('convertToInteractive',\n",
              "                                                     [key], {});\n",
              "          if (!dataTable) return;\n",
              "\n",
              "          const docLinkHtml = 'Like what you see? Visit the ' +\n",
              "            '<a target=\"_blank\" href=https://colab.research.google.com/notebooks/data_table.ipynb>data table notebook</a>'\n",
              "            + ' to learn more about interactive tables.';\n",
              "          element.innerHTML = '';\n",
              "          dataTable['output_type'] = 'display_data';\n",
              "          await google.colab.output.renderOutput(dataTable, element);\n",
              "          const docLink = document.createElement('div');\n",
              "          docLink.innerHTML = docLinkHtml;\n",
              "          element.appendChild(docLink);\n",
              "        }\n",
              "      </script>\n",
              "    </div>\n",
              "  </div>\n",
              "  "
            ]
          },
          "metadata": {},
          "execution_count": 320
        }
      ],
      "source": [
        "df.describe()"
      ]
    },
    {
      "cell_type": "code",
      "execution_count": 321,
      "metadata": {
        "id": "g1ao96PlBGrA"
      },
      "outputs": [],
      "source": [
        "y=df['CO2 Excess Sorption (cm3/gr)']\n"
      ]
    },
    {
      "cell_type": "code",
      "source": [
        "y=df.iloc[:,-1].values\n"
      ],
      "metadata": {
        "id": "ZW1lRfjBXwKG"
      },
      "execution_count": 382,
      "outputs": []
    },
    {
      "cell_type": "code",
      "source": [
        "y"
      ],
      "metadata": {
        "colab": {
          "base_uri": "https://localhost:8080/"
        },
        "id": "4teT2XCPYRlf",
        "outputId": "94fb0d35-52b2-45f3-fbed-6adc0b498f9e"
      },
      "execution_count": 383,
      "outputs": [
        {
          "output_type": "execute_result",
          "data": {
            "text/plain": [
              "array([0.0468, 0.0842, 0.1186, ..., 2.17  , 2.26  , 2.3   ])"
            ]
          },
          "metadata": {},
          "execution_count": 383
        }
      ]
    },
    {
      "cell_type": "code",
      "source": [
        "type(predictions)"
      ],
      "metadata": {
        "colab": {
          "base_uri": "https://localhost:8080/"
        },
        "id": "pL6_kwa_ROxx",
        "outputId": "10b06646-ac5f-45f0-922f-2f0f54347a8a"
      },
      "execution_count": 374,
      "outputs": [
        {
          "output_type": "execute_result",
          "data": {
            "text/plain": [
              "numpy.ndarray"
            ]
          },
          "metadata": {},
          "execution_count": 374
        }
      ]
    },
    {
      "cell_type": "code",
      "source": [
        "type(y_test)"
      ],
      "metadata": {
        "colab": {
          "base_uri": "https://localhost:8080/"
        },
        "id": "WbLW0Hk3RItp",
        "outputId": "56d951ca-d0bc-44e8-915e-e993feda15f0"
      },
      "execution_count": 375,
      "outputs": [
        {
          "output_type": "execute_result",
          "data": {
            "text/plain": [
              "pandas.core.series.Series"
            ]
          },
          "metadata": {},
          "execution_count": 375
        }
      ]
    },
    {
      "cell_type": "code",
      "execution_count": 376,
      "metadata": {
        "colab": {
          "base_uri": "https://localhost:8080/"
        },
        "id": "nFSkFM-e0tJ-",
        "outputId": "6998cdb6-9337-4100-992e-9b7d16d46e81"
      },
      "outputs": [
        {
          "output_type": "execute_result",
          "data": {
            "text/plain": [
              "970    0.238400\n",
              "568    0.746137\n",
              "766    3.383213\n",
              "110    0.040600\n",
              "350    0.900000\n",
              "         ...   \n",
              "936    3.978579\n",
              "639    1.314027\n",
              "385    0.430000\n",
              "761    3.057582\n",
              "573    0.696059\n",
              "Name: CO2 Excess Sorption (cm3/gr), Length: 240, dtype: float64"
            ]
          },
          "metadata": {},
          "execution_count": 376
        }
      ],
      "source": [
        "y_test"
      ]
    },
    {
      "cell_type": "code",
      "execution_count": 384,
      "metadata": {
        "id": "Is7VyF7n_fLU"
      },
      "outputs": [],
      "source": [
        "X = df[['TOC (%)','Temp (C)','Moisture (%)','Pres. (MPa)',]].values"
      ]
    },
    {
      "cell_type": "code",
      "execution_count": 385,
      "metadata": {
        "colab": {
          "base_uri": "https://localhost:8080/"
        },
        "id": "jUXkvR-YCllZ",
        "outputId": "5a8b1707-f01f-4f4f-cbd8-45a70f797b5c"
      },
      "outputs": [
        {
          "output_type": "execute_result",
          "data": {
            "text/plain": [
              "array([[ 1.66  , 50.    ,  1.42  ,  0.4413],\n",
              "       [ 1.66  , 50.    ,  1.42  ,  0.9308],\n",
              "       [ 1.66  , 50.    ,  1.42  ,  1.4617],\n",
              "       ...,\n",
              "       [ 4.76  , 70.    ,  1.5   ,  6.21  ],\n",
              "       [ 4.76  , 70.    ,  1.5   ,  8.67  ],\n",
              "       [ 4.76  , 70.    ,  1.5   , 10.94  ]])"
            ]
          },
          "metadata": {},
          "execution_count": 385
        }
      ],
      "source": [
        "X"
      ]
    },
    {
      "cell_type": "code",
      "execution_count": 386,
      "metadata": {
        "id": "T8v5E_k4Clpa"
      },
      "outputs": [],
      "source": [
        "X_train, X_test , y_train , y_test = train_test_split(X,y,test_size=0.20,random_state=26)"
      ]
    },
    {
      "cell_type": "code",
      "source": [
        " y_test"
      ],
      "metadata": {
        "colab": {
          "base_uri": "https://localhost:8080/"
        },
        "id": "KRc2ixm67Lnt",
        "outputId": "e9f3ebab-4764-42a4-e4f1-05ba5ef4bc71"
      },
      "execution_count": 387,
      "outputs": [
        {
          "output_type": "execute_result",
          "data": {
            "text/plain": [
              "array([2.38400000e-01, 7.46136729e-01, 3.38321306e+00, 4.06000000e-02,\n",
              "       9.00000000e-01, 6.60000000e-01, 3.71412202e+00, 7.93400000e-01,\n",
              "       1.46343703e+00, 1.27825378e+00, 9.96431418e-01, 2.49987310e+00,\n",
              "       1.34480000e+00, 4.50000000e-01, 2.16979823e+00, 9.20000000e-01,\n",
              "       1.61294845e+00, 6.05000000e-02, 4.11161197e+00, 9.10000000e-01,\n",
              "       3.27099783e+00, 2.37100000e-01, 1.31000000e-01, 1.33700000e+00,\n",
              "       5.13150809e-01, 4.00000000e-01, 4.10300000e-01, 1.62800000e-01,\n",
              "       1.20110000e+00, 1.62231042e+00, 3.63000000e+00, 2.12200000e-01,\n",
              "       1.20000000e-01, 5.00000000e+00, 7.10000000e-01, 1.60000000e-03,\n",
              "       2.30000000e+00, 7.55002171e-01, 2.32000000e-02, 2.99064949e-01,\n",
              "       8.00000000e-01, 4.58500000e-01, 5.96310734e-01, 4.55000000e+00,\n",
              "       2.47600000e-01, 2.06682134e+00, 1.15110000e+00, 1.16000000e+00,\n",
              "       1.26710000e+00, 2.76443713e+00, 5.11658678e-01, 2.60069156e+00,\n",
              "       4.81400000e-01, 2.30000000e-01, 2.20000000e-01, 1.61434304e+00,\n",
              "       7.80000000e-02, 3.28428804e-01, 1.46821973e-01, 4.65300000e-01,\n",
              "       3.68200000e-01, 1.72608588e+00, 3.32000000e+00, 2.90000000e-01,\n",
              "       3.09500000e-01, 1.67768035e+00, 1.01425025e+00, 8.98000000e-02,\n",
              "       1.28244720e+00, 3.30074625e+00, 5.24000000e-02, 3.68200000e-01,\n",
              "       4.55500000e-01, 1.49676357e-01, 8.77247950e-02, 5.24000000e-01,\n",
              "       2.70000000e-01, 1.90749031e+00, 1.67608553e+00, 3.60000000e-01,\n",
              "       1.70336164e+00, 6.20000000e-01, 1.15110000e+00, 5.41581564e-01,\n",
              "       4.56200000e-01, 4.90000000e-01, 4.17200000e-01, 6.90000000e-02,\n",
              "       6.92300000e-01, 1.31000000e-01, 1.09200000e-01, 1.27721357e+00,\n",
              "       8.26640562e-01, 4.80500000e-01, 2.96000000e+00, 4.20000000e-01,\n",
              "       3.63000000e+00, 4.17200000e-01, 4.00000000e-01, 4.49300000e-01,\n",
              "       9.59438998e-01, 2.83000000e+00, 5.20300000e-01, 4.69900000e-01,\n",
              "       3.15400868e-01, 1.07740000e+00, 1.65795495e+00, 9.05000000e-02,\n",
              "       3.49337902e+00, 4.46200000e-01, 1.29243752e+00, 3.21000000e+00,\n",
              "       4.55000000e+00, 3.68895654e+00, 2.35221136e+00, 1.72422455e+00,\n",
              "       3.57337838e+00, 1.15000000e+00, 1.10260000e+00, 2.20073744e-01,\n",
              "       2.30000000e-01, 4.00052959e+00, 2.37100000e-01, 7.90000000e-01,\n",
              "       2.09803041e+00, 5.36000000e+00, 6.05600000e-01, 3.37000000e-01,\n",
              "       3.69810093e+00, 3.02600000e-01, 7.80000000e-01, 7.69300000e-01,\n",
              "       9.21500000e-01, 1.15670000e+00, 1.96600000e-01, 3.29040039e+00,\n",
              "       6.39600000e-01, 2.41178440e+00, 1.90300000e-01, 5.05400000e-01,\n",
              "       1.70769359e+00, 4.37000000e-02, 1.62792987e+00, 5.31000000e+00,\n",
              "       1.68390670e+00, 4.58500000e-01, 3.71268638e+00, 2.60000000e-01,\n",
              "       9.65000000e-01, 7.25300000e-01, 2.20000000e-01, 3.50000000e-01,\n",
              "       1.47160000e+00, 9.68305464e-01, 5.62400000e-01, 3.75900000e-01,\n",
              "       1.64294245e-01, 3.80000000e-01, 3.96600000e-01, 1.95532834e-01,\n",
              "       3.74400000e-01, 1.07150000e+00, 1.97376746e-01, 2.47666339e+00,\n",
              "       1.86094165e+00, 5.88669725e-01, 2.17000000e+00, 2.50000000e-02,\n",
              "       2.02783609e+00, 4.03110150e-02, 3.23632081e+00, 1.58199930e+00,\n",
              "       4.96000000e+00, 1.88000000e+00, 2.05900000e-01, 4.40000000e-01,\n",
              "       3.00000000e-01, 1.73000000e+00, 3.47028895e+00, 2.70000000e-01,\n",
              "       1.74847544e+00, 2.57000000e+00, 3.40000000e-01, 3.68200000e-01,\n",
              "       3.20000000e-01, 5.98104618e-01, 3.80500000e-01, 2.30000000e-01,\n",
              "       2.56621703e+00, 3.52293618e+00, 4.61000000e-02, 8.68800000e-01,\n",
              "       1.05700000e-01, 2.34528659e-01, 1.01320000e+00, 1.44629090e+00,\n",
              "       4.13275425e+00, 2.43400000e-01, 2.68149145e+00, 7.00000000e-02,\n",
              "       1.06100000e-01, 5.30000000e-01, 4.00885918e+00, 4.16000000e+00,\n",
              "       7.49000000e-02, 4.29000000e+00, 2.70534519e+00, 1.61774332e+00,\n",
              "       1.73600000e-01, 1.05440000e+00, 6.40000000e-01, 5.59088285e-01,\n",
              "       1.24790000e+00, 3.10000000e-01, 2.01700000e-01, 4.99000000e-02,\n",
              "       3.08900000e-01, 1.39800000e-01, 8.25000000e-02, 5.12000000e+00,\n",
              "       1.11000000e+00, 5.50000000e-01, 1.18000000e+00, 4.76031891e-01,\n",
              "       3.39800000e-01, 2.24088822e+00, 2.20000000e-01, 2.09000000e-01,\n",
              "       1.90300000e-01, 3.70181014e+00, 1.15400000e-01, 2.67436471e+00,\n",
              "       8.16000000e-01, 2.54000000e+00, 1.03197402e+00, 3.97857936e+00,\n",
              "       1.31402679e+00, 4.30000000e-01, 3.05758215e+00, 6.96058961e-01])"
            ]
          },
          "metadata": {},
          "execution_count": 387
        }
      ]
    },
    {
      "cell_type": "code",
      "source": [
        "X_test"
      ],
      "metadata": {
        "colab": {
          "base_uri": "https://localhost:8080/"
        },
        "id": "EyTvzJ4z5B4F",
        "outputId": "fd14c73a-2cec-4b20-8fc0-8da808922486"
      },
      "execution_count": 388,
      "outputs": [
        {
          "output_type": "execute_result",
          "data": {
            "text/plain": [
              "array([[ 62.2       ,  61.        ,   6.4       ,   7.91      ],\n",
              "       [  3.98      ,  45.        ,   0.25      ,  18.012     ],\n",
              "       [ 10.94      ,  70.        ,   2.65      ,  13.84997887],\n",
              "       [  0.45      ,  80.        ,   0.61      ,   1.4962    ],\n",
              "       [  3.46      ,  30.        ,   5.51      ,   6.        ],\n",
              "       [  1.72      ,  30.        ,   2.62      ,   6.        ],\n",
              "       [ 10.94      ,  45.        ,   0.39      ,  14.313     ],\n",
              "       [  5.15      ,  30.        ,   6.94      ,   6.1761    ],\n",
              "       [  5.79      ,  45.        ,   0.41      ,   5.102     ],\n",
              "       [  5.41      ,  45.        ,   0.3       ,   3.473     ],\n",
              "       [  5.41      ,  45.        ,   1.81      ,  20.902     ],\n",
              "       [ 10.94      , 100.        ,   2.65      ,  15.38228783],\n",
              "       [  5.7       ,  38.        ,   2.8       ,  21.7095    ],\n",
              "       [  1.91      ,  30.        ,   3.63      ,   6.        ],\n",
              "       [ 10.94      , 130.        ,   2.65      ,  15.5253222 ],\n",
              "       [  1.81      ,  30.        ,   2.97      ,   6.        ],\n",
              "       [  5.41      ,  45.        ,   0.41      ,  24.813     ],\n",
              "       [  2.34      ,  30.        ,   6.52      ,   0.5636    ],\n",
              "       [ 15.91      ,  45.        ,   0.4       ,  22.05      ],\n",
              "       [  3.04      ,  30.        ,   4.87      ,   6.        ],\n",
              "       [ 10.94      ,  45.        ,   0.39      ,   5.67      ],\n",
              "       [  0.59      ,  51.        ,   1.12      ,   5.7227    ],\n",
              "       [  0.75      ,  38.        ,   0.59      ,   3.3026    ],\n",
              "       [  5.7       ,  38.        ,   2.8       ,  19.3646    ],\n",
              "       [  3.98      ,  45.        ,   0.76      ,   9.29      ],\n",
              "       [  4.76      ,  60.        ,   1.5       ,   0.38      ],\n",
              "       [ 74.4       ,  61.        ,   4.        ,   6.54      ],\n",
              "       [ 74.4       ,  61.        ,   4.        ,   1.44      ],\n",
              "       [ 88.5       ,  61.        ,   4.8       ,   6.14      ],\n",
              "       [  5.41      ,  45.        ,   0.41      ,  10.939     ],\n",
              "       [  5.29      ,  62.        ,   1.5       ,   5.89      ],\n",
              "       [  0.44      ,  50.        ,   0.66      ,  20.4154    ],\n",
              "       [  0.56      ,  30.        ,   2.34      ,   6.        ],\n",
              "       [  4.76      ,  30.        ,   1.5       ,   8.67      ],\n",
              "       [  2.34      ,  30.        ,   6.52      ,   5.2       ],\n",
              "       [  0.38      ,  38.        ,   1.87      ,   0.2689    ],\n",
              "       [  4.76      ,  70.        ,   1.5       ,  10.94      ],\n",
              "       [  3.98      ,  45.        ,   0.25      ,  13.622     ],\n",
              "       [  1.64      ,  30.        ,   4.37      ,   0.82      ],\n",
              "       [  1.51      ,  45.        ,   0.6       ,   9.1423    ],\n",
              "       [  4.82      ,  30.        ,   5.31      ,   6.        ],\n",
              "       [ 74.4       ,  61.        ,   4.        ,  14.3       ],\n",
              "       [  3.98      ,  45.        ,   0.3       ,  18.707     ],\n",
              "       [  4.76      ,  40.        ,   1.5       ,   8.67      ],\n",
              "       [ 62.2       ,  61.        ,   6.4       ,   6.03      ],\n",
              "       [ 10.94      , 130.        ,   2.65      ,  13.35470299],\n",
              "       [  6.7       ,  38.        ,   3.3       ,  11.6385    ],\n",
              "       [  7.18      ,  30.        ,   4.48      ,   6.        ],\n",
              "       [  7.18      ,  30.        ,   4.48      ,   7.1636    ],\n",
              "       [ 10.94      ,  45.        ,   0.39      ,   2.63      ],\n",
              "       [  3.98      ,  45.        ,   0.3       ,   6.154     ],\n",
              "       [ 10.94      , 100.        ,   2.65      ,  19.49166741],\n",
              "       [ 74.4       ,  61.        ,   4.        ,   9.88      ],\n",
              "       [  1.68      ,  30.        ,   3.35      ,   6.        ],\n",
              "       [  1.75      ,  30.        ,   6.36      ,   6.        ],\n",
              "       [  5.41      ,  45.        ,   0.41      ,  23.344     ],\n",
              "       [  0.59      ,  51.        ,   1.12      ,   0.8274    ],\n",
              "       [  1.51      ,  45.        ,   0.6       ,  11.2711    ],\n",
              "       [  1.51      ,  45.        ,   1.59      ,  10.408     ],\n",
              "       [ 74.4       ,  61.        ,   4.        ,  11.27      ],\n",
              "       [  1.66      ,  50.        ,   1.42      ,   5.7158    ],\n",
              "       [  5.41      ,  45.        ,   0.3       ,  15.521     ],\n",
              "       [  3.28      ,  60.        ,   1.5       ,  20.22      ],\n",
              "       [  1.65      ,  30.        ,   5.1       ,   6.        ],\n",
              "       [ 62.2       ,  61.        ,   6.4       ,  11.21      ],\n",
              "       [  5.79      ,  45.        ,   0.36      ,   9.921     ],\n",
              "       [  5.41      ,  45.        ,   1.81      ,  11.018     ],\n",
              "       [  0.81      ,  30.        ,   4.98      ,   6.2126    ],\n",
              "       [  5.79      ,  45.        ,   1.34      ,  14.702     ],\n",
              "       [ 10.94      ,  45.        ,   0.68      ,  14.279     ],\n",
              "       [  0.81      ,  30.        ,   4.98      ,   3.3522    ],\n",
              "       [  1.73      ,  67.        ,   0.55      ,  13.1207    ],\n",
              "       [  2.34      ,  67.        ,   1.72      ,  15.2374    ],\n",
              "       [  1.51      ,  45.        ,   1.59      ,  21.718     ],\n",
              "       [  1.51      ,  45.        ,   1.59      ,   4.797     ],\n",
              "       [  6.84      ,  30.        ,   5.24      ,   4.2449    ],\n",
              "       [  5.32      ,  30.        ,   8.95      ,   6.        ],\n",
              "       [ 10.94      , 130.        ,   2.65      ,  10.67342095],\n",
              "       [  5.79      ,  45.        ,   0.36      ,  21.489     ],\n",
              "       [  2.59      ,  30.        ,   7.53      ,   6.        ],\n",
              "       [  5.79      ,  45.        ,   0.41      ,  24.866     ],\n",
              "       [  1.57      ,  30.        ,   4.51      ,   6.        ],\n",
              "       [  6.7       ,  38.        ,   3.3       ,  19.4444    ],\n",
              "       [  3.98      ,  45.        ,   0.3       ,   7.638     ],\n",
              "       [ 74.4       ,  61.        ,   4.        ,   8.55      ],\n",
              "       [  2.19      ,  30.        ,   5.12      ,   6.        ],\n",
              "       [ 74.4       ,  61.        ,   4.        ,  10.25      ],\n",
              "       [  1.64      ,  30.        ,   4.37      ,   1.6766    ],\n",
              "       [ 88.5       ,  61.        ,   4.8       ,   1.97      ],\n",
              "       [  4.48      ,  38.        ,   0.77      ,   0.8136    ],\n",
              "       [  0.45      ,  80.        ,   0.61      ,   8.7081    ],\n",
              "       [  5.79      ,  45.        ,   1.34      ,  14.046     ],\n",
              "       [  5.41      ,  45.        ,   1.81      ,   4.956     ],\n",
              "       [  1.66      ,  50.        ,   1.42      ,   8.5978    ],\n",
              "       [  3.28      ,  60.        ,   1.5       ,  13.25      ],\n",
              "       [  2.03      ,  30.        ,   6.3       ,   6.        ],\n",
              "       [  4.76      ,  30.        ,   1.5       ,   2.21      ],\n",
              "       [ 88.5       ,  61.        ,   4.8       ,   0.95      ],\n",
              "       [  5.15      ,  70.        ,   1.5       ,   0.36      ],\n",
              "       [ 74.4       ,  61.        ,   4.        ,  12.2       ],\n",
              "       [  5.41      ,  45.        ,   1.81      ,  26.966     ],\n",
              "       [  5.29      ,  62.        ,   1.5       ,   3.13      ],\n",
              "       [ 74.4       ,  61.        ,   4.        ,  13.26      ],\n",
              "       [ 74.4       ,  61.        ,   4.        ,  12.35      ],\n",
              "       [  1.51      ,  45.        ,   0.6       ,  10.2711    ],\n",
              "       [  5.7       ,  38.        ,   2.8       ,   5.7867    ],\n",
              "       [  5.79      ,  45.        ,   0.41      ,  21.751     ],\n",
              "       [  0.38      ,  38.        ,   1.87      ,   3.1647    ],\n",
              "       [ 15.91      ,  45.        ,   0.4       ,   3.125     ],\n",
              "       [  1.73      ,  67.        ,   0.55      ,  27.6618    ],\n",
              "       [  5.79      ,  45.        ,   1.34      ,  22.241     ],\n",
              "       [  4.05      ,  57.        ,   1.5       ,  20.22      ],\n",
              "       [  4.76      ,  40.        ,   1.5       ,  10.83      ],\n",
              "       [ 15.91      ,  45.        ,   1.66      ,  20.401     ],\n",
              "       [ 10.94      , 130.        ,   2.65      ,  20.44441552],\n",
              "       [  5.79      ,  45.        ,   0.36      ,  13.439     ],\n",
              "       [ 15.91      ,  45.        ,   1.66      ,  13.525     ],\n",
              "       [  1.11      ,  54.        ,   1.5       ,   3.13      ],\n",
              "       [ 88.5       ,  61.        ,   4.8       ,   9.86      ],\n",
              "       [  1.51      ,  45.        ,   0.74      ,  20.591     ],\n",
              "       [  2.13      ,  30.        ,   6.54      ,   6.        ],\n",
              "       [ 15.91      ,  45.        ,   0.62      ,  19.359     ],\n",
              "       [  0.38      ,  38.        ,   1.87      ,   9.0115    ],\n",
              "       [  6.84      ,  30.        ,   5.24      ,   6.        ],\n",
              "       [ 10.94      , 130.        ,   2.65      ,  14.00916314],\n",
              "       [  6.01      ,  53.        ,   1.5       ,  20.22      ],\n",
              "       [  5.7       ,  38.        ,   2.8       ,   1.7398    ],\n",
              "       [ 62.2       ,  61.        ,   6.4       ,  15.42      ],\n",
              "       [ 10.94      ,  45.        ,   0.39      ,  16.993     ],\n",
              "       [ 62.2       ,  61.        ,   6.4       ,  16.58      ],\n",
              "       [  4.        ,  30.        ,   5.34      ,   6.        ],\n",
              "       [  6.7       ,  38.        ,   3.3       ,   4.1843    ],\n",
              "       [  7.18      ,  30.        ,   4.48      ,   4.2909    ],\n",
              "       [  6.7       ,  38.        ,   3.3       ,  20.6751    ],\n",
              "       [  2.84      ,  72.        ,   0.92      ,   2.9647    ],\n",
              "       [ 10.94      ,  45.        ,   0.68      ,  16.636     ],\n",
              "       [  4.48      ,  38.        ,   0.77      ,  11.3832    ],\n",
              "       [ 10.94      ,  45.        ,   0.68      ,   2.659     ],\n",
              "       [  4.48      ,  38.        ,   0.77      ,   1.2893    ],\n",
              "       [  2.84      ,  72.        ,   0.92      ,  21.6909    ],\n",
              "       [  5.79      ,  45.        ,   0.41      ,  25.15      ],\n",
              "       [  3.25      ,  38.        ,   1.47      ,   0.6688    ],\n",
              "       [  5.79      ,  45.        ,   0.41      ,  16.045     ],\n",
              "       [  5.15      ,  30.        ,   1.5       ,   8.67      ],\n",
              "       [  5.79      ,  45.        ,   0.41      ,  23.564     ],\n",
              "       [ 74.4       ,  61.        ,   4.        ,   9.88      ],\n",
              "       [ 15.91      ,  45.        ,   1.66      ,  22.577     ],\n",
              "       [  1.28      ,  30.        ,   5.48      ,   6.        ],\n",
              "       [ 88.5       ,  61.        ,   4.8       ,  10.83      ],\n",
              "       [  6.05      ,  30.        ,   7.34      ,   2.7692    ],\n",
              "       [  1.64      ,  30.        ,   4.37      ,   6.        ],\n",
              "       [  1.58      ,  30.        ,   4.01      ,   6.        ],\n",
              "       [ 88.5       ,  61.        ,   4.8       ,  11.91      ],\n",
              "       [  5.41      ,  45.        ,   1.81      ,   8.428     ],\n",
              "       [ 10.16      ,  30.        ,   2.63      ,   1.2141    ],\n",
              "       [ 74.4       ,  61.        ,   4.        ,   4.51      ],\n",
              "       [  1.51      ,  45.        ,   1.59      ,  20.91      ],\n",
              "       [  1.92      ,  30.        ,   3.73      ,   6.        ],\n",
              "       [ 62.2       ,  61.        ,   6.4       ,  10.9       ],\n",
              "       [  1.51      ,  45.        ,   0.74      ,   9.147     ],\n",
              "       [  3.25      ,  38.        ,   1.47      ,   7.9152    ],\n",
              "       [  7.18      ,  30.        ,   4.48      ,   5.2364    ],\n",
              "       [  1.51      ,  45.        ,   0.74      ,  24.283     ],\n",
              "       [ 10.94      , 130.        ,   2.65      ,  24.85945611],\n",
              "       [ 10.94      , 100.        ,   2.65      ,   5.64109749],\n",
              "       [  3.98      ,  45.        ,   0.3       ,  12.142     ],\n",
              "       [  1.11      ,  54.        ,   1.5       ,  20.22      ],\n",
              "       [  0.75      ,  38.        ,   0.59      ,   0.4068    ],\n",
              "       [ 10.94      , 130.        ,   2.65      ,  12.65424676],\n",
              "       [  1.51      ,  45.        ,   1.59      ,   1.781     ],\n",
              "       [ 10.94      ,  45.        ,   0.68      ,  10.175     ],\n",
              "       [  5.79      ,  45.        ,   0.41      ,  10.98      ],\n",
              "       [  5.29      ,  62.        ,   1.5       ,  20.22      ],\n",
              "       [  4.05      ,  57.        ,   1.5       ,   3.13      ],\n",
              "       [  1.29      ,  72.        ,   0.26      ,   5.7985    ],\n",
              "       [  1.68      ,  30.        ,   2.52      ,   6.        ],\n",
              "       [  1.7       ,  30.        ,   4.62      ,   6.        ],\n",
              "       [  4.76      ,  60.        ,   1.5       ,   2.21      ],\n",
              "       [ 10.94      ,  70.        ,   2.65      ,  25.12482476],\n",
              "       [  1.01      ,  30.        ,   4.48      ,   6.        ],\n",
              "       [  5.79      ,  45.        ,   0.36      ,  17.344     ],\n",
              "       [  5.15      ,  70.        ,   1.5       ,   4.28      ],\n",
              "       [  1.42      ,  30.        ,   6.55      ,   6.        ],\n",
              "       [  0.75      ,  38.        ,   0.59      ,  15.527     ],\n",
              "       [  1.91      ,  30.        ,   3.57      ,   6.        ],\n",
              "       [  3.98      ,  45.        ,   0.3       ,  14.753     ],\n",
              "       [  1.64      ,  30.        ,   4.37      ,   6.1607    ],\n",
              "       [  2.07      ,  30.        ,   5.63      ,   6.        ],\n",
              "       [ 10.94      , 100.        ,   2.65      ,  17.79605431],\n",
              "       [ 15.91      ,  45.        ,   0.62      ,   5.13      ],\n",
              "       [  1.64      ,  30.        ,   4.37      ,   1.2392    ],\n",
              "       [ 88.5       ,  61.        ,   4.8       ,   7.18      ],\n",
              "       [  5.15      ,  30.        ,   6.94      ,   0.672     ],\n",
              "       [  1.51      ,  45.        ,   0.74      ,  15.911     ],\n",
              "       [ 88.5       ,  61.        ,   4.8       ,   6.83      ],\n",
              "       [  5.41      ,  45.        ,   0.41      ,   6.006     ],\n",
              "       [ 15.91      ,  45.        ,   0.4       ,  24.497     ],\n",
              "       [  0.75      ,  38.        ,   0.59      ,   7.5567    ],\n",
              "       [ 10.94      , 100.        ,   2.65      ,  24.91354546],\n",
              "       [  1.3       ,  30.        ,   8.59      ,   6.        ],\n",
              "       [  1.73      ,  67.        ,   0.55      ,   1.6203    ],\n",
              "       [  1.38      ,  30.        ,   5.62      ,   6.        ],\n",
              "       [ 15.91      ,  45.        ,   0.62      ,  22.885     ],\n",
              "       [  6.11      ,  64.        ,   1.5       ,   5.89      ],\n",
              "       [  0.38      ,  38.        ,   1.87      ,   2.5511    ],\n",
              "       [  4.76      ,  40.        ,   1.5       ,   6.21      ],\n",
              "       [ 10.94      , 100.        ,   2.65      ,  25.98226189],\n",
              "       [  5.41      ,  45.        ,   0.41      ,  10.084     ],\n",
              "       [  5.15      ,  30.        ,   6.94      ,   1.0533    ],\n",
              "       [ 88.5       ,  61.        ,   4.8       ,   7.96      ],\n",
              "       [  3.06792021,  30.        ,   5.9       ,   6.        ],\n",
              "       [  3.98      ,  45.        ,   0.3       ,   9.        ],\n",
              "       [  6.05      ,  30.        ,   7.34      ,   5.4838    ],\n",
              "       [  1.15      ,  30.        ,   5.36      ,   6.        ],\n",
              "       [ 74.4       ,  61.        ,   4.        ,   1.41      ],\n",
              "       [  2.34      ,  67.        ,   1.72      ,   0.4413    ],\n",
              "       [  1.73      ,  67.        ,   0.55      ,   9.2045    ],\n",
              "       [ 62.2       ,  61.        ,   6.4       ,   1.46      ],\n",
              "       [ 10.16      ,  30.        ,   2.63      ,   0.1812    ],\n",
              "       [  4.76      ,  30.        ,   1.5       ,  10.94      ],\n",
              "       [  0.91      ,  60.        ,   1.5       ,   3.13      ],\n",
              "       [  2.37      ,  30.        ,   4.04      ,   6.        ],\n",
              "       [  4.51      ,  30.        ,   6.71      ,   6.        ],\n",
              "       [  3.98      ,  45.        ,   0.76      ,  21.885     ],\n",
              "       [  6.05      ,  30.        ,   7.34      ,   1.1842    ],\n",
              "       [ 10.94      ,  70.        ,   2.65      ,   1.22737565],\n",
              "       [  1.96      ,  30.        ,   3.36      ,   6.        ],\n",
              "       [  4.03      ,  85.        ,   0.26      ,   3.1716    ],\n",
              "       [ 62.2       ,  61.        ,   6.4       ,   5.15      ],\n",
              "       [ 15.91      ,  45.        ,   1.66      ,  21.533     ],\n",
              "       [  0.75      ,  38.        ,   0.59      ,   2.6959    ],\n",
              "       [ 10.94      , 100.        ,   2.65      ,  24.32391839],\n",
              "       [  2.34      ,  30.        ,   6.52      ,   6.1818    ],\n",
              "       [  4.05      ,  57.        ,   1.5       ,   5.89      ],\n",
              "       [  5.41      ,  45.        ,   1.81      ,  17.31      ],\n",
              "       [ 15.91      ,  45.        ,   0.62      ,  15.762     ],\n",
              "       [  5.79      ,  45.        ,   0.41      ,   1.618     ],\n",
              "       [  1.74      ,  30.        ,   2.35      ,   6.        ],\n",
              "       [ 10.94      ,  70.        ,   2.65      ,   7.90896477],\n",
              "       [  3.98      ,  45.        ,   0.25      ,  24.185     ]])"
            ]
          },
          "metadata": {},
          "execution_count": 388
        }
      ]
    },
    {
      "cell_type": "code",
      "execution_count": 389,
      "metadata": {
        "colab": {
          "base_uri": "https://localhost:8080/"
        },
        "id": "GIIKleAuKycJ",
        "outputId": "9177537b-d7aa-40da-e2a4-1aa0ad04bfa6"
      },
      "outputs": [
        {
          "output_type": "execute_result",
          "data": {
            "text/plain": [
              "array([[  4.76      ,  60.        ,   1.5       ,   8.67      ],\n",
              "       [ 10.94      ,  45.        ,   0.39      ,   4.205     ],\n",
              "       [  1.51      ,  45.        ,   0.74      ,   5.448     ],\n",
              "       ...,\n",
              "       [  6.11      ,  64.        ,   1.5       ,  20.22      ],\n",
              "       [  4.05      ,  57.        ,   1.5       ,   9.57      ],\n",
              "       [ 10.94      , 130.        ,   2.65      ,  19.01113305]])"
            ]
          },
          "metadata": {},
          "execution_count": 389
        }
      ],
      "source": [
        "X_train"
      ]
    },
    {
      "cell_type": "code",
      "source": [
        "y_train"
      ],
      "metadata": {
        "colab": {
          "base_uri": "https://localhost:8080/"
        },
        "id": "h6EE4qJ5o419",
        "outputId": "92f617bf-6f6a-40a6-c720-ca99efb27091"
      },
      "execution_count": 390,
      "outputs": [
        {
          "output_type": "execute_result",
          "data": {
            "text/plain": [
              "array([2.59      , 3.05149641, 0.15277726, 1.3291    , 0.46179688,\n",
              "       1.67116837, 3.8729449 , 0.1591    , 4.10478808, 1.69496684,\n",
              "       1.70475573, 0.52251722, 0.4836    , 3.27620881, 3.29343239,\n",
              "       3.20006958, 0.0823    , 1.1415    , 0.2028    , 0.98971978,\n",
              "       0.1435    , 1.60795353, 1.61680857, 0.51      , 1.02173536,\n",
              "       0.77      , 1.42      , 0.2       , 3.43749396, 3.46565263,\n",
              "       0.1048    , 1.71360093, 1.36575372, 2.38889011, 0.1279    ,\n",
              "       0.9375    , 0.25      , 2.12      , 0.415     , 0.99272551,\n",
              "       0.2995    , 3.96255574, 0.1721    , 0.4172    , 1.26566765,\n",
              "       0.0312    , 3.14245334, 3.25447222, 4.        , 0.19      ,\n",
              "       0.1279    , 0.41      , 0.24      , 2.42208764, 0.6418    ,\n",
              "       1.66286818, 3.47663492, 0.337     , 1.1954    , 0.1342    ,\n",
              "       3.47542129, 0.41      , 0.27      , 0.5817    , 3.74506061,\n",
              "       0.0218    , 0.816     , 0.22859075, 0.1347    , 1.164     ,\n",
              "       0.3691    , 3.62701749, 0.67      , 3.97611037, 0.52146979,\n",
              "       0.5295    , 0.11713955, 0.41      , 3.25672167, 1.77      ,\n",
              "       0.27      , 0.1997    , 3.13      , 2.21      , 1.4       ,\n",
              "       0.3874    , 4.6       , 0.47090672, 0.4306    , 0.0468    ,\n",
              "       0.6587    , 0.0874    , 0.17217358, 1.337384  , 0.3       ,\n",
              "       0.2028    , 0.131     , 3.79312123, 0.53      , 3.36729941,\n",
              "       0.20153115, 3.21416871, 3.57      , 0.96      , 1.73780946,\n",
              "       0.72125305, 0.3619    , 0.3072    , 2.59128415, 1.62636173,\n",
              "       0.28      , 1.51663228, 1.50085713, 0.0686    , 0.8665    ,\n",
              "       3.        , 0.19      , 0.4368    , 3.64810609, 0.156     ,\n",
              "       4.78      , 2.68253802, 0.4       , 0.3775    , 0.38      ,\n",
              "       1.06      , 0.209     , 0.38      , 0.259     , 1.66240906,\n",
              "       1.33353533, 0.3245    , 1.2962829 , 0.2384    , 0.1997    ,\n",
              "       1.69260993, 1.18034509, 0.0374    , 0.4493    , 3.30682118,\n",
              "       1.73189431, 0.38      , 0.1421    , 1.38919694, 0.93      ,\n",
              "       0.3682    , 2.95      , 3.18655891, 3.84056148, 1.1622    ,\n",
              "       1.73973559, 0.0874    , 0.1       , 1.1461978 , 3.54124625,\n",
              "       0.34      , 0.41      , 1.70836753, 0.0374    , 2.0194    ,\n",
              "       0.4883    , 1.72491564, 1.95      , 0.2188    , 0.46879027,\n",
              "       0.3393    , 1.71984532, 0.599     , 1.337     , 2.4949026 ,\n",
              "       0.18      , 2.36081606, 1.31247377, 0.3854    , 0.3151    ,\n",
              "       1.73401063, 0.24      , 0.2132    , 0.45      , 2.5       ,\n",
              "       1.03732509, 1.672346  , 0.64      , 0.94      , 0.0468    ,\n",
              "       0.0624    , 0.16878487, 0.9219    , 3.5       , 0.51      ,\n",
              "       0.4118    , 0.0718    , 2.44193268, 1.046     , 0.50448534,\n",
              "       0.1685    , 1.23      , 0.57      , 0.46404398, 0.5       ,\n",
              "       1.32569509, 0.69554209, 0.25656413, 3.73468266, 3.57      ,\n",
              "       0.59939352, 4.87      , 0.0983    , 0.0218    , 0.28      ,\n",
              "       0.20669247, 1.47189989, 0.8768    , 1.26007658, 2.52194292,\n",
              "       1.06      , 1.5441    , 1.51793222, 0.2567    , 0.2911    ,\n",
              "       3.19      , 2.51232206, 3.12749609, 3.96301139, 1.5244    ,\n",
              "       0.18      , 2.95935241, 3.68850561, 1.06      , 1.68      ,\n",
              "       2.47041126, 0.1536    , 1.1576    , 1.37      , 1.70280343,\n",
              "       0.71728614, 1.46      , 0.415     , 1.71027087, 3.418079  ,\n",
              "       0.35      , 3.92858362, 0.28      , 1.0201    , 1.70866626,\n",
              "       0.45      , 1.30252046, 0.2567    , 2.69067704, 0.2808    ,\n",
              "       0.42      , 0.21      , 0.34188805, 0.73022976, 0.22541304,\n",
              "       0.16      , 0.45687447, 0.2086    , 1.33      , 0.078     ,\n",
              "       0.48      , 3.1       , 0.82      , 2.74      , 4.42      ,\n",
              "       0.2334415 , 0.1186    , 3.06827095, 0.12964995, 0.9352    ,\n",
              "       0.2683    , 0.58762321, 0.57      , 0.17399406, 0.3245    ,\n",
              "       0.61      , 0.1778    , 0.3553    , 0.8046    , 0.3278    ,\n",
              "       0.17      , 0.1529    , 5.13      , 0.35      , 1.06      ,\n",
              "       2.55623791, 0.75551196, 3.94579356, 1.66049718, 0.2933    ,\n",
              "       0.93092345, 0.36      , 0.22      , 0.7538415 , 1.2745    ,\n",
              "       2.04      , 0.3186    , 0.1904    , 0.51      , 0.52316736,\n",
              "       1.32919141, 1.34      , 0.9857    , 0.5364    , 1.64682958,\n",
              "       0.15      , 0.21      , 1.85      , 0.8       , 0.32088544,\n",
              "       1.337     , 1.10241692, 2.63767131, 2.73346183, 3.65272361,\n",
              "       1.71034747, 0.6       , 1.3134    , 3.01681767, 0.3494    ,\n",
              "       1.01028735, 0.571     , 0.04      , 0.6739    , 0.493     ,\n",
              "       0.13287221, 2.32503693, 1.1069    , 0.015     , 1.5433709 ,\n",
              "       1.81      , 3.55174228, 0.17835005, 0.36351365, 0.2395    ,\n",
              "       0.4149    , 0.7035149 , 1.67469272, 0.57      , 1.73128238,\n",
              "       0.29      , 0.0468    , 0.76      , 1.72495875, 0.36      ,\n",
              "       3.72118452, 1.        , 0.69884079, 1.2741    , 3.34871707,\n",
              "       0.24      , 0.65929601, 0.19      , 4.07168175, 4.69      ,\n",
              "       0.25      , 1.00435481, 0.25      , 3.71687043, 0.16      ,\n",
              "       3.45017555, 0.0312    , 0.4339    , 4.01771402, 0.3299    ,\n",
              "       0.1654    , 3.9895205 , 0.54      , 0.37      , 0.0655    ,\n",
              "       0.57628302, 0.2902    , 0.1871    , 2.71779273, 2.10761201,\n",
              "       3.55707501, 0.22      , 0.28122925, 3.46921441, 3.73601851,\n",
              "       2.88393348, 0.1421    , 0.22958327, 3.52106896, 0.60905866,\n",
              "       1.66369724, 0.4       , 0.9516    , 3.1       , 5.18      ,\n",
              "       1.5014    , 1.60374535, 0.4539    , 0.3293    , 1.42      ,\n",
              "       1.03006099, 3.55837662, 1.21078614, 4.07886811, 2.07647243,\n",
              "       0.3744    , 0.0718    , 0.2201    , 1.8689    , 3.18882621,\n",
              "       1.1733    , 2.43080913, 1.28641181, 0.22      , 0.1801708 ,\n",
              "       0.1048    , 2.59      , 1.17706969, 1.77      , 0.025     ,\n",
              "       1.44939938, 0.43      , 0.3196    , 0.31      , 2.53224546,\n",
              "       4.00772816, 0.21763436, 1.16      , 2.7124196 , 1.68879752,\n",
              "       0.0967    , 3.89      , 4.04909981, 1.98006103, 0.16314849,\n",
              "       1.81      , 1.25658846, 0.1466    , 0.0686    , 0.34446906,\n",
              "       4.69      , 0.4355    , 0.21027597, 0.75568635, 0.68      ,\n",
              "       0.51915704, 0.78      , 0.2993801 , 0.2513    , 1.42      ,\n",
              "       0.44      , 0.3597    , 3.48680829, 0.22      , 0.96222553,\n",
              "       0.4025    , 1.95      , 1.59382243, 3.60751997, 0.35      ,\n",
              "       1.27      , 0.4305    , 0.1279    , 0.27      , 0.9834    ,\n",
              "       1.5005    , 1.71243178, 1.46666119, 1.6581869 , 0.232     ,\n",
              "       0.1778    , 1.88      , 0.48      , 0.65      , 0.55      ,\n",
              "       0.32      , 1.74      , 3.4604179 , 1.71050172, 0.4149    ,\n",
              "       1.0132    , 0.3278    , 0.0374    , 1.7042509 , 4.38      ,\n",
              "       2.64870091, 0.18      , 2.92      , 0.1373    , 1.70280019,\n",
              "       0.3962    , 2.63131461, 0.1435    , 0.4337    , 2.69758285,\n",
              "       0.2714    , 1.02346422, 1.62918001, 2.6611608 , 3.64364657,\n",
              "       0.57      , 1.1619    , 0.49      , 0.3301    , 3.13      ,\n",
              "       1.57713506, 1.337384  , 1.84601869, 0.3325    , 0.3072    ,\n",
              "       0.053     , 4.12979057, 0.17259314, 0.3       , 0.5242    ,\n",
              "       0.5284    , 3.20859677, 0.2246    , 0.1061    , 4.87      ,\n",
              "       0.5158    , 0.16      , 0.31      , 0.28      , 0.17      ,\n",
              "       0.31      , 1.1401    , 0.3072    , 0.21      , 0.40546488,\n",
              "       1.1003    , 0.74145406, 0.2636    , 1.31303963, 0.131     ,\n",
              "       0.5       , 0.63      , 3.90824395, 1.98491929, 0.1061    ,\n",
              "       0.2       , 1.412     , 0.43      , 0.35366183, 0.63      ,\n",
              "       0.28      , 1.11      , 0.48      , 2.35      , 1.71494157,\n",
              "       2.50771224, 4.14639876, 0.4172    , 3.27980631, 1.1511    ,\n",
              "       0.2774    , 0.88879143, 1.43926383, 1.4227    , 0.0312    ,\n",
              "       1.65635459, 2.26      , 1.73530267, 0.5203    , 0.298     ,\n",
              "       0.94      , 3.47759996, 1.70619522, 2.72211506, 0.2278    ,\n",
              "       0.053     , 0.71401873, 3.26721615, 0.0874    , 1.64654717,\n",
              "       0.18489613, 1.57395413, 1.1733    , 0.2613    , 0.9539871 ,\n",
              "       3.3395965 , 0.34      , 2.05      , 4.02998324, 0.27      ,\n",
              "       3.5       , 1.61463502, 1.62227819, 0.0303    , 0.34      ,\n",
              "       0.60058705, 0.55      , 1.42      , 2.50895838, 2.45161823,\n",
              "       0.599     , 0.4619614 , 0.4       , 0.9       , 0.83      ,\n",
              "       0.75684902, 1.28919168, 0.2714    , 0.21619438, 0.33849987,\n",
              "       0.16604459, 0.19      , 0.502     , 0.24      , 1.55347249,\n",
              "       1.59      , 0.094     , 0.64      , 0.25      , 0.43      ,\n",
              "       0.5741    , 0.298     , 2.14      , 0.9218    , 0.43      ,\n",
              "       1.54767483, 0.09      , 0.5249    , 1.86      , 4.64      ,\n",
              "       0.2683    , 0.74855532, 0.37621623, 0.61      , 1.71671516,\n",
              "       0.6309    , 0.52450851, 0.19      , 0.77      , 3.49184783,\n",
              "       0.69377818, 0.287     , 0.3401    , 1.1576    , 2.32      ,\n",
              "       0.36      , 2.86      , 0.6       , 1.16      , 1.0017    ,\n",
              "       1.2347    , 2.8341974 , 2.88656871, 0.45      , 4.16      ,\n",
              "       0.58      , 1.62695287, 2.72819425, 3.60669897, 0.1297    ,\n",
              "       0.2795    , 2.25213571, 3.45512883, 3.67464358, 0.3432    ,\n",
              "       0.4118    , 1.4464    , 0.0155    , 0.4653    , 4.09500858,\n",
              "       0.41      , 0.59396874, 0.71      , 3.55120353, 3.63      ,\n",
              "       3.67508724, 0.47      , 0.59465766, 0.287     , 0.57841233,\n",
              "       0.94745135, 0.47      , 1.25      , 0.2888    , 0.58      ,\n",
              "       0.1588    , 0.1591    , 4.2       , 1.36846266, 0.706     ,\n",
              "       2.68      , 0.18      , 0.72876027, 0.5       , 0.56      ,\n",
              "       3.47065971, 1.70149711, 0.56017658, 0.23549339, 0.0842    ,\n",
              "       0.32      , 0.3026    , 0.0898    , 1.46      , 0.4268    ,\n",
              "       0.4745    , 0.99      , 0.2122    , 0.4608    , 2.5       ,\n",
              "       0.64      , 0.6811    , 0.62      , 0.61      , 1.6481036 ,\n",
              "       2.70722443, 3.55751422, 0.32      , 1.69901586, 0.3897    ,\n",
              "       0.18069991, 3.31438393, 0.74102541, 1.32087453, 1.3448    ,\n",
              "       0.1696    , 0.15174897, 0.23298705, 0.34      , 0.3219    ,\n",
              "       1.69549934, 0.0437    , 0.0075    , 0.37      , 0.1154    ,\n",
              "       3.78554715, 3.27318108, 1.45      , 0.0562    , 4.08902703,\n",
              "       2.57988151, 2.3850326 , 0.5913    , 3.5846496 , 0.2774    ,\n",
              "       0.29639614, 0.1622    , 0.0156    , 0.12      , 0.1       ,\n",
              "       0.39      , 1.2827    , 0.4243    , 0.67      , 4.42      ,\n",
              "       3.89616708, 1.27139779, 1.3593    , 1.1733    , 0.3       ,\n",
              "       0.68      , 0.4199    , 0.51766506, 0.48563166, 0.7       ,\n",
              "       0.1       , 0.48      , 0.0156    , 1.6258537 , 0.32683868,\n",
              "       0.4493    , 0.19      , 0.19      , 1.29482403, 0.1342    ,\n",
              "       3.43533569, 0.3307    , 2.53628753, 0.2995    , 5.        ,\n",
              "       2.70350684, 1.3055    , 0.4192    , 4.02954616, 0.21      ,\n",
              "       0.5741    , 2.15601105, 1.1461    , 5.27      , 2.7090274 ,\n",
              "       1.61451054, 2.37384125, 1.89254074, 0.1949    , 0.0679    ,\n",
              "       0.0599    , 0.75918703, 0.24      , 0.48835096, 0.56832263,\n",
              "       0.4126    , 0.3415    , 1.65412427, 0.0187    , 3.3       ,\n",
              "       0.58      , 0.69589814, 4.09356115, 0.4961    , 3.19067628,\n",
              "       0.33      , 2.69502363, 0.34329303, 1.5540625 , 0.36600696,\n",
              "       0.2       , 0.2944    , 0.4057    , 0.0468    , 0.71      ,\n",
              "       0.0894    , 0.1061    , 0.28      , 2.23      , 0.3026    ,\n",
              "       0.60139761, 0.33      , 1.5       , 0.5023    , 0.17106564,\n",
              "       0.0156    , 1.7109    , 0.4562    , 0.18913459, 0.50144884,\n",
              "       3.64255987, 0.2682    , 3.84      , 0.0686    , 0.0624    ,\n",
              "       0.2192    , 1.64217076, 0.298     , 0.95322726, 1.1461978 ,\n",
              "       1.55      , 0.3255    , 0.44      , 0.4586    , 1.30576793,\n",
              "       0.3       , 0.23      , 4.84      , 2.60659976, 0.9975    ,\n",
              "       1.27703542, 1.        , 1.25507932, 0.4087    , 1.71372369,\n",
              "       0.9132    , 3.57355564, 1.34809975, 0.15      , 0.58      ,\n",
              "       1.61      , 0.3401    , 0.8022    , 0.4791    , 0.3049    ,\n",
              "       0.2746    , 0.131     , 3.47708043, 0.3003    , 0.10178289,\n",
              "       1.55      , 3.71115998, 2.53910394, 0.6427    , 1.53685404,\n",
              "       2.17      , 0.216227  , 0.23      , 3.13      , 0.5429    ,\n",
              "       1.64871722, 0.2434    , 0.3838    , 4.13084269, 3.65932454,\n",
              "       4.09151476, 1.1       , 3.27358936, 1.1507    , 1.1347    ,\n",
              "       0.4274    , 1.59445209, 4.78      , 2.12681564, 1.33174821,\n",
              "       1.62792088, 0.078     , 0.6146    , 1.63536349, 0.2190357 ,\n",
              "       2.73747104, 0.2246    , 0.98680616, 1.28752751, 1.0961    ,\n",
              "       0.19      , 0.1054409 , 0.42      , 1.25151152, 3.23      ,\n",
              "       3.30738029, 3.47115528, 0.69639446, 0.74175272, 2.24737116,\n",
              "       0.7714    , 0.06521465, 0.18416346, 0.5       , 0.1373    ,\n",
              "       1.15      , 0.3       , 4.12396619, 2.71555176, 1.62025661,\n",
              "       0.2402    , 0.4195    , 2.24522447, 1.71925413, 0.46757847,\n",
              "       3.21      , 0.0874    , 0.6000208 , 0.7349    , 0.3       ,\n",
              "       5.31      , 0.5666    , 0.57      , 0.45      , 2.19000508,\n",
              "       0.156     , 1.7099689 , 4.78      , 0.66640649, 2.39      ,\n",
              "       3.13671469, 0.1997    , 0.23257543, 0.287     , 3.23603214,\n",
              "       0.0303    , 3.84      , 0.4195    , 3.98531656, 0.32      ,\n",
              "       2.95      , 0.42      , 0.6192    , 0.7101    , 3.59366213,\n",
              "       3.99172203, 0.2652    , 4.78      , 2.95      , 2.30470421])"
            ]
          },
          "metadata": {},
          "execution_count": 390
        }
      ]
    },
    {
      "cell_type": "markdown",
      "metadata": {
        "id": "4b3YMARsEbJu"
      },
      "source": []
    },
    {
      "cell_type": "code",
      "execution_count": 391,
      "metadata": {
        "id": "geW_S9HrBnir"
      },
      "outputs": [],
      "source": [
        "from sklearn.preprocessing import MinMaxScaler\n",
        "sc = MinMaxScaler()\n",
        "X_train[:, :] = sc.fit_transform(X_train[:, :])\n",
        "X_test[:, :] = sc.transform(X_test[:, :])"
      ]
    },
    {
      "cell_type": "code",
      "execution_count": 392,
      "metadata": {
        "colab": {
          "base_uri": "https://localhost:8080/"
        },
        "id": "w3l8THdoazLx",
        "outputId": "7b7aaa94-42e9-4738-d4b9-a72810193f52"
      },
      "outputs": [
        {
          "output_type": "execute_result",
          "data": {
            "text/plain": [
              "array([[0.05282208, 0.3       , 0.12070566, 0.30710131],\n",
              "       [0.12272367, 0.15      , 0.0176416 , 0.14589659],\n",
              "       [0.01606153, 0.15      , 0.05013928, 0.19077396],\n",
              "       ...,\n",
              "       [0.06809184, 0.34      , 0.12070566, 0.72410345],\n",
              "       [0.04479131, 0.27      , 0.12070566, 0.33959498],\n",
              "       [0.12272367, 1.        , 0.22748375, 0.68045842]])"
            ]
          },
          "metadata": {},
          "execution_count": 392
        }
      ],
      "source": [
        "X_train"
      ]
    },
    {
      "cell_type": "code",
      "execution_count": 393,
      "metadata": {
        "colab": {
          "base_uri": "https://localhost:8080/"
        },
        "id": "ApPS3yW_Clro",
        "outputId": "f957e595-df68-4720-d347-bca1186d5ae0"
      },
      "outputs": [
        {
          "output_type": "stream",
          "name": "stdout",
          "text": [
            "(960, 4)\n",
            "(240, 4)\n"
          ]
        }
      ],
      "source": [
        "print(X_train.shape)\n",
        "print(X_test.shape)"
      ]
    },
    {
      "cell_type": "code",
      "source": [
        "from tensorflow.keras.losses import MeanSquaredLogarithmicError\n",
        "import tensorflow as tf\n",
        "import kerastuner as kt\n",
        "msle = MeanSquaredLogarithmicError()\n",
        "def build_model(hp):\n",
        "  model = tf.keras.Sequential()\n",
        "  \n"
      ],
      "metadata": {
        "id": "i5viFgx2SGC8"
      },
      "execution_count": 394,
      "outputs": []
    },
    {
      "cell_type": "code",
      "source": [
        "from kerastuner import HyperModel\n",
        "\n",
        "\n",
        "class ANNHyperModel(HyperModel):\n",
        "    \n",
        "    def build(self, hp):\n",
        "      model = tf.keras.Sequential()\n",
        "      # Tune the number of units in the first Dense layer\n",
        "      # Choose an optimal value between 8-2048\n",
        "      hp_units1 = hp.Int('units1', min_value=8, max_value=2048, step=32)\n",
        "      hp_units2 = hp.Int('units2', min_value=8, max_value=2048, step=32)\n",
        "      hp_units3 = hp.Int('units3', min_value=8, max_value=2048, step=32)\n",
        "      hp_units4 = hp.Int('units3', min_value=8, max_value=2048, step=32)\n",
        "      hp_units5 = hp.Int('units3', min_value=8, max_value=2048, step=32)\n",
        "      hp_units6 = hp.Int('units3', min_value=8, max_value=2048, step=32)\n",
        "      \n",
        "\n",
        "      model.add(Dense(units=hp_units1, activation='relu'))\n",
        "      model.add(tf.keras.layers.Dense(units=hp_units2, activation='relu'))\n",
        "      model.add(tf.keras.layers.Dense(units=hp_units3, activation='relu'))\n",
        "      model.add(tf.keras.layers.Dense(units=hp_units4, activation='relu'))\n",
        "      model.add(tf.keras.layers.Dense(units=hp_units5, activation='relu'))\n",
        "      model.add(tf.keras.layers.Dense(units=hp_units6, activation='relu'))\n",
        "     \n",
        "      \n",
        "      model.add(Dense(1, kernel_initializer='normal', activation='linear'))\n",
        "\n",
        "      # Tune the learning rate for the optimizer\n",
        "      # Choose an optimal value from 0.01, 0.001, or 0.0001\n",
        "      hp_learning_rate = hp.Choice('learning_rate', values=[1e-2, 1e-3, 1e-4])\n",
        "\n",
        "      model.compile(\n",
        "          optimizer=tf.keras.optimizers.Adam(learning_rate=hp_learning_rate),\n",
        "          loss=msle,\n",
        "          metrics=[msle]\n",
        "      )\n",
        "\n",
        "      return model\n",
        "\n",
        "hypermodel = ANNHyperModel()\n",
        "\n",
        "tuner = kt.Hyperband(\n",
        "    hypermodel,\n",
        "    objective='val_mean_squared_logarithmic_error',\n",
        "    max_epochs=30,\n",
        "    factor=3,\n",
        "    directory='keras_tuner_dir',\n",
        "    project_name='keras_tuner_demo2'\n",
        ")\n",
        "\n",
        "tuner.search(X_train, y_train, epochs=30, validation_split=0.2)"
      ],
      "metadata": {
        "id": "tnVOIJ3pXxvl"
      },
      "execution_count": 395,
      "outputs": []
    },
    {
      "cell_type": "code",
      "source": [
        "for h_param in [f\"units{i}\" for i in range(1,4)] + ['learning_rate']:\n",
        "  print(h_param, tuner.get_best_hyperparameters()[0].get(h_param))\n",
        " \n"
      ],
      "metadata": {
        "colab": {
          "base_uri": "https://localhost:8080/"
        },
        "id": "dnsq_YrOVqTJ",
        "outputId": "4e4487b8-6cf0-4a90-e768-11069589b777"
      },
      "execution_count": 396,
      "outputs": [
        {
          "output_type": "stream",
          "name": "stdout",
          "text": [
            "units1 936\n",
            "units2 1000\n",
            "units3 1512\n",
            "learning_rate 0.001\n"
          ]
        }
      ]
    },
    {
      "cell_type": "code",
      "source": [
        "best_model = tuner.get_best_models()[0]\n",
        "best_model.build(X_train.shape)\n"
      ],
      "metadata": {
        "id": "vLAwSyi8V2sc"
      },
      "execution_count": 397,
      "outputs": []
    },
    {
      "cell_type": "code",
      "source": [
        "best_model.summary()"
      ],
      "metadata": {
        "colab": {
          "base_uri": "https://localhost:8080/"
        },
        "id": "k3j6J5rTWg8R",
        "outputId": "89138be5-bc66-45fa-db9b-94f418051ebf"
      },
      "execution_count": 399,
      "outputs": [
        {
          "output_type": "stream",
          "name": "stdout",
          "text": [
            "Model: \"sequential\"\n",
            "_________________________________________________________________\n",
            " Layer (type)                Output Shape              Param #   \n",
            "=================================================================\n",
            " dense (Dense)               (960, 936)                4680      \n",
            "                                                                 \n",
            " dense_1 (Dense)             (960, 1000)               937000    \n",
            "                                                                 \n",
            " dense_2 (Dense)             (960, 1512)               1513512   \n",
            "                                                                 \n",
            " dense_3 (Dense)             (960, 1512)               2287656   \n",
            "                                                                 \n",
            " dense_4 (Dense)             (960, 1512)               2287656   \n",
            "                                                                 \n",
            " dense_5 (Dense)             (960, 1512)               2287656   \n",
            "                                                                 \n",
            " dense_6 (Dense)             (960, 1)                  1513      \n",
            "                                                                 \n",
            "=================================================================\n",
            "Total params: 9,319,673\n",
            "Trainable params: 9,319,673\n",
            "Non-trainable params: 0\n",
            "_________________________________________________________________\n"
          ]
        }
      ]
    },
    {
      "cell_type": "code",
      "source": [
        "best_model.fit(\n",
        "    X_train, \n",
        "    y_train,\n",
        "    epochs=30,\n",
        "    batch_size=64)"
      ],
      "metadata": {
        "colab": {
          "base_uri": "https://localhost:8080/"
        },
        "id": "LNdqWhOYWLro",
        "outputId": "b6b69d37-553b-4295-c3b3-d0a9354a7992"
      },
      "execution_count": 400,
      "outputs": [
        {
          "output_type": "stream",
          "name": "stdout",
          "text": [
            "Epoch 1/30\n",
            "15/15 [==============================] - 1s 6ms/step - loss: 0.0178 - mean_squared_logarithmic_error: 0.0178\n",
            "Epoch 2/30\n",
            "15/15 [==============================] - 0s 6ms/step - loss: 0.0172 - mean_squared_logarithmic_error: 0.0172\n",
            "Epoch 3/30\n",
            "15/15 [==============================] - 0s 6ms/step - loss: 0.0178 - mean_squared_logarithmic_error: 0.0178\n",
            "Epoch 4/30\n",
            "15/15 [==============================] - 0s 5ms/step - loss: 0.0171 - mean_squared_logarithmic_error: 0.0171\n",
            "Epoch 5/30\n",
            "15/15 [==============================] - 0s 5ms/step - loss: 0.0180 - mean_squared_logarithmic_error: 0.0180\n",
            "Epoch 6/30\n",
            "15/15 [==============================] - 0s 5ms/step - loss: 0.0167 - mean_squared_logarithmic_error: 0.0167\n",
            "Epoch 7/30\n",
            "15/15 [==============================] - 0s 4ms/step - loss: 0.0225 - mean_squared_logarithmic_error: 0.0225\n",
            "Epoch 8/30\n",
            "15/15 [==============================] - 0s 5ms/step - loss: 0.0241 - mean_squared_logarithmic_error: 0.0241\n",
            "Epoch 9/30\n",
            "15/15 [==============================] - 0s 4ms/step - loss: 0.0176 - mean_squared_logarithmic_error: 0.0176\n",
            "Epoch 10/30\n",
            "15/15 [==============================] - 0s 5ms/step - loss: 0.0124 - mean_squared_logarithmic_error: 0.0124\n",
            "Epoch 11/30\n",
            "15/15 [==============================] - 0s 4ms/step - loss: 0.0108 - mean_squared_logarithmic_error: 0.0108\n",
            "Epoch 12/30\n",
            "15/15 [==============================] - 0s 5ms/step - loss: 0.0104 - mean_squared_logarithmic_error: 0.0104\n",
            "Epoch 13/30\n",
            "15/15 [==============================] - 0s 4ms/step - loss: 0.0087 - mean_squared_logarithmic_error: 0.0087\n",
            "Epoch 14/30\n",
            "15/15 [==============================] - 0s 4ms/step - loss: 0.0097 - mean_squared_logarithmic_error: 0.0097\n",
            "Epoch 15/30\n",
            "15/15 [==============================] - 0s 4ms/step - loss: 0.0116 - mean_squared_logarithmic_error: 0.0116\n",
            "Epoch 16/30\n",
            "15/15 [==============================] - 0s 4ms/step - loss: 0.0098 - mean_squared_logarithmic_error: 0.0098\n",
            "Epoch 17/30\n",
            "15/15 [==============================] - 0s 4ms/step - loss: 0.0081 - mean_squared_logarithmic_error: 0.0081\n",
            "Epoch 18/30\n",
            "15/15 [==============================] - 0s 4ms/step - loss: 0.0071 - mean_squared_logarithmic_error: 0.0071\n",
            "Epoch 19/30\n",
            "15/15 [==============================] - 0s 4ms/step - loss: 0.0082 - mean_squared_logarithmic_error: 0.0082\n",
            "Epoch 20/30\n",
            "15/15 [==============================] - 0s 4ms/step - loss: 0.0085 - mean_squared_logarithmic_error: 0.0085\n",
            "Epoch 21/30\n",
            "15/15 [==============================] - 0s 5ms/step - loss: 0.0079 - mean_squared_logarithmic_error: 0.0079\n",
            "Epoch 22/30\n",
            "15/15 [==============================] - 0s 5ms/step - loss: 0.0065 - mean_squared_logarithmic_error: 0.0065\n",
            "Epoch 23/30\n",
            "15/15 [==============================] - 0s 4ms/step - loss: 0.0069 - mean_squared_logarithmic_error: 0.0069\n",
            "Epoch 24/30\n",
            "15/15 [==============================] - 0s 4ms/step - loss: 0.0075 - mean_squared_logarithmic_error: 0.0075\n",
            "Epoch 25/30\n",
            "15/15 [==============================] - 0s 4ms/step - loss: 0.0078 - mean_squared_logarithmic_error: 0.0078\n",
            "Epoch 26/30\n",
            "15/15 [==============================] - 0s 5ms/step - loss: 0.0073 - mean_squared_logarithmic_error: 0.0073\n",
            "Epoch 27/30\n",
            "15/15 [==============================] - 0s 4ms/step - loss: 0.0066 - mean_squared_logarithmic_error: 0.0066\n",
            "Epoch 28/30\n",
            "15/15 [==============================] - 0s 4ms/step - loss: 0.0068 - mean_squared_logarithmic_error: 0.0068\n",
            "Epoch 29/30\n",
            "15/15 [==============================] - 0s 5ms/step - loss: 0.0063 - mean_squared_logarithmic_error: 0.0063\n",
            "Epoch 30/30\n",
            "15/15 [==============================] - 0s 4ms/step - loss: 0.0055 - mean_squared_logarithmic_error: 0.0055\n"
          ]
        },
        {
          "output_type": "execute_result",
          "data": {
            "text/plain": [
              "<keras.callbacks.History at 0x7f985cfd20a0>"
            ]
          },
          "metadata": {},
          "execution_count": 400
        }
      ]
    },
    {
      "cell_type": "code",
      "source": [
        "# mean squared logarithmic error\n",
        "msle(y_test, best_model.predict(X_test)).numpy()\n",
        "\n"
      ],
      "metadata": {
        "colab": {
          "base_uri": "https://localhost:8080/"
        },
        "id": "1zOns7eCXVXy",
        "outputId": "60c651d9-8ac9-452e-a3bb-caebb2992fa0"
      },
      "execution_count": 401,
      "outputs": [
        {
          "output_type": "stream",
          "name": "stdout",
          "text": [
            "8/8 [==============================] - 0s 2ms/step\n"
          ]
        },
        {
          "output_type": "execute_result",
          "data": {
            "text/plain": [
              "0.49538365"
            ]
          },
          "metadata": {},
          "execution_count": 401
        }
      ]
    },
    {
      "cell_type": "code",
      "source": [
        "predictions=best_model.predict(X_test)"
      ],
      "metadata": {
        "id": "8VOzii0GpbBq",
        "colab": {
          "base_uri": "https://localhost:8080/"
        },
        "outputId": "fd070a2c-22c7-47d8-dda1-1585695328a6"
      },
      "execution_count": 402,
      "outputs": [
        {
          "output_type": "stream",
          "name": "stdout",
          "text": [
            "8/8 [==============================] - 0s 2ms/step\n"
          ]
        }
      ]
    },
    {
      "cell_type": "code",
      "source": [
        "predictions"
      ],
      "metadata": {
        "colab": {
          "base_uri": "https://localhost:8080/"
        },
        "id": "Piq-uN1bpkXf",
        "outputId": "4961f4b0-b9fb-4739-a757-c27f386a867a"
      },
      "execution_count": 403,
      "outputs": [
        {
          "output_type": "execute_result",
          "data": {
            "text/plain": [
              "array([[ 2.7883673e-01],\n",
              "       [ 6.4114141e-01],\n",
              "       [ 3.4296849e+00],\n",
              "       [ 1.9841723e-02],\n",
              "       [ 6.5249789e-01],\n",
              "       [ 3.0130845e-01],\n",
              "       [ 3.5140092e+00],\n",
              "       [ 8.5433209e-01],\n",
              "       [ 1.4446267e+00],\n",
              "       [ 1.3246154e+00],\n",
              "       [ 1.0194343e+00],\n",
              "       [ 2.6035166e+00],\n",
              "       [ 1.2219903e+00],\n",
              "       [ 3.5407779e-01],\n",
              "       [ 2.2707474e+00],\n",
              "       [ 3.2849172e-01],\n",
              "       [ 1.5634500e+00],\n",
              "       [ 2.9373759e-02],\n",
              "       [ 4.0504856e+00],\n",
              "       [ 6.3316756e-01],\n",
              "       [ 3.2107584e+00],\n",
              "       [ 1.6381243e-01],\n",
              "       [ 1.2990163e-01],\n",
              "       [ 1.2671895e+00],\n",
              "       [ 4.6431863e-01],\n",
              "       [ 6.4321685e-01],\n",
              "       [ 3.4512660e-01],\n",
              "       [ 2.0668240e-01],\n",
              "       [ 8.0341220e-01],\n",
              "       [ 1.5524791e+00],\n",
              "       [ 3.1988668e+00],\n",
              "       [ 2.2428572e-01],\n",
              "       [ 2.4683774e-01],\n",
              "       [ 4.6297331e+00],\n",
              "       [ 3.1744346e-01],\n",
              "       [-5.3087100e-03],\n",
              "       [ 2.6746147e+00],\n",
              "       [ 6.6282296e-01],\n",
              "       [ 1.7701143e-02],\n",
              "       [ 2.4867953e-01],\n",
              "       [ 7.8552485e-01],\n",
              "       [ 4.5111522e-01],\n",
              "       [ 6.2047267e-01],\n",
              "       [ 4.0507455e+00],\n",
              "       [ 2.4967888e-01],\n",
              "       [ 2.1761081e+00],\n",
              "       [ 1.2415024e+00],\n",
              "       [ 1.2149211e+00],\n",
              "       [ 1.2742801e+00],\n",
              "       [ 3.1054842e+00],\n",
              "       [ 5.8410299e-01],\n",
              "       [ 2.6787179e+00],\n",
              "       [ 4.1423252e-01],\n",
              "       [ 3.3340818e-01],\n",
              "       [ 3.1269625e-01],\n",
              "       [ 1.5654598e+00],\n",
              "       [ 4.5088261e-02],\n",
              "       [ 2.7318537e-01],\n",
              "       [ 1.5502647e-01],\n",
              "       [ 4.2951614e-01],\n",
              "       [ 4.7102854e-01],\n",
              "       [ 1.6303023e+00],\n",
              "       [ 2.9954107e+00],\n",
              "       [ 3.2899216e-01],\n",
              "       [ 3.1389076e-01],\n",
              "       [ 1.6660036e+00],\n",
              "       [ 1.0450174e+00],\n",
              "       [ 2.9047623e-01],\n",
              "       [ 1.2574100e+00],\n",
              "       [ 3.3918498e+00],\n",
              "       [ 1.2907924e-01],\n",
              "       [ 3.4150425e-01],\n",
              "       [ 8.5467833e-01],\n",
              "       [ 1.9524252e-01],\n",
              "       [ 1.1343469e-01],\n",
              "       [ 7.3605752e-01],\n",
              "       [ 8.5582489e-01],\n",
              "       [ 2.0223441e+00],\n",
              "       [ 1.7180341e+00],\n",
              "       [ 4.1191074e-01],\n",
              "       [ 1.6910261e+00],\n",
              "       [ 3.4835869e-01],\n",
              "       [ 1.2799050e+00],\n",
              "       [ 6.1601675e-01],\n",
              "       [ 3.9008677e-01],\n",
              "       [ 4.1526422e-01],\n",
              "       [ 4.1915306e-01],\n",
              "       [ 4.6727169e-02],\n",
              "       [ 3.5070711e-01],\n",
              "       [ 1.2140328e-01],\n",
              "       [ 1.7514768e-01],\n",
              "       [ 1.2534325e+00],\n",
              "       [ 9.5120329e-01],\n",
              "       [ 4.5875826e-01],\n",
              "       [ 2.8910356e+00],\n",
              "       [ 3.3448249e-01],\n",
              "       [ 3.3876698e+00],\n",
              "       [ 2.5103256e-01],\n",
              "       [ 5.2350336e-01],\n",
              "       [ 4.3714124e-01],\n",
              "       [ 1.0375080e+00],\n",
              "       [ 2.6993985e+00],\n",
              "       [ 4.4458038e-01],\n",
              "       [ 4.3827671e-01],\n",
              "       [ 2.6195845e-01],\n",
              "       [ 1.0606070e+00],\n",
              "       [ 1.6911230e+00],\n",
              "       [ 9.3903497e-02],\n",
              "       [ 3.6187570e+00],\n",
              "       [ 4.0572816e-01],\n",
              "       [ 1.2878931e+00],\n",
              "       [ 3.3169694e+00],\n",
              "       [ 3.9015279e+00],\n",
              "       [ 3.6797225e+00],\n",
              "       [ 2.4324670e+00],\n",
              "       [ 1.7321526e+00],\n",
              "       [ 3.5813308e+00],\n",
              "       [ 6.5789354e-01],\n",
              "       [ 9.8846674e-01],\n",
              "       [ 2.4901834e-01],\n",
              "       [ 3.4391496e-01],\n",
              "       [ 3.9796267e+00],\n",
              "       [ 2.5499627e-01],\n",
              "       [ 9.3995655e-01],\n",
              "       [ 2.2063324e+00],\n",
              "       [ 4.1943645e+00],\n",
              "       [ 5.3245169e-01],\n",
              "       [ 3.3293152e-01],\n",
              "       [ 3.5086946e+00],\n",
              "       [ 3.3767554e-01],\n",
              "       [ 7.1867311e-01],\n",
              "       [ 8.8692576e-01],\n",
              "       [ 9.0968269e-01],\n",
              "       [ 1.2738537e+00],\n",
              "       [ 2.0786980e-01],\n",
              "       [ 3.3735404e+00],\n",
              "       [ 6.2469196e-01],\n",
              "       [ 2.8693707e+00],\n",
              "       [ 1.5984385e-01],\n",
              "       [ 4.5726320e-01],\n",
              "       [ 1.6911217e+00],\n",
              "       [ 4.8231643e-02],\n",
              "       [ 1.6978071e+00],\n",
              "       [ 5.3419123e+00],\n",
              "       [ 1.6904726e+00],\n",
              "       [ 4.1423252e-01],\n",
              "       [ 3.6859264e+00],\n",
              "       [ 2.9040360e-01],\n",
              "       [ 1.0100225e+00],\n",
              "       [ 5.4990995e-01],\n",
              "       [ 3.5476789e-01],\n",
              "       [ 3.3462924e-01],\n",
              "       [ 1.0132289e+00],\n",
              "       [ 1.0077729e+00],\n",
              "       [ 5.1951003e-01],\n",
              "       [ 2.9568112e-01],\n",
              "       [ 1.9543064e-01],\n",
              "       [ 3.5627821e-01],\n",
              "       [ 3.1218949e-01],\n",
              "       [ 2.2008920e-01],\n",
              "       [ 3.3689532e-01],\n",
              "       [ 1.1033971e+00],\n",
              "       [ 2.2461998e-01],\n",
              "       [ 2.5499284e+00],\n",
              "       [ 2.0008872e+00],\n",
              "       [ 6.4899671e-01],\n",
              "       [ 1.7492286e+00],\n",
              "       [ 1.2166485e-02],\n",
              "       [ 2.1419315e+00],\n",
              "       [ 5.9192847e-02],\n",
              "       [ 3.2912714e+00],\n",
              "       [ 1.6630679e+00],\n",
              "       [ 4.5845075e+00],\n",
              "       [ 2.4749227e+00],\n",
              "       [ 1.9794288e-01],\n",
              "       [ 2.8931913e-01],\n",
              "       [ 3.6246225e-01],\n",
              "       [ 2.1569896e+00],\n",
              "       [ 3.5244076e+00],\n",
              "       [ 3.0813500e-01],\n",
              "       [ 1.7235425e+00],\n",
              "       [ 2.4076133e+00],\n",
              "       [ 2.9992852e-01],\n",
              "       [ 3.0028152e-01],\n",
              "       [ 3.5426793e-01],\n",
              "       [ 6.4450049e-01],\n",
              "       [ 3.6007175e-01],\n",
              "       [ 3.4802333e-01],\n",
              "       [ 2.6500428e+00],\n",
              "       [ 3.6035297e+00],\n",
              "       [ 3.0887898e-02],\n",
              "       [ 8.6868781e-01],\n",
              "       [ 1.0013120e-01],\n",
              "       [ 2.7782789e-01],\n",
              "       [ 8.4644926e-01],\n",
              "       [ 1.3808509e+00],\n",
              "       [ 4.0640416e+00],\n",
              "       [ 2.8038597e-01],\n",
              "       [ 2.7584991e+00],\n",
              "       [ 3.0811605e-01],\n",
              "       [ 9.1527238e-02],\n",
              "       [ 2.9417092e-01],\n",
              "       [ 3.9663906e+00],\n",
              "       [ 3.4736693e+00],\n",
              "       [ 6.3035280e-02],\n",
              "       [ 3.9886096e+00],\n",
              "       [ 2.7746243e+00],\n",
              "       [ 1.5319064e+00],\n",
              "       [ 1.7530088e-01],\n",
              "       [ 9.1271114e-01],\n",
              "       [ 5.5307317e-01],\n",
              "       [ 6.3506645e-01],\n",
              "       [ 8.8249636e-01],\n",
              "       [ 2.8621891e-01],\n",
              "       [ 2.0550875e-01],\n",
              "       [ 1.3708811e-01],\n",
              "       [ 2.9418388e-01],\n",
              "       [ 1.3055788e-01],\n",
              "       [ 2.0128229e-01],\n",
              "       [ 4.5165176e+00],\n",
              "       [ 3.0367419e-01],\n",
              "       [ 4.6705446e-01],\n",
              "       [ 7.5689703e-01],\n",
              "       [ 4.8261952e-01],\n",
              "       [ 2.7446112e-01],\n",
              "       [ 1.8212864e+00],\n",
              "       [ 3.5907924e-01],\n",
              "       [ 2.0167741e-01],\n",
              "       [ 2.3536965e-01],\n",
              "       [ 3.6832073e+00],\n",
              "       [ 1.0250120e-01],\n",
              "       [ 2.7498388e+00],\n",
              "       [ 3.9345846e-01],\n",
              "       [ 3.0250180e+00],\n",
              "       [ 1.0262710e+00],\n",
              "       [ 3.9973228e+00],\n",
              "       [ 1.3130015e+00],\n",
              "       [ 2.7434096e-01],\n",
              "       [ 3.1617708e+00],\n",
              "       [ 6.0892338e-01]], dtype=float32)"
            ]
          },
          "metadata": {},
          "execution_count": 403
        }
      ]
    },
    {
      "cell_type": "code",
      "source": [
        "y_test"
      ],
      "metadata": {
        "colab": {
          "base_uri": "https://localhost:8080/"
        },
        "id": "yutoowVHpfaY",
        "outputId": "66e3fbca-509c-466f-9bfc-7bdf0a9ef1f7"
      },
      "execution_count": 404,
      "outputs": [
        {
          "output_type": "execute_result",
          "data": {
            "text/plain": [
              "array([2.38400000e-01, 7.46136729e-01, 3.38321306e+00, 4.06000000e-02,\n",
              "       9.00000000e-01, 6.60000000e-01, 3.71412202e+00, 7.93400000e-01,\n",
              "       1.46343703e+00, 1.27825378e+00, 9.96431418e-01, 2.49987310e+00,\n",
              "       1.34480000e+00, 4.50000000e-01, 2.16979823e+00, 9.20000000e-01,\n",
              "       1.61294845e+00, 6.05000000e-02, 4.11161197e+00, 9.10000000e-01,\n",
              "       3.27099783e+00, 2.37100000e-01, 1.31000000e-01, 1.33700000e+00,\n",
              "       5.13150809e-01, 4.00000000e-01, 4.10300000e-01, 1.62800000e-01,\n",
              "       1.20110000e+00, 1.62231042e+00, 3.63000000e+00, 2.12200000e-01,\n",
              "       1.20000000e-01, 5.00000000e+00, 7.10000000e-01, 1.60000000e-03,\n",
              "       2.30000000e+00, 7.55002171e-01, 2.32000000e-02, 2.99064949e-01,\n",
              "       8.00000000e-01, 4.58500000e-01, 5.96310734e-01, 4.55000000e+00,\n",
              "       2.47600000e-01, 2.06682134e+00, 1.15110000e+00, 1.16000000e+00,\n",
              "       1.26710000e+00, 2.76443713e+00, 5.11658678e-01, 2.60069156e+00,\n",
              "       4.81400000e-01, 2.30000000e-01, 2.20000000e-01, 1.61434304e+00,\n",
              "       7.80000000e-02, 3.28428804e-01, 1.46821973e-01, 4.65300000e-01,\n",
              "       3.68200000e-01, 1.72608588e+00, 3.32000000e+00, 2.90000000e-01,\n",
              "       3.09500000e-01, 1.67768035e+00, 1.01425025e+00, 8.98000000e-02,\n",
              "       1.28244720e+00, 3.30074625e+00, 5.24000000e-02, 3.68200000e-01,\n",
              "       4.55500000e-01, 1.49676357e-01, 8.77247950e-02, 5.24000000e-01,\n",
              "       2.70000000e-01, 1.90749031e+00, 1.67608553e+00, 3.60000000e-01,\n",
              "       1.70336164e+00, 6.20000000e-01, 1.15110000e+00, 5.41581564e-01,\n",
              "       4.56200000e-01, 4.90000000e-01, 4.17200000e-01, 6.90000000e-02,\n",
              "       6.92300000e-01, 1.31000000e-01, 1.09200000e-01, 1.27721357e+00,\n",
              "       8.26640562e-01, 4.80500000e-01, 2.96000000e+00, 4.20000000e-01,\n",
              "       3.63000000e+00, 4.17200000e-01, 4.00000000e-01, 4.49300000e-01,\n",
              "       9.59438998e-01, 2.83000000e+00, 5.20300000e-01, 4.69900000e-01,\n",
              "       3.15400868e-01, 1.07740000e+00, 1.65795495e+00, 9.05000000e-02,\n",
              "       3.49337902e+00, 4.46200000e-01, 1.29243752e+00, 3.21000000e+00,\n",
              "       4.55000000e+00, 3.68895654e+00, 2.35221136e+00, 1.72422455e+00,\n",
              "       3.57337838e+00, 1.15000000e+00, 1.10260000e+00, 2.20073744e-01,\n",
              "       2.30000000e-01, 4.00052959e+00, 2.37100000e-01, 7.90000000e-01,\n",
              "       2.09803041e+00, 5.36000000e+00, 6.05600000e-01, 3.37000000e-01,\n",
              "       3.69810093e+00, 3.02600000e-01, 7.80000000e-01, 7.69300000e-01,\n",
              "       9.21500000e-01, 1.15670000e+00, 1.96600000e-01, 3.29040039e+00,\n",
              "       6.39600000e-01, 2.41178440e+00, 1.90300000e-01, 5.05400000e-01,\n",
              "       1.70769359e+00, 4.37000000e-02, 1.62792987e+00, 5.31000000e+00,\n",
              "       1.68390670e+00, 4.58500000e-01, 3.71268638e+00, 2.60000000e-01,\n",
              "       9.65000000e-01, 7.25300000e-01, 2.20000000e-01, 3.50000000e-01,\n",
              "       1.47160000e+00, 9.68305464e-01, 5.62400000e-01, 3.75900000e-01,\n",
              "       1.64294245e-01, 3.80000000e-01, 3.96600000e-01, 1.95532834e-01,\n",
              "       3.74400000e-01, 1.07150000e+00, 1.97376746e-01, 2.47666339e+00,\n",
              "       1.86094165e+00, 5.88669725e-01, 2.17000000e+00, 2.50000000e-02,\n",
              "       2.02783609e+00, 4.03110150e-02, 3.23632081e+00, 1.58199930e+00,\n",
              "       4.96000000e+00, 1.88000000e+00, 2.05900000e-01, 4.40000000e-01,\n",
              "       3.00000000e-01, 1.73000000e+00, 3.47028895e+00, 2.70000000e-01,\n",
              "       1.74847544e+00, 2.57000000e+00, 3.40000000e-01, 3.68200000e-01,\n",
              "       3.20000000e-01, 5.98104618e-01, 3.80500000e-01, 2.30000000e-01,\n",
              "       2.56621703e+00, 3.52293618e+00, 4.61000000e-02, 8.68800000e-01,\n",
              "       1.05700000e-01, 2.34528659e-01, 1.01320000e+00, 1.44629090e+00,\n",
              "       4.13275425e+00, 2.43400000e-01, 2.68149145e+00, 7.00000000e-02,\n",
              "       1.06100000e-01, 5.30000000e-01, 4.00885918e+00, 4.16000000e+00,\n",
              "       7.49000000e-02, 4.29000000e+00, 2.70534519e+00, 1.61774332e+00,\n",
              "       1.73600000e-01, 1.05440000e+00, 6.40000000e-01, 5.59088285e-01,\n",
              "       1.24790000e+00, 3.10000000e-01, 2.01700000e-01, 4.99000000e-02,\n",
              "       3.08900000e-01, 1.39800000e-01, 8.25000000e-02, 5.12000000e+00,\n",
              "       1.11000000e+00, 5.50000000e-01, 1.18000000e+00, 4.76031891e-01,\n",
              "       3.39800000e-01, 2.24088822e+00, 2.20000000e-01, 2.09000000e-01,\n",
              "       1.90300000e-01, 3.70181014e+00, 1.15400000e-01, 2.67436471e+00,\n",
              "       8.16000000e-01, 2.54000000e+00, 1.03197402e+00, 3.97857936e+00,\n",
              "       1.31402679e+00, 4.30000000e-01, 3.05758215e+00, 6.96058961e-01])"
            ]
          },
          "metadata": {},
          "execution_count": 404
        }
      ]
    },
    {
      "cell_type": "code",
      "source": [
        "from sklearn import metrics"
      ],
      "metadata": {
        "id": "prRS8ygXqKZ3"
      },
      "execution_count": 405,
      "outputs": []
    },
    {
      "cell_type": "code",
      "source": [
        "print('Training , Mean Absolute Error:', metrics.mean_absolute_error(y_test, predictions))  \n",
        "print('Training , Mean Squared Error:', metrics.mean_squared_error(y_test, predictions))  \n",
        "print('Training , Root Mean Squared Error:', np.sqrt(metrics.mean_squared_error(y_test, predictions)))"
      ],
      "metadata": {
        "colab": {
          "base_uri": "https://localhost:8080/"
        },
        "id": "o9xDcYsnZXa-",
        "outputId": "ad24991b-4ce9-4714-8173-0079a9a0bdcc"
      },
      "execution_count": 406,
      "outputs": [
        {
          "output_type": "stream",
          "name": "stdout",
          "text": [
            "Training , Mean Absolute Error: 0.11906578003495971\n",
            "Training , Mean Squared Error: 0.04038816145647288\n",
            "Training , Root Mean Squared Error: 0.20096806078696405\n"
          ]
        }
      ]
    },
    {
      "cell_type": "code",
      "source": [
        "b, m = polyfit(y_test,predictions, 1)"
      ],
      "metadata": {
        "id": "_gsgC7n6D8nx"
      },
      "execution_count": 407,
      "outputs": []
    },
    {
      "cell_type": "code",
      "source": [
        "m"
      ],
      "metadata": {
        "colab": {
          "base_uri": "https://localhost:8080/"
        },
        "id": "Fq-B0K3DEBj4",
        "outputId": "c2e99eda-9dae-49cf-8761-6894762033ac"
      },
      "execution_count": 408,
      "outputs": [
        {
          "output_type": "execute_result",
          "data": {
            "text/plain": [
              "array([0.95809048])"
            ]
          },
          "metadata": {},
          "execution_count": 408
        }
      ]
    },
    {
      "cell_type": "code",
      "source": [
        "b"
      ],
      "metadata": {
        "colab": {
          "base_uri": "https://localhost:8080/"
        },
        "id": "RODfVxMOD_L_",
        "outputId": "99e5ec6e-2e40-41fc-9a34-6646d5816a06"
      },
      "execution_count": 409,
      "outputs": [
        {
          "output_type": "execute_result",
          "data": {
            "text/plain": [
              "array([0.02185824])"
            ]
          },
          "metadata": {},
          "execution_count": 409
        }
      ]
    },
    {
      "cell_type": "code",
      "source": [
        "ig, ax = plt.subplots()\n",
        "from numpy.polynomial.polynomial import polyfit\n",
        "b, m = polyfit(y_test,predictions, 1)\n",
        "plt.plot(y_test, b + m * y_test, '-')\n",
        "ax.scatter(y_test,predictions,color='r',facecolors='none')\n",
        "plt.xlabel('real')\n",
        "plt.ylabel('predict')\n",
        "plt.title(\"y=0.94739977x+0.1881701\")\n",
        "plt.show()"
      ],
      "metadata": {
        "colab": {
          "base_uri": "https://localhost:8080/",
          "height": 295
        },
        "id": "TjtqJjuYCxw4",
        "outputId": "f46e5134-928f-4fa9-fe1a-d23a7f61d13b"
      },
      "execution_count": 410,
      "outputs": [
        {
          "output_type": "display_data",
          "data": {
            "text/plain": [
              "<Figure size 432x288 with 1 Axes>"
            ],
            "image/png": "[encoded data removed]"
          },
          "metadata": {
            "needs_background": "light"
          }
        }
      ]
    },
    {
      "cell_type": "code",
      "source": [
        "predictions"
      ],
      "metadata": {
        "id": "3bmDeUi_QIHB"
      },
      "execution_count": null,
      "outputs": []
    },
    {
      "cell_type": "code",
      "source": [
        "plt.figure(2)\n",
        "\n",
        "plt.plot(predictions,color='b',linewidth=0.5,label='predictions')\n",
        "plt.legend()\n",
        "plt.show()"
      ],
      "metadata": {
        "colab": {
          "base_uri": "https://localhost:8080/",
          "height": 265
        },
        "id": "zlCFs4F6QYua",
        "outputId": "2af338a5-6538-4efb-87b1-86a0737cdb97"
      },
      "execution_count": 412,
      "outputs": [
        {
          "output_type": "display_data",
          "data": {
            "text/plain": [
              "<Figure size 432x288 with 1 Axes>"
            ],
            "image/png": "[encoded data removed]"
          },
          "metadata": {
            "needs_background": "light"
          }
        }
      ]
    },
    {
      "cell_type": "code",
      "source": [
        "plt.figure(2)\n",
        "plt.plot(y_test,color='r',linewidth=0.5,label='real')\n",
        "plt.plot(predictions,color='b',linewidth=0.5,label='predictions')\n",
        "plt.legend()\n",
        "plt.show()"
      ],
      "metadata": {
        "colab": {
          "base_uri": "https://localhost:8080/",
          "height": 265
        },
        "id": "THVh8GMiH-jJ",
        "outputId": "0be764b7-cdc1-4438-85c5-e2863fe3e0b5"
      },
      "execution_count": 413,
      "outputs": [
        {
          "output_type": "display_data",
          "data": {
            "text/plain": [
              "<Figure size 432x288 with 1 Axes>"
            ],
            "image/png": "[encoded data removed]"
          },
          "metadata": {
            "needs_background": "light"
          }
        }
      ]
    },
    {
      "cell_type": "code",
      "source": [
        "R=print(metrics.r2_score(y_test, predictions)) "
      ],
      "metadata": {
        "colab": {
          "base_uri": "https://localhost:8080/"
        },
        "id": "piG0czkXqSvT",
        "outputId": "f8f63e3b-c0ce-4238-e172-5443fb8f9f95"
      },
      "execution_count": 352,
      "outputs": [
        {
          "output_type": "stream",
          "name": "stdout",
          "text": [
            "0.9733524583101305\n"
          ]
        }
      ]
    },
    {
      "cell_type": "code",
      "source": [
        "import numpy as np\n",
        "import pandas as pd\n",
        "prediction = pd.DataFrame(predictions, columns=['predictions']).to_csv('prediction.csv')"
      ],
      "metadata": {
        "id": "X3nfQ94e46ym"
      },
      "execution_count": 353,
      "outputs": []
    },
    {
      "cell_type": "code",
      "source": [
        "(y_test)"
      ],
      "metadata": {
        "colab": {
          "base_uri": "https://localhost:8080/"
        },
        "id": "0jQg4cjp8lu3",
        "outputId": "c0f85986-12ce-4ca8-8dd9-bdb6bbb24faa"
      },
      "execution_count": 354,
      "outputs": [
        {
          "output_type": "execute_result",
          "data": {
            "text/plain": [
              "970    0.238400\n",
              "568    0.746137\n",
              "766    3.383213\n",
              "110    0.040600\n",
              "350    0.900000\n",
              "         ...   \n",
              "936    3.978579\n",
              "639    1.314027\n",
              "385    0.430000\n",
              "761    3.057582\n",
              "573    0.696059\n",
              "Name: CO2 Excess Sorption (cm3/gr), Length: 240, dtype: float64"
            ]
          },
          "metadata": {},
          "execution_count": 354
        }
      ]
    },
    {
      "cell_type": "code",
      "source": [
        "(predictions)"
      ],
      "metadata": {
        "colab": {
          "base_uri": "https://localhost:8080/"
        },
        "id": "lSkciEEX85PJ",
        "outputId": "d39c2364-2ce3-4166-d0f6-af604b2c117d"
      },
      "execution_count": 355,
      "outputs": [
        {
          "output_type": "execute_result",
          "data": {
            "text/plain": [
              "array([[0.28238785],\n",
              "       [0.66537815],\n",
              "       [3.4243288 ],\n",
              "       [0.03054167],\n",
              "       [0.6643594 ],\n",
              "       [0.3292397 ],\n",
              "       [3.6130745 ],\n",
              "       [0.85486096],\n",
              "       [1.4735214 ],\n",
              "       [1.3496951 ],\n",
              "       [0.98269624],\n",
              "       [2.5607    ],\n",
              "       [1.253676  ],\n",
              "       [0.37044626],\n",
              "       [2.2456393 ],\n",
              "       [0.3527584 ],\n",
              "       [1.5565927 ],\n",
              "       [0.03269415],\n",
              "       [4.185461  ],\n",
              "       [0.64798796],\n",
              "       [3.2236168 ],\n",
              "       [0.2841991 ],\n",
              "       [0.17789006],\n",
              "       [1.2694521 ],\n",
              "       [0.5048467 ],\n",
              "       [0.565385  ],\n",
              "       [0.34184593],\n",
              "       [0.18881303],\n",
              "       [0.8184298 ],\n",
              "       [1.5580896 ],\n",
              "       [3.1485875 ],\n",
              "       [0.26135013],\n",
              "       [0.25956193],\n",
              "       [4.7545323 ],\n",
              "       [0.31791696],\n",
              "       [0.01067079],\n",
              "       [2.660209  ],\n",
              "       [0.68942916],\n",
              "       [0.02554004],\n",
              "       [0.24891137],\n",
              "       [0.814462  ],\n",
              "       [0.41402292],\n",
              "       [0.6430818 ],\n",
              "       [4.460996  ],\n",
              "       [0.2535199 ],\n",
              "       [2.1312811 ],\n",
              "       [1.2521731 ],\n",
              "       [1.1706179 ],\n",
              "       [1.2312632 ],\n",
              "       [3.0935593 ],\n",
              "       [0.6270446 ],\n",
              "       [2.642266  ],\n",
              "       [0.38303107],\n",
              "       [0.35024512],\n",
              "       [0.31943804],\n",
              "       [1.5591761 ],\n",
              "       [0.06981212],\n",
              "       [0.26299047],\n",
              "       [0.17441678],\n",
              "       [0.39153516],\n",
              "       [0.83657366],\n",
              "       [1.6546415 ],\n",
              "       [2.659481  ],\n",
              "       [0.35002828],\n",
              "       [0.3288228 ],\n",
              "       [1.6733046 ],\n",
              "       [1.0977238 ],\n",
              "       [0.30555812],\n",
              "       [1.251459  ],\n",
              "       [3.4599202 ],\n",
              "       [0.17351529],\n",
              "       [0.35155797],\n",
              "       [0.8072379 ],\n",
              "       [0.244034  ],\n",
              "       [0.16430676],\n",
              "       [0.75808173],\n",
              "       [0.8775561 ],\n",
              "       [1.9613734 ],\n",
              "       [1.7043532 ],\n",
              "       [0.4163588 ],\n",
              "       [1.6710454 ],\n",
              "       [0.36548018],\n",
              "       [1.2895961 ],\n",
              "       [0.6505185 ],\n",
              "       [0.3705772 ],\n",
              "       [0.44517317],\n",
              "       [0.38563624],\n",
              "       [0.0580318 ],\n",
              "       [0.4236507 ],\n",
              "       [0.17497598],\n",
              "       [0.18899094],\n",
              "       [1.2431668 ],\n",
              "       [0.95440036],\n",
              "       [0.7675938 ],\n",
              "       [2.724526  ],\n",
              "       [0.34398255],\n",
              "       [3.5662587 ],\n",
              "       [0.29065922],\n",
              "       [0.43023533],\n",
              "       [0.39811254],\n",
              "       [0.995769  ],\n",
              "       [2.6312973 ],\n",
              "       [0.40584528],\n",
              "       [0.3991822 ],\n",
              "       [0.2553208 ],\n",
              "       [1.0492687 ],\n",
              "       [1.6732291 ],\n",
              "       [0.14799644],\n",
              "       [3.6062558 ],\n",
              "       [0.41923454],\n",
              "       [1.2721759 ],\n",
              "       [2.9121137 ],\n",
              "       [4.311115  ],\n",
              "       [3.8110113 ],\n",
              "       [2.421152  ],\n",
              "       [1.7197701 ],\n",
              "       [3.684363  ],\n",
              "       [0.7526102 ],\n",
              "       [0.9227631 ],\n",
              "       [0.27102736],\n",
              "       [0.35291472],\n",
              "       [4.1010795 ],\n",
              "       [0.26308954],\n",
              "       [0.9355039 ],\n",
              "       [2.1676707 ],\n",
              "       [3.7910502 ],\n",
              "       [0.52182215],\n",
              "       [0.34509724],\n",
              "       [3.5941622 ],\n",
              "       [0.35043982],\n",
              "       [0.7175308 ],\n",
              "       [0.9039164 ],\n",
              "       [0.9155969 ],\n",
              "       [1.2859597 ],\n",
              "       [0.20771275],\n",
              "       [3.4416037 ],\n",
              "       [0.7050047 ],\n",
              "       [2.8104894 ],\n",
              "       [0.22574997],\n",
              "       [0.48095772],\n",
              "       [1.6706688 ],\n",
              "       [0.07614183],\n",
              "       [1.7024199 ],\n",
              "       [5.4508176 ],\n",
              "       [1.6729815 ],\n",
              "       [0.38303107],\n",
              "       [3.8214529 ],\n",
              "       [0.30431706],\n",
              "       [0.917123  ],\n",
              "       [0.5553641 ],\n",
              "       [0.36823997],\n",
              "       [0.35080713],\n",
              "       [0.8841553 ],\n",
              "       [1.0441028 ],\n",
              "       [0.51281184],\n",
              "       [0.29041296],\n",
              "       [0.242608  ],\n",
              "       [0.37347582],\n",
              "       [0.3271195 ],\n",
              "       [0.22946553],\n",
              "       [0.40739486],\n",
              "       [1.0816468 ],\n",
              "       [0.26852515],\n",
              "       [2.5394814 ],\n",
              "       [1.9287202 ],\n",
              "       [0.6734053 ],\n",
              "       [1.7138323 ],\n",
              "       [0.02954084],\n",
              "       [2.0926409 ],\n",
              "       [0.09576309],\n",
              "       [3.3347607 ],\n",
              "       [1.6700908 ],\n",
              "       [4.34588   ],\n",
              "       [2.2970173 ],\n",
              "       [0.20277382],\n",
              "       [0.31957984],\n",
              "       [0.38298744],\n",
              "       [2.0339758 ],\n",
              "       [3.5793755 ],\n",
              "       [0.3212432 ],\n",
              "       [1.7256758 ],\n",
              "       [2.3701718 ],\n",
              "       [0.30278972],\n",
              "       [0.29981223],\n",
              "       [0.36952743],\n",
              "       [0.67092127],\n",
              "       [0.37404054],\n",
              "       [0.36891142],\n",
              "       [2.6100378 ],\n",
              "       [3.6108744 ],\n",
              "       [0.03896803],\n",
              "       [0.8630833 ],\n",
              "       [0.0995831 ],\n",
              "       [0.27228504],\n",
              "       [0.84833866],\n",
              "       [1.413563  ],\n",
              "       [4.195779  ],\n",
              "       [0.295242  ],\n",
              "       [2.7335107 ],\n",
              "       [0.3085771 ],\n",
              "       [0.11540519],\n",
              "       [0.30507436],\n",
              "       [4.1033444 ],\n",
              "       [3.5023196 ],\n",
              "       [0.10757533],\n",
              "       [4.409363  ],\n",
              "       [2.7511537 ],\n",
              "       [1.5434406 ],\n",
              "       [0.18231131],\n",
              "       [0.88922876],\n",
              "       [0.57465553],\n",
              "       [0.66317606],\n",
              "       [0.9160142 ],\n",
              "       [0.30181733],\n",
              "       [0.18733826],\n",
              "       [0.14089036],\n",
              "       [0.30341083],\n",
              "       [0.09268969],\n",
              "       [0.20319611],\n",
              "       [4.447916  ],\n",
              "       [0.34831476],\n",
              "       [0.4761566 ],\n",
              "       [0.73658454],\n",
              "       [0.49104324],\n",
              "       [0.25973094],\n",
              "       [1.7310803 ],\n",
              "       [0.3726826 ],\n",
              "       [0.17925888],\n",
              "       [0.23344344],\n",
              "       [3.815914  ],\n",
              "       [0.14881311],\n",
              "       [2.7227128 ],\n",
              "       [0.40987867],\n",
              "       [2.815382  ],\n",
              "       [1.0117441 ],\n",
              "       [4.1006174 ],\n",
              "       [1.3338968 ],\n",
              "       [0.30625436],\n",
              "       [3.1307302 ],\n",
              "       [0.6283656 ]], dtype=float32)"
            ]
          },
          "metadata": {},
          "execution_count": 355
        }
      ]
    },
    {
      "cell_type": "code",
      "source": [
        "plt.plot(y_train, b + m * y_train, '-')"
      ],
      "metadata": {
        "colab": {
          "base_uri": "https://localhost:8080/",
          "height": 282
        },
        "id": "04A1otsJDuCQ",
        "outputId": "3047035f-4e34-47f8-be17-235576b4e64e"
      },
      "execution_count": 356,
      "outputs": [
        {
          "output_type": "execute_result",
          "data": {
            "text/plain": [
              "[<matplotlib.lines.Line2D at 0x7f985cf680a0>]"
            ]
          },
          "metadata": {},
          "execution_count": 356
        },
        {
          "output_type": "display_data",
          "data": {
            "text/plain": [
              "<Figure size 432x288 with 1 Axes>"
            ],
            "image/png": "[encoded data removed]"
          },
          "metadata": {
            "needs_background": "light"
          }
        }
      ]
    },
    {
      "cell_type": "code",
      "source": [
        "ig, ax = plt.subplots()\n",
        "from numpy.polynomial.polynomial import polyfit\n",
        "b, m = polyfit(y_train,X_train, 1)\n",
        "plt.plot(y_train, b + m * y_train, '-')\n",
        "ax.scatter(y_train,X_train,color='r',facecolors='none')\n",
        "plt.xlabel('real')\n",
        "plt.ylabel('predict')\n",
        "plt.title(\"m=0.96958974\")\n",
        "plt.show()"
      ],
      "metadata": {
        "colab": {
          "base_uri": "https://localhost:8080/",
          "height": 633
        },
        "id": "TcldCOGyA2RC",
        "outputId": "8662d64d-cbab-43ba-e63c-a3322c190819"
      },
      "execution_count": 358,
      "outputs": [
        {
          "output_type": "error",
          "ename": "ValueError",
          "evalue": "ignored",
          "traceback": [
            "\u001b[0;31m---------------------------------------------------------------------------\u001b[0m",
            "\u001b[0;31mValueError\u001b[0m                                Traceback (most recent call last)",
            "\u001b[0;32m<ipython-input-358-a59a68983385>\u001b[0m in \u001b[0;36m<module>\u001b[0;34m\u001b[0m\n\u001b[1;32m      2\u001b[0m \u001b[0;32mfrom\u001b[0m \u001b[0mnumpy\u001b[0m\u001b[0;34m.\u001b[0m\u001b[0mpolynomial\u001b[0m\u001b[0;34m.\u001b[0m\u001b[0mpolynomial\u001b[0m \u001b[0;32mimport\u001b[0m \u001b[0mpolyfit\u001b[0m\u001b[0;34m\u001b[0m\u001b[0;34m\u001b[0m\u001b[0m\n\u001b[1;32m      3\u001b[0m \u001b[0mb\u001b[0m\u001b[0;34m,\u001b[0m \u001b[0mm\u001b[0m \u001b[0;34m=\u001b[0m \u001b[0mpolyfit\u001b[0m\u001b[0;34m(\u001b[0m\u001b[0my_train\u001b[0m\u001b[0;34m,\u001b[0m\u001b[0mX_train\u001b[0m\u001b[0;34m,\u001b[0m \u001b[0;36m1\u001b[0m\u001b[0;34m)\u001b[0m\u001b[0;34m\u001b[0m\u001b[0;34m\u001b[0m\u001b[0m\n\u001b[0;32m----> 4\u001b[0;31m \u001b[0mplt\u001b[0m\u001b[0;34m.\u001b[0m\u001b[0mplot\u001b[0m\u001b[0;34m(\u001b[0m\u001b[0my_train\u001b[0m\u001b[0;34m,\u001b[0m \u001b[0mb\u001b[0m \u001b[0;34m+\u001b[0m \u001b[0mm\u001b[0m \u001b[0;34m*\u001b[0m \u001b[0my_train\u001b[0m\u001b[0;34m,\u001b[0m \u001b[0;34m'-'\u001b[0m\u001b[0;34m)\u001b[0m\u001b[0;34m\u001b[0m\u001b[0;34m\u001b[0m\u001b[0m\n\u001b[0m\u001b[1;32m      5\u001b[0m \u001b[0max\u001b[0m\u001b[0;34m.\u001b[0m\u001b[0mscatter\u001b[0m\u001b[0;34m(\u001b[0m\u001b[0my_train\u001b[0m\u001b[0;34m,\u001b[0m\u001b[0mX_train\u001b[0m\u001b[0;34m,\u001b[0m\u001b[0mcolor\u001b[0m\u001b[0;34m=\u001b[0m\u001b[0;34m'r'\u001b[0m\u001b[0;34m,\u001b[0m\u001b[0mfacecolors\u001b[0m\u001b[0;34m=\u001b[0m\u001b[0;34m'none'\u001b[0m\u001b[0;34m)\u001b[0m\u001b[0;34m\u001b[0m\u001b[0;34m\u001b[0m\u001b[0m\n\u001b[1;32m      6\u001b[0m \u001b[0mplt\u001b[0m\u001b[0;34m.\u001b[0m\u001b[0mxlabel\u001b[0m\u001b[0;34m(\u001b[0m\u001b[0;34m'real'\u001b[0m\u001b[0;34m)\u001b[0m\u001b[0;34m\u001b[0m\u001b[0;34m\u001b[0m\u001b[0m\n",
            "\u001b[0;32m/usr/local/lib/python3.8/dist-packages/pandas/core/generic.py\u001b[0m in \u001b[0;36m__array_ufunc__\u001b[0;34m(self, ufunc, method, *inputs, **kwargs)\u001b[0m\n\u001b[1;32m   2030\u001b[0m         \u001b[0mself\u001b[0m\u001b[0;34m,\u001b[0m \u001b[0mufunc\u001b[0m\u001b[0;34m:\u001b[0m \u001b[0mnp\u001b[0m\u001b[0;34m.\u001b[0m\u001b[0mufunc\u001b[0m\u001b[0;34m,\u001b[0m \u001b[0mmethod\u001b[0m\u001b[0;34m:\u001b[0m \u001b[0mstr\u001b[0m\u001b[0;34m,\u001b[0m \u001b[0;34m*\u001b[0m\u001b[0minputs\u001b[0m\u001b[0;34m:\u001b[0m \u001b[0mAny\u001b[0m\u001b[0;34m,\u001b[0m \u001b[0;34m**\u001b[0m\u001b[0mkwargs\u001b[0m\u001b[0;34m:\u001b[0m \u001b[0mAny\u001b[0m\u001b[0;34m\u001b[0m\u001b[0;34m\u001b[0m\u001b[0m\n\u001b[1;32m   2031\u001b[0m     ):\n\u001b[0;32m-> 2032\u001b[0;31m         \u001b[0;32mreturn\u001b[0m \u001b[0marraylike\u001b[0m\u001b[0;34m.\u001b[0m\u001b[0marray_ufunc\u001b[0m\u001b[0;34m(\u001b[0m\u001b[0mself\u001b[0m\u001b[0;34m,\u001b[0m \u001b[0mufunc\u001b[0m\u001b[0;34m,\u001b[0m \u001b[0mmethod\u001b[0m\u001b[0;34m,\u001b[0m \u001b[0;34m*\u001b[0m\u001b[0minputs\u001b[0m\u001b[0;34m,\u001b[0m \u001b[0;34m**\u001b[0m\u001b[0mkwargs\u001b[0m\u001b[0;34m)\u001b[0m\u001b[0;34m\u001b[0m\u001b[0;34m\u001b[0m\u001b[0m\n\u001b[0m\u001b[1;32m   2033\u001b[0m \u001b[0;34m\u001b[0m\u001b[0m\n\u001b[1;32m   2034\u001b[0m     \u001b[0;31m# ideally we would define this to avoid the getattr checks, but\u001b[0m\u001b[0;34m\u001b[0m\u001b[0;34m\u001b[0m\u001b[0;34m\u001b[0m\u001b[0m\n",
            "\u001b[0;32m/usr/local/lib/python3.8/dist-packages/pandas/core/arraylike.py\u001b[0m in \u001b[0;36marray_ufunc\u001b[0;34m(self, ufunc, method, *inputs, **kwargs)\u001b[0m\n\u001b[1;32m    251\u001b[0m \u001b[0;34m\u001b[0m\u001b[0m\n\u001b[1;32m    252\u001b[0m     \u001b[0;31m# for binary ops, use our custom dunder methods\u001b[0m\u001b[0;34m\u001b[0m\u001b[0;34m\u001b[0m\u001b[0;34m\u001b[0m\u001b[0m\n\u001b[0;32m--> 253\u001b[0;31m     \u001b[0mresult\u001b[0m \u001b[0;34m=\u001b[0m \u001b[0mmaybe_dispatch_ufunc_to_dunder_op\u001b[0m\u001b[0;34m(\u001b[0m\u001b[0mself\u001b[0m\u001b[0;34m,\u001b[0m \u001b[0mufunc\u001b[0m\u001b[0;34m,\u001b[0m \u001b[0mmethod\u001b[0m\u001b[0;34m,\u001b[0m \u001b[0;34m*\u001b[0m\u001b[0minputs\u001b[0m\u001b[0;34m,\u001b[0m \u001b[0;34m**\u001b[0m\u001b[0mkwargs\u001b[0m\u001b[0;34m)\u001b[0m\u001b[0;34m\u001b[0m\u001b[0;34m\u001b[0m\u001b[0m\n\u001b[0m\u001b[1;32m    254\u001b[0m     \u001b[0;32mif\u001b[0m \u001b[0mresult\u001b[0m \u001b[0;32mis\u001b[0m \u001b[0;32mnot\u001b[0m \u001b[0mNotImplemented\u001b[0m\u001b[0;34m:\u001b[0m\u001b[0;34m\u001b[0m\u001b[0;34m\u001b[0m\u001b[0m\n\u001b[1;32m    255\u001b[0m         \u001b[0;32mreturn\u001b[0m \u001b[0mresult\u001b[0m\u001b[0;34m\u001b[0m\u001b[0;34m\u001b[0m\u001b[0m\n",
            "\u001b[0;32m/usr/local/lib/python3.8/dist-packages/pandas/_libs/ops_dispatch.pyx\u001b[0m in \u001b[0;36mpandas._libs.ops_dispatch.maybe_dispatch_ufunc_to_dunder_op\u001b[0;34m()\u001b[0m\n",
            "\u001b[0;32m/usr/local/lib/python3.8/dist-packages/pandas/core/ops/common.py\u001b[0m in \u001b[0;36mnew_method\u001b[0;34m(self, other)\u001b[0m\n\u001b[1;32m     67\u001b[0m         \u001b[0mother\u001b[0m \u001b[0;34m=\u001b[0m \u001b[0mitem_from_zerodim\u001b[0m\u001b[0;34m(\u001b[0m\u001b[0mother\u001b[0m\u001b[0;34m)\u001b[0m\u001b[0;34m\u001b[0m\u001b[0;34m\u001b[0m\u001b[0m\n\u001b[1;32m     68\u001b[0m \u001b[0;34m\u001b[0m\u001b[0m\n\u001b[0;32m---> 69\u001b[0;31m         \u001b[0;32mreturn\u001b[0m \u001b[0mmethod\u001b[0m\u001b[0;34m(\u001b[0m\u001b[0mself\u001b[0m\u001b[0;34m,\u001b[0m \u001b[0mother\u001b[0m\u001b[0;34m)\u001b[0m\u001b[0;34m\u001b[0m\u001b[0;34m\u001b[0m\u001b[0m\n\u001b[0m\u001b[1;32m     70\u001b[0m \u001b[0;34m\u001b[0m\u001b[0m\n\u001b[1;32m     71\u001b[0m     \u001b[0;32mreturn\u001b[0m \u001b[0mnew_method\u001b[0m\u001b[0;34m\u001b[0m\u001b[0;34m\u001b[0m\u001b[0m\n",
            "\u001b[0;32m/usr/local/lib/python3.8/dist-packages/pandas/core/arraylike.py\u001b[0m in \u001b[0;36m__rmul__\u001b[0;34m(self, other)\u001b[0m\n\u001b[1;32m    110\u001b[0m     \u001b[0;34m@\u001b[0m\u001b[0munpack_zerodim_and_defer\u001b[0m\u001b[0;34m(\u001b[0m\u001b[0;34m\"__rmul__\"\u001b[0m\u001b[0;34m)\u001b[0m\u001b[0;34m\u001b[0m\u001b[0;34m\u001b[0m\u001b[0m\n\u001b[1;32m    111\u001b[0m     \u001b[0;32mdef\u001b[0m \u001b[0m__rmul__\u001b[0m\u001b[0;34m(\u001b[0m\u001b[0mself\u001b[0m\u001b[0;34m,\u001b[0m \u001b[0mother\u001b[0m\u001b[0;34m)\u001b[0m\u001b[0;34m:\u001b[0m\u001b[0;34m\u001b[0m\u001b[0;34m\u001b[0m\u001b[0m\n\u001b[0;32m--> 112\u001b[0;31m         \u001b[0;32mreturn\u001b[0m \u001b[0mself\u001b[0m\u001b[0;34m.\u001b[0m\u001b[0m_arith_method\u001b[0m\u001b[0;34m(\u001b[0m\u001b[0mother\u001b[0m\u001b[0;34m,\u001b[0m \u001b[0mroperator\u001b[0m\u001b[0;34m.\u001b[0m\u001b[0mrmul\u001b[0m\u001b[0;34m)\u001b[0m\u001b[0;34m\u001b[0m\u001b[0;34m\u001b[0m\u001b[0m\n\u001b[0m\u001b[1;32m    113\u001b[0m \u001b[0;34m\u001b[0m\u001b[0m\n\u001b[1;32m    114\u001b[0m     \u001b[0;34m@\u001b[0m\u001b[0munpack_zerodim_and_defer\u001b[0m\u001b[0;34m(\u001b[0m\u001b[0;34m\"__truediv__\"\u001b[0m\u001b[0;34m)\u001b[0m\u001b[0;34m\u001b[0m\u001b[0;34m\u001b[0m\u001b[0m\n",
            "\u001b[0;32m/usr/local/lib/python3.8/dist-packages/pandas/core/series.py\u001b[0m in \u001b[0;36m_arith_method\u001b[0;34m(self, other, op)\u001b[0m\n\u001b[1;32m   5524\u001b[0m \u001b[0;34m\u001b[0m\u001b[0m\n\u001b[1;32m   5525\u001b[0m         \u001b[0;32mwith\u001b[0m \u001b[0mnp\u001b[0m\u001b[0;34m.\u001b[0m\u001b[0merrstate\u001b[0m\u001b[0;34m(\u001b[0m\u001b[0mall\u001b[0m\u001b[0;34m=\u001b[0m\u001b[0;34m\"ignore\"\u001b[0m\u001b[0;34m)\u001b[0m\u001b[0;34m:\u001b[0m\u001b[0;34m\u001b[0m\u001b[0;34m\u001b[0m\u001b[0m\n\u001b[0;32m-> 5526\u001b[0;31m             \u001b[0mresult\u001b[0m \u001b[0;34m=\u001b[0m \u001b[0mops\u001b[0m\u001b[0;34m.\u001b[0m\u001b[0marithmetic_op\u001b[0m\u001b[0;34m(\u001b[0m\u001b[0mlvalues\u001b[0m\u001b[0;34m,\u001b[0m \u001b[0mrvalues\u001b[0m\u001b[0;34m,\u001b[0m \u001b[0mop\u001b[0m\u001b[0;34m)\u001b[0m\u001b[0;34m\u001b[0m\u001b[0;34m\u001b[0m\u001b[0m\n\u001b[0m\u001b[1;32m   5527\u001b[0m \u001b[0;34m\u001b[0m\u001b[0m\n\u001b[1;32m   5528\u001b[0m         \u001b[0;32mreturn\u001b[0m \u001b[0mself\u001b[0m\u001b[0;34m.\u001b[0m\u001b[0m_construct_result\u001b[0m\u001b[0;34m(\u001b[0m\u001b[0mresult\u001b[0m\u001b[0;34m,\u001b[0m \u001b[0mname\u001b[0m\u001b[0;34m=\u001b[0m\u001b[0mres_name\u001b[0m\u001b[0;34m)\u001b[0m\u001b[0;34m\u001b[0m\u001b[0;34m\u001b[0m\u001b[0m\n",
            "\u001b[0;32m/usr/local/lib/python3.8/dist-packages/pandas/core/ops/array_ops.py\u001b[0m in \u001b[0;36marithmetic_op\u001b[0;34m(left, right, op)\u001b[0m\n\u001b[1;32m    222\u001b[0m         \u001b[0m_bool_arith_check\u001b[0m\u001b[0;34m(\u001b[0m\u001b[0mop\u001b[0m\u001b[0;34m,\u001b[0m \u001b[0mleft\u001b[0m\u001b[0;34m,\u001b[0m \u001b[0mright\u001b[0m\u001b[0;34m)\u001b[0m\u001b[0;34m\u001b[0m\u001b[0;34m\u001b[0m\u001b[0m\n\u001b[1;32m    223\u001b[0m \u001b[0;34m\u001b[0m\u001b[0m\n\u001b[0;32m--> 224\u001b[0;31m         \u001b[0mres_values\u001b[0m \u001b[0;34m=\u001b[0m \u001b[0m_na_arithmetic_op\u001b[0m\u001b[0;34m(\u001b[0m\u001b[0mleft\u001b[0m\u001b[0;34m,\u001b[0m \u001b[0mright\u001b[0m\u001b[0;34m,\u001b[0m \u001b[0mop\u001b[0m\u001b[0;34m)\u001b[0m\u001b[0;34m\u001b[0m\u001b[0;34m\u001b[0m\u001b[0m\n\u001b[0m\u001b[1;32m    225\u001b[0m \u001b[0;34m\u001b[0m\u001b[0m\n\u001b[1;32m    226\u001b[0m     \u001b[0;32mreturn\u001b[0m \u001b[0mres_values\u001b[0m\u001b[0;34m\u001b[0m\u001b[0;34m\u001b[0m\u001b[0m\n",
            "\u001b[0;32m/usr/local/lib/python3.8/dist-packages/pandas/core/ops/array_ops.py\u001b[0m in \u001b[0;36m_na_arithmetic_op\u001b[0;34m(left, right, op, is_cmp)\u001b[0m\n\u001b[1;32m    164\u001b[0m \u001b[0;34m\u001b[0m\u001b[0m\n\u001b[1;32m    165\u001b[0m     \u001b[0;32mtry\u001b[0m\u001b[0;34m:\u001b[0m\u001b[0;34m\u001b[0m\u001b[0;34m\u001b[0m\u001b[0m\n\u001b[0;32m--> 166\u001b[0;31m         \u001b[0mresult\u001b[0m \u001b[0;34m=\u001b[0m \u001b[0mfunc\u001b[0m\u001b[0;34m(\u001b[0m\u001b[0mleft\u001b[0m\u001b[0;34m,\u001b[0m \u001b[0mright\u001b[0m\u001b[0;34m)\u001b[0m\u001b[0;34m\u001b[0m\u001b[0;34m\u001b[0m\u001b[0m\n\u001b[0m\u001b[1;32m    167\u001b[0m     \u001b[0;32mexcept\u001b[0m \u001b[0mTypeError\u001b[0m\u001b[0;34m:\u001b[0m\u001b[0;34m\u001b[0m\u001b[0;34m\u001b[0m\u001b[0m\n\u001b[1;32m    168\u001b[0m         \u001b[0;32mif\u001b[0m \u001b[0mis_object_dtype\u001b[0m\u001b[0;34m(\u001b[0m\u001b[0mleft\u001b[0m\u001b[0;34m)\u001b[0m \u001b[0;32mor\u001b[0m \u001b[0mis_object_dtype\u001b[0m\u001b[0;34m(\u001b[0m\u001b[0mright\u001b[0m\u001b[0;34m)\u001b[0m \u001b[0;32mand\u001b[0m \u001b[0;32mnot\u001b[0m \u001b[0mis_cmp\u001b[0m\u001b[0;34m:\u001b[0m\u001b[0;34m\u001b[0m\u001b[0;34m\u001b[0m\u001b[0m\n",
            "\u001b[0;32m/usr/local/lib/python3.8/dist-packages/pandas/core/computation/expressions.py\u001b[0m in \u001b[0;36mevaluate\u001b[0;34m(op, a, b, use_numexpr)\u001b[0m\n\u001b[1;32m    237\u001b[0m         \u001b[0;32mif\u001b[0m \u001b[0muse_numexpr\u001b[0m\u001b[0;34m:\u001b[0m\u001b[0;34m\u001b[0m\u001b[0;34m\u001b[0m\u001b[0m\n\u001b[1;32m    238\u001b[0m             \u001b[0;31m# error: \"None\" not callable\u001b[0m\u001b[0;34m\u001b[0m\u001b[0;34m\u001b[0m\u001b[0;34m\u001b[0m\u001b[0m\n\u001b[0;32m--> 239\u001b[0;31m             \u001b[0;32mreturn\u001b[0m \u001b[0m_evaluate\u001b[0m\u001b[0;34m(\u001b[0m\u001b[0mop\u001b[0m\u001b[0;34m,\u001b[0m \u001b[0mop_str\u001b[0m\u001b[0;34m,\u001b[0m \u001b[0ma\u001b[0m\u001b[0;34m,\u001b[0m \u001b[0mb\u001b[0m\u001b[0;34m)\u001b[0m  \u001b[0;31m# type: ignore[misc]\u001b[0m\u001b[0;34m\u001b[0m\u001b[0;34m\u001b[0m\u001b[0m\n\u001b[0m\u001b[1;32m    240\u001b[0m     \u001b[0;32mreturn\u001b[0m \u001b[0m_evaluate_standard\u001b[0m\u001b[0;34m(\u001b[0m\u001b[0mop\u001b[0m\u001b[0;34m,\u001b[0m \u001b[0mop_str\u001b[0m\u001b[0;34m,\u001b[0m \u001b[0ma\u001b[0m\u001b[0;34m,\u001b[0m \u001b[0mb\u001b[0m\u001b[0;34m)\u001b[0m\u001b[0;34m\u001b[0m\u001b[0;34m\u001b[0m\u001b[0m\n\u001b[1;32m    241\u001b[0m \u001b[0;34m\u001b[0m\u001b[0m\n",
            "\u001b[0;32m/usr/local/lib/python3.8/dist-packages/pandas/core/computation/expressions.py\u001b[0m in \u001b[0;36m_evaluate_numexpr\u001b[0;34m(op, op_str, a, b)\u001b[0m\n\u001b[1;32m    126\u001b[0m \u001b[0;34m\u001b[0m\u001b[0m\n\u001b[1;32m    127\u001b[0m     \u001b[0;32mif\u001b[0m \u001b[0mresult\u001b[0m \u001b[0;32mis\u001b[0m \u001b[0;32mNone\u001b[0m\u001b[0;34m:\u001b[0m\u001b[0;34m\u001b[0m\u001b[0;34m\u001b[0m\u001b[0m\n\u001b[0;32m--> 128\u001b[0;31m         \u001b[0mresult\u001b[0m \u001b[0;34m=\u001b[0m \u001b[0m_evaluate_standard\u001b[0m\u001b[0;34m(\u001b[0m\u001b[0mop\u001b[0m\u001b[0;34m,\u001b[0m \u001b[0mop_str\u001b[0m\u001b[0;34m,\u001b[0m \u001b[0ma\u001b[0m\u001b[0;34m,\u001b[0m \u001b[0mb\u001b[0m\u001b[0;34m)\u001b[0m\u001b[0;34m\u001b[0m\u001b[0;34m\u001b[0m\u001b[0m\n\u001b[0m\u001b[1;32m    129\u001b[0m \u001b[0;34m\u001b[0m\u001b[0m\n\u001b[1;32m    130\u001b[0m     \u001b[0;32mreturn\u001b[0m \u001b[0mresult\u001b[0m\u001b[0;34m\u001b[0m\u001b[0;34m\u001b[0m\u001b[0m\n",
            "\u001b[0;32m/usr/local/lib/python3.8/dist-packages/pandas/core/computation/expressions.py\u001b[0m in \u001b[0;36m_evaluate_standard\u001b[0;34m(op, op_str, a, b)\u001b[0m\n\u001b[1;32m     67\u001b[0m     \u001b[0;32mif\u001b[0m \u001b[0m_TEST_MODE\u001b[0m\u001b[0;34m:\u001b[0m\u001b[0;34m\u001b[0m\u001b[0;34m\u001b[0m\u001b[0m\n\u001b[1;32m     68\u001b[0m         \u001b[0m_store_test_result\u001b[0m\u001b[0;34m(\u001b[0m\u001b[0;32mFalse\u001b[0m\u001b[0;34m)\u001b[0m\u001b[0;34m\u001b[0m\u001b[0;34m\u001b[0m\u001b[0m\n\u001b[0;32m---> 69\u001b[0;31m     \u001b[0;32mreturn\u001b[0m \u001b[0mop\u001b[0m\u001b[0;34m(\u001b[0m\u001b[0ma\u001b[0m\u001b[0;34m,\u001b[0m \u001b[0mb\u001b[0m\u001b[0;34m)\u001b[0m\u001b[0;34m\u001b[0m\u001b[0;34m\u001b[0m\u001b[0m\n\u001b[0m\u001b[1;32m     70\u001b[0m \u001b[0;34m\u001b[0m\u001b[0m\n\u001b[1;32m     71\u001b[0m \u001b[0;34m\u001b[0m\u001b[0m\n",
            "\u001b[0;32m/usr/local/lib/python3.8/dist-packages/pandas/core/roperator.py\u001b[0m in \u001b[0;36mrmul\u001b[0;34m(left, right)\u001b[0m\n\u001b[1;32m     15\u001b[0m \u001b[0;34m\u001b[0m\u001b[0m\n\u001b[1;32m     16\u001b[0m \u001b[0;32mdef\u001b[0m \u001b[0mrmul\u001b[0m\u001b[0;34m(\u001b[0m\u001b[0mleft\u001b[0m\u001b[0;34m,\u001b[0m \u001b[0mright\u001b[0m\u001b[0;34m)\u001b[0m\u001b[0;34m:\u001b[0m\u001b[0;34m\u001b[0m\u001b[0;34m\u001b[0m\u001b[0m\n\u001b[0;32m---> 17\u001b[0;31m     \u001b[0;32mreturn\u001b[0m \u001b[0mright\u001b[0m \u001b[0;34m*\u001b[0m \u001b[0mleft\u001b[0m\u001b[0;34m\u001b[0m\u001b[0;34m\u001b[0m\u001b[0m\n\u001b[0m\u001b[1;32m     18\u001b[0m \u001b[0;34m\u001b[0m\u001b[0m\n\u001b[1;32m     19\u001b[0m \u001b[0;34m\u001b[0m\u001b[0m\n",
            "\u001b[0;31mValueError\u001b[0m: operands could not be broadcast together with shapes (4,) (960,) "
          ]
        },
        {
          "output_type": "display_data",
          "data": {
            "text/plain": [
              "<Figure size 432x288 with 1 Axes>"
            ],
            "image/png": "[encoded data removed]"
          },
          "metadata": {
            "needs_background": "light"
          }
        }
      ]
    }
  ],
  "metadata": {
    "accelerator": "GPU",
    "colab": {
      "name": "Untitled5_(4).ipynb",
      "provenance": [],
      "include_colab_link": true
    },
    "gpuClass": "standard",
    "kernelspec": {
      "display_name": "Python 3",
      "name": "python3"
    },
    "language_info": {
      "name": "python"
    }
  },
  "nbformat": 4,
  "nbformat_minor": 0
}