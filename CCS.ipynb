{
  "cells": [
    {
      "cell_type": "markdown",
      "metadata": {
        "id": "view-in-github",
        "colab_type": "text"
      },
      "source": [
        "<a href=\"https://colab.research.google.com/github/Rezaparsazadeh/CO2/blob/main/CCS.ipynb\" target=\"_parent\"><img src=\"https://colab.research.google.com/assets/colab-badge.svg\" alt=\"Open In Colab\"/></a>"
      ]
    },
    {
      "cell_type": "code",
      "execution_count": 125,
      "metadata": {
        "id": "71vgPF-CBDH5"
      },
      "outputs": [],
      "source": [
        "from tensorflow import keras\n",
        "from tensorflow.keras.optimizers import Adam\n",
        "from keras.models import Sequential\n",
        "from keras.layers import Dense, Dropout, Activation\n",
        "from sklearn.preprocessing import LabelBinarizer\n",
        "from sklearn.preprocessing import MinMaxScaler\n",
        "from sklearn.model_selection import train_test_split\n",
        "import pandas as pd\n",
        "import numpy as np\n",
        "import glob\n",
        "import cv2\n",
        "import os\n",
        "import locale\n",
        "import seaborn as sns\n",
        "from datetime import timedelta, datetime\n",
        "from sklearn.metrics import mean_squared_error\n",
        "import xgboost as xgb\n",
        "import plotly.graph_objects as go\n"
      ]
    },
    {
      "cell_type": "code",
      "source": [
        "!pip install keras-tuner"
      ],
      "metadata": {
        "colab": {
          "base_uri": "https://localhost:8080/"
        },
        "id": "cPtgsHOq5yMy",
        "outputId": "fda3796c-f91e-413e-c41e-67475060c5f2"
      },
      "execution_count": 126,
      "outputs": [
        {
          "output_type": "stream",
          "name": "stdout",
          "text": [
            "Looking in indexes: https://pypi.org/simple, https://us-python.pkg.dev/colab-wheels/public/simple/\n",
            "Requirement already satisfied: keras-tuner in /usr/local/lib/python3.8/dist-packages (1.1.3)\n",
            "Requirement already satisfied: kt-legacy in /usr/local/lib/python3.8/dist-packages (from keras-tuner) (1.0.4)\n",
            "Requirement already satisfied: packaging in /usr/local/lib/python3.8/dist-packages (from keras-tuner) (21.3)\n",
            "Requirement already satisfied: numpy in /usr/local/lib/python3.8/dist-packages (from keras-tuner) (1.21.6)\n",
            "Requirement already satisfied: requests in /usr/local/lib/python3.8/dist-packages (from keras-tuner) (2.25.1)\n",
            "Requirement already satisfied: tensorboard in /usr/local/lib/python3.8/dist-packages (from keras-tuner) (2.9.1)\n",
            "Requirement already satisfied: ipython in /usr/local/lib/python3.8/dist-packages (from keras-tuner) (7.9.0)\n",
            "Requirement already satisfied: pexpect in /usr/local/lib/python3.8/dist-packages (from ipython->keras-tuner) (4.8.0)\n",
            "Requirement already satisfied: setuptools>=18.5 in /usr/local/lib/python3.8/dist-packages (from ipython->keras-tuner) (57.4.0)\n",
            "Requirement already satisfied: traitlets>=4.2 in /usr/local/lib/python3.8/dist-packages (from ipython->keras-tuner) (5.7.1)\n",
            "Requirement already satisfied: decorator in /usr/local/lib/python3.8/dist-packages (from ipython->keras-tuner) (4.4.2)\n",
            "Requirement already satisfied: jedi>=0.10 in /usr/local/lib/python3.8/dist-packages (from ipython->keras-tuner) (0.18.2)\n",
            "Requirement already satisfied: pickleshare in /usr/local/lib/python3.8/dist-packages (from ipython->keras-tuner) (0.7.5)\n",
            "Requirement already satisfied: prompt-toolkit<2.1.0,>=2.0.0 in /usr/local/lib/python3.8/dist-packages (from ipython->keras-tuner) (2.0.10)\n",
            "Requirement already satisfied: backcall in /usr/local/lib/python3.8/dist-packages (from ipython->keras-tuner) (0.2.0)\n",
            "Requirement already satisfied: pygments in /usr/local/lib/python3.8/dist-packages (from ipython->keras-tuner) (2.6.1)\n",
            "Requirement already satisfied: pyparsing!=3.0.5,>=2.0.2 in /usr/local/lib/python3.8/dist-packages (from packaging->keras-tuner) (3.0.9)\n",
            "Requirement already satisfied: urllib3<1.27,>=1.21.1 in /usr/local/lib/python3.8/dist-packages (from requests->keras-tuner) (1.24.3)\n",
            "Requirement already satisfied: chardet<5,>=3.0.2 in /usr/local/lib/python3.8/dist-packages (from requests->keras-tuner) (4.0.0)\n",
            "Requirement already satisfied: certifi>=2017.4.17 in /usr/local/lib/python3.8/dist-packages (from requests->keras-tuner) (2022.12.7)\n",
            "Requirement already satisfied: idna<3,>=2.5 in /usr/local/lib/python3.8/dist-packages (from requests->keras-tuner) (2.10)\n",
            "Requirement already satisfied: tensorboard-data-server<0.7.0,>=0.6.0 in /usr/local/lib/python3.8/dist-packages (from tensorboard->keras-tuner) (0.6.1)\n",
            "Requirement already satisfied: werkzeug>=1.0.1 in /usr/local/lib/python3.8/dist-packages (from tensorboard->keras-tuner) (1.0.1)\n",
            "Requirement already satisfied: absl-py>=0.4 in /usr/local/lib/python3.8/dist-packages (from tensorboard->keras-tuner) (1.3.0)\n",
            "Requirement already satisfied: google-auth<3,>=1.6.3 in /usr/local/lib/python3.8/dist-packages (from tensorboard->keras-tuner) (2.16.0)\n",
            "Requirement already satisfied: protobuf<3.20,>=3.9.2 in /usr/local/lib/python3.8/dist-packages (from tensorboard->keras-tuner) (3.19.6)\n",
            "Requirement already satisfied: grpcio>=1.24.3 in /usr/local/lib/python3.8/dist-packages (from tensorboard->keras-tuner) (1.51.1)\n",
            "Requirement already satisfied: google-auth-oauthlib<0.5,>=0.4.1 in /usr/local/lib/python3.8/dist-packages (from tensorboard->keras-tuner) (0.4.6)\n",
            "Requirement already satisfied: markdown>=2.6.8 in /usr/local/lib/python3.8/dist-packages (from tensorboard->keras-tuner) (3.4.1)\n",
            "Requirement already satisfied: tensorboard-plugin-wit>=1.6.0 in /usr/local/lib/python3.8/dist-packages (from tensorboard->keras-tuner) (1.8.1)\n",
            "Requirement already satisfied: wheel>=0.26 in /usr/local/lib/python3.8/dist-packages (from tensorboard->keras-tuner) (0.38.4)\n",
            "Requirement already satisfied: pyasn1-modules>=0.2.1 in /usr/local/lib/python3.8/dist-packages (from google-auth<3,>=1.6.3->tensorboard->keras-tuner) (0.2.8)\n",
            "Requirement already satisfied: rsa<5,>=3.1.4 in /usr/local/lib/python3.8/dist-packages (from google-auth<3,>=1.6.3->tensorboard->keras-tuner) (4.9)\n",
            "Requirement already satisfied: six>=1.9.0 in /usr/local/lib/python3.8/dist-packages (from google-auth<3,>=1.6.3->tensorboard->keras-tuner) (1.15.0)\n",
            "Requirement already satisfied: cachetools<6.0,>=2.0.0 in /usr/local/lib/python3.8/dist-packages (from google-auth<3,>=1.6.3->tensorboard->keras-tuner) (5.2.1)\n",
            "Requirement already satisfied: requests-oauthlib>=0.7.0 in /usr/local/lib/python3.8/dist-packages (from google-auth-oauthlib<0.5,>=0.4.1->tensorboard->keras-tuner) (1.3.1)\n",
            "Requirement already satisfied: parso<0.9.0,>=0.8.0 in /usr/local/lib/python3.8/dist-packages (from jedi>=0.10->ipython->keras-tuner) (0.8.3)\n",
            "Requirement already satisfied: importlib-metadata>=4.4 in /usr/local/lib/python3.8/dist-packages (from markdown>=2.6.8->tensorboard->keras-tuner) (6.0.0)\n",
            "Requirement already satisfied: wcwidth in /usr/local/lib/python3.8/dist-packages (from prompt-toolkit<2.1.0,>=2.0.0->ipython->keras-tuner) (0.2.5)\n",
            "Requirement already satisfied: ptyprocess>=0.5 in /usr/local/lib/python3.8/dist-packages (from pexpect->ipython->keras-tuner) (0.7.0)\n",
            "Requirement already satisfied: zipp>=0.5 in /usr/local/lib/python3.8/dist-packages (from importlib-metadata>=4.4->markdown>=2.6.8->tensorboard->keras-tuner) (3.11.0)\n",
            "Requirement already satisfied: pyasn1<0.5.0,>=0.4.6 in /usr/local/lib/python3.8/dist-packages (from pyasn1-modules>=0.2.1->google-auth<3,>=1.6.3->tensorboard->keras-tuner) (0.4.8)\n",
            "Requirement already satisfied: oauthlib>=3.0.0 in /usr/local/lib/python3.8/dist-packages (from requests-oauthlib>=0.7.0->google-auth-oauthlib<0.5,>=0.4.1->tensorboard->keras-tuner) (3.2.2)\n"
          ]
        }
      ]
    },
    {
      "cell_type": "code",
      "source": [
        "from kerastuner.tuners import RandomSearch\n",
        "import kerastuner as kt"
      ],
      "metadata": {
        "id": "LBjP0y8256SD"
      },
      "execution_count": 127,
      "outputs": []
    },
    {
      "cell_type": "code",
      "execution_count": 128,
      "metadata": {
        "id": "vXF-A97FBNyr"
      },
      "outputs": [],
      "source": [
        "df=pd.read_csv(r\"Data.csv\")\n"
      ]
    },
    {
      "cell_type": "code",
      "execution_count": 129,
      "metadata": {
        "colab": {
          "base_uri": "https://localhost:8080/",
          "height": 423
        },
        "id": "k8Q0HtRiBmQn",
        "outputId": "09c45a22-6ffc-4365-c52b-c1b90f63a2ed"
      },
      "outputs": [
        {
          "output_type": "execute_result",
          "data": {
            "text/plain": [
              "      TOC (%)  Moisture (%)  Temp (C)  Pres. (MPa)  \\\n",
              "0        1.66          1.42        50       0.4413   \n",
              "1        1.66          1.42        50       0.9308   \n",
              "2        1.66          1.42        50       1.4617   \n",
              "3        1.66          1.42        50       2.8337   \n",
              "4        1.66          1.42        50       5.7158   \n",
              "...       ...           ...       ...          ...   \n",
              "1195     4.76          1.50        70       2.2100   \n",
              "1196     4.76          1.50        70       4.2800   \n",
              "1197     4.76          1.50        70       6.2100   \n",
              "1198     4.76          1.50        70       8.6700   \n",
              "1199     4.76          1.50        70      10.9400   \n",
              "\n",
              "      CO2 Excess Sorption (cm3/gr)  \n",
              "0                           0.0468  \n",
              "1                           0.0842  \n",
              "2                           0.1186  \n",
              "3                           0.2246  \n",
              "4                           0.3682  \n",
              "...                            ...  \n",
              "1195                        1.4600  \n",
              "1196                        1.9500  \n",
              "1197                        2.1700  \n",
              "1198                        2.2600  \n",
              "1199                        2.3000  \n",
              "\n",
              "[1200 rows x 5 columns]"
            ],
            "text/html": [
              "\n",
              "  <div id=\"df-c5fd7620-38fb-4a28-9e19-a91cc17099b7\">\n",
              "    <div class=\"colab-df-container\">\n",
              "      <div>\n",
              "<style scoped>\n",
              "    .dataframe tbody tr th:only-of-type {\n",
              "        vertical-align: middle;\n",
              "    }\n",
              "\n",
              "    .dataframe tbody tr th {\n",
              "        vertical-align: top;\n",
              "    }\n",
              "\n",
              "    .dataframe thead th {\n",
              "        text-align: right;\n",
              "    }\n",
              "</style>\n",
              "<table border=\"1\" class=\"dataframe\">\n",
              "  <thead>\n",
              "    <tr style=\"text-align: right;\">\n",
              "      <th></th>\n",
              "      <th>TOC (%)</th>\n",
              "      <th>Moisture (%)</th>\n",
              "      <th>Temp (C)</th>\n",
              "      <th>Pres. (MPa)</th>\n",
              "      <th>CO2 Excess Sorption (cm3/gr)</th>\n",
              "    </tr>\n",
              "  </thead>\n",
              "  <tbody>\n",
              "    <tr>\n",
              "      <th>0</th>\n",
              "      <td>1.66</td>\n",
              "      <td>1.42</td>\n",
              "      <td>50</td>\n",
              "      <td>0.4413</td>\n",
              "      <td>0.0468</td>\n",
              "    </tr>\n",
              "    <tr>\n",
              "      <th>1</th>\n",
              "      <td>1.66</td>\n",
              "      <td>1.42</td>\n",
              "      <td>50</td>\n",
              "      <td>0.9308</td>\n",
              "      <td>0.0842</td>\n",
              "    </tr>\n",
              "    <tr>\n",
              "      <th>2</th>\n",
              "      <td>1.66</td>\n",
              "      <td>1.42</td>\n",
              "      <td>50</td>\n",
              "      <td>1.4617</td>\n",
              "      <td>0.1186</td>\n",
              "    </tr>\n",
              "    <tr>\n",
              "      <th>3</th>\n",
              "      <td>1.66</td>\n",
              "      <td>1.42</td>\n",
              "      <td>50</td>\n",
              "      <td>2.8337</td>\n",
              "      <td>0.2246</td>\n",
              "    </tr>\n",
              "    <tr>\n",
              "      <th>4</th>\n",
              "      <td>1.66</td>\n",
              "      <td>1.42</td>\n",
              "      <td>50</td>\n",
              "      <td>5.7158</td>\n",
              "      <td>0.3682</td>\n",
              "    </tr>\n",
              "    <tr>\n",
              "      <th>...</th>\n",
              "      <td>...</td>\n",
              "      <td>...</td>\n",
              "      <td>...</td>\n",
              "      <td>...</td>\n",
              "      <td>...</td>\n",
              "    </tr>\n",
              "    <tr>\n",
              "      <th>1195</th>\n",
              "      <td>4.76</td>\n",
              "      <td>1.50</td>\n",
              "      <td>70</td>\n",
              "      <td>2.2100</td>\n",
              "      <td>1.4600</td>\n",
              "    </tr>\n",
              "    <tr>\n",
              "      <th>1196</th>\n",
              "      <td>4.76</td>\n",
              "      <td>1.50</td>\n",
              "      <td>70</td>\n",
              "      <td>4.2800</td>\n",
              "      <td>1.9500</td>\n",
              "    </tr>\n",
              "    <tr>\n",
              "      <th>1197</th>\n",
              "      <td>4.76</td>\n",
              "      <td>1.50</td>\n",
              "      <td>70</td>\n",
              "      <td>6.2100</td>\n",
              "      <td>2.1700</td>\n",
              "    </tr>\n",
              "    <tr>\n",
              "      <th>1198</th>\n",
              "      <td>4.76</td>\n",
              "      <td>1.50</td>\n",
              "      <td>70</td>\n",
              "      <td>8.6700</td>\n",
              "      <td>2.2600</td>\n",
              "    </tr>\n",
              "    <tr>\n",
              "      <th>1199</th>\n",
              "      <td>4.76</td>\n",
              "      <td>1.50</td>\n",
              "      <td>70</td>\n",
              "      <td>10.9400</td>\n",
              "      <td>2.3000</td>\n",
              "    </tr>\n",
              "  </tbody>\n",
              "</table>\n",
              "<p>1200 rows × 5 columns</p>\n",
              "</div>\n",
              "      <button class=\"colab-df-convert\" onclick=\"convertToInteractive('df-c5fd7620-38fb-4a28-9e19-a91cc17099b7')\"\n",
              "              title=\"Convert this dataframe to an interactive table.\"\n",
              "              style=\"display:none;\">\n",
              "        \n",
              "  <svg xmlns=\"http://www.w3.org/2000/svg\" height=\"24px\"viewBox=\"0 0 24 24\"\n",
              "       width=\"24px\">\n",
              "    <path d=\"M0 0h24v24H0V0z\" fill=\"none\"/>\n",
              "    <path d=\"M18.56 5.44l.94 2.06.94-2.06 2.06-.94-2.06-.94-.94-2.06-.94 2.06-2.06.94zm-11 1L8.5 8.5l.94-2.06 2.06-.94-2.06-.94L8.5 2.5l-.94 2.06-2.06.94zm10 10l.94 2.06.94-2.06 2.06-.94-2.06-.94-.94-2.06-.94 2.06-2.06.94z\"/><path d=\"M17.41 7.96l-1.37-1.37c-.4-.4-.92-.59-1.43-.59-.52 0-1.04.2-1.43.59L10.3 9.45l-7.72 7.72c-.78.78-.78 2.05 0 2.83L4 21.41c.39.39.9.59 1.41.59.51 0 1.02-.2 1.41-.59l7.78-7.78 2.81-2.81c.8-.78.8-2.07 0-2.86zM5.41 20L4 18.59l7.72-7.72 1.47 1.35L5.41 20z\"/>\n",
              "  </svg>\n",
              "      </button>\n",
              "      \n",
              "  <style>\n",
              "    .colab-df-container {\n",
              "      display:flex;\n",
              "      flex-wrap:wrap;\n",
              "      gap: 12px;\n",
              "    }\n",
              "\n",
              "    .colab-df-convert {\n",
              "      background-color: #E8F0FE;\n",
              "      border: none;\n",
              "      border-radius: 50%;\n",
              "      cursor: pointer;\n",
              "      display: none;\n",
              "      fill: #1967D2;\n",
              "      height: 32px;\n",
              "      padding: 0 0 0 0;\n",
              "      width: 32px;\n",
              "    }\n",
              "\n",
              "    .colab-df-convert:hover {\n",
              "      background-color: #E2EBFA;\n",
              "      box-shadow: 0px 1px 2px rgba(60, 64, 67, 0.3), 0px 1px 3px 1px rgba(60, 64, 67, 0.15);\n",
              "      fill: #174EA6;\n",
              "    }\n",
              "\n",
              "    [theme=dark] .colab-df-convert {\n",
              "      background-color: #3B4455;\n",
              "      fill: #D2E3FC;\n",
              "    }\n",
              "\n",
              "    [theme=dark] .colab-df-convert:hover {\n",
              "      background-color: #434B5C;\n",
              "      box-shadow: 0px 1px 3px 1px rgba(0, 0, 0, 0.15);\n",
              "      filter: drop-shadow(0px 1px 2px rgba(0, 0, 0, 0.3));\n",
              "      fill: #FFFFFF;\n",
              "    }\n",
              "  </style>\n",
              "\n",
              "      <script>\n",
              "        const buttonEl =\n",
              "          document.querySelector('#df-c5fd7620-38fb-4a28-9e19-a91cc17099b7 button.colab-df-convert');\n",
              "        buttonEl.style.display =\n",
              "          google.colab.kernel.accessAllowed ? 'block' : 'none';\n",
              "\n",
              "        async function convertToInteractive(key) {\n",
              "          const element = document.querySelector('#df-c5fd7620-38fb-4a28-9e19-a91cc17099b7');\n",
              "          const dataTable =\n",
              "            await google.colab.kernel.invokeFunction('convertToInteractive',\n",
              "                                                     [key], {});\n",
              "          if (!dataTable) return;\n",
              "\n",
              "          const docLinkHtml = 'Like what you see? Visit the ' +\n",
              "            '<a target=\"_blank\" href=https://colab.research.google.com/notebooks/data_table.ipynb>data table notebook</a>'\n",
              "            + ' to learn more about interactive tables.';\n",
              "          element.innerHTML = '';\n",
              "          dataTable['output_type'] = 'display_data';\n",
              "          await google.colab.output.renderOutput(dataTable, element);\n",
              "          const docLink = document.createElement('div');\n",
              "          docLink.innerHTML = docLinkHtml;\n",
              "          element.appendChild(docLink);\n",
              "        }\n",
              "      </script>\n",
              "    </div>\n",
              "  </div>\n",
              "  "
            ]
          },
          "metadata": {},
          "execution_count": 129
        }
      ],
      "source": [
        "df"
      ]
    },
    {
      "cell_type": "code",
      "execution_count": 130,
      "metadata": {
        "colab": {
          "base_uri": "https://localhost:8080/",
          "height": 206
        },
        "id": "iGxwt2TaF1HA",
        "outputId": "086ea3cc-3b3f-4b79-89ce-3892ca767635"
      },
      "outputs": [
        {
          "output_type": "execute_result",
          "data": {
            "text/plain": [
              "   TOC (%)  Moisture (%)  Temp (C)  Pres. (MPa)  CO2 Excess Sorption (cm3/gr)\n",
              "0     1.66          1.42        50       0.4413                        0.0468\n",
              "1     1.66          1.42        50       0.9308                        0.0842\n",
              "2     1.66          1.42        50       1.4617                        0.1186\n",
              "3     1.66          1.42        50       2.8337                        0.2246\n",
              "4     1.66          1.42        50       5.7158                        0.3682"
            ],
            "text/html": [
              "\n",
              "  <div id=\"df-78a6de1a-4c2b-4030-bae7-b2ab8ed1e6e8\">\n",
              "    <div class=\"colab-df-container\">\n",
              "      <div>\n",
              "<style scoped>\n",
              "    .dataframe tbody tr th:only-of-type {\n",
              "        vertical-align: middle;\n",
              "    }\n",
              "\n",
              "    .dataframe tbody tr th {\n",
              "        vertical-align: top;\n",
              "    }\n",
              "\n",
              "    .dataframe thead th {\n",
              "        text-align: right;\n",
              "    }\n",
              "</style>\n",
              "<table border=\"1\" class=\"dataframe\">\n",
              "  <thead>\n",
              "    <tr style=\"text-align: right;\">\n",
              "      <th></th>\n",
              "      <th>TOC (%)</th>\n",
              "      <th>Moisture (%)</th>\n",
              "      <th>Temp (C)</th>\n",
              "      <th>Pres. (MPa)</th>\n",
              "      <th>CO2 Excess Sorption (cm3/gr)</th>\n",
              "    </tr>\n",
              "  </thead>\n",
              "  <tbody>\n",
              "    <tr>\n",
              "      <th>0</th>\n",
              "      <td>1.66</td>\n",
              "      <td>1.42</td>\n",
              "      <td>50</td>\n",
              "      <td>0.4413</td>\n",
              "      <td>0.0468</td>\n",
              "    </tr>\n",
              "    <tr>\n",
              "      <th>1</th>\n",
              "      <td>1.66</td>\n",
              "      <td>1.42</td>\n",
              "      <td>50</td>\n",
              "      <td>0.9308</td>\n",
              "      <td>0.0842</td>\n",
              "    </tr>\n",
              "    <tr>\n",
              "      <th>2</th>\n",
              "      <td>1.66</td>\n",
              "      <td>1.42</td>\n",
              "      <td>50</td>\n",
              "      <td>1.4617</td>\n",
              "      <td>0.1186</td>\n",
              "    </tr>\n",
              "    <tr>\n",
              "      <th>3</th>\n",
              "      <td>1.66</td>\n",
              "      <td>1.42</td>\n",
              "      <td>50</td>\n",
              "      <td>2.8337</td>\n",
              "      <td>0.2246</td>\n",
              "    </tr>\n",
              "    <tr>\n",
              "      <th>4</th>\n",
              "      <td>1.66</td>\n",
              "      <td>1.42</td>\n",
              "      <td>50</td>\n",
              "      <td>5.7158</td>\n",
              "      <td>0.3682</td>\n",
              "    </tr>\n",
              "  </tbody>\n",
              "</table>\n",
              "</div>\n",
              "      <button class=\"colab-df-convert\" onclick=\"convertToInteractive('df-78a6de1a-4c2b-4030-bae7-b2ab8ed1e6e8')\"\n",
              "              title=\"Convert this dataframe to an interactive table.\"\n",
              "              style=\"display:none;\">\n",
              "        \n",
              "  <svg xmlns=\"http://www.w3.org/2000/svg\" height=\"24px\"viewBox=\"0 0 24 24\"\n",
              "       width=\"24px\">\n",
              "    <path d=\"M0 0h24v24H0V0z\" fill=\"none\"/>\n",
              "    <path d=\"M18.56 5.44l.94 2.06.94-2.06 2.06-.94-2.06-.94-.94-2.06-.94 2.06-2.06.94zm-11 1L8.5 8.5l.94-2.06 2.06-.94-2.06-.94L8.5 2.5l-.94 2.06-2.06.94zm10 10l.94 2.06.94-2.06 2.06-.94-2.06-.94-.94-2.06-.94 2.06-2.06.94z\"/><path d=\"M17.41 7.96l-1.37-1.37c-.4-.4-.92-.59-1.43-.59-.52 0-1.04.2-1.43.59L10.3 9.45l-7.72 7.72c-.78.78-.78 2.05 0 2.83L4 21.41c.39.39.9.59 1.41.59.51 0 1.02-.2 1.41-.59l7.78-7.78 2.81-2.81c.8-.78.8-2.07 0-2.86zM5.41 20L4 18.59l7.72-7.72 1.47 1.35L5.41 20z\"/>\n",
              "  </svg>\n",
              "      </button>\n",
              "      \n",
              "  <style>\n",
              "    .colab-df-container {\n",
              "      display:flex;\n",
              "      flex-wrap:wrap;\n",
              "      gap: 12px;\n",
              "    }\n",
              "\n",
              "    .colab-df-convert {\n",
              "      background-color: #E8F0FE;\n",
              "      border: none;\n",
              "      border-radius: 50%;\n",
              "      cursor: pointer;\n",
              "      display: none;\n",
              "      fill: #1967D2;\n",
              "      height: 32px;\n",
              "      padding: 0 0 0 0;\n",
              "      width: 32px;\n",
              "    }\n",
              "\n",
              "    .colab-df-convert:hover {\n",
              "      background-color: #E2EBFA;\n",
              "      box-shadow: 0px 1px 2px rgba(60, 64, 67, 0.3), 0px 1px 3px 1px rgba(60, 64, 67, 0.15);\n",
              "      fill: #174EA6;\n",
              "    }\n",
              "\n",
              "    [theme=dark] .colab-df-convert {\n",
              "      background-color: #3B4455;\n",
              "      fill: #D2E3FC;\n",
              "    }\n",
              "\n",
              "    [theme=dark] .colab-df-convert:hover {\n",
              "      background-color: #434B5C;\n",
              "      box-shadow: 0px 1px 3px 1px rgba(0, 0, 0, 0.15);\n",
              "      filter: drop-shadow(0px 1px 2px rgba(0, 0, 0, 0.3));\n",
              "      fill: #FFFFFF;\n",
              "    }\n",
              "  </style>\n",
              "\n",
              "      <script>\n",
              "        const buttonEl =\n",
              "          document.querySelector('#df-78a6de1a-4c2b-4030-bae7-b2ab8ed1e6e8 button.colab-df-convert');\n",
              "        buttonEl.style.display =\n",
              "          google.colab.kernel.accessAllowed ? 'block' : 'none';\n",
              "\n",
              "        async function convertToInteractive(key) {\n",
              "          const element = document.querySelector('#df-78a6de1a-4c2b-4030-bae7-b2ab8ed1e6e8');\n",
              "          const dataTable =\n",
              "            await google.colab.kernel.invokeFunction('convertToInteractive',\n",
              "                                                     [key], {});\n",
              "          if (!dataTable) return;\n",
              "\n",
              "          const docLinkHtml = 'Like what you see? Visit the ' +\n",
              "            '<a target=\"_blank\" href=https://colab.research.google.com/notebooks/data_table.ipynb>data table notebook</a>'\n",
              "            + ' to learn more about interactive tables.';\n",
              "          element.innerHTML = '';\n",
              "          dataTable['output_type'] = 'display_data';\n",
              "          await google.colab.output.renderOutput(dataTable, element);\n",
              "          const docLink = document.createElement('div');\n",
              "          docLink.innerHTML = docLinkHtml;\n",
              "          element.appendChild(docLink);\n",
              "        }\n",
              "      </script>\n",
              "    </div>\n",
              "  </div>\n",
              "  "
            ]
          },
          "metadata": {},
          "execution_count": 130
        }
      ],
      "source": [
        "df.head()"
      ]
    },
    {
      "cell_type": "code",
      "execution_count": 131,
      "metadata": {
        "colab": {
          "base_uri": "https://localhost:8080/"
        },
        "id": "CoiO6PohBg0v",
        "outputId": "9f0bb234-9888-4490-9334-707ff198d99c"
      },
      "outputs": [
        {
          "output_type": "execute_result",
          "data": {
            "text/plain": [
              "(1200, 5)"
            ]
          },
          "metadata": {},
          "execution_count": 131
        }
      ],
      "source": [
        "df.shape"
      ]
    },
    {
      "cell_type": "code",
      "execution_count": 132,
      "metadata": {
        "id": "Y5xZZnMLZFJB"
      },
      "outputs": [],
      "source": [
        "import matplotlib.pyplot as plt"
      ]
    },
    {
      "cell_type": "code",
      "execution_count": 133,
      "metadata": {
        "colab": {
          "base_uri": "https://localhost:8080/",
          "height": 932
        },
        "id": "TM7CFsvmGD2i",
        "outputId": "dc7c6b3b-bf2a-4252-cb50-179ca0fc3c24"
      },
      "outputs": [
        {
          "output_type": "execute_result",
          "data": {
            "text/plain": [
              "<matplotlib.axes._subplots.AxesSubplot at 0x7f2c0c2daa00>"
            ]
          },
          "metadata": {},
          "execution_count": 133
        },
        {
          "output_type": "display_data",
          "data": {
            "text/plain": [
              "<Figure size 1800x1800 with 2 Axes>"
            ],
            "image/png": "[encoded data removed]"
          },
          "metadata": {
            "needs_background": "light"
          }
        }
      ],
      "source": [
        "corr=df.corr()\n",
        "plt.figure(figsize=(25,25))\n",
        "sns.heatmap(corr , cbar=True, square= True, fmt='.1f', annot=True, annot_kws={'size':15}, cmap='Greens')"
      ]
    },
    {
      "cell_type": "code",
      "execution_count": 134,
      "metadata": {
        "colab": {
          "base_uri": "https://localhost:8080/"
        },
        "id": "z9vszoACIjjw",
        "outputId": "4a49896b-a533-4d19-e677-6ea42631279e"
      },
      "outputs": [
        {
          "output_type": "execute_result",
          "data": {
            "text/plain": [
              "Index(['TOC (%)', 'Moisture (%)', 'Temp (C)', 'Pres. (MPa)',\n",
              "       'CO2 Excess Sorption (cm3/gr)'],\n",
              "      dtype='object')"
            ]
          },
          "metadata": {},
          "execution_count": 134
        }
      ],
      "source": [
        "df.columns"
      ]
    },
    {
      "cell_type": "code",
      "execution_count": 135,
      "metadata": {
        "colab": {
          "base_uri": "https://localhost:8080/"
        },
        "id": "x3fnw-CNI6-t",
        "outputId": "a4b4b8dc-f6cf-4b58-a9fb-05cac699baab"
      },
      "outputs": [
        {
          "output_type": "execute_result",
          "data": {
            "text/plain": [
              "TOC (%)                         float64\n",
              "Moisture (%)                    float64\n",
              "Temp (C)                          int64\n",
              "Pres. (MPa)                     float64\n",
              "CO2 Excess Sorption (cm3/gr)    float64\n",
              "dtype: object"
            ]
          },
          "metadata": {},
          "execution_count": 135
        }
      ],
      "source": [
        "df.dtypes"
      ]
    },
    {
      "cell_type": "code",
      "execution_count": 136,
      "metadata": {
        "colab": {
          "base_uri": "https://localhost:8080/"
        },
        "id": "6oXdTfL2JLL2",
        "outputId": "52cfeeea-5753-4021-ccaa-3697ca2176ee"
      },
      "outputs": [
        {
          "output_type": "stream",
          "name": "stdout",
          "text": [
            "<class 'pandas.core.frame.DataFrame'>\n",
            "RangeIndex: 1200 entries, 0 to 1199\n",
            "Data columns (total 5 columns):\n",
            " #   Column                        Non-Null Count  Dtype  \n",
            "---  ------                        --------------  -----  \n",
            " 0   TOC (%)                       1200 non-null   float64\n",
            " 1   Moisture (%)                  1200 non-null   float64\n",
            " 2   Temp (C)                      1200 non-null   int64  \n",
            " 3   Pres. (MPa)                   1200 non-null   float64\n",
            " 4   CO2 Excess Sorption (cm3/gr)  1200 non-null   float64\n",
            "dtypes: float64(4), int64(1)\n",
            "memory usage: 47.0 KB\n"
          ]
        }
      ],
      "source": [
        "df.info()"
      ]
    },
    {
      "cell_type": "code",
      "execution_count": 137,
      "metadata": {
        "colab": {
          "base_uri": "https://localhost:8080/",
          "height": 300
        },
        "id": "YJN55BpjJTiL",
        "outputId": "e67b78fc-859f-4902-c0ec-4445700d739f"
      },
      "outputs": [
        {
          "output_type": "execute_result",
          "data": {
            "text/plain": [
              "           TOC (%)  Moisture (%)     Temp (C)  Pres. (MPa)  \\\n",
              "count  1200.000000   1200.000000  1200.000000  1200.000000   \n",
              "mean     11.946637      2.495300    48.523333     9.969668   \n",
              "std      21.084400      2.050286    19.675333     7.214140   \n",
              "min       0.090000      0.200000    30.000000     0.164000   \n",
              "25%       1.700000      0.680000    30.000000     5.233850   \n",
              "50%       5.150000      1.660000    45.000000     7.018250   \n",
              "75%      10.940000      4.000000    60.000000    14.900250   \n",
              "max      88.500000     10.970000   130.000000    27.861700   \n",
              "\n",
              "       CO2 Excess Sorption (cm3/gr)  \n",
              "count                   1200.000000  \n",
              "mean                       1.260853  \n",
              "std                        1.260792  \n",
              "min                        0.001600  \n",
              "25%                        0.300000  \n",
              "50%                        0.695720  \n",
              "75%                        1.720940  \n",
              "max                        5.360000  "
            ],
            "text/html": [
              "\n",
              "  <div id=\"df-535ee9d4-bd15-4014-ba81-cadf8090783a\">\n",
              "    <div class=\"colab-df-container\">\n",
              "      <div>\n",
              "<style scoped>\n",
              "    .dataframe tbody tr th:only-of-type {\n",
              "        vertical-align: middle;\n",
              "    }\n",
              "\n",
              "    .dataframe tbody tr th {\n",
              "        vertical-align: top;\n",
              "    }\n",
              "\n",
              "    .dataframe thead th {\n",
              "        text-align: right;\n",
              "    }\n",
              "</style>\n",
              "<table border=\"1\" class=\"dataframe\">\n",
              "  <thead>\n",
              "    <tr style=\"text-align: right;\">\n",
              "      <th></th>\n",
              "      <th>TOC (%)</th>\n",
              "      <th>Moisture (%)</th>\n",
              "      <th>Temp (C)</th>\n",
              "      <th>Pres. (MPa)</th>\n",
              "      <th>CO2 Excess Sorption (cm3/gr)</th>\n",
              "    </tr>\n",
              "  </thead>\n",
              "  <tbody>\n",
              "    <tr>\n",
              "      <th>count</th>\n",
              "      <td>1200.000000</td>\n",
              "      <td>1200.000000</td>\n",
              "      <td>1200.000000</td>\n",
              "      <td>1200.000000</td>\n",
              "      <td>1200.000000</td>\n",
              "    </tr>\n",
              "    <tr>\n",
              "      <th>mean</th>\n",
              "      <td>11.946637</td>\n",
              "      <td>2.495300</td>\n",
              "      <td>48.523333</td>\n",
              "      <td>9.969668</td>\n",
              "      <td>1.260853</td>\n",
              "    </tr>\n",
              "    <tr>\n",
              "      <th>std</th>\n",
              "      <td>21.084400</td>\n",
              "      <td>2.050286</td>\n",
              "      <td>19.675333</td>\n",
              "      <td>7.214140</td>\n",
              "      <td>1.260792</td>\n",
              "    </tr>\n",
              "    <tr>\n",
              "      <th>min</th>\n",
              "      <td>0.090000</td>\n",
              "      <td>0.200000</td>\n",
              "      <td>30.000000</td>\n",
              "      <td>0.164000</td>\n",
              "      <td>0.001600</td>\n",
              "    </tr>\n",
              "    <tr>\n",
              "      <th>25%</th>\n",
              "      <td>1.700000</td>\n",
              "      <td>0.680000</td>\n",
              "      <td>30.000000</td>\n",
              "      <td>5.233850</td>\n",
              "      <td>0.300000</td>\n",
              "    </tr>\n",
              "    <tr>\n",
              "      <th>50%</th>\n",
              "      <td>5.150000</td>\n",
              "      <td>1.660000</td>\n",
              "      <td>45.000000</td>\n",
              "      <td>7.018250</td>\n",
              "      <td>0.695720</td>\n",
              "    </tr>\n",
              "    <tr>\n",
              "      <th>75%</th>\n",
              "      <td>10.940000</td>\n",
              "      <td>4.000000</td>\n",
              "      <td>60.000000</td>\n",
              "      <td>14.900250</td>\n",
              "      <td>1.720940</td>\n",
              "    </tr>\n",
              "    <tr>\n",
              "      <th>max</th>\n",
              "      <td>88.500000</td>\n",
              "      <td>10.970000</td>\n",
              "      <td>130.000000</td>\n",
              "      <td>27.861700</td>\n",
              "      <td>5.360000</td>\n",
              "    </tr>\n",
              "  </tbody>\n",
              "</table>\n",
              "</div>\n",
              "      <button class=\"colab-df-convert\" onclick=\"convertToInteractive('df-535ee9d4-bd15-4014-ba81-cadf8090783a')\"\n",
              "              title=\"Convert this dataframe to an interactive table.\"\n",
              "              style=\"display:none;\">\n",
              "        \n",
              "  <svg xmlns=\"http://www.w3.org/2000/svg\" height=\"24px\"viewBox=\"0 0 24 24\"\n",
              "       width=\"24px\">\n",
              "    <path d=\"M0 0h24v24H0V0z\" fill=\"none\"/>\n",
              "    <path d=\"M18.56 5.44l.94 2.06.94-2.06 2.06-.94-2.06-.94-.94-2.06-.94 2.06-2.06.94zm-11 1L8.5 8.5l.94-2.06 2.06-.94-2.06-.94L8.5 2.5l-.94 2.06-2.06.94zm10 10l.94 2.06.94-2.06 2.06-.94-2.06-.94-.94-2.06-.94 2.06-2.06.94z\"/><path d=\"M17.41 7.96l-1.37-1.37c-.4-.4-.92-.59-1.43-.59-.52 0-1.04.2-1.43.59L10.3 9.45l-7.72 7.72c-.78.78-.78 2.05 0 2.83L4 21.41c.39.39.9.59 1.41.59.51 0 1.02-.2 1.41-.59l7.78-7.78 2.81-2.81c.8-.78.8-2.07 0-2.86zM5.41 20L4 18.59l7.72-7.72 1.47 1.35L5.41 20z\"/>\n",
              "  </svg>\n",
              "      </button>\n",
              "      \n",
              "  <style>\n",
              "    .colab-df-container {\n",
              "      display:flex;\n",
              "      flex-wrap:wrap;\n",
              "      gap: 12px;\n",
              "    }\n",
              "\n",
              "    .colab-df-convert {\n",
              "      background-color: #E8F0FE;\n",
              "      border: none;\n",
              "      border-radius: 50%;\n",
              "      cursor: pointer;\n",
              "      display: none;\n",
              "      fill: #1967D2;\n",
              "      height: 32px;\n",
              "      padding: 0 0 0 0;\n",
              "      width: 32px;\n",
              "    }\n",
              "\n",
              "    .colab-df-convert:hover {\n",
              "      background-color: #E2EBFA;\n",
              "      box-shadow: 0px 1px 2px rgba(60, 64, 67, 0.3), 0px 1px 3px 1px rgba(60, 64, 67, 0.15);\n",
              "      fill: #174EA6;\n",
              "    }\n",
              "\n",
              "    [theme=dark] .colab-df-convert {\n",
              "      background-color: #3B4455;\n",
              "      fill: #D2E3FC;\n",
              "    }\n",
              "\n",
              "    [theme=dark] .colab-df-convert:hover {\n",
              "      background-color: #434B5C;\n",
              "      box-shadow: 0px 1px 3px 1px rgba(0, 0, 0, 0.15);\n",
              "      filter: drop-shadow(0px 1px 2px rgba(0, 0, 0, 0.3));\n",
              "      fill: #FFFFFF;\n",
              "    }\n",
              "  </style>\n",
              "\n",
              "      <script>\n",
              "        const buttonEl =\n",
              "          document.querySelector('#df-535ee9d4-bd15-4014-ba81-cadf8090783a button.colab-df-convert');\n",
              "        buttonEl.style.display =\n",
              "          google.colab.kernel.accessAllowed ? 'block' : 'none';\n",
              "\n",
              "        async function convertToInteractive(key) {\n",
              "          const element = document.querySelector('#df-535ee9d4-bd15-4014-ba81-cadf8090783a');\n",
              "          const dataTable =\n",
              "            await google.colab.kernel.invokeFunction('convertToInteractive',\n",
              "                                                     [key], {});\n",
              "          if (!dataTable) return;\n",
              "\n",
              "          const docLinkHtml = 'Like what you see? Visit the ' +\n",
              "            '<a target=\"_blank\" href=https://colab.research.google.com/notebooks/data_table.ipynb>data table notebook</a>'\n",
              "            + ' to learn more about interactive tables.';\n",
              "          element.innerHTML = '';\n",
              "          dataTable['output_type'] = 'display_data';\n",
              "          await google.colab.output.renderOutput(dataTable, element);\n",
              "          const docLink = document.createElement('div');\n",
              "          docLink.innerHTML = docLinkHtml;\n",
              "          element.appendChild(docLink);\n",
              "        }\n",
              "      </script>\n",
              "    </div>\n",
              "  </div>\n",
              "  "
            ]
          },
          "metadata": {},
          "execution_count": 137
        }
      ],
      "source": [
        "df.describe()"
      ]
    },
    {
      "cell_type": "code",
      "execution_count": 138,
      "metadata": {
        "id": "g1ao96PlBGrA"
      },
      "outputs": [],
      "source": [
        "y=df['CO2 Excess Sorption (cm3/gr)']"
      ]
    },
    {
      "cell_type": "code",
      "execution_count": 139,
      "metadata": {
        "colab": {
          "base_uri": "https://localhost:8080/"
        },
        "id": "nFSkFM-e0tJ-",
        "outputId": "aea0aee7-f124-4a0c-ee64-618276b10b6e"
      },
      "outputs": [
        {
          "output_type": "execute_result",
          "data": {
            "text/plain": [
              "0       0.0468\n",
              "1       0.0842\n",
              "2       0.1186\n",
              "3       0.2246\n",
              "4       0.3682\n",
              "         ...  \n",
              "1195    1.4600\n",
              "1196    1.9500\n",
              "1197    2.1700\n",
              "1198    2.2600\n",
              "1199    2.3000\n",
              "Name: CO2 Excess Sorption (cm3/gr), Length: 1200, dtype: float64"
            ]
          },
          "metadata": {},
          "execution_count": 139
        }
      ],
      "source": [
        "y"
      ]
    },
    {
      "cell_type": "code",
      "execution_count": 140,
      "metadata": {
        "id": "Is7VyF7n_fLU"
      },
      "outputs": [],
      "source": [
        "X = df[['TOC (%)','Temp (C)','Moisture (%)','Pres. (MPa)',]].values"
      ]
    },
    {
      "cell_type": "code",
      "execution_count": 141,
      "metadata": {
        "colab": {
          "base_uri": "https://localhost:8080/"
        },
        "id": "jUXkvR-YCllZ",
        "outputId": "89c5be03-1acd-4ecf-91fe-536c5732e83d"
      },
      "outputs": [
        {
          "output_type": "execute_result",
          "data": {
            "text/plain": [
              "array([[ 1.66  , 50.    ,  1.42  ,  0.4413],\n",
              "       [ 1.66  , 50.    ,  1.42  ,  0.9308],\n",
              "       [ 1.66  , 50.    ,  1.42  ,  1.4617],\n",
              "       ...,\n",
              "       [ 4.76  , 70.    ,  1.5   ,  6.21  ],\n",
              "       [ 4.76  , 70.    ,  1.5   ,  8.67  ],\n",
              "       [ 4.76  , 70.    ,  1.5   , 10.94  ]])"
            ]
          },
          "metadata": {},
          "execution_count": 141
        }
      ],
      "source": [
        "X"
      ]
    },
    {
      "cell_type": "code",
      "execution_count": 142,
      "metadata": {
        "id": "T8v5E_k4Clpa"
      },
      "outputs": [],
      "source": [
        "X_train, X_test , y_train , y_test = train_test_split(X,y,test_size=0.20,random_state=26)"
      ]
    },
    {
      "cell_type": "code",
      "source": [
        " y_test"
      ],
      "metadata": {
        "colab": {
          "base_uri": "https://localhost:8080/"
        },
        "id": "KRc2ixm67Lnt",
        "outputId": "eb408924-68c6-4c39-aa1b-3e54921d8ea5"
      },
      "execution_count": 143,
      "outputs": [
        {
          "output_type": "execute_result",
          "data": {
            "text/plain": [
              "970    0.238400\n",
              "568    0.746137\n",
              "766    3.383213\n",
              "110    0.040600\n",
              "350    0.900000\n",
              "         ...   \n",
              "936    3.978579\n",
              "639    1.314027\n",
              "385    0.430000\n",
              "761    3.057582\n",
              "573    0.696059\n",
              "Name: CO2 Excess Sorption (cm3/gr), Length: 240, dtype: float64"
            ]
          },
          "metadata": {},
          "execution_count": 143
        }
      ]
    },
    {
      "cell_type": "code",
      "source": [
        "X_test"
      ],
      "metadata": {
        "colab": {
          "base_uri": "https://localhost:8080/"
        },
        "id": "EyTvzJ4z5B4F",
        "outputId": "20aec638-f951-461b-e2c9-b870558d5fd2"
      },
      "execution_count": 144,
      "outputs": [
        {
          "output_type": "execute_result",
          "data": {
            "text/plain": [
              "array([[ 62.2       ,  61.        ,   6.4       ,   7.91      ],\n",
              "       [  3.98      ,  45.        ,   0.25      ,  18.012     ],\n",
              "       [ 10.94      ,  70.        ,   2.65      ,  13.84997887],\n",
              "       [  0.45      ,  80.        ,   0.61      ,   1.4962    ],\n",
              "       [  3.46      ,  30.        ,   5.51      ,   6.        ],\n",
              "       [  1.72      ,  30.        ,   2.62      ,   6.        ],\n",
              "       [ 10.94      ,  45.        ,   0.39      ,  14.313     ],\n",
              "       [  5.15      ,  30.        ,   6.94      ,   6.1761    ],\n",
              "       [  5.79      ,  45.        ,   0.41      ,   5.102     ],\n",
              "       [  5.41      ,  45.        ,   0.3       ,   3.473     ],\n",
              "       [  5.41      ,  45.        ,   1.81      ,  20.902     ],\n",
              "       [ 10.94      , 100.        ,   2.65      ,  15.38228783],\n",
              "       [  5.7       ,  38.        ,   2.8       ,  21.7095    ],\n",
              "       [  1.91      ,  30.        ,   3.63      ,   6.        ],\n",
              "       [ 10.94      , 130.        ,   2.65      ,  15.5253222 ],\n",
              "       [  1.81      ,  30.        ,   2.97      ,   6.        ],\n",
              "       [  5.41      ,  45.        ,   0.41      ,  24.813     ],\n",
              "       [  2.34      ,  30.        ,   6.52      ,   0.5636    ],\n",
              "       [ 15.91      ,  45.        ,   0.4       ,  22.05      ],\n",
              "       [  3.04      ,  30.        ,   4.87      ,   6.        ],\n",
              "       [ 10.94      ,  45.        ,   0.39      ,   5.67      ],\n",
              "       [  0.59      ,  51.        ,   1.12      ,   5.7227    ],\n",
              "       [  0.75      ,  38.        ,   0.59      ,   3.3026    ],\n",
              "       [  5.7       ,  38.        ,   2.8       ,  19.3646    ],\n",
              "       [  3.98      ,  45.        ,   0.76      ,   9.29      ],\n",
              "       [  4.76      ,  60.        ,   1.5       ,   0.38      ],\n",
              "       [ 74.4       ,  61.        ,   4.        ,   6.54      ],\n",
              "       [ 74.4       ,  61.        ,   4.        ,   1.44      ],\n",
              "       [ 88.5       ,  61.        ,   4.8       ,   6.14      ],\n",
              "       [  5.41      ,  45.        ,   0.41      ,  10.939     ],\n",
              "       [  5.29      ,  62.        ,   1.5       ,   5.89      ],\n",
              "       [  0.44      ,  50.        ,   0.66      ,  20.4154    ],\n",
              "       [  0.56      ,  30.        ,   2.34      ,   6.        ],\n",
              "       [  4.76      ,  30.        ,   1.5       ,   8.67      ],\n",
              "       [  2.34      ,  30.        ,   6.52      ,   5.2       ],\n",
              "       [  0.38      ,  38.        ,   1.87      ,   0.2689    ],\n",
              "       [  4.76      ,  70.        ,   1.5       ,  10.94      ],\n",
              "       [  3.98      ,  45.        ,   0.25      ,  13.622     ],\n",
              "       [  1.64      ,  30.        ,   4.37      ,   0.82      ],\n",
              "       [  1.51      ,  45.        ,   0.6       ,   9.1423    ],\n",
              "       [  4.82      ,  30.        ,   5.31      ,   6.        ],\n",
              "       [ 74.4       ,  61.        ,   4.        ,  14.3       ],\n",
              "       [  3.98      ,  45.        ,   0.3       ,  18.707     ],\n",
              "       [  4.76      ,  40.        ,   1.5       ,   8.67      ],\n",
              "       [ 62.2       ,  61.        ,   6.4       ,   6.03      ],\n",
              "       [ 10.94      , 130.        ,   2.65      ,  13.35470299],\n",
              "       [  6.7       ,  38.        ,   3.3       ,  11.6385    ],\n",
              "       [  7.18      ,  30.        ,   4.48      ,   6.        ],\n",
              "       [  7.18      ,  30.        ,   4.48      ,   7.1636    ],\n",
              "       [ 10.94      ,  45.        ,   0.39      ,   2.63      ],\n",
              "       [  3.98      ,  45.        ,   0.3       ,   6.154     ],\n",
              "       [ 10.94      , 100.        ,   2.65      ,  19.49166741],\n",
              "       [ 74.4       ,  61.        ,   4.        ,   9.88      ],\n",
              "       [  1.68      ,  30.        ,   3.35      ,   6.        ],\n",
              "       [  1.75      ,  30.        ,   6.36      ,   6.        ],\n",
              "       [  5.41      ,  45.        ,   0.41      ,  23.344     ],\n",
              "       [  0.59      ,  51.        ,   1.12      ,   0.8274    ],\n",
              "       [  1.51      ,  45.        ,   0.6       ,  11.2711    ],\n",
              "       [  1.51      ,  45.        ,   1.59      ,  10.408     ],\n",
              "       [ 74.4       ,  61.        ,   4.        ,  11.27      ],\n",
              "       [  1.66      ,  50.        ,   1.42      ,   5.7158    ],\n",
              "       [  5.41      ,  45.        ,   0.3       ,  15.521     ],\n",
              "       [  3.28      ,  60.        ,   1.5       ,  20.22      ],\n",
              "       [  1.65      ,  30.        ,   5.1       ,   6.        ],\n",
              "       [ 62.2       ,  61.        ,   6.4       ,  11.21      ],\n",
              "       [  5.79      ,  45.        ,   0.36      ,   9.921     ],\n",
              "       [  5.41      ,  45.        ,   1.81      ,  11.018     ],\n",
              "       [  0.81      ,  30.        ,   4.98      ,   6.2126    ],\n",
              "       [  5.79      ,  45.        ,   1.34      ,  14.702     ],\n",
              "       [ 10.94      ,  45.        ,   0.68      ,  14.279     ],\n",
              "       [  0.81      ,  30.        ,   4.98      ,   3.3522    ],\n",
              "       [  1.73      ,  67.        ,   0.55      ,  13.1207    ],\n",
              "       [  2.34      ,  67.        ,   1.72      ,  15.2374    ],\n",
              "       [  1.51      ,  45.        ,   1.59      ,  21.718     ],\n",
              "       [  1.51      ,  45.        ,   1.59      ,   4.797     ],\n",
              "       [  6.84      ,  30.        ,   5.24      ,   4.2449    ],\n",
              "       [  5.32      ,  30.        ,   8.95      ,   6.        ],\n",
              "       [ 10.94      , 130.        ,   2.65      ,  10.67342095],\n",
              "       [  5.79      ,  45.        ,   0.36      ,  21.489     ],\n",
              "       [  2.59      ,  30.        ,   7.53      ,   6.        ],\n",
              "       [  5.79      ,  45.        ,   0.41      ,  24.866     ],\n",
              "       [  1.57      ,  30.        ,   4.51      ,   6.        ],\n",
              "       [  6.7       ,  38.        ,   3.3       ,  19.4444    ],\n",
              "       [  3.98      ,  45.        ,   0.3       ,   7.638     ],\n",
              "       [ 74.4       ,  61.        ,   4.        ,   8.55      ],\n",
              "       [  2.19      ,  30.        ,   5.12      ,   6.        ],\n",
              "       [ 74.4       ,  61.        ,   4.        ,  10.25      ],\n",
              "       [  1.64      ,  30.        ,   4.37      ,   1.6766    ],\n",
              "       [ 88.5       ,  61.        ,   4.8       ,   1.97      ],\n",
              "       [  4.48      ,  38.        ,   0.77      ,   0.8136    ],\n",
              "       [  0.45      ,  80.        ,   0.61      ,   8.7081    ],\n",
              "       [  5.79      ,  45.        ,   1.34      ,  14.046     ],\n",
              "       [  5.41      ,  45.        ,   1.81      ,   4.956     ],\n",
              "       [  1.66      ,  50.        ,   1.42      ,   8.5978    ],\n",
              "       [  3.28      ,  60.        ,   1.5       ,  13.25      ],\n",
              "       [  2.03      ,  30.        ,   6.3       ,   6.        ],\n",
              "       [  4.76      ,  30.        ,   1.5       ,   2.21      ],\n",
              "       [ 88.5       ,  61.        ,   4.8       ,   0.95      ],\n",
              "       [  5.15      ,  70.        ,   1.5       ,   0.36      ],\n",
              "       [ 74.4       ,  61.        ,   4.        ,  12.2       ],\n",
              "       [  5.41      ,  45.        ,   1.81      ,  26.966     ],\n",
              "       [  5.29      ,  62.        ,   1.5       ,   3.13      ],\n",
              "       [ 74.4       ,  61.        ,   4.        ,  13.26      ],\n",
              "       [ 74.4       ,  61.        ,   4.        ,  12.35      ],\n",
              "       [  1.51      ,  45.        ,   0.6       ,  10.2711    ],\n",
              "       [  5.7       ,  38.        ,   2.8       ,   5.7867    ],\n",
              "       [  5.79      ,  45.        ,   0.41      ,  21.751     ],\n",
              "       [  0.38      ,  38.        ,   1.87      ,   3.1647    ],\n",
              "       [ 15.91      ,  45.        ,   0.4       ,   3.125     ],\n",
              "       [  1.73      ,  67.        ,   0.55      ,  27.6618    ],\n",
              "       [  5.79      ,  45.        ,   1.34      ,  22.241     ],\n",
              "       [  4.05      ,  57.        ,   1.5       ,  20.22      ],\n",
              "       [  4.76      ,  40.        ,   1.5       ,  10.83      ],\n",
              "       [ 15.91      ,  45.        ,   1.66      ,  20.401     ],\n",
              "       [ 10.94      , 130.        ,   2.65      ,  20.44441552],\n",
              "       [  5.79      ,  45.        ,   0.36      ,  13.439     ],\n",
              "       [ 15.91      ,  45.        ,   1.66      ,  13.525     ],\n",
              "       [  1.11      ,  54.        ,   1.5       ,   3.13      ],\n",
              "       [ 88.5       ,  61.        ,   4.8       ,   9.86      ],\n",
              "       [  1.51      ,  45.        ,   0.74      ,  20.591     ],\n",
              "       [  2.13      ,  30.        ,   6.54      ,   6.        ],\n",
              "       [ 15.91      ,  45.        ,   0.62      ,  19.359     ],\n",
              "       [  0.38      ,  38.        ,   1.87      ,   9.0115    ],\n",
              "       [  6.84      ,  30.        ,   5.24      ,   6.        ],\n",
              "       [ 10.94      , 130.        ,   2.65      ,  14.00916314],\n",
              "       [  6.01      ,  53.        ,   1.5       ,  20.22      ],\n",
              "       [  5.7       ,  38.        ,   2.8       ,   1.7398    ],\n",
              "       [ 62.2       ,  61.        ,   6.4       ,  15.42      ],\n",
              "       [ 10.94      ,  45.        ,   0.39      ,  16.993     ],\n",
              "       [ 62.2       ,  61.        ,   6.4       ,  16.58      ],\n",
              "       [  4.        ,  30.        ,   5.34      ,   6.        ],\n",
              "       [  6.7       ,  38.        ,   3.3       ,   4.1843    ],\n",
              "       [  7.18      ,  30.        ,   4.48      ,   4.2909    ],\n",
              "       [  6.7       ,  38.        ,   3.3       ,  20.6751    ],\n",
              "       [  2.84      ,  72.        ,   0.92      ,   2.9647    ],\n",
              "       [ 10.94      ,  45.        ,   0.68      ,  16.636     ],\n",
              "       [  4.48      ,  38.        ,   0.77      ,  11.3832    ],\n",
              "       [ 10.94      ,  45.        ,   0.68      ,   2.659     ],\n",
              "       [  4.48      ,  38.        ,   0.77      ,   1.2893    ],\n",
              "       [  2.84      ,  72.        ,   0.92      ,  21.6909    ],\n",
              "       [  5.79      ,  45.        ,   0.41      ,  25.15      ],\n",
              "       [  3.25      ,  38.        ,   1.47      ,   0.6688    ],\n",
              "       [  5.79      ,  45.        ,   0.41      ,  16.045     ],\n",
              "       [  5.15      ,  30.        ,   1.5       ,   8.67      ],\n",
              "       [  5.79      ,  45.        ,   0.41      ,  23.564     ],\n",
              "       [ 74.4       ,  61.        ,   4.        ,   9.88      ],\n",
              "       [ 15.91      ,  45.        ,   1.66      ,  22.577     ],\n",
              "       [  1.28      ,  30.        ,   5.48      ,   6.        ],\n",
              "       [ 88.5       ,  61.        ,   4.8       ,  10.83      ],\n",
              "       [  6.05      ,  30.        ,   7.34      ,   2.7692    ],\n",
              "       [  1.64      ,  30.        ,   4.37      ,   6.        ],\n",
              "       [  1.58      ,  30.        ,   4.01      ,   6.        ],\n",
              "       [ 88.5       ,  61.        ,   4.8       ,  11.91      ],\n",
              "       [  5.41      ,  45.        ,   1.81      ,   8.428     ],\n",
              "       [ 10.16      ,  30.        ,   2.63      ,   1.2141    ],\n",
              "       [ 74.4       ,  61.        ,   4.        ,   4.51      ],\n",
              "       [  1.51      ,  45.        ,   1.59      ,  20.91      ],\n",
              "       [  1.92      ,  30.        ,   3.73      ,   6.        ],\n",
              "       [ 62.2       ,  61.        ,   6.4       ,  10.9       ],\n",
              "       [  1.51      ,  45.        ,   0.74      ,   9.147     ],\n",
              "       [  3.25      ,  38.        ,   1.47      ,   7.9152    ],\n",
              "       [  7.18      ,  30.        ,   4.48      ,   5.2364    ],\n",
              "       [  1.51      ,  45.        ,   0.74      ,  24.283     ],\n",
              "       [ 10.94      , 130.        ,   2.65      ,  24.85945611],\n",
              "       [ 10.94      , 100.        ,   2.65      ,   5.64109749],\n",
              "       [  3.98      ,  45.        ,   0.3       ,  12.142     ],\n",
              "       [  1.11      ,  54.        ,   1.5       ,  20.22      ],\n",
              "       [  0.75      ,  38.        ,   0.59      ,   0.4068    ],\n",
              "       [ 10.94      , 130.        ,   2.65      ,  12.65424676],\n",
              "       [  1.51      ,  45.        ,   1.59      ,   1.781     ],\n",
              "       [ 10.94      ,  45.        ,   0.68      ,  10.175     ],\n",
              "       [  5.79      ,  45.        ,   0.41      ,  10.98      ],\n",
              "       [  5.29      ,  62.        ,   1.5       ,  20.22      ],\n",
              "       [  4.05      ,  57.        ,   1.5       ,   3.13      ],\n",
              "       [  1.29      ,  72.        ,   0.26      ,   5.7985    ],\n",
              "       [  1.68      ,  30.        ,   2.52      ,   6.        ],\n",
              "       [  1.7       ,  30.        ,   4.62      ,   6.        ],\n",
              "       [  4.76      ,  60.        ,   1.5       ,   2.21      ],\n",
              "       [ 10.94      ,  70.        ,   2.65      ,  25.12482476],\n",
              "       [  1.01      ,  30.        ,   4.48      ,   6.        ],\n",
              "       [  5.79      ,  45.        ,   0.36      ,  17.344     ],\n",
              "       [  5.15      ,  70.        ,   1.5       ,   4.28      ],\n",
              "       [  1.42      ,  30.        ,   6.55      ,   6.        ],\n",
              "       [  0.75      ,  38.        ,   0.59      ,  15.527     ],\n",
              "       [  1.91      ,  30.        ,   3.57      ,   6.        ],\n",
              "       [  3.98      ,  45.        ,   0.3       ,  14.753     ],\n",
              "       [  1.64      ,  30.        ,   4.37      ,   6.1607    ],\n",
              "       [  2.07      ,  30.        ,   5.63      ,   6.        ],\n",
              "       [ 10.94      , 100.        ,   2.65      ,  17.79605431],\n",
              "       [ 15.91      ,  45.        ,   0.62      ,   5.13      ],\n",
              "       [  1.64      ,  30.        ,   4.37      ,   1.2392    ],\n",
              "       [ 88.5       ,  61.        ,   4.8       ,   7.18      ],\n",
              "       [  5.15      ,  30.        ,   6.94      ,   0.672     ],\n",
              "       [  1.51      ,  45.        ,   0.74      ,  15.911     ],\n",
              "       [ 88.5       ,  61.        ,   4.8       ,   6.83      ],\n",
              "       [  5.41      ,  45.        ,   0.41      ,   6.006     ],\n",
              "       [ 15.91      ,  45.        ,   0.4       ,  24.497     ],\n",
              "       [  0.75      ,  38.        ,   0.59      ,   7.5567    ],\n",
              "       [ 10.94      , 100.        ,   2.65      ,  24.91354546],\n",
              "       [  1.3       ,  30.        ,   8.59      ,   6.        ],\n",
              "       [  1.73      ,  67.        ,   0.55      ,   1.6203    ],\n",
              "       [  1.38      ,  30.        ,   5.62      ,   6.        ],\n",
              "       [ 15.91      ,  45.        ,   0.62      ,  22.885     ],\n",
              "       [  6.11      ,  64.        ,   1.5       ,   5.89      ],\n",
              "       [  0.38      ,  38.        ,   1.87      ,   2.5511    ],\n",
              "       [  4.76      ,  40.        ,   1.5       ,   6.21      ],\n",
              "       [ 10.94      , 100.        ,   2.65      ,  25.98226189],\n",
              "       [  5.41      ,  45.        ,   0.41      ,  10.084     ],\n",
              "       [  5.15      ,  30.        ,   6.94      ,   1.0533    ],\n",
              "       [ 88.5       ,  61.        ,   4.8       ,   7.96      ],\n",
              "       [  3.06792021,  30.        ,   5.9       ,   6.        ],\n",
              "       [  3.98      ,  45.        ,   0.3       ,   9.        ],\n",
              "       [  6.05      ,  30.        ,   7.34      ,   5.4838    ],\n",
              "       [  1.15      ,  30.        ,   5.36      ,   6.        ],\n",
              "       [ 74.4       ,  61.        ,   4.        ,   1.41      ],\n",
              "       [  2.34      ,  67.        ,   1.72      ,   0.4413    ],\n",
              "       [  1.73      ,  67.        ,   0.55      ,   9.2045    ],\n",
              "       [ 62.2       ,  61.        ,   6.4       ,   1.46      ],\n",
              "       [ 10.16      ,  30.        ,   2.63      ,   0.1812    ],\n",
              "       [  4.76      ,  30.        ,   1.5       ,  10.94      ],\n",
              "       [  0.91      ,  60.        ,   1.5       ,   3.13      ],\n",
              "       [  2.37      ,  30.        ,   4.04      ,   6.        ],\n",
              "       [  4.51      ,  30.        ,   6.71      ,   6.        ],\n",
              "       [  3.98      ,  45.        ,   0.76      ,  21.885     ],\n",
              "       [  6.05      ,  30.        ,   7.34      ,   1.1842    ],\n",
              "       [ 10.94      ,  70.        ,   2.65      ,   1.22737565],\n",
              "       [  1.96      ,  30.        ,   3.36      ,   6.        ],\n",
              "       [  4.03      ,  85.        ,   0.26      ,   3.1716    ],\n",
              "       [ 62.2       ,  61.        ,   6.4       ,   5.15      ],\n",
              "       [ 15.91      ,  45.        ,   1.66      ,  21.533     ],\n",
              "       [  0.75      ,  38.        ,   0.59      ,   2.6959    ],\n",
              "       [ 10.94      , 100.        ,   2.65      ,  24.32391839],\n",
              "       [  2.34      ,  30.        ,   6.52      ,   6.1818    ],\n",
              "       [  4.05      ,  57.        ,   1.5       ,   5.89      ],\n",
              "       [  5.41      ,  45.        ,   1.81      ,  17.31      ],\n",
              "       [ 15.91      ,  45.        ,   0.62      ,  15.762     ],\n",
              "       [  5.79      ,  45.        ,   0.41      ,   1.618     ],\n",
              "       [  1.74      ,  30.        ,   2.35      ,   6.        ],\n",
              "       [ 10.94      ,  70.        ,   2.65      ,   7.90896477],\n",
              "       [  3.98      ,  45.        ,   0.25      ,  24.185     ]])"
            ]
          },
          "metadata": {},
          "execution_count": 144
        }
      ]
    },
    {
      "cell_type": "code",
      "execution_count": 145,
      "metadata": {
        "colab": {
          "base_uri": "https://localhost:8080/"
        },
        "id": "GIIKleAuKycJ",
        "outputId": "258f7602-407c-4d6f-ab97-d3e06968990a"
      },
      "outputs": [
        {
          "output_type": "execute_result",
          "data": {
            "text/plain": [
              "array([[  4.76      ,  60.        ,   1.5       ,   8.67      ],\n",
              "       [ 10.94      ,  45.        ,   0.39      ,   4.205     ],\n",
              "       [  1.51      ,  45.        ,   0.74      ,   5.448     ],\n",
              "       ...,\n",
              "       [  6.11      ,  64.        ,   1.5       ,  20.22      ],\n",
              "       [  4.05      ,  57.        ,   1.5       ,   9.57      ],\n",
              "       [ 10.94      , 130.        ,   2.65      ,  19.01113305]])"
            ]
          },
          "metadata": {},
          "execution_count": 145
        }
      ],
      "source": [
        "X_train"
      ]
    },
    {
      "cell_type": "code",
      "source": [
        "y_train"
      ],
      "metadata": {
        "colab": {
          "base_uri": "https://localhost:8080/"
        },
        "id": "h6EE4qJ5o419",
        "outputId": "6102df52-b381-4ccd-dced-1b7799c85295"
      },
      "execution_count": 146,
      "outputs": [
        {
          "output_type": "execute_result",
          "data": {
            "text/plain": [
              "1191    2.590000\n",
              "692     3.051496\n",
              "513     0.152777\n",
              "489     1.329100\n",
              "580     0.461797\n",
              "          ...   \n",
              "941     3.991722\n",
              "160     0.265200\n",
              "1101    4.780000\n",
              "1126    2.950000\n",
              "821     2.304704\n",
              "Name: CO2 Excess Sorption (cm3/gr), Length: 960, dtype: float64"
            ]
          },
          "metadata": {},
          "execution_count": 146
        }
      ]
    },
    {
      "cell_type": "markdown",
      "metadata": {
        "id": "4b3YMARsEbJu"
      },
      "source": []
    },
    {
      "cell_type": "code",
      "execution_count": 147,
      "metadata": {
        "id": "geW_S9HrBnir"
      },
      "outputs": [],
      "source": [
        "from sklearn.preprocessing import MinMaxScaler\n",
        "sc = MinMaxScaler()\n",
        "X_train[:, :] = sc.fit_transform(X_train[:, :])\n",
        "X_test[:, :] = sc.transform(X_test[:, :])"
      ]
    },
    {
      "cell_type": "code",
      "execution_count": 148,
      "metadata": {
        "colab": {
          "base_uri": "https://localhost:8080/"
        },
        "id": "w3l8THdoazLx",
        "outputId": "67029431-7707-47fe-b67d-dc7f8982f4f1"
      },
      "outputs": [
        {
          "output_type": "execute_result",
          "data": {
            "text/plain": [
              "array([[0.05282208, 0.3       , 0.12070566, 0.30710131],\n",
              "       [0.12272367, 0.15      , 0.0176416 , 0.14589659],\n",
              "       [0.01606153, 0.15      , 0.05013928, 0.19077396],\n",
              "       ...,\n",
              "       [0.06809184, 0.34      , 0.12070566, 0.72410345],\n",
              "       [0.04479131, 0.27      , 0.12070566, 0.33959498],\n",
              "       [0.12272367, 1.        , 0.22748375, 0.68045842]])"
            ]
          },
          "metadata": {},
          "execution_count": 148
        }
      ],
      "source": [
        "X_train"
      ]
    },
    {
      "cell_type": "code",
      "execution_count": 149,
      "metadata": {
        "colab": {
          "base_uri": "https://localhost:8080/"
        },
        "id": "ApPS3yW_Clro",
        "outputId": "b5d53151-e2e7-4833-f515-e537f6dab8a1"
      },
      "outputs": [
        {
          "output_type": "stream",
          "name": "stdout",
          "text": [
            "(960, 4)\n",
            "(240, 4)\n"
          ]
        }
      ],
      "source": [
        "print(X_train.shape)\n",
        "print(X_test.shape)"
      ]
    },
    {
      "cell_type": "code",
      "source": [
        "from tensorflow.keras.losses import MeanSquaredLogarithmicError\n",
        "import tensorflow as tf\n",
        "import kerastuner as kt\n",
        "msle = MeanSquaredLogarithmicError()\n",
        "def build_model(hp):\n",
        "  model = tf.keras.Sequential()\n",
        "  \n"
      ],
      "metadata": {
        "id": "i5viFgx2SGC8"
      },
      "execution_count": 150,
      "outputs": []
    },
    {
      "cell_type": "code",
      "source": [
        "from kerastuner import HyperModel\n",
        "\n",
        "\n",
        "class ANNHyperModel(HyperModel):\n",
        "    \n",
        "    def build(self, hp):\n",
        "      model = tf.keras.Sequential()\n",
        "      # Tune the number of units in the first Dense layer\n",
        "      # Choose an optimal value between 8-2048\n",
        "      hp_units1 = hp.Int('units1', min_value=8, max_value=2048, step=32)\n",
        "      hp_units2 = hp.Int('units2', min_value=8, max_value=2048, step=32)\n",
        "      hp_units3 = hp.Int('units3', min_value=8, max_value=2048, step=32)\n",
        "      hp_units4 = hp.Int('units3', min_value=8, max_value=2048, step=32)\n",
        "      hp_units5 = hp.Int('units3', min_value=8, max_value=2048, step=32)\n",
        "      hp_units6 = hp.Int('units3', min_value=8, max_value=2048, step=32)\n",
        "      \n",
        "\n",
        "      model.add(Dense(units=hp_units1, activation='relu'))\n",
        "      model.add(tf.keras.layers.Dense(units=hp_units2, activation='relu'))\n",
        "      model.add(tf.keras.layers.Dense(units=hp_units3, activation='relu'))\n",
        "      model.add(tf.keras.layers.Dense(units=hp_units4, activation='relu'))\n",
        "      model.add(tf.keras.layers.Dense(units=hp_units5, activation='relu'))\n",
        "      model.add(tf.keras.layers.Dense(units=hp_units6, activation='relu'))\n",
        "     \n",
        "      \n",
        "      model.add(Dense(1, kernel_initializer='normal', activation='linear'))\n",
        "\n",
        "      # Tune the learning rate for the optimizer\n",
        "      # Choose an optimal value from 0.01, 0.001, or 0.0001\n",
        "      hp_learning_rate = hp.Choice('learning_rate', values=[1e-2, 1e-3, 1e-4])\n",
        "\n",
        "      model.compile(\n",
        "          optimizer=tf.keras.optimizers.Adam(learning_rate=hp_learning_rate),\n",
        "          loss=msle,\n",
        "          metrics=[msle]\n",
        "      )\n",
        "\n",
        "      return model\n",
        "\n",
        "hypermodel = ANNHyperModel()\n",
        "\n",
        "tuner = kt.Hyperband(\n",
        "    hypermodel,\n",
        "    objective='val_mean_squared_logarithmic_error',\n",
        "    max_epochs=30,\n",
        "    factor=3,\n",
        "    directory='keras_tuner_dir',\n",
        "    project_name='keras_tuner_demo2'\n",
        ")\n",
        "\n",
        "tuner.search(X_train, y_train, epochs=30, validation_split=0.2)"
      ],
      "metadata": {
        "id": "tnVOIJ3pXxvl"
      },
      "execution_count": 151,
      "outputs": []
    },
    {
      "cell_type": "code",
      "source": [
        "for h_param in [f\"units{i}\" for i in range(1,4)] + ['learning_rate']:\n",
        "  print(h_param, tuner.get_best_hyperparameters()[0].get(h_param))\n",
        " \n"
      ],
      "metadata": {
        "colab": {
          "base_uri": "https://localhost:8080/"
        },
        "id": "dnsq_YrOVqTJ",
        "outputId": "ddd96c0f-bbcd-498d-8d5d-2e81cc38b666"
      },
      "execution_count": 152,
      "outputs": [
        {
          "output_type": "stream",
          "name": "stdout",
          "text": [
            "units1 712\n",
            "units2 168\n",
            "units3 1928\n",
            "learning_rate 0.001\n"
          ]
        }
      ]
    },
    {
      "cell_type": "code",
      "source": [
        "best_model = tuner.get_best_models()[0]\n",
        "best_model.build(X_train.shape)\n"
      ],
      "metadata": {
        "id": "vLAwSyi8V2sc"
      },
      "execution_count": 153,
      "outputs": []
    },
    {
      "cell_type": "code",
      "source": [
        "best_model.summary()"
      ],
      "metadata": {
        "colab": {
          "base_uri": "https://localhost:8080/"
        },
        "id": "k3j6J5rTWg8R",
        "outputId": "81853776-a47d-45ee-8460-ed64da10fa04"
      },
      "execution_count": 154,
      "outputs": [
        {
          "output_type": "stream",
          "name": "stdout",
          "text": [
            "Model: \"sequential\"\n",
            "_________________________________________________________________\n",
            " Layer (type)                Output Shape              Param #   \n",
            "=================================================================\n",
            " dense (Dense)               (960, 712)                3560      \n",
            "                                                                 \n",
            " dense_1 (Dense)             (960, 168)                119784    \n",
            "                                                                 \n",
            " dense_2 (Dense)             (960, 1928)               325832    \n",
            "                                                                 \n",
            " dense_3 (Dense)             (960, 1928)               3719112   \n",
            "                                                                 \n",
            " dense_4 (Dense)             (960, 1928)               3719112   \n",
            "                                                                 \n",
            " dense_5 (Dense)             (960, 1928)               3719112   \n",
            "                                                                 \n",
            " dense_6 (Dense)             (960, 1)                  1929      \n",
            "                                                                 \n",
            "=================================================================\n",
            "Total params: 11,608,441\n",
            "Trainable params: 11,608,441\n",
            "Non-trainable params: 0\n",
            "_________________________________________________________________\n"
          ]
        }
      ]
    },
    {
      "cell_type": "code",
      "source": [
        "best_model.fit(\n",
        "    X_train, \n",
        "    y_train,\n",
        "    epochs=30,\n",
        "    batch_size=64)"
      ],
      "metadata": {
        "colab": {
          "base_uri": "https://localhost:8080/"
        },
        "id": "LNdqWhOYWLro",
        "outputId": "42e51e2a-cbbd-4e6b-f348-79dc6bf377aa"
      },
      "execution_count": 155,
      "outputs": [
        {
          "output_type": "stream",
          "name": "stdout",
          "text": [
            "Epoch 1/30\n",
            "15/15 [==============================] - 1s 6ms/step - loss: 0.0140 - mean_squared_logarithmic_error: 0.0140\n",
            "Epoch 2/30\n",
            "15/15 [==============================] - 0s 6ms/step - loss: 0.0123 - mean_squared_logarithmic_error: 0.0123\n",
            "Epoch 3/30\n",
            "15/15 [==============================] - 0s 6ms/step - loss: 0.0106 - mean_squared_logarithmic_error: 0.0106\n",
            "Epoch 4/30\n",
            "15/15 [==============================] - 0s 6ms/step - loss: 0.0094 - mean_squared_logarithmic_error: 0.0094\n",
            "Epoch 5/30\n",
            "15/15 [==============================] - 0s 6ms/step - loss: 0.0087 - mean_squared_logarithmic_error: 0.0087\n",
            "Epoch 6/30\n",
            "15/15 [==============================] - 0s 6ms/step - loss: 0.0082 - mean_squared_logarithmic_error: 0.0082\n",
            "Epoch 7/30\n",
            "15/15 [==============================] - 0s 6ms/step - loss: 0.0093 - mean_squared_logarithmic_error: 0.0093\n",
            "Epoch 8/30\n",
            "15/15 [==============================] - 0s 5ms/step - loss: 0.0091 - mean_squared_logarithmic_error: 0.0091\n",
            "Epoch 9/30\n",
            "15/15 [==============================] - 0s 5ms/step - loss: 0.0077 - mean_squared_logarithmic_error: 0.0077\n",
            "Epoch 10/30\n",
            "15/15 [==============================] - 0s 5ms/step - loss: 0.0079 - mean_squared_logarithmic_error: 0.0079\n",
            "Epoch 11/30\n",
            "15/15 [==============================] - 0s 5ms/step - loss: 0.0067 - mean_squared_logarithmic_error: 0.0067\n",
            "Epoch 12/30\n",
            "15/15 [==============================] - 0s 6ms/step - loss: 0.0077 - mean_squared_logarithmic_error: 0.0077\n",
            "Epoch 13/30\n",
            "15/15 [==============================] - 0s 5ms/step - loss: 0.0070 - mean_squared_logarithmic_error: 0.0070\n",
            "Epoch 14/30\n",
            "15/15 [==============================] - 0s 5ms/step - loss: 0.0072 - mean_squared_logarithmic_error: 0.0072\n",
            "Epoch 15/30\n",
            "15/15 [==============================] - 0s 5ms/step - loss: 0.0070 - mean_squared_logarithmic_error: 0.0070\n",
            "Epoch 16/30\n",
            "15/15 [==============================] - 0s 5ms/step - loss: 0.0064 - mean_squared_logarithmic_error: 0.0064\n",
            "Epoch 17/30\n",
            "15/15 [==============================] - 0s 6ms/step - loss: 0.0058 - mean_squared_logarithmic_error: 0.0058\n",
            "Epoch 18/30\n",
            "15/15 [==============================] - 0s 6ms/step - loss: 0.0054 - mean_squared_logarithmic_error: 0.0054\n",
            "Epoch 19/30\n",
            "15/15 [==============================] - 0s 5ms/step - loss: 0.0050 - mean_squared_logarithmic_error: 0.0050\n",
            "Epoch 20/30\n",
            "15/15 [==============================] - 0s 5ms/step - loss: 0.0053 - mean_squared_logarithmic_error: 0.0053\n",
            "Epoch 21/30\n",
            "15/15 [==============================] - 0s 5ms/step - loss: 0.0059 - mean_squared_logarithmic_error: 0.0059\n",
            "Epoch 22/30\n",
            "15/15 [==============================] - 0s 5ms/step - loss: 0.0054 - mean_squared_logarithmic_error: 0.0054\n",
            "Epoch 23/30\n",
            "15/15 [==============================] - 0s 5ms/step - loss: 0.0051 - mean_squared_logarithmic_error: 0.0051\n",
            "Epoch 24/30\n",
            "15/15 [==============================] - 0s 5ms/step - loss: 0.0057 - mean_squared_logarithmic_error: 0.0057\n",
            "Epoch 25/30\n",
            "15/15 [==============================] - 0s 5ms/step - loss: 0.0062 - mean_squared_logarithmic_error: 0.0062\n",
            "Epoch 26/30\n",
            "15/15 [==============================] - 0s 5ms/step - loss: 0.0052 - mean_squared_logarithmic_error: 0.0052\n",
            "Epoch 27/30\n",
            "15/15 [==============================] - 0s 5ms/step - loss: 0.0048 - mean_squared_logarithmic_error: 0.0048\n",
            "Epoch 28/30\n",
            "15/15 [==============================] - 0s 5ms/step - loss: 0.0045 - mean_squared_logarithmic_error: 0.0045\n",
            "Epoch 29/30\n",
            "15/15 [==============================] - 0s 5ms/step - loss: 0.0048 - mean_squared_logarithmic_error: 0.0048\n",
            "Epoch 30/30\n",
            "15/15 [==============================] - 0s 5ms/step - loss: 0.0049 - mean_squared_logarithmic_error: 0.0049\n"
          ]
        },
        {
          "output_type": "execute_result",
          "data": {
            "text/plain": [
              "<keras.callbacks.History at 0x7f2c0c57b610>"
            ]
          },
          "metadata": {},
          "execution_count": 155
        }
      ]
    },
    {
      "cell_type": "code",
      "source": [
        "# mean squared logarithmic error\n",
        "msle(y_test, best_model.predict(X_test)).numpy()\n",
        "\n"
      ],
      "metadata": {
        "colab": {
          "base_uri": "https://localhost:8080/"
        },
        "id": "1zOns7eCXVXy",
        "outputId": "8edac641-167b-46f8-da73-c18065669965"
      },
      "execution_count": 156,
      "outputs": [
        {
          "output_type": "stream",
          "name": "stdout",
          "text": [
            "8/8 [==============================] - 0s 2ms/step\n"
          ]
        },
        {
          "output_type": "execute_result",
          "data": {
            "text/plain": [
              "0.4855924"
            ]
          },
          "metadata": {},
          "execution_count": 156
        }
      ]
    },
    {
      "cell_type": "code",
      "source": [
        "predictions=best_model.predict(X_test)"
      ],
      "metadata": {
        "id": "8VOzii0GpbBq",
        "colab": {
          "base_uri": "https://localhost:8080/"
        },
        "outputId": "b559025e-63b3-4f4c-e324-10037377a365"
      },
      "execution_count": 157,
      "outputs": [
        {
          "output_type": "stream",
          "name": "stdout",
          "text": [
            "8/8 [==============================] - 0s 2ms/step\n"
          ]
        }
      ]
    },
    {
      "cell_type": "code",
      "source": [
        "predictions"
      ],
      "metadata": {
        "colab": {
          "base_uri": "https://localhost:8080/"
        },
        "id": "Piq-uN1bpkXf",
        "outputId": "712b6f4f-293f-4185-a7b9-7b9020298c4b"
      },
      "execution_count": 158,
      "outputs": [
        {
          "output_type": "execute_result",
          "data": {
            "text/plain": [
              "array([[0.28712505],\n",
              "       [0.6738095 ],\n",
              "       [3.127562  ],\n",
              "       [0.0326929 ],\n",
              "       [0.6715835 ],\n",
              "       [0.32376066],\n",
              "       [3.5962837 ],\n",
              "       [0.8281612 ],\n",
              "       [1.4386141 ],\n",
              "       [1.2487556 ],\n",
              "       [1.0232596 ],\n",
              "       [2.330868  ],\n",
              "       [1.2157086 ],\n",
              "       [0.37660736],\n",
              "       [2.084524  ],\n",
              "       [0.35146222],\n",
              "       [1.5536805 ],\n",
              "       [0.0227114 ],\n",
              "       [4.1855044 ],\n",
              "       [0.6503014 ],\n",
              "       [3.1306484 ],\n",
              "       [0.1967155 ],\n",
              "       [0.14381668],\n",
              "       [1.2243379 ],\n",
              "       [0.47248527],\n",
              "       [0.40845317],\n",
              "       [0.3836201 ],\n",
              "       [0.22752643],\n",
              "       [1.0395377 ],\n",
              "       [1.5422592 ],\n",
              "       [2.8887808 ],\n",
              "       [0.25100917],\n",
              "       [0.19312772],\n",
              "       [5.20397   ],\n",
              "       [0.33053812],\n",
              "       [0.00877593],\n",
              "       [2.3658862 ],\n",
              "       [0.68652385],\n",
              "       [0.01890253],\n",
              "       [0.259089  ],\n",
              "       [0.7600251 ],\n",
              "       [0.49389964],\n",
              "       [0.65320146],\n",
              "       [4.419659  ],\n",
              "       [0.2516827 ],\n",
              "       [1.9970464 ],\n",
              "       [1.2543339 ],\n",
              "       [1.053929  ],\n",
              "       [1.1672235 ],\n",
              "       [2.8960257 ],\n",
              "       [0.6033997 ],\n",
              "       [2.4175293 ],\n",
              "       [0.45995647],\n",
              "       [0.3514063 ],\n",
              "       [0.32600468],\n",
              "       [1.5520227 ],\n",
              "       [0.03951168],\n",
              "       [0.26992574],\n",
              "       [0.14447314],\n",
              "       [0.47791022],\n",
              "       [0.45955282],\n",
              "       [1.6242732 ],\n",
              "       [2.7537975 ],\n",
              "       [0.35381413],\n",
              "       [0.32553333],\n",
              "       [1.6439807 ],\n",
              "       [1.0283676 ],\n",
              "       [0.30522284],\n",
              "       [1.2688287 ],\n",
              "       [3.4661942 ],\n",
              "       [0.10935383],\n",
              "       [0.33611944],\n",
              "       [0.7333304 ],\n",
              "       [0.20217806],\n",
              "       [0.11765737],\n",
              "       [0.73861384],\n",
              "       [0.89390236],\n",
              "       [1.8374354 ],\n",
              "       [1.676538  ],\n",
              "       [0.43310025],\n",
              "       [1.6507196 ],\n",
              "       [0.37541953],\n",
              "       [1.2899843 ],\n",
              "       [0.639012  ],\n",
              "       [0.4300699 ],\n",
              "       [0.45530787],\n",
              "       [0.4665145 ],\n",
              "       [0.04770073],\n",
              "       [0.60162425],\n",
              "       [0.09732286],\n",
              "       [0.18060523],\n",
              "       [1.2688624 ],\n",
              "       [0.9236287 ],\n",
              "       [0.531655  ],\n",
              "       [2.6598039 ],\n",
              "       [0.35721114],\n",
              "       [3.547237  ],\n",
              "       [0.41022104],\n",
              "       [0.33132926],\n",
              "       [0.48386475],\n",
              "       [1.0211    ],\n",
              "       [2.4183068 ],\n",
              "       [0.48920527],\n",
              "       [0.4847436 ],\n",
              "       [0.26519293],\n",
              "       [1.0473043 ],\n",
              "       [1.6484834 ],\n",
              "       [0.081206  ],\n",
              "       [3.6108112 ],\n",
              "       [0.4090316 ],\n",
              "       [1.2907166 ],\n",
              "       [3.020959  ],\n",
              "       [4.350316  ],\n",
              "       [3.7026675 ],\n",
              "       [2.237093  ],\n",
              "       [1.6876501 ],\n",
              "       [3.611735  ],\n",
              "       [0.5234235 ],\n",
              "       [1.1619647 ],\n",
              "       [0.2605104 ],\n",
              "       [0.3692157 ],\n",
              "       [4.117755  ],\n",
              "       [0.2312369 ],\n",
              "       [0.8683265 ],\n",
              "       [2.0249586 ],\n",
              "       [3.7945604 ],\n",
              "       [0.49083316],\n",
              "       [0.3441749 ],\n",
              "       [3.5795205 ],\n",
              "       [0.346357  ],\n",
              "       [0.7144077 ],\n",
              "       [0.9410854 ],\n",
              "       [0.82002103],\n",
              "       [1.2871716 ],\n",
              "       [0.16491231],\n",
              "       [3.4484847 ],\n",
              "       [0.6456987 ],\n",
              "       [2.7143476 ],\n",
              "       [0.13806641],\n",
              "       [0.48676273],\n",
              "       [1.6510162 ],\n",
              "       [0.04704071],\n",
              "       [1.659072  ],\n",
              "       [5.5274515 ],\n",
              "       [1.649084  ],\n",
              "       [0.45995647],\n",
              "       [3.7284906 ],\n",
              "       [0.30573088],\n",
              "       [1.1587119 ],\n",
              "       [0.4846644 ],\n",
              "       [0.3785899 ],\n",
              "       [0.3565729 ],\n",
              "       [1.1421561 ],\n",
              "       [1.017067  ],\n",
              "       [0.5091999 ],\n",
              "       [0.31610754],\n",
              "       [0.19519544],\n",
              "       [0.3804907 ],\n",
              "       [0.32212037],\n",
              "       [0.23838338],\n",
              "       [0.40074196],\n",
              "       [0.946875  ],\n",
              "       [0.25963637],\n",
              "       [2.339551  ],\n",
              "       [1.7448289 ],\n",
              "       [0.6628589 ],\n",
              "       [1.6834133 ],\n",
              "       [0.02730846],\n",
              "       [1.9633788 ],\n",
              "       [0.04271315],\n",
              "       [3.3914933 ],\n",
              "       [1.6307633 ],\n",
              "       [4.0394835 ],\n",
              "       [1.9945953 ],\n",
              "       [0.1882925 ],\n",
              "       [0.31217915],\n",
              "       [0.3937697 ],\n",
              "       [1.8074712 ],\n",
              "       [3.2874243 ],\n",
              "       [0.3175124 ],\n",
              "       [1.6812432 ],\n",
              "       [2.0425348 ],\n",
              "       [0.3055739 ],\n",
              "       [0.29516014],\n",
              "       [0.37514737],\n",
              "       [0.6702321 ],\n",
              "       [0.38550007],\n",
              "       [0.38321695],\n",
              "       [2.390029  ],\n",
              "       [3.6425073 ],\n",
              "       [0.03113111],\n",
              "       [1.0987575 ],\n",
              "       [0.07454407],\n",
              "       [0.265744  ],\n",
              "       [1.0809637 ],\n",
              "       [1.393236  ],\n",
              "       [4.2059317 ],\n",
              "       [0.29065388],\n",
              "       [2.493804  ],\n",
              "       [0.3102789 ],\n",
              "       [0.0767832 ],\n",
              "       [0.30769756],\n",
              "       [4.12005   ],\n",
              "       [3.2237675 ],\n",
              "       [0.05578882],\n",
              "       [4.1922455 ],\n",
              "       [2.5068846 ],\n",
              "       [1.5359014 ],\n",
              "       [0.13407218],\n",
              "       [1.126246  ],\n",
              "       [0.59814996],\n",
              "       [0.65002114],\n",
              "       [0.88592064],\n",
              "       [0.3028438 ],\n",
              "       [0.22680551],\n",
              "       [0.17459261],\n",
              "       [0.2739714 ],\n",
              "       [0.09621432],\n",
              "       [0.2085433 ],\n",
              "       [5.100493  ],\n",
              "       [0.44411176],\n",
              "       [0.4916406 ],\n",
              "       [0.74898714],\n",
              "       [0.4800316 ],\n",
              "       [0.24827045],\n",
              "       [1.7066723 ],\n",
              "       [0.37674516],\n",
              "       [0.16936058],\n",
              "       [0.23006707],\n",
              "       [3.7143693 ],\n",
              "       [0.11825516],\n",
              "       [2.4866974 ],\n",
              "       [0.4297254 ],\n",
              "       [2.5095282 ],\n",
              "       [1.019897  ],\n",
              "       [4.1176367 ],\n",
              "       [1.296358  ],\n",
              "       [0.29118872],\n",
              "       [2.8427813 ],\n",
              "       [0.63955534]], dtype=float32)"
            ]
          },
          "metadata": {},
          "execution_count": 158
        }
      ]
    },
    {
      "cell_type": "code",
      "source": [
        "y_test"
      ],
      "metadata": {
        "colab": {
          "base_uri": "https://localhost:8080/"
        },
        "id": "yutoowVHpfaY",
        "outputId": "5ca9ea35-069e-447c-927c-22dc4a324d11"
      },
      "execution_count": 159,
      "outputs": [
        {
          "output_type": "execute_result",
          "data": {
            "text/plain": [
              "970    0.238400\n",
              "568    0.746137\n",
              "766    3.383213\n",
              "110    0.040600\n",
              "350    0.900000\n",
              "         ...   \n",
              "936    3.978579\n",
              "639    1.314027\n",
              "385    0.430000\n",
              "761    3.057582\n",
              "573    0.696059\n",
              "Name: CO2 Excess Sorption (cm3/gr), Length: 240, dtype: float64"
            ]
          },
          "metadata": {},
          "execution_count": 159
        }
      ]
    },
    {
      "cell_type": "code",
      "source": [
        "from sklearn import metrics"
      ],
      "metadata": {
        "id": "prRS8ygXqKZ3"
      },
      "execution_count": 160,
      "outputs": []
    },
    {
      "cell_type": "code",
      "source": [
        "print('Training , Mean Absolute Error:', metrics.mean_absolute_error(y_test, predictions))  \n",
        "print('Training , Mean Squared Error:', metrics.mean_squared_error(y_test, predictions))  \n",
        "print('Training , Root Mean Squared Error:', np.sqrt(metrics.mean_squared_error(y_test, predictions)))"
      ],
      "metadata": {
        "colab": {
          "base_uri": "https://localhost:8080/"
        },
        "id": "o9xDcYsnZXa-",
        "outputId": "d293079f-44a1-4afb-8f24-c7f769fbb5d2"
      },
      "execution_count": 161,
      "outputs": [
        {
          "output_type": "stream",
          "name": "stdout",
          "text": [
            "Training , Mean Absolute Error: 0.11999274010190168\n",
            "Training , Mean Squared Error: 0.044805432121078397\n",
            "Training , Root Mean Squared Error: 0.2116729366760862\n"
          ]
        }
      ]
    },
    {
      "cell_type": "code",
      "source": [
        "ig, ax = plt.subplots()\n",
        "from numpy.polynomial.polynomial import polyfit\n",
        "b, m = polyfit(y_test,predictions, 1)\n",
        "plt.plot(y_test, b + m * y_test, '-')\n",
        "ax.scatter(y_test,predictions,color='r',facecolors='none')\n",
        "plt.xlabel('real')\n",
        "plt.ylabel('predict')\n",
        "plt.title(\"m=0.96958974\")\n",
        "plt.show()"
      ],
      "metadata": {
        "colab": {
          "base_uri": "https://localhost:8080/",
          "height": 295
        },
        "id": "TjtqJjuYCxw4",
        "outputId": "c5a79b3b-e370-4e3c-96fc-186712b2b1bc"
      },
      "execution_count": 162,
      "outputs": [
        {
          "output_type": "display_data",
          "data": {
            "text/plain": [
              "<Figure size 432x288 with 1 Axes>"
            ],
            "image/png": "[encoded data removed]"
          },
          "metadata": {
            "needs_background": "light"
          }
        }
      ]
    },
    {
      "cell_type": "code",
      "source": [
        "R=print(metrics.r2_score(y_test, predictions)) "
      ],
      "metadata": {
        "colab": {
          "base_uri": "https://localhost:8080/"
        },
        "id": "piG0czkXqSvT",
        "outputId": "362af48e-266a-4cd1-ed36-9b47f7fbd7d3"
      },
      "execution_count": 163,
      "outputs": [
        {
          "output_type": "stream",
          "name": "stdout",
          "text": [
            "0.9730542053785041\n"
          ]
        }
      ]
    },
    {
      "cell_type": "code",
      "source": [
        "import numpy as np\n",
        "import pandas as pd\n",
        "prediction = pd.DataFrame(predictions, columns=['predictions']).to_csv('prediction.csv')"
      ],
      "metadata": {
        "id": "X3nfQ94e46ym"
      },
      "execution_count": 164,
      "outputs": []
    },
    {
      "cell_type": "code",
      "source": [
        "(y_test)"
      ],
      "metadata": {
        "colab": {
          "base_uri": "https://localhost:8080/"
        },
        "id": "0jQg4cjp8lu3",
        "outputId": "93459f7e-df93-4047-fcbe-a5430787a673"
      },
      "execution_count": 170,
      "outputs": [
        {
          "output_type": "execute_result",
          "data": {
            "text/plain": [
              "970    0.238400\n",
              "568    0.746137\n",
              "766    3.383213\n",
              "110    0.040600\n",
              "350    0.900000\n",
              "         ...   \n",
              "936    3.978579\n",
              "639    1.314027\n",
              "385    0.430000\n",
              "761    3.057582\n",
              "573    0.696059\n",
              "Name: CO2 Excess Sorption (cm3/gr), Length: 240, dtype: float64"
            ]
          },
          "metadata": {},
          "execution_count": 170
        }
      ]
    },
    {
      "cell_type": "code",
      "source": [
        "(predictions)"
      ],
      "metadata": {
        "colab": {
          "base_uri": "https://localhost:8080/"
        },
        "id": "lSkciEEX85PJ",
        "outputId": "1d8925ee-b570-48d4-ecb9-86aa038b38ed"
      },
      "execution_count": 169,
      "outputs": [
        {
          "output_type": "execute_result",
          "data": {
            "text/plain": [
              "array([[0.28712505],\n",
              "       [0.6738095 ],\n",
              "       [3.127562  ],\n",
              "       [0.0326929 ],\n",
              "       [0.6715835 ],\n",
              "       [0.32376066],\n",
              "       [3.5962837 ],\n",
              "       [0.8281612 ],\n",
              "       [1.4386141 ],\n",
              "       [1.2487556 ],\n",
              "       [1.0232596 ],\n",
              "       [2.330868  ],\n",
              "       [1.2157086 ],\n",
              "       [0.37660736],\n",
              "       [2.084524  ],\n",
              "       [0.35146222],\n",
              "       [1.5536805 ],\n",
              "       [0.0227114 ],\n",
              "       [4.1855044 ],\n",
              "       [0.6503014 ],\n",
              "       [3.1306484 ],\n",
              "       [0.1967155 ],\n",
              "       [0.14381668],\n",
              "       [1.2243379 ],\n",
              "       [0.47248527],\n",
              "       [0.40845317],\n",
              "       [0.3836201 ],\n",
              "       [0.22752643],\n",
              "       [1.0395377 ],\n",
              "       [1.5422592 ],\n",
              "       [2.8887808 ],\n",
              "       [0.25100917],\n",
              "       [0.19312772],\n",
              "       [5.20397   ],\n",
              "       [0.33053812],\n",
              "       [0.00877593],\n",
              "       [2.3658862 ],\n",
              "       [0.68652385],\n",
              "       [0.01890253],\n",
              "       [0.259089  ],\n",
              "       [0.7600251 ],\n",
              "       [0.49389964],\n",
              "       [0.65320146],\n",
              "       [4.419659  ],\n",
              "       [0.2516827 ],\n",
              "       [1.9970464 ],\n",
              "       [1.2543339 ],\n",
              "       [1.053929  ],\n",
              "       [1.1672235 ],\n",
              "       [2.8960257 ],\n",
              "       [0.6033997 ],\n",
              "       [2.4175293 ],\n",
              "       [0.45995647],\n",
              "       [0.3514063 ],\n",
              "       [0.32600468],\n",
              "       [1.5520227 ],\n",
              "       [0.03951168],\n",
              "       [0.26992574],\n",
              "       [0.14447314],\n",
              "       [0.47791022],\n",
              "       [0.45955282],\n",
              "       [1.6242732 ],\n",
              "       [2.7537975 ],\n",
              "       [0.35381413],\n",
              "       [0.32553333],\n",
              "       [1.6439807 ],\n",
              "       [1.0283676 ],\n",
              "       [0.30522284],\n",
              "       [1.2688287 ],\n",
              "       [3.4661942 ],\n",
              "       [0.10935383],\n",
              "       [0.33611944],\n",
              "       [0.7333304 ],\n",
              "       [0.20217806],\n",
              "       [0.11765737],\n",
              "       [0.73861384],\n",
              "       [0.89390236],\n",
              "       [1.8374354 ],\n",
              "       [1.676538  ],\n",
              "       [0.43310025],\n",
              "       [1.6507196 ],\n",
              "       [0.37541953],\n",
              "       [1.2899843 ],\n",
              "       [0.639012  ],\n",
              "       [0.4300699 ],\n",
              "       [0.45530787],\n",
              "       [0.4665145 ],\n",
              "       [0.04770073],\n",
              "       [0.60162425],\n",
              "       [0.09732286],\n",
              "       [0.18060523],\n",
              "       [1.2688624 ],\n",
              "       [0.9236287 ],\n",
              "       [0.531655  ],\n",
              "       [2.6598039 ],\n",
              "       [0.35721114],\n",
              "       [3.547237  ],\n",
              "       [0.41022104],\n",
              "       [0.33132926],\n",
              "       [0.48386475],\n",
              "       [1.0211    ],\n",
              "       [2.4183068 ],\n",
              "       [0.48920527],\n",
              "       [0.4847436 ],\n",
              "       [0.26519293],\n",
              "       [1.0473043 ],\n",
              "       [1.6484834 ],\n",
              "       [0.081206  ],\n",
              "       [3.6108112 ],\n",
              "       [0.4090316 ],\n",
              "       [1.2907166 ],\n",
              "       [3.020959  ],\n",
              "       [4.350316  ],\n",
              "       [3.7026675 ],\n",
              "       [2.237093  ],\n",
              "       [1.6876501 ],\n",
              "       [3.611735  ],\n",
              "       [0.5234235 ],\n",
              "       [1.1619647 ],\n",
              "       [0.2605104 ],\n",
              "       [0.3692157 ],\n",
              "       [4.117755  ],\n",
              "       [0.2312369 ],\n",
              "       [0.8683265 ],\n",
              "       [2.0249586 ],\n",
              "       [3.7945604 ],\n",
              "       [0.49083316],\n",
              "       [0.3441749 ],\n",
              "       [3.5795205 ],\n",
              "       [0.346357  ],\n",
              "       [0.7144077 ],\n",
              "       [0.9410854 ],\n",
              "       [0.82002103],\n",
              "       [1.2871716 ],\n",
              "       [0.16491231],\n",
              "       [3.4484847 ],\n",
              "       [0.6456987 ],\n",
              "       [2.7143476 ],\n",
              "       [0.13806641],\n",
              "       [0.48676273],\n",
              "       [1.6510162 ],\n",
              "       [0.04704071],\n",
              "       [1.659072  ],\n",
              "       [5.5274515 ],\n",
              "       [1.649084  ],\n",
              "       [0.45995647],\n",
              "       [3.7284906 ],\n",
              "       [0.30573088],\n",
              "       [1.1587119 ],\n",
              "       [0.4846644 ],\n",
              "       [0.3785899 ],\n",
              "       [0.3565729 ],\n",
              "       [1.1421561 ],\n",
              "       [1.017067  ],\n",
              "       [0.5091999 ],\n",
              "       [0.31610754],\n",
              "       [0.19519544],\n",
              "       [0.3804907 ],\n",
              "       [0.32212037],\n",
              "       [0.23838338],\n",
              "       [0.40074196],\n",
              "       [0.946875  ],\n",
              "       [0.25963637],\n",
              "       [2.339551  ],\n",
              "       [1.7448289 ],\n",
              "       [0.6628589 ],\n",
              "       [1.6834133 ],\n",
              "       [0.02730846],\n",
              "       [1.9633788 ],\n",
              "       [0.04271315],\n",
              "       [3.3914933 ],\n",
              "       [1.6307633 ],\n",
              "       [4.0394835 ],\n",
              "       [1.9945953 ],\n",
              "       [0.1882925 ],\n",
              "       [0.31217915],\n",
              "       [0.3937697 ],\n",
              "       [1.8074712 ],\n",
              "       [3.2874243 ],\n",
              "       [0.3175124 ],\n",
              "       [1.6812432 ],\n",
              "       [2.0425348 ],\n",
              "       [0.3055739 ],\n",
              "       [0.29516014],\n",
              "       [0.37514737],\n",
              "       [0.6702321 ],\n",
              "       [0.38550007],\n",
              "       [0.38321695],\n",
              "       [2.390029  ],\n",
              "       [3.6425073 ],\n",
              "       [0.03113111],\n",
              "       [1.0987575 ],\n",
              "       [0.07454407],\n",
              "       [0.265744  ],\n",
              "       [1.0809637 ],\n",
              "       [1.393236  ],\n",
              "       [4.2059317 ],\n",
              "       [0.29065388],\n",
              "       [2.493804  ],\n",
              "       [0.3102789 ],\n",
              "       [0.0767832 ],\n",
              "       [0.30769756],\n",
              "       [4.12005   ],\n",
              "       [3.2237675 ],\n",
              "       [0.05578882],\n",
              "       [4.1922455 ],\n",
              "       [2.5068846 ],\n",
              "       [1.5359014 ],\n",
              "       [0.13407218],\n",
              "       [1.126246  ],\n",
              "       [0.59814996],\n",
              "       [0.65002114],\n",
              "       [0.88592064],\n",
              "       [0.3028438 ],\n",
              "       [0.22680551],\n",
              "       [0.17459261],\n",
              "       [0.2739714 ],\n",
              "       [0.09621432],\n",
              "       [0.2085433 ],\n",
              "       [5.100493  ],\n",
              "       [0.44411176],\n",
              "       [0.4916406 ],\n",
              "       [0.74898714],\n",
              "       [0.4800316 ],\n",
              "       [0.24827045],\n",
              "       [1.7066723 ],\n",
              "       [0.37674516],\n",
              "       [0.16936058],\n",
              "       [0.23006707],\n",
              "       [3.7143693 ],\n",
              "       [0.11825516],\n",
              "       [2.4866974 ],\n",
              "       [0.4297254 ],\n",
              "       [2.5095282 ],\n",
              "       [1.019897  ],\n",
              "       [4.1176367 ],\n",
              "       [1.296358  ],\n",
              "       [0.29118872],\n",
              "       [2.8427813 ],\n",
              "       [0.63955534]], dtype=float32)"
            ]
          },
          "metadata": {},
          "execution_count": 169
        }
      ]
    }
  ],
  "metadata": {
    "accelerator": "GPU",
    "colab": {
      "name": "Untitled5_(4).ipynb",
      "provenance": [],
      "include_colab_link": true
    },
    "gpuClass": "standard",
    "kernelspec": {
      "display_name": "Python 3",
      "name": "python3"
    },
    "language_info": {
      "name": "python"
    }
  },
  "nbformat": 4,
  "nbformat_minor": 0
}