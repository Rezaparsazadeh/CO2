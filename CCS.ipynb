{
  "cells": [
    {
      "cell_type": "markdown",
      "metadata": {
        "id": "view-in-github",
        "colab_type": "text"
      },
      "source": [
        "<a href=\"https://colab.research.google.com/github/Rezaparsazadeh/co2/blob/main/CCS.ipynb\" target=\"_parent\"><img src=\"https://colab.research.google.com/assets/colab-badge.svg\" alt=\"Open In Colab\"/></a>"
      ]
    },
    {
      "cell_type": "code",
      "execution_count": 1,
      "metadata": {
        "id": "71vgPF-CBDH5"
      },
      "outputs": [],
      "source": [
        "from tensorflow import keras\n",
        "from tensorflow.keras.optimizers import Adam\n",
        "from keras.models import Sequential\n",
        "from keras.layers import Dense, Dropout, Activation\n",
        "from sklearn.preprocessing import LabelBinarizer\n",
        "from sklearn.preprocessing import MinMaxScaler\n",
        "from sklearn.model_selection import train_test_split\n",
        "import pandas as pd\n",
        "import numpy as np\n",
        "import glob\n",
        "import cv2\n",
        "import os\n",
        "import locale\n",
        "import seaborn as sns\n",
        "from datetime import timedelta, datetime\n",
        "from sklearn.metrics import mean_squared_error\n",
        "import xgboost as xgb\n",
        "import plotly.graph_objects as go\n"
      ]
    },
    {
      "cell_type": "code",
      "source": [
        "!pip install keras-tuner"
      ],
      "metadata": {
        "colab": {
          "base_uri": "https://localhost:8080/"
        },
        "id": "cPtgsHOq5yMy",
        "outputId": "1f43dc49-f8ba-4cf1-ce3b-613834fb2877"
      },
      "execution_count": 2,
      "outputs": [
        {
          "output_type": "stream",
          "name": "stdout",
          "text": [
            "Looking in indexes: https://pypi.org/simple, https://us-python.pkg.dev/colab-wheels/public/simple/\n",
            "Collecting keras-tuner\n",
            "  Downloading keras_tuner-1.1.3-py3-none-any.whl (135 kB)\n",
            "\u001b[K     |████████████████████████████████| 135 kB 26.1 MB/s \n",
            "\u001b[?25hRequirement already satisfied: ipython in /usr/local/lib/python3.7/dist-packages (from keras-tuner) (5.5.0)\n",
            "Collecting kt-legacy\n",
            "  Downloading kt_legacy-1.0.4-py3-none-any.whl (9.6 kB)\n",
            "Requirement already satisfied: packaging in /usr/local/lib/python3.7/dist-packages (from keras-tuner) (21.3)\n",
            "Requirement already satisfied: tensorboard in /usr/local/lib/python3.7/dist-packages (from keras-tuner) (2.8.0)\n",
            "Requirement already satisfied: numpy in /usr/local/lib/python3.7/dist-packages (from keras-tuner) (1.21.6)\n",
            "Requirement already satisfied: requests in /usr/local/lib/python3.7/dist-packages (from keras-tuner) (2.23.0)\n",
            "Requirement already satisfied: pickleshare in /usr/local/lib/python3.7/dist-packages (from ipython->keras-tuner) (0.7.5)\n",
            "Requirement already satisfied: pygments in /usr/local/lib/python3.7/dist-packages (from ipython->keras-tuner) (2.6.1)\n",
            "Requirement already satisfied: simplegeneric>0.8 in /usr/local/lib/python3.7/dist-packages (from ipython->keras-tuner) (0.8.1)\n",
            "Requirement already satisfied: traitlets>=4.2 in /usr/local/lib/python3.7/dist-packages (from ipython->keras-tuner) (5.1.1)\n",
            "Requirement already satisfied: setuptools>=18.5 in /usr/local/lib/python3.7/dist-packages (from ipython->keras-tuner) (57.4.0)\n",
            "Requirement already satisfied: pexpect in /usr/local/lib/python3.7/dist-packages (from ipython->keras-tuner) (4.8.0)\n",
            "Requirement already satisfied: decorator in /usr/local/lib/python3.7/dist-packages (from ipython->keras-tuner) (4.4.2)\n",
            "Requirement already satisfied: prompt-toolkit<2.0.0,>=1.0.4 in /usr/local/lib/python3.7/dist-packages (from ipython->keras-tuner) (1.0.18)\n",
            "Requirement already satisfied: wcwidth in /usr/local/lib/python3.7/dist-packages (from prompt-toolkit<2.0.0,>=1.0.4->ipython->keras-tuner) (0.2.5)\n",
            "Requirement already satisfied: six>=1.9.0 in /usr/local/lib/python3.7/dist-packages (from prompt-toolkit<2.0.0,>=1.0.4->ipython->keras-tuner) (1.15.0)\n",
            "Requirement already satisfied: pyparsing!=3.0.5,>=2.0.2 in /usr/local/lib/python3.7/dist-packages (from packaging->keras-tuner) (3.0.9)\n",
            "Requirement already satisfied: ptyprocess>=0.5 in /usr/local/lib/python3.7/dist-packages (from pexpect->ipython->keras-tuner) (0.7.0)\n",
            "Requirement already satisfied: chardet<4,>=3.0.2 in /usr/local/lib/python3.7/dist-packages (from requests->keras-tuner) (3.0.4)\n",
            "Requirement already satisfied: certifi>=2017.4.17 in /usr/local/lib/python3.7/dist-packages (from requests->keras-tuner) (2022.6.15)\n",
            "Requirement already satisfied: idna<3,>=2.5 in /usr/local/lib/python3.7/dist-packages (from requests->keras-tuner) (2.10)\n",
            "Requirement already satisfied: urllib3!=1.25.0,!=1.25.1,<1.26,>=1.21.1 in /usr/local/lib/python3.7/dist-packages (from requests->keras-tuner) (1.24.3)\n",
            "Requirement already satisfied: protobuf>=3.6.0 in /usr/local/lib/python3.7/dist-packages (from tensorboard->keras-tuner) (3.17.3)\n",
            "Requirement already satisfied: grpcio>=1.24.3 in /usr/local/lib/python3.7/dist-packages (from tensorboard->keras-tuner) (1.47.0)\n",
            "Requirement already satisfied: tensorboard-data-server<0.7.0,>=0.6.0 in /usr/local/lib/python3.7/dist-packages (from tensorboard->keras-tuner) (0.6.1)\n",
            "Requirement already satisfied: werkzeug>=0.11.15 in /usr/local/lib/python3.7/dist-packages (from tensorboard->keras-tuner) (1.0.1)\n",
            "Requirement already satisfied: google-auth<3,>=1.6.3 in /usr/local/lib/python3.7/dist-packages (from tensorboard->keras-tuner) (1.35.0)\n",
            "Requirement already satisfied: markdown>=2.6.8 in /usr/local/lib/python3.7/dist-packages (from tensorboard->keras-tuner) (3.4.1)\n",
            "Requirement already satisfied: tensorboard-plugin-wit>=1.6.0 in /usr/local/lib/python3.7/dist-packages (from tensorboard->keras-tuner) (1.8.1)\n",
            "Requirement already satisfied: wheel>=0.26 in /usr/local/lib/python3.7/dist-packages (from tensorboard->keras-tuner) (0.37.1)\n",
            "Requirement already satisfied: google-auth-oauthlib<0.5,>=0.4.1 in /usr/local/lib/python3.7/dist-packages (from tensorboard->keras-tuner) (0.4.6)\n",
            "Requirement already satisfied: absl-py>=0.4 in /usr/local/lib/python3.7/dist-packages (from tensorboard->keras-tuner) (1.2.0)\n",
            "Requirement already satisfied: pyasn1-modules>=0.2.1 in /usr/local/lib/python3.7/dist-packages (from google-auth<3,>=1.6.3->tensorboard->keras-tuner) (0.2.8)\n",
            "Requirement already satisfied: cachetools<5.0,>=2.0.0 in /usr/local/lib/python3.7/dist-packages (from google-auth<3,>=1.6.3->tensorboard->keras-tuner) (4.2.4)\n",
            "Requirement already satisfied: rsa<5,>=3.1.4 in /usr/local/lib/python3.7/dist-packages (from google-auth<3,>=1.6.3->tensorboard->keras-tuner) (4.9)\n",
            "Requirement already satisfied: requests-oauthlib>=0.7.0 in /usr/local/lib/python3.7/dist-packages (from google-auth-oauthlib<0.5,>=0.4.1->tensorboard->keras-tuner) (1.3.1)\n",
            "Requirement already satisfied: importlib-metadata>=4.4 in /usr/local/lib/python3.7/dist-packages (from markdown>=2.6.8->tensorboard->keras-tuner) (4.12.0)\n",
            "Requirement already satisfied: typing-extensions>=3.6.4 in /usr/local/lib/python3.7/dist-packages (from importlib-metadata>=4.4->markdown>=2.6.8->tensorboard->keras-tuner) (4.1.1)\n",
            "Requirement already satisfied: zipp>=0.5 in /usr/local/lib/python3.7/dist-packages (from importlib-metadata>=4.4->markdown>=2.6.8->tensorboard->keras-tuner) (3.8.1)\n",
            "Requirement already satisfied: pyasn1<0.5.0,>=0.4.6 in /usr/local/lib/python3.7/dist-packages (from pyasn1-modules>=0.2.1->google-auth<3,>=1.6.3->tensorboard->keras-tuner) (0.4.8)\n",
            "Requirement already satisfied: oauthlib>=3.0.0 in /usr/local/lib/python3.7/dist-packages (from requests-oauthlib>=0.7.0->google-auth-oauthlib<0.5,>=0.4.1->tensorboard->keras-tuner) (3.2.0)\n",
            "Installing collected packages: kt-legacy, keras-tuner\n",
            "Successfully installed keras-tuner-1.1.3 kt-legacy-1.0.4\n"
          ]
        }
      ]
    },
    {
      "cell_type": "code",
      "source": [
        "from kerastuner.tuners import RandomSearch\n",
        "import kerastuner as kt"
      ],
      "metadata": {
        "id": "LBjP0y8256SD"
      },
      "execution_count": 18,
      "outputs": []
    },
    {
      "cell_type": "code",
      "execution_count": 19,
      "metadata": {
        "id": "vXF-A97FBNyr"
      },
      "outputs": [],
      "source": [
        "df=pd.read_csv(r\"Data.csv\")\n"
      ]
    },
    {
      "cell_type": "code",
      "execution_count": 20,
      "metadata": {
        "colab": {
          "base_uri": "https://localhost:8080/",
          "height": 424
        },
        "id": "k8Q0HtRiBmQn",
        "outputId": "909fc738-a7fc-4ec9-9c42-c3e4e23612b2"
      },
      "outputs": [
        {
          "output_type": "execute_result",
          "data": {
            "text/plain": [
              "      TOC (%)  Moisture (%)  Temp (C)  Pres. (MPa)  \\\n",
              "0        1.66          1.42        50       0.4413   \n",
              "1        1.66          1.42        50       0.9308   \n",
              "2        1.66          1.42        50       1.4617   \n",
              "3        1.66          1.42        50       2.8337   \n",
              "4        1.66          1.42        50       5.7158   \n",
              "...       ...           ...       ...          ...   \n",
              "1195     4.76          1.50        70       2.2100   \n",
              "1196     4.76          1.50        70       4.2800   \n",
              "1197     4.76          1.50        70       6.2100   \n",
              "1198     4.76          1.50        70       8.6700   \n",
              "1199     4.76          1.50        70      10.9400   \n",
              "\n",
              "      CO2 Excess Sorption (cm3/gr)  \n",
              "0                           0.0468  \n",
              "1                           0.0842  \n",
              "2                           0.1186  \n",
              "3                           0.2246  \n",
              "4                           0.3682  \n",
              "...                            ...  \n",
              "1195                        1.4600  \n",
              "1196                        1.9500  \n",
              "1197                        2.1700  \n",
              "1198                        2.2600  \n",
              "1199                        2.3000  \n",
              "\n",
              "[1200 rows x 5 columns]"
            ],
            "text/html": [
              "\n",
              "  <div id=\"df-221d8525-8c3c-4b06-8479-3c649a351aab\">\n",
              "    <div class=\"colab-df-container\">\n",
              "      <div>\n",
              "<style scoped>\n",
              "    .dataframe tbody tr th:only-of-type {\n",
              "        vertical-align: middle;\n",
              "    }\n",
              "\n",
              "    .dataframe tbody tr th {\n",
              "        vertical-align: top;\n",
              "    }\n",
              "\n",
              "    .dataframe thead th {\n",
              "        text-align: right;\n",
              "    }\n",
              "</style>\n",
              "<table border=\"1\" class=\"dataframe\">\n",
              "  <thead>\n",
              "    <tr style=\"text-align: right;\">\n",
              "      <th></th>\n",
              "      <th>TOC (%)</th>\n",
              "      <th>Moisture (%)</th>\n",
              "      <th>Temp (C)</th>\n",
              "      <th>Pres. (MPa)</th>\n",
              "      <th>CO2 Excess Sorption (cm3/gr)</th>\n",
              "    </tr>\n",
              "  </thead>\n",
              "  <tbody>\n",
              "    <tr>\n",
              "      <th>0</th>\n",
              "      <td>1.66</td>\n",
              "      <td>1.42</td>\n",
              "      <td>50</td>\n",
              "      <td>0.4413</td>\n",
              "      <td>0.0468</td>\n",
              "    </tr>\n",
              "    <tr>\n",
              "      <th>1</th>\n",
              "      <td>1.66</td>\n",
              "      <td>1.42</td>\n",
              "      <td>50</td>\n",
              "      <td>0.9308</td>\n",
              "      <td>0.0842</td>\n",
              "    </tr>\n",
              "    <tr>\n",
              "      <th>2</th>\n",
              "      <td>1.66</td>\n",
              "      <td>1.42</td>\n",
              "      <td>50</td>\n",
              "      <td>1.4617</td>\n",
              "      <td>0.1186</td>\n",
              "    </tr>\n",
              "    <tr>\n",
              "      <th>3</th>\n",
              "      <td>1.66</td>\n",
              "      <td>1.42</td>\n",
              "      <td>50</td>\n",
              "      <td>2.8337</td>\n",
              "      <td>0.2246</td>\n",
              "    </tr>\n",
              "    <tr>\n",
              "      <th>4</th>\n",
              "      <td>1.66</td>\n",
              "      <td>1.42</td>\n",
              "      <td>50</td>\n",
              "      <td>5.7158</td>\n",
              "      <td>0.3682</td>\n",
              "    </tr>\n",
              "    <tr>\n",
              "      <th>...</th>\n",
              "      <td>...</td>\n",
              "      <td>...</td>\n",
              "      <td>...</td>\n",
              "      <td>...</td>\n",
              "      <td>...</td>\n",
              "    </tr>\n",
              "    <tr>\n",
              "      <th>1195</th>\n",
              "      <td>4.76</td>\n",
              "      <td>1.50</td>\n",
              "      <td>70</td>\n",
              "      <td>2.2100</td>\n",
              "      <td>1.4600</td>\n",
              "    </tr>\n",
              "    <tr>\n",
              "      <th>1196</th>\n",
              "      <td>4.76</td>\n",
              "      <td>1.50</td>\n",
              "      <td>70</td>\n",
              "      <td>4.2800</td>\n",
              "      <td>1.9500</td>\n",
              "    </tr>\n",
              "    <tr>\n",
              "      <th>1197</th>\n",
              "      <td>4.76</td>\n",
              "      <td>1.50</td>\n",
              "      <td>70</td>\n",
              "      <td>6.2100</td>\n",
              "      <td>2.1700</td>\n",
              "    </tr>\n",
              "    <tr>\n",
              "      <th>1198</th>\n",
              "      <td>4.76</td>\n",
              "      <td>1.50</td>\n",
              "      <td>70</td>\n",
              "      <td>8.6700</td>\n",
              "      <td>2.2600</td>\n",
              "    </tr>\n",
              "    <tr>\n",
              "      <th>1199</th>\n",
              "      <td>4.76</td>\n",
              "      <td>1.50</td>\n",
              "      <td>70</td>\n",
              "      <td>10.9400</td>\n",
              "      <td>2.3000</td>\n",
              "    </tr>\n",
              "  </tbody>\n",
              "</table>\n",
              "<p>1200 rows × 5 columns</p>\n",
              "</div>\n",
              "      <button class=\"colab-df-convert\" onclick=\"convertToInteractive('df-221d8525-8c3c-4b06-8479-3c649a351aab')\"\n",
              "              title=\"Convert this dataframe to an interactive table.\"\n",
              "              style=\"display:none;\">\n",
              "        \n",
              "  <svg xmlns=\"http://www.w3.org/2000/svg\" height=\"24px\"viewBox=\"0 0 24 24\"\n",
              "       width=\"24px\">\n",
              "    <path d=\"M0 0h24v24H0V0z\" fill=\"none\"/>\n",
              "    <path d=\"M18.56 5.44l.94 2.06.94-2.06 2.06-.94-2.06-.94-.94-2.06-.94 2.06-2.06.94zm-11 1L8.5 8.5l.94-2.06 2.06-.94-2.06-.94L8.5 2.5l-.94 2.06-2.06.94zm10 10l.94 2.06.94-2.06 2.06-.94-2.06-.94-.94-2.06-.94 2.06-2.06.94z\"/><path d=\"M17.41 7.96l-1.37-1.37c-.4-.4-.92-.59-1.43-.59-.52 0-1.04.2-1.43.59L10.3 9.45l-7.72 7.72c-.78.78-.78 2.05 0 2.83L4 21.41c.39.39.9.59 1.41.59.51 0 1.02-.2 1.41-.59l7.78-7.78 2.81-2.81c.8-.78.8-2.07 0-2.86zM5.41 20L4 18.59l7.72-7.72 1.47 1.35L5.41 20z\"/>\n",
              "  </svg>\n",
              "      </button>\n",
              "      \n",
              "  <style>\n",
              "    .colab-df-container {\n",
              "      display:flex;\n",
              "      flex-wrap:wrap;\n",
              "      gap: 12px;\n",
              "    }\n",
              "\n",
              "    .colab-df-convert {\n",
              "      background-color: #E8F0FE;\n",
              "      border: none;\n",
              "      border-radius: 50%;\n",
              "      cursor: pointer;\n",
              "      display: none;\n",
              "      fill: #1967D2;\n",
              "      height: 32px;\n",
              "      padding: 0 0 0 0;\n",
              "      width: 32px;\n",
              "    }\n",
              "\n",
              "    .colab-df-convert:hover {\n",
              "      background-color: #E2EBFA;\n",
              "      box-shadow: 0px 1px 2px rgba(60, 64, 67, 0.3), 0px 1px 3px 1px rgba(60, 64, 67, 0.15);\n",
              "      fill: #174EA6;\n",
              "    }\n",
              "\n",
              "    [theme=dark] .colab-df-convert {\n",
              "      background-color: #3B4455;\n",
              "      fill: #D2E3FC;\n",
              "    }\n",
              "\n",
              "    [theme=dark] .colab-df-convert:hover {\n",
              "      background-color: #434B5C;\n",
              "      box-shadow: 0px 1px 3px 1px rgba(0, 0, 0, 0.15);\n",
              "      filter: drop-shadow(0px 1px 2px rgba(0, 0, 0, 0.3));\n",
              "      fill: #FFFFFF;\n",
              "    }\n",
              "  </style>\n",
              "\n",
              "      <script>\n",
              "        const buttonEl =\n",
              "          document.querySelector('#df-221d8525-8c3c-4b06-8479-3c649a351aab button.colab-df-convert');\n",
              "        buttonEl.style.display =\n",
              "          google.colab.kernel.accessAllowed ? 'block' : 'none';\n",
              "\n",
              "        async function convertToInteractive(key) {\n",
              "          const element = document.querySelector('#df-221d8525-8c3c-4b06-8479-3c649a351aab');\n",
              "          const dataTable =\n",
              "            await google.colab.kernel.invokeFunction('convertToInteractive',\n",
              "                                                     [key], {});\n",
              "          if (!dataTable) return;\n",
              "\n",
              "          const docLinkHtml = 'Like what you see? Visit the ' +\n",
              "            '<a target=\"_blank\" href=https://colab.research.google.com/notebooks/data_table.ipynb>data table notebook</a>'\n",
              "            + ' to learn more about interactive tables.';\n",
              "          element.innerHTML = '';\n",
              "          dataTable['output_type'] = 'display_data';\n",
              "          await google.colab.output.renderOutput(dataTable, element);\n",
              "          const docLink = document.createElement('div');\n",
              "          docLink.innerHTML = docLinkHtml;\n",
              "          element.appendChild(docLink);\n",
              "        }\n",
              "      </script>\n",
              "    </div>\n",
              "  </div>\n",
              "  "
            ]
          },
          "metadata": {},
          "execution_count": 20
        }
      ],
      "source": [
        "df"
      ]
    },
    {
      "cell_type": "code",
      "execution_count": 21,
      "metadata": {
        "colab": {
          "base_uri": "https://localhost:8080/",
          "height": 206
        },
        "id": "iGxwt2TaF1HA",
        "outputId": "36b88247-5813-4361-e55e-7674c488dca2"
      },
      "outputs": [
        {
          "output_type": "execute_result",
          "data": {
            "text/plain": [
              "   TOC (%)  Moisture (%)  Temp (C)  Pres. (MPa)  CO2 Excess Sorption (cm3/gr)\n",
              "0     1.66          1.42        50       0.4413                        0.0468\n",
              "1     1.66          1.42        50       0.9308                        0.0842\n",
              "2     1.66          1.42        50       1.4617                        0.1186\n",
              "3     1.66          1.42        50       2.8337                        0.2246\n",
              "4     1.66          1.42        50       5.7158                        0.3682"
            ],
            "text/html": [
              "\n",
              "  <div id=\"df-43ca5195-d99d-4793-b20a-72c2599d9e0a\">\n",
              "    <div class=\"colab-df-container\">\n",
              "      <div>\n",
              "<style scoped>\n",
              "    .dataframe tbody tr th:only-of-type {\n",
              "        vertical-align: middle;\n",
              "    }\n",
              "\n",
              "    .dataframe tbody tr th {\n",
              "        vertical-align: top;\n",
              "    }\n",
              "\n",
              "    .dataframe thead th {\n",
              "        text-align: right;\n",
              "    }\n",
              "</style>\n",
              "<table border=\"1\" class=\"dataframe\">\n",
              "  <thead>\n",
              "    <tr style=\"text-align: right;\">\n",
              "      <th></th>\n",
              "      <th>TOC (%)</th>\n",
              "      <th>Moisture (%)</th>\n",
              "      <th>Temp (C)</th>\n",
              "      <th>Pres. (MPa)</th>\n",
              "      <th>CO2 Excess Sorption (cm3/gr)</th>\n",
              "    </tr>\n",
              "  </thead>\n",
              "  <tbody>\n",
              "    <tr>\n",
              "      <th>0</th>\n",
              "      <td>1.66</td>\n",
              "      <td>1.42</td>\n",
              "      <td>50</td>\n",
              "      <td>0.4413</td>\n",
              "      <td>0.0468</td>\n",
              "    </tr>\n",
              "    <tr>\n",
              "      <th>1</th>\n",
              "      <td>1.66</td>\n",
              "      <td>1.42</td>\n",
              "      <td>50</td>\n",
              "      <td>0.9308</td>\n",
              "      <td>0.0842</td>\n",
              "    </tr>\n",
              "    <tr>\n",
              "      <th>2</th>\n",
              "      <td>1.66</td>\n",
              "      <td>1.42</td>\n",
              "      <td>50</td>\n",
              "      <td>1.4617</td>\n",
              "      <td>0.1186</td>\n",
              "    </tr>\n",
              "    <tr>\n",
              "      <th>3</th>\n",
              "      <td>1.66</td>\n",
              "      <td>1.42</td>\n",
              "      <td>50</td>\n",
              "      <td>2.8337</td>\n",
              "      <td>0.2246</td>\n",
              "    </tr>\n",
              "    <tr>\n",
              "      <th>4</th>\n",
              "      <td>1.66</td>\n",
              "      <td>1.42</td>\n",
              "      <td>50</td>\n",
              "      <td>5.7158</td>\n",
              "      <td>0.3682</td>\n",
              "    </tr>\n",
              "  </tbody>\n",
              "</table>\n",
              "</div>\n",
              "      <button class=\"colab-df-convert\" onclick=\"convertToInteractive('df-43ca5195-d99d-4793-b20a-72c2599d9e0a')\"\n",
              "              title=\"Convert this dataframe to an interactive table.\"\n",
              "              style=\"display:none;\">\n",
              "        \n",
              "  <svg xmlns=\"http://www.w3.org/2000/svg\" height=\"24px\"viewBox=\"0 0 24 24\"\n",
              "       width=\"24px\">\n",
              "    <path d=\"M0 0h24v24H0V0z\" fill=\"none\"/>\n",
              "    <path d=\"M18.56 5.44l.94 2.06.94-2.06 2.06-.94-2.06-.94-.94-2.06-.94 2.06-2.06.94zm-11 1L8.5 8.5l.94-2.06 2.06-.94-2.06-.94L8.5 2.5l-.94 2.06-2.06.94zm10 10l.94 2.06.94-2.06 2.06-.94-2.06-.94-.94-2.06-.94 2.06-2.06.94z\"/><path d=\"M17.41 7.96l-1.37-1.37c-.4-.4-.92-.59-1.43-.59-.52 0-1.04.2-1.43.59L10.3 9.45l-7.72 7.72c-.78.78-.78 2.05 0 2.83L4 21.41c.39.39.9.59 1.41.59.51 0 1.02-.2 1.41-.59l7.78-7.78 2.81-2.81c.8-.78.8-2.07 0-2.86zM5.41 20L4 18.59l7.72-7.72 1.47 1.35L5.41 20z\"/>\n",
              "  </svg>\n",
              "      </button>\n",
              "      \n",
              "  <style>\n",
              "    .colab-df-container {\n",
              "      display:flex;\n",
              "      flex-wrap:wrap;\n",
              "      gap: 12px;\n",
              "    }\n",
              "\n",
              "    .colab-df-convert {\n",
              "      background-color: #E8F0FE;\n",
              "      border: none;\n",
              "      border-radius: 50%;\n",
              "      cursor: pointer;\n",
              "      display: none;\n",
              "      fill: #1967D2;\n",
              "      height: 32px;\n",
              "      padding: 0 0 0 0;\n",
              "      width: 32px;\n",
              "    }\n",
              "\n",
              "    .colab-df-convert:hover {\n",
              "      background-color: #E2EBFA;\n",
              "      box-shadow: 0px 1px 2px rgba(60, 64, 67, 0.3), 0px 1px 3px 1px rgba(60, 64, 67, 0.15);\n",
              "      fill: #174EA6;\n",
              "    }\n",
              "\n",
              "    [theme=dark] .colab-df-convert {\n",
              "      background-color: #3B4455;\n",
              "      fill: #D2E3FC;\n",
              "    }\n",
              "\n",
              "    [theme=dark] .colab-df-convert:hover {\n",
              "      background-color: #434B5C;\n",
              "      box-shadow: 0px 1px 3px 1px rgba(0, 0, 0, 0.15);\n",
              "      filter: drop-shadow(0px 1px 2px rgba(0, 0, 0, 0.3));\n",
              "      fill: #FFFFFF;\n",
              "    }\n",
              "  </style>\n",
              "\n",
              "      <script>\n",
              "        const buttonEl =\n",
              "          document.querySelector('#df-43ca5195-d99d-4793-b20a-72c2599d9e0a button.colab-df-convert');\n",
              "        buttonEl.style.display =\n",
              "          google.colab.kernel.accessAllowed ? 'block' : 'none';\n",
              "\n",
              "        async function convertToInteractive(key) {\n",
              "          const element = document.querySelector('#df-43ca5195-d99d-4793-b20a-72c2599d9e0a');\n",
              "          const dataTable =\n",
              "            await google.colab.kernel.invokeFunction('convertToInteractive',\n",
              "                                                     [key], {});\n",
              "          if (!dataTable) return;\n",
              "\n",
              "          const docLinkHtml = 'Like what you see? Visit the ' +\n",
              "            '<a target=\"_blank\" href=https://colab.research.google.com/notebooks/data_table.ipynb>data table notebook</a>'\n",
              "            + ' to learn more about interactive tables.';\n",
              "          element.innerHTML = '';\n",
              "          dataTable['output_type'] = 'display_data';\n",
              "          await google.colab.output.renderOutput(dataTable, element);\n",
              "          const docLink = document.createElement('div');\n",
              "          docLink.innerHTML = docLinkHtml;\n",
              "          element.appendChild(docLink);\n",
              "        }\n",
              "      </script>\n",
              "    </div>\n",
              "  </div>\n",
              "  "
            ]
          },
          "metadata": {},
          "execution_count": 21
        }
      ],
      "source": [
        "df.head()"
      ]
    },
    {
      "cell_type": "code",
      "execution_count": 22,
      "metadata": {
        "colab": {
          "base_uri": "https://localhost:8080/"
        },
        "id": "CoiO6PohBg0v",
        "outputId": "3913dad2-be90-4c0c-fa2a-0a86b2ce5bd9"
      },
      "outputs": [
        {
          "output_type": "execute_result",
          "data": {
            "text/plain": [
              "(1200, 5)"
            ]
          },
          "metadata": {},
          "execution_count": 22
        }
      ],
      "source": [
        "df.shape"
      ]
    },
    {
      "cell_type": "code",
      "execution_count": 23,
      "metadata": {
        "id": "Y5xZZnMLZFJB"
      },
      "outputs": [],
      "source": [
        "import matplotlib.pyplot as plt"
      ]
    },
    {
      "cell_type": "code",
      "execution_count": 24,
      "metadata": {
        "colab": {
          "base_uri": "https://localhost:8080/",
          "height": 931
        },
        "id": "TM7CFsvmGD2i",
        "outputId": "4d41c9ad-e962-464a-985b-718f2760096b"
      },
      "outputs": [
        {
          "output_type": "execute_result",
          "data": {
            "text/plain": [
              "<matplotlib.axes._subplots.AxesSubplot at 0x7fcd3ab50c10>"
            ]
          },
          "metadata": {},
          "execution_count": 24
        },
        {
          "output_type": "display_data",
          "data": {
            "text/plain": [
              "<Figure size 1800x1800 with 2 Axes>"
            ],
            "image/png": "[encoded data removed]"
          },
          "metadata": {
            "needs_background": "light"
          }
        }
      ],
      "source": [
        "corr=df.corr()\n",
        "plt.figure(figsize=(25,25))\n",
        "sns.heatmap(corr , cbar=True, square= True, fmt='.1f', annot=True, annot_kws={'size':15}, cmap='Greens')"
      ]
    },
    {
      "cell_type": "code",
      "execution_count": 25,
      "metadata": {
        "colab": {
          "base_uri": "https://localhost:8080/"
        },
        "id": "z9vszoACIjjw",
        "outputId": "15642156-2e56-4c24-c0eb-29a267d40f2b"
      },
      "outputs": [
        {
          "output_type": "execute_result",
          "data": {
            "text/plain": [
              "Index(['TOC (%)', 'Moisture (%)', 'Temp (C)', 'Pres. (MPa)',\n",
              "       'CO2 Excess Sorption (cm3/gr)'],\n",
              "      dtype='object')"
            ]
          },
          "metadata": {},
          "execution_count": 25
        }
      ],
      "source": [
        "df.columns"
      ]
    },
    {
      "cell_type": "code",
      "execution_count": 26,
      "metadata": {
        "colab": {
          "base_uri": "https://localhost:8080/"
        },
        "id": "x3fnw-CNI6-t",
        "outputId": "619a5f36-bcf5-478f-b091-f58a7cced1bb"
      },
      "outputs": [
        {
          "output_type": "execute_result",
          "data": {
            "text/plain": [
              "TOC (%)                         float64\n",
              "Moisture (%)                    float64\n",
              "Temp (C)                          int64\n",
              "Pres. (MPa)                     float64\n",
              "CO2 Excess Sorption (cm3/gr)    float64\n",
              "dtype: object"
            ]
          },
          "metadata": {},
          "execution_count": 26
        }
      ],
      "source": [
        "df.dtypes"
      ]
    },
    {
      "cell_type": "code",
      "execution_count": 27,
      "metadata": {
        "colab": {
          "base_uri": "https://localhost:8080/"
        },
        "id": "6oXdTfL2JLL2",
        "outputId": "bd25b5e2-3b47-48de-c2a4-8ff595cac506"
      },
      "outputs": [
        {
          "output_type": "stream",
          "name": "stdout",
          "text": [
            "<class 'pandas.core.frame.DataFrame'>\n",
            "RangeIndex: 1200 entries, 0 to 1199\n",
            "Data columns (total 5 columns):\n",
            " #   Column                        Non-Null Count  Dtype  \n",
            "---  ------                        --------------  -----  \n",
            " 0   TOC (%)                       1200 non-null   float64\n",
            " 1   Moisture (%)                  1200 non-null   float64\n",
            " 2   Temp (C)                      1200 non-null   int64  \n",
            " 3   Pres. (MPa)                   1200 non-null   float64\n",
            " 4   CO2 Excess Sorption (cm3/gr)  1200 non-null   float64\n",
            "dtypes: float64(4), int64(1)\n",
            "memory usage: 47.0 KB\n"
          ]
        }
      ],
      "source": [
        "df.info()"
      ]
    },
    {
      "cell_type": "code",
      "execution_count": 28,
      "metadata": {
        "colab": {
          "base_uri": "https://localhost:8080/",
          "height": 300
        },
        "id": "YJN55BpjJTiL",
        "outputId": "bde2cfe2-f423-4556-c641-2f5bc6f263e9"
      },
      "outputs": [
        {
          "output_type": "execute_result",
          "data": {
            "text/plain": [
              "           TOC (%)  Moisture (%)     Temp (C)  Pres. (MPa)  \\\n",
              "count  1200.000000   1200.000000  1200.000000  1200.000000   \n",
              "mean     11.946637      2.495300    48.523333     9.969668   \n",
              "std      21.084400      2.050286    19.675333     7.214140   \n",
              "min       0.090000      0.200000    30.000000     0.164000   \n",
              "25%       1.700000      0.680000    30.000000     5.233850   \n",
              "50%       5.150000      1.660000    45.000000     7.018250   \n",
              "75%      10.940000      4.000000    60.000000    14.900250   \n",
              "max      88.500000     10.970000   130.000000    27.861700   \n",
              "\n",
              "       CO2 Excess Sorption (cm3/gr)  \n",
              "count                   1200.000000  \n",
              "mean                       1.260853  \n",
              "std                        1.260792  \n",
              "min                        0.001600  \n",
              "25%                        0.300000  \n",
              "50%                        0.695720  \n",
              "75%                        1.720940  \n",
              "max                        5.360000  "
            ],
            "text/html": [
              "\n",
              "  <div id=\"df-710bfe49-d279-4497-b321-f6232fe1cd3e\">\n",
              "    <div class=\"colab-df-container\">\n",
              "      <div>\n",
              "<style scoped>\n",
              "    .dataframe tbody tr th:only-of-type {\n",
              "        vertical-align: middle;\n",
              "    }\n",
              "\n",
              "    .dataframe tbody tr th {\n",
              "        vertical-align: top;\n",
              "    }\n",
              "\n",
              "    .dataframe thead th {\n",
              "        text-align: right;\n",
              "    }\n",
              "</style>\n",
              "<table border=\"1\" class=\"dataframe\">\n",
              "  <thead>\n",
              "    <tr style=\"text-align: right;\">\n",
              "      <th></th>\n",
              "      <th>TOC (%)</th>\n",
              "      <th>Moisture (%)</th>\n",
              "      <th>Temp (C)</th>\n",
              "      <th>Pres. (MPa)</th>\n",
              "      <th>CO2 Excess Sorption (cm3/gr)</th>\n",
              "    </tr>\n",
              "  </thead>\n",
              "  <tbody>\n",
              "    <tr>\n",
              "      <th>count</th>\n",
              "      <td>1200.000000</td>\n",
              "      <td>1200.000000</td>\n",
              "      <td>1200.000000</td>\n",
              "      <td>1200.000000</td>\n",
              "      <td>1200.000000</td>\n",
              "    </tr>\n",
              "    <tr>\n",
              "      <th>mean</th>\n",
              "      <td>11.946637</td>\n",
              "      <td>2.495300</td>\n",
              "      <td>48.523333</td>\n",
              "      <td>9.969668</td>\n",
              "      <td>1.260853</td>\n",
              "    </tr>\n",
              "    <tr>\n",
              "      <th>std</th>\n",
              "      <td>21.084400</td>\n",
              "      <td>2.050286</td>\n",
              "      <td>19.675333</td>\n",
              "      <td>7.214140</td>\n",
              "      <td>1.260792</td>\n",
              "    </tr>\n",
              "    <tr>\n",
              "      <th>min</th>\n",
              "      <td>0.090000</td>\n",
              "      <td>0.200000</td>\n",
              "      <td>30.000000</td>\n",
              "      <td>0.164000</td>\n",
              "      <td>0.001600</td>\n",
              "    </tr>\n",
              "    <tr>\n",
              "      <th>25%</th>\n",
              "      <td>1.700000</td>\n",
              "      <td>0.680000</td>\n",
              "      <td>30.000000</td>\n",
              "      <td>5.233850</td>\n",
              "      <td>0.300000</td>\n",
              "    </tr>\n",
              "    <tr>\n",
              "      <th>50%</th>\n",
              "      <td>5.150000</td>\n",
              "      <td>1.660000</td>\n",
              "      <td>45.000000</td>\n",
              "      <td>7.018250</td>\n",
              "      <td>0.695720</td>\n",
              "    </tr>\n",
              "    <tr>\n",
              "      <th>75%</th>\n",
              "      <td>10.940000</td>\n",
              "      <td>4.000000</td>\n",
              "      <td>60.000000</td>\n",
              "      <td>14.900250</td>\n",
              "      <td>1.720940</td>\n",
              "    </tr>\n",
              "    <tr>\n",
              "      <th>max</th>\n",
              "      <td>88.500000</td>\n",
              "      <td>10.970000</td>\n",
              "      <td>130.000000</td>\n",
              "      <td>27.861700</td>\n",
              "      <td>5.360000</td>\n",
              "    </tr>\n",
              "  </tbody>\n",
              "</table>\n",
              "</div>\n",
              "      <button class=\"colab-df-convert\" onclick=\"convertToInteractive('df-710bfe49-d279-4497-b321-f6232fe1cd3e')\"\n",
              "              title=\"Convert this dataframe to an interactive table.\"\n",
              "              style=\"display:none;\">\n",
              "        \n",
              "  <svg xmlns=\"http://www.w3.org/2000/svg\" height=\"24px\"viewBox=\"0 0 24 24\"\n",
              "       width=\"24px\">\n",
              "    <path d=\"M0 0h24v24H0V0z\" fill=\"none\"/>\n",
              "    <path d=\"M18.56 5.44l.94 2.06.94-2.06 2.06-.94-2.06-.94-.94-2.06-.94 2.06-2.06.94zm-11 1L8.5 8.5l.94-2.06 2.06-.94-2.06-.94L8.5 2.5l-.94 2.06-2.06.94zm10 10l.94 2.06.94-2.06 2.06-.94-2.06-.94-.94-2.06-.94 2.06-2.06.94z\"/><path d=\"M17.41 7.96l-1.37-1.37c-.4-.4-.92-.59-1.43-.59-.52 0-1.04.2-1.43.59L10.3 9.45l-7.72 7.72c-.78.78-.78 2.05 0 2.83L4 21.41c.39.39.9.59 1.41.59.51 0 1.02-.2 1.41-.59l7.78-7.78 2.81-2.81c.8-.78.8-2.07 0-2.86zM5.41 20L4 18.59l7.72-7.72 1.47 1.35L5.41 20z\"/>\n",
              "  </svg>\n",
              "      </button>\n",
              "      \n",
              "  <style>\n",
              "    .colab-df-container {\n",
              "      display:flex;\n",
              "      flex-wrap:wrap;\n",
              "      gap: 12px;\n",
              "    }\n",
              "\n",
              "    .colab-df-convert {\n",
              "      background-color: #E8F0FE;\n",
              "      border: none;\n",
              "      border-radius: 50%;\n",
              "      cursor: pointer;\n",
              "      display: none;\n",
              "      fill: #1967D2;\n",
              "      height: 32px;\n",
              "      padding: 0 0 0 0;\n",
              "      width: 32px;\n",
              "    }\n",
              "\n",
              "    .colab-df-convert:hover {\n",
              "      background-color: #E2EBFA;\n",
              "      box-shadow: 0px 1px 2px rgba(60, 64, 67, 0.3), 0px 1px 3px 1px rgba(60, 64, 67, 0.15);\n",
              "      fill: #174EA6;\n",
              "    }\n",
              "\n",
              "    [theme=dark] .colab-df-convert {\n",
              "      background-color: #3B4455;\n",
              "      fill: #D2E3FC;\n",
              "    }\n",
              "\n",
              "    [theme=dark] .colab-df-convert:hover {\n",
              "      background-color: #434B5C;\n",
              "      box-shadow: 0px 1px 3px 1px rgba(0, 0, 0, 0.15);\n",
              "      filter: drop-shadow(0px 1px 2px rgba(0, 0, 0, 0.3));\n",
              "      fill: #FFFFFF;\n",
              "    }\n",
              "  </style>\n",
              "\n",
              "      <script>\n",
              "        const buttonEl =\n",
              "          document.querySelector('#df-710bfe49-d279-4497-b321-f6232fe1cd3e button.colab-df-convert');\n",
              "        buttonEl.style.display =\n",
              "          google.colab.kernel.accessAllowed ? 'block' : 'none';\n",
              "\n",
              "        async function convertToInteractive(key) {\n",
              "          const element = document.querySelector('#df-710bfe49-d279-4497-b321-f6232fe1cd3e');\n",
              "          const dataTable =\n",
              "            await google.colab.kernel.invokeFunction('convertToInteractive',\n",
              "                                                     [key], {});\n",
              "          if (!dataTable) return;\n",
              "\n",
              "          const docLinkHtml = 'Like what you see? Visit the ' +\n",
              "            '<a target=\"_blank\" href=https://colab.research.google.com/notebooks/data_table.ipynb>data table notebook</a>'\n",
              "            + ' to learn more about interactive tables.';\n",
              "          element.innerHTML = '';\n",
              "          dataTable['output_type'] = 'display_data';\n",
              "          await google.colab.output.renderOutput(dataTable, element);\n",
              "          const docLink = document.createElement('div');\n",
              "          docLink.innerHTML = docLinkHtml;\n",
              "          element.appendChild(docLink);\n",
              "        }\n",
              "      </script>\n",
              "    </div>\n",
              "  </div>\n",
              "  "
            ]
          },
          "metadata": {},
          "execution_count": 28
        }
      ],
      "source": [
        "df.describe()"
      ]
    },
    {
      "cell_type": "code",
      "execution_count": 30,
      "metadata": {
        "id": "g1ao96PlBGrA"
      },
      "outputs": [],
      "source": [
        "y=df['CO2 Excess Sorption (cm3/gr)']"
      ]
    },
    {
      "cell_type": "code",
      "execution_count": 31,
      "metadata": {
        "colab": {
          "base_uri": "https://localhost:8080/"
        },
        "id": "nFSkFM-e0tJ-",
        "outputId": "cf0b7b47-a257-4f2e-cdd5-6a1ef5623507"
      },
      "outputs": [
        {
          "output_type": "execute_result",
          "data": {
            "text/plain": [
              "0       0.0468\n",
              "1       0.0842\n",
              "2       0.1186\n",
              "3       0.2246\n",
              "4       0.3682\n",
              "         ...  \n",
              "1195    1.4600\n",
              "1196    1.9500\n",
              "1197    2.1700\n",
              "1198    2.2600\n",
              "1199    2.3000\n",
              "Name: CO2 Excess Sorption (cm3/gr), Length: 1200, dtype: float64"
            ]
          },
          "metadata": {},
          "execution_count": 31
        }
      ],
      "source": [
        "y"
      ]
    },
    {
      "cell_type": "code",
      "execution_count": 32,
      "metadata": {
        "id": "Is7VyF7n_fLU"
      },
      "outputs": [],
      "source": [
        "X = df[['TOC (%)','Temp (C)','Moisture (%)','Pres. (MPa)',]].values"
      ]
    },
    {
      "cell_type": "code",
      "execution_count": 33,
      "metadata": {
        "colab": {
          "base_uri": "https://localhost:8080/"
        },
        "id": "jUXkvR-YCllZ",
        "outputId": "2d8afdee-fc04-4764-d380-832990b09bd2"
      },
      "outputs": [
        {
          "output_type": "execute_result",
          "data": {
            "text/plain": [
              "array([[ 1.66  , 50.    ,  1.42  ,  0.4413],\n",
              "       [ 1.66  , 50.    ,  1.42  ,  0.9308],\n",
              "       [ 1.66  , 50.    ,  1.42  ,  1.4617],\n",
              "       ...,\n",
              "       [ 4.76  , 70.    ,  1.5   ,  6.21  ],\n",
              "       [ 4.76  , 70.    ,  1.5   ,  8.67  ],\n",
              "       [ 4.76  , 70.    ,  1.5   , 10.94  ]])"
            ]
          },
          "metadata": {},
          "execution_count": 33
        }
      ],
      "source": [
        "X"
      ]
    },
    {
      "cell_type": "code",
      "execution_count": 34,
      "metadata": {
        "id": "T8v5E_k4Clpa"
      },
      "outputs": [],
      "source": [
        "X_train, X_test , y_train , y_test = train_test_split(X,y,test_size=0.20,random_state=26)"
      ]
    },
    {
      "cell_type": "code",
      "source": [
        "X_test"
      ],
      "metadata": {
        "colab": {
          "base_uri": "https://localhost:8080/"
        },
        "id": "EyTvzJ4z5B4F",
        "outputId": "be739298-54e1-46eb-8822-2fd6b70ee60f"
      },
      "execution_count": 35,
      "outputs": [
        {
          "output_type": "execute_result",
          "data": {
            "text/plain": [
              "array([[ 62.2       ,  61.        ,   6.4       ,   7.91      ],\n",
              "       [  3.98      ,  45.        ,   0.25      ,  18.012     ],\n",
              "       [ 10.94      ,  70.        ,   2.65      ,  13.84997887],\n",
              "       [  0.45      ,  80.        ,   0.61      ,   1.4962    ],\n",
              "       [  3.46      ,  30.        ,   5.51      ,   6.        ],\n",
              "       [  1.72      ,  30.        ,   2.62      ,   6.        ],\n",
              "       [ 10.94      ,  45.        ,   0.39      ,  14.313     ],\n",
              "       [  5.15      ,  30.        ,   6.94      ,   6.1761    ],\n",
              "       [  5.79      ,  45.        ,   0.41      ,   5.102     ],\n",
              "       [  5.41      ,  45.        ,   0.3       ,   3.473     ],\n",
              "       [  5.41      ,  45.        ,   1.81      ,  20.902     ],\n",
              "       [ 10.94      , 100.        ,   2.65      ,  15.38228783],\n",
              "       [  5.7       ,  38.        ,   2.8       ,  21.7095    ],\n",
              "       [  1.91      ,  30.        ,   3.63      ,   6.        ],\n",
              "       [ 10.94      , 130.        ,   2.65      ,  15.5253222 ],\n",
              "       [  1.81      ,  30.        ,   2.97      ,   6.        ],\n",
              "       [  5.41      ,  45.        ,   0.41      ,  24.813     ],\n",
              "       [  2.34      ,  30.        ,   6.52      ,   0.5636    ],\n",
              "       [ 15.91      ,  45.        ,   0.4       ,  22.05      ],\n",
              "       [  3.04      ,  30.        ,   4.87      ,   6.        ],\n",
              "       [ 10.94      ,  45.        ,   0.39      ,   5.67      ],\n",
              "       [  0.59      ,  51.        ,   1.12      ,   5.7227    ],\n",
              "       [  0.75      ,  38.        ,   0.59      ,   3.3026    ],\n",
              "       [  5.7       ,  38.        ,   2.8       ,  19.3646    ],\n",
              "       [  3.98      ,  45.        ,   0.76      ,   9.29      ],\n",
              "       [  4.76      ,  60.        ,   1.5       ,   0.38      ],\n",
              "       [ 74.4       ,  61.        ,   4.        ,   6.54      ],\n",
              "       [ 74.4       ,  61.        ,   4.        ,   1.44      ],\n",
              "       [ 88.5       ,  61.        ,   4.8       ,   6.14      ],\n",
              "       [  5.41      ,  45.        ,   0.41      ,  10.939     ],\n",
              "       [  5.29      ,  62.        ,   1.5       ,   5.89      ],\n",
              "       [  0.44      ,  50.        ,   0.66      ,  20.4154    ],\n",
              "       [  0.56      ,  30.        ,   2.34      ,   6.        ],\n",
              "       [  4.76      ,  30.        ,   1.5       ,   8.67      ],\n",
              "       [  2.34      ,  30.        ,   6.52      ,   5.2       ],\n",
              "       [  0.38      ,  38.        ,   1.87      ,   0.2689    ],\n",
              "       [  4.76      ,  70.        ,   1.5       ,  10.94      ],\n",
              "       [  3.98      ,  45.        ,   0.25      ,  13.622     ],\n",
              "       [  1.64      ,  30.        ,   4.37      ,   0.82      ],\n",
              "       [  1.51      ,  45.        ,   0.6       ,   9.1423    ],\n",
              "       [  4.82      ,  30.        ,   5.31      ,   6.        ],\n",
              "       [ 74.4       ,  61.        ,   4.        ,  14.3       ],\n",
              "       [  3.98      ,  45.        ,   0.3       ,  18.707     ],\n",
              "       [  4.76      ,  40.        ,   1.5       ,   8.67      ],\n",
              "       [ 62.2       ,  61.        ,   6.4       ,   6.03      ],\n",
              "       [ 10.94      , 130.        ,   2.65      ,  13.35470299],\n",
              "       [  6.7       ,  38.        ,   3.3       ,  11.6385    ],\n",
              "       [  7.18      ,  30.        ,   4.48      ,   6.        ],\n",
              "       [  7.18      ,  30.        ,   4.48      ,   7.1636    ],\n",
              "       [ 10.94      ,  45.        ,   0.39      ,   2.63      ],\n",
              "       [  3.98      ,  45.        ,   0.3       ,   6.154     ],\n",
              "       [ 10.94      , 100.        ,   2.65      ,  19.49166741],\n",
              "       [ 74.4       ,  61.        ,   4.        ,   9.88      ],\n",
              "       [  1.68      ,  30.        ,   3.35      ,   6.        ],\n",
              "       [  1.75      ,  30.        ,   6.36      ,   6.        ],\n",
              "       [  5.41      ,  45.        ,   0.41      ,  23.344     ],\n",
              "       [  0.59      ,  51.        ,   1.12      ,   0.8274    ],\n",
              "       [  1.51      ,  45.        ,   0.6       ,  11.2711    ],\n",
              "       [  1.51      ,  45.        ,   1.59      ,  10.408     ],\n",
              "       [ 74.4       ,  61.        ,   4.        ,  11.27      ],\n",
              "       [  1.66      ,  50.        ,   1.42      ,   5.7158    ],\n",
              "       [  5.41      ,  45.        ,   0.3       ,  15.521     ],\n",
              "       [  3.28      ,  60.        ,   1.5       ,  20.22      ],\n",
              "       [  1.65      ,  30.        ,   5.1       ,   6.        ],\n",
              "       [ 62.2       ,  61.        ,   6.4       ,  11.21      ],\n",
              "       [  5.79      ,  45.        ,   0.36      ,   9.921     ],\n",
              "       [  5.41      ,  45.        ,   1.81      ,  11.018     ],\n",
              "       [  0.81      ,  30.        ,   4.98      ,   6.2126    ],\n",
              "       [  5.79      ,  45.        ,   1.34      ,  14.702     ],\n",
              "       [ 10.94      ,  45.        ,   0.68      ,  14.279     ],\n",
              "       [  0.81      ,  30.        ,   4.98      ,   3.3522    ],\n",
              "       [  1.73      ,  67.        ,   0.55      ,  13.1207    ],\n",
              "       [  2.34      ,  67.        ,   1.72      ,  15.2374    ],\n",
              "       [  1.51      ,  45.        ,   1.59      ,  21.718     ],\n",
              "       [  1.51      ,  45.        ,   1.59      ,   4.797     ],\n",
              "       [  6.84      ,  30.        ,   5.24      ,   4.2449    ],\n",
              "       [  5.32      ,  30.        ,   8.95      ,   6.        ],\n",
              "       [ 10.94      , 130.        ,   2.65      ,  10.67342095],\n",
              "       [  5.79      ,  45.        ,   0.36      ,  21.489     ],\n",
              "       [  2.59      ,  30.        ,   7.53      ,   6.        ],\n",
              "       [  5.79      ,  45.        ,   0.41      ,  24.866     ],\n",
              "       [  1.57      ,  30.        ,   4.51      ,   6.        ],\n",
              "       [  6.7       ,  38.        ,   3.3       ,  19.4444    ],\n",
              "       [  3.98      ,  45.        ,   0.3       ,   7.638     ],\n",
              "       [ 74.4       ,  61.        ,   4.        ,   8.55      ],\n",
              "       [  2.19      ,  30.        ,   5.12      ,   6.        ],\n",
              "       [ 74.4       ,  61.        ,   4.        ,  10.25      ],\n",
              "       [  1.64      ,  30.        ,   4.37      ,   1.6766    ],\n",
              "       [ 88.5       ,  61.        ,   4.8       ,   1.97      ],\n",
              "       [  4.48      ,  38.        ,   0.77      ,   0.8136    ],\n",
              "       [  0.45      ,  80.        ,   0.61      ,   8.7081    ],\n",
              "       [  5.79      ,  45.        ,   1.34      ,  14.046     ],\n",
              "       [  5.41      ,  45.        ,   1.81      ,   4.956     ],\n",
              "       [  1.66      ,  50.        ,   1.42      ,   8.5978    ],\n",
              "       [  3.28      ,  60.        ,   1.5       ,  13.25      ],\n",
              "       [  2.03      ,  30.        ,   6.3       ,   6.        ],\n",
              "       [  4.76      ,  30.        ,   1.5       ,   2.21      ],\n",
              "       [ 88.5       ,  61.        ,   4.8       ,   0.95      ],\n",
              "       [  5.15      ,  70.        ,   1.5       ,   0.36      ],\n",
              "       [ 74.4       ,  61.        ,   4.        ,  12.2       ],\n",
              "       [  5.41      ,  45.        ,   1.81      ,  26.966     ],\n",
              "       [  5.29      ,  62.        ,   1.5       ,   3.13      ],\n",
              "       [ 74.4       ,  61.        ,   4.        ,  13.26      ],\n",
              "       [ 74.4       ,  61.        ,   4.        ,  12.35      ],\n",
              "       [  1.51      ,  45.        ,   0.6       ,  10.2711    ],\n",
              "       [  5.7       ,  38.        ,   2.8       ,   5.7867    ],\n",
              "       [  5.79      ,  45.        ,   0.41      ,  21.751     ],\n",
              "       [  0.38      ,  38.        ,   1.87      ,   3.1647    ],\n",
              "       [ 15.91      ,  45.        ,   0.4       ,   3.125     ],\n",
              "       [  1.73      ,  67.        ,   0.55      ,  27.6618    ],\n",
              "       [  5.79      ,  45.        ,   1.34      ,  22.241     ],\n",
              "       [  4.05      ,  57.        ,   1.5       ,  20.22      ],\n",
              "       [  4.76      ,  40.        ,   1.5       ,  10.83      ],\n",
              "       [ 15.91      ,  45.        ,   1.66      ,  20.401     ],\n",
              "       [ 10.94      , 130.        ,   2.65      ,  20.44441552],\n",
              "       [  5.79      ,  45.        ,   0.36      ,  13.439     ],\n",
              "       [ 15.91      ,  45.        ,   1.66      ,  13.525     ],\n",
              "       [  1.11      ,  54.        ,   1.5       ,   3.13      ],\n",
              "       [ 88.5       ,  61.        ,   4.8       ,   9.86      ],\n",
              "       [  1.51      ,  45.        ,   0.74      ,  20.591     ],\n",
              "       [  2.13      ,  30.        ,   6.54      ,   6.        ],\n",
              "       [ 15.91      ,  45.        ,   0.62      ,  19.359     ],\n",
              "       [  0.38      ,  38.        ,   1.87      ,   9.0115    ],\n",
              "       [  6.84      ,  30.        ,   5.24      ,   6.        ],\n",
              "       [ 10.94      , 130.        ,   2.65      ,  14.00916314],\n",
              "       [  6.01      ,  53.        ,   1.5       ,  20.22      ],\n",
              "       [  5.7       ,  38.        ,   2.8       ,   1.7398    ],\n",
              "       [ 62.2       ,  61.        ,   6.4       ,  15.42      ],\n",
              "       [ 10.94      ,  45.        ,   0.39      ,  16.993     ],\n",
              "       [ 62.2       ,  61.        ,   6.4       ,  16.58      ],\n",
              "       [  4.        ,  30.        ,   5.34      ,   6.        ],\n",
              "       [  6.7       ,  38.        ,   3.3       ,   4.1843    ],\n",
              "       [  7.18      ,  30.        ,   4.48      ,   4.2909    ],\n",
              "       [  6.7       ,  38.        ,   3.3       ,  20.6751    ],\n",
              "       [  2.84      ,  72.        ,   0.92      ,   2.9647    ],\n",
              "       [ 10.94      ,  45.        ,   0.68      ,  16.636     ],\n",
              "       [  4.48      ,  38.        ,   0.77      ,  11.3832    ],\n",
              "       [ 10.94      ,  45.        ,   0.68      ,   2.659     ],\n",
              "       [  4.48      ,  38.        ,   0.77      ,   1.2893    ],\n",
              "       [  2.84      ,  72.        ,   0.92      ,  21.6909    ],\n",
              "       [  5.79      ,  45.        ,   0.41      ,  25.15      ],\n",
              "       [  3.25      ,  38.        ,   1.47      ,   0.6688    ],\n",
              "       [  5.79      ,  45.        ,   0.41      ,  16.045     ],\n",
              "       [  5.15      ,  30.        ,   1.5       ,   8.67      ],\n",
              "       [  5.79      ,  45.        ,   0.41      ,  23.564     ],\n",
              "       [ 74.4       ,  61.        ,   4.        ,   9.88      ],\n",
              "       [ 15.91      ,  45.        ,   1.66      ,  22.577     ],\n",
              "       [  1.28      ,  30.        ,   5.48      ,   6.        ],\n",
              "       [ 88.5       ,  61.        ,   4.8       ,  10.83      ],\n",
              "       [  6.05      ,  30.        ,   7.34      ,   2.7692    ],\n",
              "       [  1.64      ,  30.        ,   4.37      ,   6.        ],\n",
              "       [  1.58      ,  30.        ,   4.01      ,   6.        ],\n",
              "       [ 88.5       ,  61.        ,   4.8       ,  11.91      ],\n",
              "       [  5.41      ,  45.        ,   1.81      ,   8.428     ],\n",
              "       [ 10.16      ,  30.        ,   2.63      ,   1.2141    ],\n",
              "       [ 74.4       ,  61.        ,   4.        ,   4.51      ],\n",
              "       [  1.51      ,  45.        ,   1.59      ,  20.91      ],\n",
              "       [  1.92      ,  30.        ,   3.73      ,   6.        ],\n",
              "       [ 62.2       ,  61.        ,   6.4       ,  10.9       ],\n",
              "       [  1.51      ,  45.        ,   0.74      ,   9.147     ],\n",
              "       [  3.25      ,  38.        ,   1.47      ,   7.9152    ],\n",
              "       [  7.18      ,  30.        ,   4.48      ,   5.2364    ],\n",
              "       [  1.51      ,  45.        ,   0.74      ,  24.283     ],\n",
              "       [ 10.94      , 130.        ,   2.65      ,  24.85945611],\n",
              "       [ 10.94      , 100.        ,   2.65      ,   5.64109749],\n",
              "       [  3.98      ,  45.        ,   0.3       ,  12.142     ],\n",
              "       [  1.11      ,  54.        ,   1.5       ,  20.22      ],\n",
              "       [  0.75      ,  38.        ,   0.59      ,   0.4068    ],\n",
              "       [ 10.94      , 130.        ,   2.65      ,  12.65424676],\n",
              "       [  1.51      ,  45.        ,   1.59      ,   1.781     ],\n",
              "       [ 10.94      ,  45.        ,   0.68      ,  10.175     ],\n",
              "       [  5.79      ,  45.        ,   0.41      ,  10.98      ],\n",
              "       [  5.29      ,  62.        ,   1.5       ,  20.22      ],\n",
              "       [  4.05      ,  57.        ,   1.5       ,   3.13      ],\n",
              "       [  1.29      ,  72.        ,   0.26      ,   5.7985    ],\n",
              "       [  1.68      ,  30.        ,   2.52      ,   6.        ],\n",
              "       [  1.7       ,  30.        ,   4.62      ,   6.        ],\n",
              "       [  4.76      ,  60.        ,   1.5       ,   2.21      ],\n",
              "       [ 10.94      ,  70.        ,   2.65      ,  25.12482476],\n",
              "       [  1.01      ,  30.        ,   4.48      ,   6.        ],\n",
              "       [  5.79      ,  45.        ,   0.36      ,  17.344     ],\n",
              "       [  5.15      ,  70.        ,   1.5       ,   4.28      ],\n",
              "       [  1.42      ,  30.        ,   6.55      ,   6.        ],\n",
              "       [  0.75      ,  38.        ,   0.59      ,  15.527     ],\n",
              "       [  1.91      ,  30.        ,   3.57      ,   6.        ],\n",
              "       [  3.98      ,  45.        ,   0.3       ,  14.753     ],\n",
              "       [  1.64      ,  30.        ,   4.37      ,   6.1607    ],\n",
              "       [  2.07      ,  30.        ,   5.63      ,   6.        ],\n",
              "       [ 10.94      , 100.        ,   2.65      ,  17.79605431],\n",
              "       [ 15.91      ,  45.        ,   0.62      ,   5.13      ],\n",
              "       [  1.64      ,  30.        ,   4.37      ,   1.2392    ],\n",
              "       [ 88.5       ,  61.        ,   4.8       ,   7.18      ],\n",
              "       [  5.15      ,  30.        ,   6.94      ,   0.672     ],\n",
              "       [  1.51      ,  45.        ,   0.74      ,  15.911     ],\n",
              "       [ 88.5       ,  61.        ,   4.8       ,   6.83      ],\n",
              "       [  5.41      ,  45.        ,   0.41      ,   6.006     ],\n",
              "       [ 15.91      ,  45.        ,   0.4       ,  24.497     ],\n",
              "       [  0.75      ,  38.        ,   0.59      ,   7.5567    ],\n",
              "       [ 10.94      , 100.        ,   2.65      ,  24.91354546],\n",
              "       [  1.3       ,  30.        ,   8.59      ,   6.        ],\n",
              "       [  1.73      ,  67.        ,   0.55      ,   1.6203    ],\n",
              "       [  1.38      ,  30.        ,   5.62      ,   6.        ],\n",
              "       [ 15.91      ,  45.        ,   0.62      ,  22.885     ],\n",
              "       [  6.11      ,  64.        ,   1.5       ,   5.89      ],\n",
              "       [  0.38      ,  38.        ,   1.87      ,   2.5511    ],\n",
              "       [  4.76      ,  40.        ,   1.5       ,   6.21      ],\n",
              "       [ 10.94      , 100.        ,   2.65      ,  25.98226189],\n",
              "       [  5.41      ,  45.        ,   0.41      ,  10.084     ],\n",
              "       [  5.15      ,  30.        ,   6.94      ,   1.0533    ],\n",
              "       [ 88.5       ,  61.        ,   4.8       ,   7.96      ],\n",
              "       [  3.06792021,  30.        ,   5.9       ,   6.        ],\n",
              "       [  3.98      ,  45.        ,   0.3       ,   9.        ],\n",
              "       [  6.05      ,  30.        ,   7.34      ,   5.4838    ],\n",
              "       [  1.15      ,  30.        ,   5.36      ,   6.        ],\n",
              "       [ 74.4       ,  61.        ,   4.        ,   1.41      ],\n",
              "       [  2.34      ,  67.        ,   1.72      ,   0.4413    ],\n",
              "       [  1.73      ,  67.        ,   0.55      ,   9.2045    ],\n",
              "       [ 62.2       ,  61.        ,   6.4       ,   1.46      ],\n",
              "       [ 10.16      ,  30.        ,   2.63      ,   0.1812    ],\n",
              "       [  4.76      ,  30.        ,   1.5       ,  10.94      ],\n",
              "       [  0.91      ,  60.        ,   1.5       ,   3.13      ],\n",
              "       [  2.37      ,  30.        ,   4.04      ,   6.        ],\n",
              "       [  4.51      ,  30.        ,   6.71      ,   6.        ],\n",
              "       [  3.98      ,  45.        ,   0.76      ,  21.885     ],\n",
              "       [  6.05      ,  30.        ,   7.34      ,   1.1842    ],\n",
              "       [ 10.94      ,  70.        ,   2.65      ,   1.22737565],\n",
              "       [  1.96      ,  30.        ,   3.36      ,   6.        ],\n",
              "       [  4.03      ,  85.        ,   0.26      ,   3.1716    ],\n",
              "       [ 62.2       ,  61.        ,   6.4       ,   5.15      ],\n",
              "       [ 15.91      ,  45.        ,   1.66      ,  21.533     ],\n",
              "       [  0.75      ,  38.        ,   0.59      ,   2.6959    ],\n",
              "       [ 10.94      , 100.        ,   2.65      ,  24.32391839],\n",
              "       [  2.34      ,  30.        ,   6.52      ,   6.1818    ],\n",
              "       [  4.05      ,  57.        ,   1.5       ,   5.89      ],\n",
              "       [  5.41      ,  45.        ,   1.81      ,  17.31      ],\n",
              "       [ 15.91      ,  45.        ,   0.62      ,  15.762     ],\n",
              "       [  5.79      ,  45.        ,   0.41      ,   1.618     ],\n",
              "       [  1.74      ,  30.        ,   2.35      ,   6.        ],\n",
              "       [ 10.94      ,  70.        ,   2.65      ,   7.90896477],\n",
              "       [  3.98      ,  45.        ,   0.25      ,  24.185     ]])"
            ]
          },
          "metadata": {},
          "execution_count": 35
        }
      ]
    },
    {
      "cell_type": "code",
      "execution_count": 36,
      "metadata": {
        "colab": {
          "base_uri": "https://localhost:8080/"
        },
        "id": "GIIKleAuKycJ",
        "outputId": "20433ad8-7c81-49c6-97f3-acda1f84e11f"
      },
      "outputs": [
        {
          "output_type": "execute_result",
          "data": {
            "text/plain": [
              "array([[  4.76      ,  60.        ,   1.5       ,   8.67      ],\n",
              "       [ 10.94      ,  45.        ,   0.39      ,   4.205     ],\n",
              "       [  1.51      ,  45.        ,   0.74      ,   5.448     ],\n",
              "       ...,\n",
              "       [  6.11      ,  64.        ,   1.5       ,  20.22      ],\n",
              "       [  4.05      ,  57.        ,   1.5       ,   9.57      ],\n",
              "       [ 10.94      , 130.        ,   2.65      ,  19.01113305]])"
            ]
          },
          "metadata": {},
          "execution_count": 36
        }
      ],
      "source": [
        "X_train"
      ]
    },
    {
      "cell_type": "code",
      "source": [
        "y_train"
      ],
      "metadata": {
        "colab": {
          "base_uri": "https://localhost:8080/"
        },
        "id": "h6EE4qJ5o419",
        "outputId": "c3d6f192-6153-4ad4-d597-3abdf536e73a"
      },
      "execution_count": 37,
      "outputs": [
        {
          "output_type": "execute_result",
          "data": {
            "text/plain": [
              "1191    2.590000\n",
              "692     3.051496\n",
              "513     0.152777\n",
              "489     1.329100\n",
              "580     0.461797\n",
              "          ...   \n",
              "941     3.991722\n",
              "160     0.265200\n",
              "1101    4.780000\n",
              "1126    2.950000\n",
              "821     2.304704\n",
              "Name: CO2 Excess Sorption (cm3/gr), Length: 960, dtype: float64"
            ]
          },
          "metadata": {},
          "execution_count": 37
        }
      ]
    },
    {
      "cell_type": "markdown",
      "metadata": {
        "id": "4b3YMARsEbJu"
      },
      "source": [
        ""
      ]
    },
    {
      "cell_type": "code",
      "execution_count": 38,
      "metadata": {
        "id": "geW_S9HrBnir"
      },
      "outputs": [],
      "source": [
        "from sklearn.preprocessing import MinMaxScaler\n",
        "sc = MinMaxScaler()\n",
        "X_train[:, :] = sc.fit_transform(X_train[:, :])\n",
        "X_test[:, :] = sc.transform(X_test[:, :])"
      ]
    },
    {
      "cell_type": "code",
      "execution_count": 39,
      "metadata": {
        "colab": {
          "base_uri": "https://localhost:8080/"
        },
        "id": "w3l8THdoazLx",
        "outputId": "d2967ff1-6c60-40c1-dcfb-8212eeb5df37"
      },
      "outputs": [
        {
          "output_type": "execute_result",
          "data": {
            "text/plain": [
              "array([[0.05282208, 0.3       , 0.12070566, 0.30710131],\n",
              "       [0.12272367, 0.15      , 0.0176416 , 0.14589659],\n",
              "       [0.01606153, 0.15      , 0.05013928, 0.19077396],\n",
              "       ...,\n",
              "       [0.06809184, 0.34      , 0.12070566, 0.72410345],\n",
              "       [0.04479131, 0.27      , 0.12070566, 0.33959498],\n",
              "       [0.12272367, 1.        , 0.22748375, 0.68045842]])"
            ]
          },
          "metadata": {},
          "execution_count": 39
        }
      ],
      "source": [
        "X_train"
      ]
    },
    {
      "cell_type": "code",
      "execution_count": 40,
      "metadata": {
        "colab": {
          "base_uri": "https://localhost:8080/"
        },
        "id": "ApPS3yW_Clro",
        "outputId": "b458ab2b-aa26-4ab3-cd1f-25e5f33aa2bc"
      },
      "outputs": [
        {
          "output_type": "stream",
          "name": "stdout",
          "text": [
            "(960, 4)\n",
            "(240, 4)\n"
          ]
        }
      ],
      "source": [
        "print(X_train.shape)\n",
        "print(X_test.shape)"
      ]
    },
    {
      "cell_type": "code",
      "source": [
        "from tensorflow.keras.losses import MeanSquaredLogarithmicError\n",
        "import tensorflow as tf\n",
        "import kerastuner as kt\n",
        "msle = MeanSquaredLogarithmicError()\n",
        "def build_model(hp):\n",
        "  model = tf.keras.Sequential()\n",
        "  \n"
      ],
      "metadata": {
        "id": "i5viFgx2SGC8"
      },
      "execution_count": 115,
      "outputs": []
    },
    {
      "cell_type": "code",
      "source": [
        "from kerastuner import HyperModel\n",
        "\n",
        "\n",
        "class ANNHyperModel(HyperModel):\n",
        "    \n",
        "    def build(self, hp):\n",
        "      model = tf.keras.Sequential()\n",
        "      # Tune the number of units in the first Dense layer\n",
        "      # Choose an optimal value between 8-2048\n",
        "      hp_units1 = hp.Int('units1', min_value=8, max_value=2048, step=32)\n",
        "      hp_units2 = hp.Int('units2', min_value=8, max_value=2048, step=32)\n",
        "      hp_units3 = hp.Int('units3', min_value=8, max_value=2048, step=32)\n",
        "      hp_units4 = hp.Int('units3', min_value=8, max_value=2048, step=32)\n",
        "      hp_units5 = hp.Int('units3', min_value=8, max_value=2048, step=32)\n",
        "      hp_units6 = hp.Int('units3', min_value=8, max_value=2048, step=32)\n",
        "      \n",
        "\n",
        "      model.add(Dense(units=hp_units1, activation='relu'))\n",
        "      model.add(tf.keras.layers.Dense(units=hp_units2, activation='relu'))\n",
        "      model.add(tf.keras.layers.Dense(units=hp_units3, activation='relu'))\n",
        "      model.add(tf.keras.layers.Dense(units=hp_units4, activation='relu'))\n",
        "      model.add(tf.keras.layers.Dense(units=hp_units5, activation='relu'))\n",
        "      model.add(tf.keras.layers.Dense(units=hp_units6, activation='relu'))\n",
        "     \n",
        "      \n",
        "      model.add(Dense(1, kernel_initializer='normal', activation='linear'))\n",
        "\n",
        "      # Tune the learning rate for the optimizer\n",
        "      # Choose an optimal value from 0.01, 0.001, or 0.0001\n",
        "      hp_learning_rate = hp.Choice('learning_rate', values=[1e-2, 1e-3, 1e-4])\n",
        "\n",
        "      model.compile(\n",
        "          optimizer=tf.keras.optimizers.Adam(learning_rate=hp_learning_rate),\n",
        "          loss=msle,\n",
        "          metrics=[msle]\n",
        "      )\n",
        "\n",
        "      return model\n",
        "\n",
        "hypermodel = ANNHyperModel()\n",
        "\n",
        "tuner = kt.Hyperband(\n",
        "    hypermodel,\n",
        "    objective='val_mean_squared_logarithmic_error',\n",
        "    max_epochs=30,\n",
        "    factor=3,\n",
        "    directory='keras_tuner_dir',\n",
        "    project_name='keras_tuner_demo2'\n",
        ")\n",
        "\n",
        "tuner.search(X_train, y_train, epochs=30, validation_split=0.2)"
      ],
      "metadata": {
        "colab": {
          "base_uri": "https://localhost:8080/"
        },
        "outputId": "33a0c8a2-f35c-49c0-9a7a-924d51e184e8",
        "id": "tnVOIJ3pXxvl"
      },
      "execution_count": 130,
      "outputs": [
        {
          "output_type": "stream",
          "name": "stdout",
          "text": [
            "INFO:tensorflow:Reloading Oracle from existing project keras_tuner_dir/keras_tuner_demo2/oracle.json\n"
          ]
        },
        {
          "output_type": "stream",
          "name": "stderr",
          "text": [
            "INFO:tensorflow:Reloading Oracle from existing project keras_tuner_dir/keras_tuner_demo2/oracle.json\n"
          ]
        },
        {
          "output_type": "stream",
          "name": "stdout",
          "text": [
            "INFO:tensorflow:Reloading Tuner from keras_tuner_dir/keras_tuner_demo2/tuner0.json\n"
          ]
        },
        {
          "output_type": "stream",
          "name": "stderr",
          "text": [
            "INFO:tensorflow:Reloading Tuner from keras_tuner_dir/keras_tuner_demo2/tuner0.json\n"
          ]
        },
        {
          "output_type": "stream",
          "name": "stdout",
          "text": [
            "INFO:tensorflow:Oracle triggered exit\n"
          ]
        },
        {
          "output_type": "stream",
          "name": "stderr",
          "text": [
            "INFO:tensorflow:Oracle triggered exit\n"
          ]
        }
      ]
    },
    {
      "cell_type": "code",
      "source": [
        "for h_param in [f\"units{i}\" for i in range(1,4)] + ['learning_rate']:\n",
        "  print(h_param, tuner.get_best_hyperparameters()[0].get(h_param))\n",
        " \n"
      ],
      "metadata": {
        "colab": {
          "base_uri": "https://localhost:8080/"
        },
        "id": "dnsq_YrOVqTJ",
        "outputId": "f4107867-fb5b-4120-c0df-47b339f0896e"
      },
      "execution_count": 131,
      "outputs": [
        {
          "output_type": "stream",
          "name": "stdout",
          "text": [
            "units1 520\n",
            "units2 584\n",
            "units3 744\n",
            "learning_rate 0.001\n"
          ]
        }
      ]
    },
    {
      "cell_type": "code",
      "source": [
        "best_model = tuner.get_best_models()[0]\n",
        "best_model.build(X_train.shape)\n"
      ],
      "metadata": {
        "id": "vLAwSyi8V2sc"
      },
      "execution_count": 132,
      "outputs": []
    },
    {
      "cell_type": "code",
      "source": [
        "best_model.summary()"
      ],
      "metadata": {
        "colab": {
          "base_uri": "https://localhost:8080/"
        },
        "id": "k3j6J5rTWg8R",
        "outputId": "8c62ce93-bcbb-42ff-9d5e-4189e5eebe0a"
      },
      "execution_count": 133,
      "outputs": [
        {
          "output_type": "stream",
          "name": "stdout",
          "text": [
            "Model: \"sequential\"\n",
            "_________________________________________________________________\n",
            " Layer (type)                Output Shape              Param #   \n",
            "=================================================================\n",
            " dense (Dense)               (960, 520)                2600      \n",
            "                                                                 \n",
            " dense_1 (Dense)             (960, 584)                304264    \n",
            "                                                                 \n",
            " dense_2 (Dense)             (960, 744)                435240    \n",
            "                                                                 \n",
            " dense_3 (Dense)             (960, 744)                554280    \n",
            "                                                                 \n",
            " dense_4 (Dense)             (960, 744)                554280    \n",
            "                                                                 \n",
            " dense_5 (Dense)             (960, 744)                554280    \n",
            "                                                                 \n",
            " dense_6 (Dense)             (960, 1)                  745       \n",
            "                                                                 \n",
            "=================================================================\n",
            "Total params: 2,405,689\n",
            "Trainable params: 2,405,689\n",
            "Non-trainable params: 0\n",
            "_________________________________________________________________\n"
          ]
        }
      ]
    },
    {
      "cell_type": "code",
      "source": [
        "best_model.fit(\n",
        "    X_train, \n",
        "    y_train,\n",
        "    epochs=30,\n",
        "    batch_size=64)"
      ],
      "metadata": {
        "colab": {
          "base_uri": "https://localhost:8080/"
        },
        "id": "LNdqWhOYWLro",
        "outputId": "243ab265-5892-4f6f-e250-55ac802c9902"
      },
      "execution_count": 143,
      "outputs": [
        {
          "output_type": "stream",
          "name": "stdout",
          "text": [
            "Epoch 1/30\n",
            "15/15 [==============================] - 0s 4ms/step - loss: 0.0082 - mean_squared_logarithmic_error: 0.0082\n",
            "Epoch 2/30\n",
            "15/15 [==============================] - 0s 5ms/step - loss: 0.0080 - mean_squared_logarithmic_error: 0.0080\n",
            "Epoch 3/30\n",
            "15/15 [==============================] - 0s 6ms/step - loss: 0.0081 - mean_squared_logarithmic_error: 0.0081\n",
            "Epoch 4/30\n",
            "15/15 [==============================] - 0s 6ms/step - loss: 0.0111 - mean_squared_logarithmic_error: 0.0111\n",
            "Epoch 5/30\n",
            "15/15 [==============================] - 0s 6ms/step - loss: 0.0127 - mean_squared_logarithmic_error: 0.0127\n",
            "Epoch 6/30\n",
            "15/15 [==============================] - 0s 5ms/step - loss: 0.0108 - mean_squared_logarithmic_error: 0.0108\n",
            "Epoch 7/30\n",
            "15/15 [==============================] - 0s 6ms/step - loss: 0.0099 - mean_squared_logarithmic_error: 0.0099\n",
            "Epoch 8/30\n",
            "15/15 [==============================] - 0s 6ms/step - loss: 0.0091 - mean_squared_logarithmic_error: 0.0091\n",
            "Epoch 9/30\n",
            "15/15 [==============================] - 0s 5ms/step - loss: 0.0074 - mean_squared_logarithmic_error: 0.0074\n",
            "Epoch 10/30\n",
            "15/15 [==============================] - 0s 7ms/step - loss: 0.0059 - mean_squared_logarithmic_error: 0.0059\n",
            "Epoch 11/30\n",
            "15/15 [==============================] - 0s 8ms/step - loss: 0.0063 - mean_squared_logarithmic_error: 0.0063\n",
            "Epoch 12/30\n",
            "15/15 [==============================] - 0s 5ms/step - loss: 0.0070 - mean_squared_logarithmic_error: 0.0070\n",
            "Epoch 13/30\n",
            "15/15 [==============================] - 0s 6ms/step - loss: 0.0062 - mean_squared_logarithmic_error: 0.0062\n",
            "Epoch 14/30\n",
            "15/15 [==============================] - 0s 7ms/step - loss: 0.0063 - mean_squared_logarithmic_error: 0.0063\n",
            "Epoch 15/30\n",
            "15/15 [==============================] - 0s 5ms/step - loss: 0.0077 - mean_squared_logarithmic_error: 0.0077\n",
            "Epoch 16/30\n",
            "15/15 [==============================] - 0s 5ms/step - loss: 0.0077 - mean_squared_logarithmic_error: 0.0077\n",
            "Epoch 17/30\n",
            "15/15 [==============================] - 0s 5ms/step - loss: 0.0072 - mean_squared_logarithmic_error: 0.0072\n",
            "Epoch 18/30\n",
            "15/15 [==============================] - 0s 5ms/step - loss: 0.0059 - mean_squared_logarithmic_error: 0.0059\n",
            "Epoch 19/30\n",
            "15/15 [==============================] - 0s 5ms/step - loss: 0.0064 - mean_squared_logarithmic_error: 0.0064\n",
            "Epoch 20/30\n",
            "15/15 [==============================] - 0s 5ms/step - loss: 0.0062 - mean_squared_logarithmic_error: 0.0062\n",
            "Epoch 21/30\n",
            "15/15 [==============================] - 0s 5ms/step - loss: 0.0068 - mean_squared_logarithmic_error: 0.0068\n",
            "Epoch 22/30\n",
            "15/15 [==============================] - 0s 6ms/step - loss: 0.0057 - mean_squared_logarithmic_error: 0.0057\n",
            "Epoch 23/30\n",
            "15/15 [==============================] - 0s 5ms/step - loss: 0.0064 - mean_squared_logarithmic_error: 0.0064\n",
            "Epoch 24/30\n",
            "15/15 [==============================] - 0s 5ms/step - loss: 0.0055 - mean_squared_logarithmic_error: 0.0055\n",
            "Epoch 25/30\n",
            "15/15 [==============================] - 0s 5ms/step - loss: 0.0054 - mean_squared_logarithmic_error: 0.0054\n",
            "Epoch 26/30\n",
            "15/15 [==============================] - 0s 8ms/step - loss: 0.0059 - mean_squared_logarithmic_error: 0.0059\n",
            "Epoch 27/30\n",
            "15/15 [==============================] - 0s 6ms/step - loss: 0.0057 - mean_squared_logarithmic_error: 0.0057\n",
            "Epoch 28/30\n",
            "15/15 [==============================] - 0s 6ms/step - loss: 0.0049 - mean_squared_logarithmic_error: 0.0049\n",
            "Epoch 29/30\n",
            "15/15 [==============================] - 0s 6ms/step - loss: 0.0047 - mean_squared_logarithmic_error: 0.0047\n",
            "Epoch 30/30\n",
            "15/15 [==============================] - 0s 8ms/step - loss: 0.0047 - mean_squared_logarithmic_error: 0.0047\n"
          ]
        },
        {
          "output_type": "execute_result",
          "data": {
            "text/plain": [
              "<keras.callbacks.History at 0x7fcca834fe90>"
            ]
          },
          "metadata": {},
          "execution_count": 143
        }
      ]
    },
    {
      "cell_type": "code",
      "source": [
        "# mean squared logarithmic error\n",
        "msle(y_test, best_model.predict(X_test)).numpy()\n",
        "\n"
      ],
      "metadata": {
        "colab": {
          "base_uri": "https://localhost:8080/"
        },
        "id": "1zOns7eCXVXy",
        "outputId": "db5d8233-a8c8-43b5-fdb2-fb3ce4fae6fe"
      },
      "execution_count": 144,
      "outputs": [
        {
          "output_type": "execute_result",
          "data": {
            "text/plain": [
              "0.4978825"
            ]
          },
          "metadata": {},
          "execution_count": 144
        }
      ]
    },
    {
      "cell_type": "code",
      "source": [
        "predictions=best_model.predict(X_test)"
      ],
      "metadata": {
        "id": "8VOzii0GpbBq"
      },
      "execution_count": 145,
      "outputs": []
    },
    {
      "cell_type": "code",
      "source": [
        "predictions"
      ],
      "metadata": {
        "colab": {
          "base_uri": "https://localhost:8080/"
        },
        "id": "Piq-uN1bpkXf",
        "outputId": "453d0909-d119-4cce-9ea8-b7840a1381df"
      },
      "execution_count": 146,
      "outputs": [
        {
          "output_type": "execute_result",
          "data": {
            "text/plain": [
              "array([[0.26358366],\n",
              "       [0.6675408 ],\n",
              "       [3.294592  ],\n",
              "       [0.03388253],\n",
              "       [0.6337643 ],\n",
              "       [0.30722725],\n",
              "       [3.6120884 ],\n",
              "       [0.7962623 ],\n",
              "       [1.4719864 ],\n",
              "       [1.332327  ],\n",
              "       [1.0075943 ],\n",
              "       [2.3786418 ],\n",
              "       [1.3907931 ],\n",
              "       [0.36909083],\n",
              "       [2.1212788 ],\n",
              "       [0.34068653],\n",
              "       [1.6355909 ],\n",
              "       [0.03721152],\n",
              "       [4.282252  ],\n",
              "       [0.64183426],\n",
              "       [3.192845  ],\n",
              "       [0.19065697],\n",
              "       [0.09976424],\n",
              "       [1.4117388 ],\n",
              "       [0.4695598 ],\n",
              "       [0.4579586 ],\n",
              "       [0.338712  ],\n",
              "       [0.13937591],\n",
              "       [0.94848305],\n",
              "       [1.5906602 ],\n",
              "       [3.1478565 ],\n",
              "       [0.21982549],\n",
              "       [0.19786946],\n",
              "       [5.0800314 ],\n",
              "       [0.37059638],\n",
              "       [0.0168345 ],\n",
              "       [2.8092124 ],\n",
              "       [0.6936282 ],\n",
              "       [0.03528132],\n",
              "       [0.20662977],\n",
              "       [0.75789976],\n",
              "       [0.47258553],\n",
              "       [0.6449848 ],\n",
              "       [4.2585063 ],\n",
              "       [0.22313975],\n",
              "       [2.0380433 ],\n",
              "       [1.2191968 ],\n",
              "       [1.1809995 ],\n",
              "       [1.2420784 ],\n",
              "       [2.9992275 ],\n",
              "       [0.60562813],\n",
              "       [2.4959521 ],\n",
              "       [0.4166088 ],\n",
              "       [0.3395306 ],\n",
              "       [0.34571746],\n",
              "       [1.6292344 ],\n",
              "       [0.0399205 ],\n",
              "       [0.23553674],\n",
              "       [0.12031703],\n",
              "       [0.43726215],\n",
              "       [0.6109453 ],\n",
              "       [1.6888489 ],\n",
              "       [3.1938994 ],\n",
              "       [0.37251702],\n",
              "       [0.2968335 ],\n",
              "       [1.7059817 ],\n",
              "       [1.0705305 ],\n",
              "       [0.3050481 ],\n",
              "       [1.2796797 ],\n",
              "       [3.4483738 ],\n",
              "       [0.12416685],\n",
              "       [0.3515076 ],\n",
              "       [0.800078  ],\n",
              "       [0.18934098],\n",
              "       [0.10115424],\n",
              "       [0.70897734],\n",
              "       [0.8317179 ],\n",
              "       [1.8859792 ],\n",
              "       [1.7736672 ],\n",
              "       [0.48786277],\n",
              "       [1.756249  ],\n",
              "       [0.38922182],\n",
              "       [1.2571254 ],\n",
              "       [0.6342413 ],\n",
              "       [0.38831308],\n",
              "       [0.48593098],\n",
              "       [0.42205182],\n",
              "       [0.06932115],\n",
              "       [0.39326936],\n",
              "       [0.13625212],\n",
              "       [0.1284346 ],\n",
              "       [1.2766085 ],\n",
              "       [0.92114496],\n",
              "       [0.64420825],\n",
              "       [2.9332879 ],\n",
              "       [0.38676426],\n",
              "       [3.4799297 ],\n",
              "       [0.24611732],\n",
              "       [0.5188554 ],\n",
              "       [0.4507164 ],\n",
              "       [1.0069333 ],\n",
              "       [2.6140816 ],\n",
              "       [0.46224907],\n",
              "       [0.45245472],\n",
              "       [0.22184683],\n",
              "       [1.0475473 ],\n",
              "       [1.7417997 ],\n",
              "       [0.10189351],\n",
              "       [3.606736  ],\n",
              "       [0.45574698],\n",
              "       [1.3107641 ],\n",
              "       [3.6298602 ],\n",
              "       [4.2486577 ],\n",
              "       [3.814143  ],\n",
              "       [2.293978  ],\n",
              "       [1.7647998 ],\n",
              "       [3.675411  ],\n",
              "       [0.9143177 ],\n",
              "       [1.1411455 ],\n",
              "       [0.22189574],\n",
              "       [0.40515503],\n",
              "       [4.131845  ],\n",
              "       [0.22208083],\n",
              "       [0.90588886],\n",
              "       [2.0649707 ],\n",
              "       [4.431398  ],\n",
              "       [0.48991647],\n",
              "       [0.3318679 ],\n",
              "       [3.5975587 ],\n",
              "       [0.3379875 ],\n",
              "       [0.69124997],\n",
              "       [0.8928112 ],\n",
              "       [0.8479372 ],\n",
              "       [1.2446302 ],\n",
              "       [0.22552456],\n",
              "       [3.425292  ],\n",
              "       [0.6479082 ],\n",
              "       [2.7955613 ],\n",
              "       [0.18188252],\n",
              "       [0.45738938],\n",
              "       [1.7574279 ],\n",
              "       [0.04383302],\n",
              "       [1.7347049 ],\n",
              "       [5.6074953 ],\n",
              "       [1.7496071 ],\n",
              "       [0.4166088 ],\n",
              "       [3.8435125 ],\n",
              "       [0.30357504],\n",
              "       [1.16443   ],\n",
              "       [0.5176429 ],\n",
              "       [0.39022046],\n",
              "       [0.34883517],\n",
              "       [1.1626903 ],\n",
              "       [1.0277295 ],\n",
              "       [0.49291226],\n",
              "       [0.28874302],\n",
              "       [0.18684655],\n",
              "       [0.37895703],\n",
              "       [0.29382756],\n",
              "       [0.1747769 ],\n",
              "       [0.34683818],\n",
              "       [1.0759513 ],\n",
              "       [0.20720507],\n",
              "       [2.391519  ],\n",
              "       [1.850886  ],\n",
              "       [0.6741175 ],\n",
              "       [1.9571102 ],\n",
              "       [0.0233468 ],\n",
              "       [2.0034168 ],\n",
              "       [0.05460731],\n",
              "       [3.3519597 ],\n",
              "       [1.700409  ],\n",
              "       [4.5128784 ],\n",
              "       [2.34511   ],\n",
              "       [0.18762372],\n",
              "       [0.2853263 ],\n",
              "       [0.42594257],\n",
              "       [1.9968195 ],\n",
              "       [3.433924  ],\n",
              "       [0.32318798],\n",
              "       [1.7704645 ],\n",
              "       [2.3686717 ],\n",
              "       [0.31838977],\n",
              "       [0.29826933],\n",
              "       [0.36524957],\n",
              "       [0.66935587],\n",
              "       [0.39953157],\n",
              "       [0.40502238],\n",
              "       [2.451215  ],\n",
              "       [3.65962   ],\n",
              "       [0.04834745],\n",
              "       [1.0086926 ],\n",
              "       [0.10931305],\n",
              "       [0.23744673],\n",
              "       [0.9888194 ],\n",
              "       [1.416786  ],\n",
              "       [4.2857084 ],\n",
              "       [0.20790847],\n",
              "       [2.5935018 ],\n",
              "       [0.338471  ],\n",
              "       [0.10980929],\n",
              "       [0.3091344 ],\n",
              "       [4.1484165 ],\n",
              "       [3.5184526 ],\n",
              "       [0.07183465],\n",
              "       [4.07579   ],\n",
              "       [2.6039212 ],\n",
              "       [1.5715828 ],\n",
              "       [0.19852674],\n",
              "       [1.0514932 ],\n",
              "       [0.5842532 ],\n",
              "       [0.65386355],\n",
              "       [0.84224737],\n",
              "       [0.29794723],\n",
              "       [0.13801944],\n",
              "       [0.08802088],\n",
              "       [0.30543742],\n",
              "       [0.06969688],\n",
              "       [0.19166729],\n",
              "       [4.9578233 ],\n",
              "       [1.0864407 ],\n",
              "       [0.5090052 ],\n",
              "       [0.7210192 ],\n",
              "       [0.48057324],\n",
              "       [0.26567936],\n",
              "       [1.7576586 ],\n",
              "       [0.36068052],\n",
              "       [0.21142706],\n",
              "       [0.19654652],\n",
              "       [3.8287895 ],\n",
              "       [0.07695556],\n",
              "       [2.5877607 ],\n",
              "       [0.4657461 ],\n",
              "       [2.8115323 ],\n",
              "       [1.0377306 ],\n",
              "       [4.103507  ],\n",
              "       [1.3407595 ],\n",
              "       [0.2592093 ],\n",
              "       [2.9866483 ],\n",
              "       [0.62754166]], dtype=float32)"
            ]
          },
          "metadata": {},
          "execution_count": 146
        }
      ]
    },
    {
      "cell_type": "code",
      "source": [
        "y_test"
      ],
      "metadata": {
        "colab": {
          "base_uri": "https://localhost:8080/"
        },
        "id": "yutoowVHpfaY",
        "outputId": "fb46b259-0e84-45ff-cf56-5b436c9c0ca8"
      },
      "execution_count": 147,
      "outputs": [
        {
          "output_type": "execute_result",
          "data": {
            "text/plain": [
              "970    0.238400\n",
              "568    0.746137\n",
              "766    3.383213\n",
              "110    0.040600\n",
              "350    0.900000\n",
              "         ...   \n",
              "936    3.978579\n",
              "639    1.314027\n",
              "385    0.430000\n",
              "761    3.057582\n",
              "573    0.696059\n",
              "Name: CO2 Excess Sorption (cm3/gr), Length: 240, dtype: float64"
            ]
          },
          "metadata": {},
          "execution_count": 147
        }
      ]
    },
    {
      "cell_type": "code",
      "source": [
        "from sklearn import metrics"
      ],
      "metadata": {
        "id": "prRS8ygXqKZ3"
      },
      "execution_count": 148,
      "outputs": []
    },
    {
      "cell_type": "code",
      "source": [
        "print('Training , Mean Absolute Error:', metrics.mean_absolute_error(y_test, predictions))  \n",
        "print('Training , Mean Squared Error:', metrics.mean_squared_error(y_test, predictions))  \n",
        "print('Training , Root Mean Squared Error:', np.sqrt(metrics.mean_squared_error(y_test, predictions)))"
      ],
      "metadata": {
        "colab": {
          "base_uri": "https://localhost:8080/"
        },
        "id": "o9xDcYsnZXa-",
        "outputId": "44a9efc8-83e6-43aa-c10c-6fb1b4707253"
      },
      "execution_count": 149,
      "outputs": [
        {
          "output_type": "stream",
          "name": "stdout",
          "text": [
            "Training , Mean Absolute Error: 0.10775206043839397\n",
            "Training , Mean Squared Error: 0.02869294987631652\n",
            "Training , Root Mean Squared Error: 0.16938993440082714\n"
          ]
        }
      ]
    },
    {
      "cell_type": "code",
      "source": [
        "ig, ax = plt.subplots()\n",
        "from numpy.polynomial.polynomial import polyfit\n",
        "b, m = polyfit(y_test,predictions, 1)\n",
        "plt.plot(y_test, b + m * y_test, '-')\n",
        "ax.scatter(y_test,predictions,color='r',facecolors='none')\n",
        "plt.xlabel('real')\n",
        "plt.ylabel('predict')\n",
        "plt.show()"
      ],
      "metadata": {
        "colab": {
          "base_uri": "https://localhost:8080/",
          "height": 279
        },
        "id": "TjtqJjuYCxw4",
        "outputId": "8fbeefe5-7ce2-48c8-ca69-9c96d11adb9b"
      },
      "execution_count": 150,
      "outputs": [
        {
          "output_type": "display_data",
          "data": {
            "text/plain": [
              "<Figure size 432x288 with 1 Axes>"
            ],
            "image/png": "[encoded data removed]"
          },
          "metadata": {
            "needs_background": "light"
          }
        }
      ]
    },
    {
      "cell_type": "code",
      "source": [
        "R=print(metrics.r2_score(y_test, predictions)) "
      ],
      "metadata": {
        "colab": {
          "base_uri": "https://localhost:8080/"
        },
        "id": "piG0czkXqSvT",
        "outputId": "8c5533c5-4183-4bf4-fcd6-0cc021954c52"
      },
      "execution_count": 151,
      "outputs": [
        {
          "output_type": "stream",
          "name": "stdout",
          "text": [
            "0.9827441830632769\n"
          ]
        }
      ]
    }
  ],
  "metadata": {
    "accelerator": "GPU",
    "colab": {
      "collapsed_sections": [],
      "name": "Untitled5_(4).ipynb",
      "provenance": [],
      "include_colab_link": true
    },
    "gpuClass": "standard",
    "kernelspec": {
      "display_name": "Python 3",
      "name": "python3"
    },
    "language_info": {
      "name": "python"
    }
  },
  "nbformat": 4,
  "nbformat_minor": 0
}