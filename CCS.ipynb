{
  "cells": [
    {
      "cell_type": "code",
      "execution_count": 6,
      "metadata": {
        "id": "71vgPF-CBDH5"
      },
      "outputs": [],
      "source": [
        "from tensorflow import keras\n",
        "from tensorflow.keras.optimizers import Adam\n",
        "from keras.models import Sequential\n",
        "from keras.layers import Dense, Dropout, Activation\n",
        "from sklearn.preprocessing import LabelBinarizer\n",
        "from sklearn.preprocessing import MinMaxScaler\n",
        "from sklearn.model_selection import train_test_split\n",
        "import pandas as pd\n",
        "import numpy as np\n",
        "import glob\n",
        "import cv2\n",
        "import os\n",
        "import locale\n",
        "import seaborn as sns\n",
        "from datetime import timedelta, datetime\n",
        "from sklearn.metrics import mean_squared_error\n",
        "import xgboost as xgb\n",
        "import plotly.graph_objects as go\n"
      ]
    },
    {
      "cell_type": "code",
      "source": [
        ""
      ],
      "metadata": {
        "id": "EOtmuZWNo-pv"
      },
      "execution_count": 6,
      "outputs": []
    },
    {
      "cell_type": "code",
      "source": [
        "!pip install keras-tuner"
      ],
      "metadata": {
        "colab": {
          "base_uri": "https://localhost:8080/"
        },
        "id": "cPtgsHOq5yMy",
        "outputId": "a43996b6-55bd-4750-a0c8-13686b3750ec"
      },
      "execution_count": 7,
      "outputs": [
        {
          "output_type": "stream",
          "name": "stdout",
          "text": [
            "Looking in indexes: https://pypi.org/simple, https://us-python.pkg.dev/colab-wheels/public/simple/\n",
            "Requirement already satisfied: keras-tuner in /usr/local/lib/python3.7/dist-packages (1.1.3)\n",
            "Requirement already satisfied: kt-legacy in /usr/local/lib/python3.7/dist-packages (from keras-tuner) (1.0.4)\n",
            "Requirement already satisfied: numpy in /usr/local/lib/python3.7/dist-packages (from keras-tuner) (1.21.6)\n",
            "Requirement already satisfied: tensorboard in /usr/local/lib/python3.7/dist-packages (from keras-tuner) (2.8.0)\n",
            "Requirement already satisfied: packaging in /usr/local/lib/python3.7/dist-packages (from keras-tuner) (21.3)\n",
            "Requirement already satisfied: ipython in /usr/local/lib/python3.7/dist-packages (from keras-tuner) (5.5.0)\n",
            "Requirement already satisfied: requests in /usr/local/lib/python3.7/dist-packages (from keras-tuner) (2.23.0)\n",
            "Requirement already satisfied: setuptools>=18.5 in /usr/local/lib/python3.7/dist-packages (from ipython->keras-tuner) (57.4.0)\n",
            "Requirement already satisfied: traitlets>=4.2 in /usr/local/lib/python3.7/dist-packages (from ipython->keras-tuner) (5.1.1)\n",
            "Requirement already satisfied: pexpect in /usr/local/lib/python3.7/dist-packages (from ipython->keras-tuner) (4.8.0)\n",
            "Requirement already satisfied: pickleshare in /usr/local/lib/python3.7/dist-packages (from ipython->keras-tuner) (0.7.5)\n",
            "Requirement already satisfied: pygments in /usr/local/lib/python3.7/dist-packages (from ipython->keras-tuner) (2.6.1)\n",
            "Requirement already satisfied: prompt-toolkit<2.0.0,>=1.0.4 in /usr/local/lib/python3.7/dist-packages (from ipython->keras-tuner) (1.0.18)\n",
            "Requirement already satisfied: decorator in /usr/local/lib/python3.7/dist-packages (from ipython->keras-tuner) (4.4.2)\n",
            "Requirement already satisfied: simplegeneric>0.8 in /usr/local/lib/python3.7/dist-packages (from ipython->keras-tuner) (0.8.1)\n",
            "Requirement already satisfied: wcwidth in /usr/local/lib/python3.7/dist-packages (from prompt-toolkit<2.0.0,>=1.0.4->ipython->keras-tuner) (0.2.5)\n",
            "Requirement already satisfied: six>=1.9.0 in /usr/local/lib/python3.7/dist-packages (from prompt-toolkit<2.0.0,>=1.0.4->ipython->keras-tuner) (1.15.0)\n",
            "Requirement already satisfied: pyparsing!=3.0.5,>=2.0.2 in /usr/local/lib/python3.7/dist-packages (from packaging->keras-tuner) (3.0.9)\n",
            "Requirement already satisfied: ptyprocess>=0.5 in /usr/local/lib/python3.7/dist-packages (from pexpect->ipython->keras-tuner) (0.7.0)\n",
            "Requirement already satisfied: certifi>=2017.4.17 in /usr/local/lib/python3.7/dist-packages (from requests->keras-tuner) (2022.6.15)\n",
            "Requirement already satisfied: urllib3!=1.25.0,!=1.25.1,<1.26,>=1.21.1 in /usr/local/lib/python3.7/dist-packages (from requests->keras-tuner) (1.24.3)\n",
            "Requirement already satisfied: chardet<4,>=3.0.2 in /usr/local/lib/python3.7/dist-packages (from requests->keras-tuner) (3.0.4)\n",
            "Requirement already satisfied: idna<3,>=2.5 in /usr/local/lib/python3.7/dist-packages (from requests->keras-tuner) (2.10)\n",
            "Requirement already satisfied: werkzeug>=0.11.15 in /usr/local/lib/python3.7/dist-packages (from tensorboard->keras-tuner) (1.0.1)\n",
            "Requirement already satisfied: google-auth<3,>=1.6.3 in /usr/local/lib/python3.7/dist-packages (from tensorboard->keras-tuner) (1.35.0)\n",
            "Requirement already satisfied: wheel>=0.26 in /usr/local/lib/python3.7/dist-packages (from tensorboard->keras-tuner) (0.37.1)\n",
            "Requirement already satisfied: protobuf>=3.6.0 in /usr/local/lib/python3.7/dist-packages (from tensorboard->keras-tuner) (3.17.3)\n",
            "Requirement already satisfied: grpcio>=1.24.3 in /usr/local/lib/python3.7/dist-packages (from tensorboard->keras-tuner) (1.47.0)\n",
            "Requirement already satisfied: markdown>=2.6.8 in /usr/local/lib/python3.7/dist-packages (from tensorboard->keras-tuner) (3.4.1)\n",
            "Requirement already satisfied: absl-py>=0.4 in /usr/local/lib/python3.7/dist-packages (from tensorboard->keras-tuner) (1.2.0)\n",
            "Requirement already satisfied: tensorboard-plugin-wit>=1.6.0 in /usr/local/lib/python3.7/dist-packages (from tensorboard->keras-tuner) (1.8.1)\n",
            "Requirement already satisfied: google-auth-oauthlib<0.5,>=0.4.1 in /usr/local/lib/python3.7/dist-packages (from tensorboard->keras-tuner) (0.4.6)\n",
            "Requirement already satisfied: tensorboard-data-server<0.7.0,>=0.6.0 in /usr/local/lib/python3.7/dist-packages (from tensorboard->keras-tuner) (0.6.1)\n",
            "Requirement already satisfied: rsa<5,>=3.1.4 in /usr/local/lib/python3.7/dist-packages (from google-auth<3,>=1.6.3->tensorboard->keras-tuner) (4.9)\n",
            "Requirement already satisfied: pyasn1-modules>=0.2.1 in /usr/local/lib/python3.7/dist-packages (from google-auth<3,>=1.6.3->tensorboard->keras-tuner) (0.2.8)\n",
            "Requirement already satisfied: cachetools<5.0,>=2.0.0 in /usr/local/lib/python3.7/dist-packages (from google-auth<3,>=1.6.3->tensorboard->keras-tuner) (4.2.4)\n",
            "Requirement already satisfied: requests-oauthlib>=0.7.0 in /usr/local/lib/python3.7/dist-packages (from google-auth-oauthlib<0.5,>=0.4.1->tensorboard->keras-tuner) (1.3.1)\n",
            "Requirement already satisfied: importlib-metadata>=4.4 in /usr/local/lib/python3.7/dist-packages (from markdown>=2.6.8->tensorboard->keras-tuner) (4.12.0)\n",
            "Requirement already satisfied: zipp>=0.5 in /usr/local/lib/python3.7/dist-packages (from importlib-metadata>=4.4->markdown>=2.6.8->tensorboard->keras-tuner) (3.8.1)\n",
            "Requirement already satisfied: typing-extensions>=3.6.4 in /usr/local/lib/python3.7/dist-packages (from importlib-metadata>=4.4->markdown>=2.6.8->tensorboard->keras-tuner) (4.1.1)\n",
            "Requirement already satisfied: pyasn1<0.5.0,>=0.4.6 in /usr/local/lib/python3.7/dist-packages (from pyasn1-modules>=0.2.1->google-auth<3,>=1.6.3->tensorboard->keras-tuner) (0.4.8)\n",
            "Requirement already satisfied: oauthlib>=3.0.0 in /usr/local/lib/python3.7/dist-packages (from requests-oauthlib>=0.7.0->google-auth-oauthlib<0.5,>=0.4.1->tensorboard->keras-tuner) (3.2.0)\n"
          ]
        }
      ]
    },
    {
      "cell_type": "code",
      "source": [
        "from kerastuner.tuners import RandomSearch\n",
        "import kerastuner as kt"
      ],
      "metadata": {
        "id": "LBjP0y8256SD"
      },
      "execution_count": 8,
      "outputs": []
    },
    {
      "cell_type": "code",
      "execution_count": 9,
      "metadata": {
        "id": "vXF-A97FBNyr"
      },
      "outputs": [],
      "source": [
        "df=pd.read_csv(r\"Data.csv\")\n"
      ]
    },
    {
      "cell_type": "code",
      "execution_count": 10,
      "metadata": {
        "colab": {
          "base_uri": "https://localhost:8080/",
          "height": 485
        },
        "id": "k8Q0HtRiBmQn",
        "outputId": "2dbd051e-3714-4eb1-86d2-8f1415796e9b"
      },
      "outputs": [
        {
          "output_type": "execute_result",
          "data": {
            "text/plain": [
              "      Gas   Rock  TOC (%)  Moisture (%)  Temp (C)  Pres. (MPa)  \\\n",
              "0       0  Shale     1.66          1.42        50       0.4413   \n",
              "1       0  Shale     1.66          1.42        50       0.9308   \n",
              "2       0  Shale     1.66          1.42        50       1.4617   \n",
              "3       0  Shale     1.66          1.42        50       2.8337   \n",
              "4       0  Shale     1.66          1.42        50       5.7158   \n",
              "...   ...    ...      ...           ...       ...          ...   \n",
              "1195    0  Shale     4.76          1.50        70       2.2100   \n",
              "1196    0  Shale     4.76          1.50        70       4.2800   \n",
              "1197    0  Shale     4.76          1.50        70       6.2100   \n",
              "1198    0  Shale     4.76          1.50        70       8.6700   \n",
              "1199    0  Shale     4.76          1.50        70      10.9400   \n",
              "\n",
              "      C1 Excess Sorption (cm3/gr)  CO2 Excess Sorption (cm3/gr)  \n",
              "0                          0.0468                             0  \n",
              "1                          0.0842                             0  \n",
              "2                          0.1186                             0  \n",
              "3                          0.2246                             0  \n",
              "4                          0.3682                             0  \n",
              "...                           ...                           ...  \n",
              "1195                       1.4600                             0  \n",
              "1196                       1.9500                             0  \n",
              "1197                       2.1700                             0  \n",
              "1198                       2.2600                             0  \n",
              "1199                       2.3000                             0  \n",
              "\n",
              "[1200 rows x 8 columns]"
            ],
            "text/html": [
              "\n",
              "  <div id=\"df-144db4a0-dae9-4946-afa4-6f870bf213ca\">\n",
              "    <div class=\"colab-df-container\">\n",
              "      <div>\n",
              "<style scoped>\n",
              "    .dataframe tbody tr th:only-of-type {\n",
              "        vertical-align: middle;\n",
              "    }\n",
              "\n",
              "    .dataframe tbody tr th {\n",
              "        vertical-align: top;\n",
              "    }\n",
              "\n",
              "    .dataframe thead th {\n",
              "        text-align: right;\n",
              "    }\n",
              "</style>\n",
              "<table border=\"1\" class=\"dataframe\">\n",
              "  <thead>\n",
              "    <tr style=\"text-align: right;\">\n",
              "      <th></th>\n",
              "      <th>Gas</th>\n",
              "      <th>Rock</th>\n",
              "      <th>TOC (%)</th>\n",
              "      <th>Moisture (%)</th>\n",
              "      <th>Temp (C)</th>\n",
              "      <th>Pres. (MPa)</th>\n",
              "      <th>C1 Excess Sorption (cm3/gr)</th>\n",
              "      <th>CO2 Excess Sorption (cm3/gr)</th>\n",
              "    </tr>\n",
              "  </thead>\n",
              "  <tbody>\n",
              "    <tr>\n",
              "      <th>0</th>\n",
              "      <td>0</td>\n",
              "      <td>Shale</td>\n",
              "      <td>1.66</td>\n",
              "      <td>1.42</td>\n",
              "      <td>50</td>\n",
              "      <td>0.4413</td>\n",
              "      <td>0.0468</td>\n",
              "      <td>0</td>\n",
              "    </tr>\n",
              "    <tr>\n",
              "      <th>1</th>\n",
              "      <td>0</td>\n",
              "      <td>Shale</td>\n",
              "      <td>1.66</td>\n",
              "      <td>1.42</td>\n",
              "      <td>50</td>\n",
              "      <td>0.9308</td>\n",
              "      <td>0.0842</td>\n",
              "      <td>0</td>\n",
              "    </tr>\n",
              "    <tr>\n",
              "      <th>2</th>\n",
              "      <td>0</td>\n",
              "      <td>Shale</td>\n",
              "      <td>1.66</td>\n",
              "      <td>1.42</td>\n",
              "      <td>50</td>\n",
              "      <td>1.4617</td>\n",
              "      <td>0.1186</td>\n",
              "      <td>0</td>\n",
              "    </tr>\n",
              "    <tr>\n",
              "      <th>3</th>\n",
              "      <td>0</td>\n",
              "      <td>Shale</td>\n",
              "      <td>1.66</td>\n",
              "      <td>1.42</td>\n",
              "      <td>50</td>\n",
              "      <td>2.8337</td>\n",
              "      <td>0.2246</td>\n",
              "      <td>0</td>\n",
              "    </tr>\n",
              "    <tr>\n",
              "      <th>4</th>\n",
              "      <td>0</td>\n",
              "      <td>Shale</td>\n",
              "      <td>1.66</td>\n",
              "      <td>1.42</td>\n",
              "      <td>50</td>\n",
              "      <td>5.7158</td>\n",
              "      <td>0.3682</td>\n",
              "      <td>0</td>\n",
              "    </tr>\n",
              "    <tr>\n",
              "      <th>...</th>\n",
              "      <td>...</td>\n",
              "      <td>...</td>\n",
              "      <td>...</td>\n",
              "      <td>...</td>\n",
              "      <td>...</td>\n",
              "      <td>...</td>\n",
              "      <td>...</td>\n",
              "      <td>...</td>\n",
              "    </tr>\n",
              "    <tr>\n",
              "      <th>1195</th>\n",
              "      <td>0</td>\n",
              "      <td>Shale</td>\n",
              "      <td>4.76</td>\n",
              "      <td>1.50</td>\n",
              "      <td>70</td>\n",
              "      <td>2.2100</td>\n",
              "      <td>1.4600</td>\n",
              "      <td>0</td>\n",
              "    </tr>\n",
              "    <tr>\n",
              "      <th>1196</th>\n",
              "      <td>0</td>\n",
              "      <td>Shale</td>\n",
              "      <td>4.76</td>\n",
              "      <td>1.50</td>\n",
              "      <td>70</td>\n",
              "      <td>4.2800</td>\n",
              "      <td>1.9500</td>\n",
              "      <td>0</td>\n",
              "    </tr>\n",
              "    <tr>\n",
              "      <th>1197</th>\n",
              "      <td>0</td>\n",
              "      <td>Shale</td>\n",
              "      <td>4.76</td>\n",
              "      <td>1.50</td>\n",
              "      <td>70</td>\n",
              "      <td>6.2100</td>\n",
              "      <td>2.1700</td>\n",
              "      <td>0</td>\n",
              "    </tr>\n",
              "    <tr>\n",
              "      <th>1198</th>\n",
              "      <td>0</td>\n",
              "      <td>Shale</td>\n",
              "      <td>4.76</td>\n",
              "      <td>1.50</td>\n",
              "      <td>70</td>\n",
              "      <td>8.6700</td>\n",
              "      <td>2.2600</td>\n",
              "      <td>0</td>\n",
              "    </tr>\n",
              "    <tr>\n",
              "      <th>1199</th>\n",
              "      <td>0</td>\n",
              "      <td>Shale</td>\n",
              "      <td>4.76</td>\n",
              "      <td>1.50</td>\n",
              "      <td>70</td>\n",
              "      <td>10.9400</td>\n",
              "      <td>2.3000</td>\n",
              "      <td>0</td>\n",
              "    </tr>\n",
              "  </tbody>\n",
              "</table>\n",
              "<p>1200 rows × 8 columns</p>\n",
              "</div>\n",
              "      <button class=\"colab-df-convert\" onclick=\"convertToInteractive('df-144db4a0-dae9-4946-afa4-6f870bf213ca')\"\n",
              "              title=\"Convert this dataframe to an interactive table.\"\n",
              "              style=\"display:none;\">\n",
              "        \n",
              "  <svg xmlns=\"http://www.w3.org/2000/svg\" height=\"24px\"viewBox=\"0 0 24 24\"\n",
              "       width=\"24px\">\n",
              "    <path d=\"M0 0h24v24H0V0z\" fill=\"none\"/>\n",
              "    <path d=\"M18.56 5.44l.94 2.06.94-2.06 2.06-.94-2.06-.94-.94-2.06-.94 2.06-2.06.94zm-11 1L8.5 8.5l.94-2.06 2.06-.94-2.06-.94L8.5 2.5l-.94 2.06-2.06.94zm10 10l.94 2.06.94-2.06 2.06-.94-2.06-.94-.94-2.06-.94 2.06-2.06.94z\"/><path d=\"M17.41 7.96l-1.37-1.37c-.4-.4-.92-.59-1.43-.59-.52 0-1.04.2-1.43.59L10.3 9.45l-7.72 7.72c-.78.78-.78 2.05 0 2.83L4 21.41c.39.39.9.59 1.41.59.51 0 1.02-.2 1.41-.59l7.78-7.78 2.81-2.81c.8-.78.8-2.07 0-2.86zM5.41 20L4 18.59l7.72-7.72 1.47 1.35L5.41 20z\"/>\n",
              "  </svg>\n",
              "      </button>\n",
              "      \n",
              "  <style>\n",
              "    .colab-df-container {\n",
              "      display:flex;\n",
              "      flex-wrap:wrap;\n",
              "      gap: 12px;\n",
              "    }\n",
              "\n",
              "    .colab-df-convert {\n",
              "      background-color: #E8F0FE;\n",
              "      border: none;\n",
              "      border-radius: 50%;\n",
              "      cursor: pointer;\n",
              "      display: none;\n",
              "      fill: #1967D2;\n",
              "      height: 32px;\n",
              "      padding: 0 0 0 0;\n",
              "      width: 32px;\n",
              "    }\n",
              "\n",
              "    .colab-df-convert:hover {\n",
              "      background-color: #E2EBFA;\n",
              "      box-shadow: 0px 1px 2px rgba(60, 64, 67, 0.3), 0px 1px 3px 1px rgba(60, 64, 67, 0.15);\n",
              "      fill: #174EA6;\n",
              "    }\n",
              "\n",
              "    [theme=dark] .colab-df-convert {\n",
              "      background-color: #3B4455;\n",
              "      fill: #D2E3FC;\n",
              "    }\n",
              "\n",
              "    [theme=dark] .colab-df-convert:hover {\n",
              "      background-color: #434B5C;\n",
              "      box-shadow: 0px 1px 3px 1px rgba(0, 0, 0, 0.15);\n",
              "      filter: drop-shadow(0px 1px 2px rgba(0, 0, 0, 0.3));\n",
              "      fill: #FFFFFF;\n",
              "    }\n",
              "  </style>\n",
              "\n",
              "      <script>\n",
              "        const buttonEl =\n",
              "          document.querySelector('#df-144db4a0-dae9-4946-afa4-6f870bf213ca button.colab-df-convert');\n",
              "        buttonEl.style.display =\n",
              "          google.colab.kernel.accessAllowed ? 'block' : 'none';\n",
              "\n",
              "        async function convertToInteractive(key) {\n",
              "          const element = document.querySelector('#df-144db4a0-dae9-4946-afa4-6f870bf213ca');\n",
              "          const dataTable =\n",
              "            await google.colab.kernel.invokeFunction('convertToInteractive',\n",
              "                                                     [key], {});\n",
              "          if (!dataTable) return;\n",
              "\n",
              "          const docLinkHtml = 'Like what you see? Visit the ' +\n",
              "            '<a target=\"_blank\" href=https://colab.research.google.com/notebooks/data_table.ipynb>data table notebook</a>'\n",
              "            + ' to learn more about interactive tables.';\n",
              "          element.innerHTML = '';\n",
              "          dataTable['output_type'] = 'display_data';\n",
              "          await google.colab.output.renderOutput(dataTable, element);\n",
              "          const docLink = document.createElement('div');\n",
              "          docLink.innerHTML = docLinkHtml;\n",
              "          element.appendChild(docLink);\n",
              "        }\n",
              "      </script>\n",
              "    </div>\n",
              "  </div>\n",
              "  "
            ]
          },
          "metadata": {},
          "execution_count": 10
        }
      ],
      "source": [
        "df"
      ]
    },
    {
      "cell_type": "code",
      "execution_count": 11,
      "metadata": {
        "colab": {
          "base_uri": "https://localhost:8080/",
          "height": 267
        },
        "id": "iGxwt2TaF1HA",
        "outputId": "f9c2d997-fa52-48f8-b2fa-e427f11f4eb6"
      },
      "outputs": [
        {
          "output_type": "execute_result",
          "data": {
            "text/plain": [
              "   Gas   Rock  TOC (%)  Moisture (%)  Temp (C)  Pres. (MPa)  \\\n",
              "0    0  Shale     1.66          1.42        50       0.4413   \n",
              "1    0  Shale     1.66          1.42        50       0.9308   \n",
              "2    0  Shale     1.66          1.42        50       1.4617   \n",
              "3    0  Shale     1.66          1.42        50       2.8337   \n",
              "4    0  Shale     1.66          1.42        50       5.7158   \n",
              "\n",
              "   C1 Excess Sorption (cm3/gr)  CO2 Excess Sorption (cm3/gr)  \n",
              "0                       0.0468                             0  \n",
              "1                       0.0842                             0  \n",
              "2                       0.1186                             0  \n",
              "3                       0.2246                             0  \n",
              "4                       0.3682                             0  "
            ],
            "text/html": [
              "\n",
              "  <div id=\"df-76c907c6-1022-4b52-8c6a-19b4b03c9519\">\n",
              "    <div class=\"colab-df-container\">\n",
              "      <div>\n",
              "<style scoped>\n",
              "    .dataframe tbody tr th:only-of-type {\n",
              "        vertical-align: middle;\n",
              "    }\n",
              "\n",
              "    .dataframe tbody tr th {\n",
              "        vertical-align: top;\n",
              "    }\n",
              "\n",
              "    .dataframe thead th {\n",
              "        text-align: right;\n",
              "    }\n",
              "</style>\n",
              "<table border=\"1\" class=\"dataframe\">\n",
              "  <thead>\n",
              "    <tr style=\"text-align: right;\">\n",
              "      <th></th>\n",
              "      <th>Gas</th>\n",
              "      <th>Rock</th>\n",
              "      <th>TOC (%)</th>\n",
              "      <th>Moisture (%)</th>\n",
              "      <th>Temp (C)</th>\n",
              "      <th>Pres. (MPa)</th>\n",
              "      <th>C1 Excess Sorption (cm3/gr)</th>\n",
              "      <th>CO2 Excess Sorption (cm3/gr)</th>\n",
              "    </tr>\n",
              "  </thead>\n",
              "  <tbody>\n",
              "    <tr>\n",
              "      <th>0</th>\n",
              "      <td>0</td>\n",
              "      <td>Shale</td>\n",
              "      <td>1.66</td>\n",
              "      <td>1.42</td>\n",
              "      <td>50</td>\n",
              "      <td>0.4413</td>\n",
              "      <td>0.0468</td>\n",
              "      <td>0</td>\n",
              "    </tr>\n",
              "    <tr>\n",
              "      <th>1</th>\n",
              "      <td>0</td>\n",
              "      <td>Shale</td>\n",
              "      <td>1.66</td>\n",
              "      <td>1.42</td>\n",
              "      <td>50</td>\n",
              "      <td>0.9308</td>\n",
              "      <td>0.0842</td>\n",
              "      <td>0</td>\n",
              "    </tr>\n",
              "    <tr>\n",
              "      <th>2</th>\n",
              "      <td>0</td>\n",
              "      <td>Shale</td>\n",
              "      <td>1.66</td>\n",
              "      <td>1.42</td>\n",
              "      <td>50</td>\n",
              "      <td>1.4617</td>\n",
              "      <td>0.1186</td>\n",
              "      <td>0</td>\n",
              "    </tr>\n",
              "    <tr>\n",
              "      <th>3</th>\n",
              "      <td>0</td>\n",
              "      <td>Shale</td>\n",
              "      <td>1.66</td>\n",
              "      <td>1.42</td>\n",
              "      <td>50</td>\n",
              "      <td>2.8337</td>\n",
              "      <td>0.2246</td>\n",
              "      <td>0</td>\n",
              "    </tr>\n",
              "    <tr>\n",
              "      <th>4</th>\n",
              "      <td>0</td>\n",
              "      <td>Shale</td>\n",
              "      <td>1.66</td>\n",
              "      <td>1.42</td>\n",
              "      <td>50</td>\n",
              "      <td>5.7158</td>\n",
              "      <td>0.3682</td>\n",
              "      <td>0</td>\n",
              "    </tr>\n",
              "  </tbody>\n",
              "</table>\n",
              "</div>\n",
              "      <button class=\"colab-df-convert\" onclick=\"convertToInteractive('df-76c907c6-1022-4b52-8c6a-19b4b03c9519')\"\n",
              "              title=\"Convert this dataframe to an interactive table.\"\n",
              "              style=\"display:none;\">\n",
              "        \n",
              "  <svg xmlns=\"http://www.w3.org/2000/svg\" height=\"24px\"viewBox=\"0 0 24 24\"\n",
              "       width=\"24px\">\n",
              "    <path d=\"M0 0h24v24H0V0z\" fill=\"none\"/>\n",
              "    <path d=\"M18.56 5.44l.94 2.06.94-2.06 2.06-.94-2.06-.94-.94-2.06-.94 2.06-2.06.94zm-11 1L8.5 8.5l.94-2.06 2.06-.94-2.06-.94L8.5 2.5l-.94 2.06-2.06.94zm10 10l.94 2.06.94-2.06 2.06-.94-2.06-.94-.94-2.06-.94 2.06-2.06.94z\"/><path d=\"M17.41 7.96l-1.37-1.37c-.4-.4-.92-.59-1.43-.59-.52 0-1.04.2-1.43.59L10.3 9.45l-7.72 7.72c-.78.78-.78 2.05 0 2.83L4 21.41c.39.39.9.59 1.41.59.51 0 1.02-.2 1.41-.59l7.78-7.78 2.81-2.81c.8-.78.8-2.07 0-2.86zM5.41 20L4 18.59l7.72-7.72 1.47 1.35L5.41 20z\"/>\n",
              "  </svg>\n",
              "      </button>\n",
              "      \n",
              "  <style>\n",
              "    .colab-df-container {\n",
              "      display:flex;\n",
              "      flex-wrap:wrap;\n",
              "      gap: 12px;\n",
              "    }\n",
              "\n",
              "    .colab-df-convert {\n",
              "      background-color: #E8F0FE;\n",
              "      border: none;\n",
              "      border-radius: 50%;\n",
              "      cursor: pointer;\n",
              "      display: none;\n",
              "      fill: #1967D2;\n",
              "      height: 32px;\n",
              "      padding: 0 0 0 0;\n",
              "      width: 32px;\n",
              "    }\n",
              "\n",
              "    .colab-df-convert:hover {\n",
              "      background-color: #E2EBFA;\n",
              "      box-shadow: 0px 1px 2px rgba(60, 64, 67, 0.3), 0px 1px 3px 1px rgba(60, 64, 67, 0.15);\n",
              "      fill: #174EA6;\n",
              "    }\n",
              "\n",
              "    [theme=dark] .colab-df-convert {\n",
              "      background-color: #3B4455;\n",
              "      fill: #D2E3FC;\n",
              "    }\n",
              "\n",
              "    [theme=dark] .colab-df-convert:hover {\n",
              "      background-color: #434B5C;\n",
              "      box-shadow: 0px 1px 3px 1px rgba(0, 0, 0, 0.15);\n",
              "      filter: drop-shadow(0px 1px 2px rgba(0, 0, 0, 0.3));\n",
              "      fill: #FFFFFF;\n",
              "    }\n",
              "  </style>\n",
              "\n",
              "      <script>\n",
              "        const buttonEl =\n",
              "          document.querySelector('#df-76c907c6-1022-4b52-8c6a-19b4b03c9519 button.colab-df-convert');\n",
              "        buttonEl.style.display =\n",
              "          google.colab.kernel.accessAllowed ? 'block' : 'none';\n",
              "\n",
              "        async function convertToInteractive(key) {\n",
              "          const element = document.querySelector('#df-76c907c6-1022-4b52-8c6a-19b4b03c9519');\n",
              "          const dataTable =\n",
              "            await google.colab.kernel.invokeFunction('convertToInteractive',\n",
              "                                                     [key], {});\n",
              "          if (!dataTable) return;\n",
              "\n",
              "          const docLinkHtml = 'Like what you see? Visit the ' +\n",
              "            '<a target=\"_blank\" href=https://colab.research.google.com/notebooks/data_table.ipynb>data table notebook</a>'\n",
              "            + ' to learn more about interactive tables.';\n",
              "          element.innerHTML = '';\n",
              "          dataTable['output_type'] = 'display_data';\n",
              "          await google.colab.output.renderOutput(dataTable, element);\n",
              "          const docLink = document.createElement('div');\n",
              "          docLink.innerHTML = docLinkHtml;\n",
              "          element.appendChild(docLink);\n",
              "        }\n",
              "      </script>\n",
              "    </div>\n",
              "  </div>\n",
              "  "
            ]
          },
          "metadata": {},
          "execution_count": 11
        }
      ],
      "source": [
        "df.head()"
      ]
    },
    {
      "cell_type": "code",
      "execution_count": 12,
      "metadata": {
        "colab": {
          "base_uri": "https://localhost:8080/"
        },
        "id": "CoiO6PohBg0v",
        "outputId": "558e04e0-d3e4-43b4-8e03-f98ef9dbd907"
      },
      "outputs": [
        {
          "output_type": "execute_result",
          "data": {
            "text/plain": [
              "(1200, 8)"
            ]
          },
          "metadata": {},
          "execution_count": 12
        }
      ],
      "source": [
        "df.shape"
      ]
    },
    {
      "cell_type": "code",
      "execution_count": 13,
      "metadata": {
        "id": "Y5xZZnMLZFJB"
      },
      "outputs": [],
      "source": [
        "import matplotlib.pyplot as plt"
      ]
    },
    {
      "cell_type": "code",
      "execution_count": 14,
      "metadata": {
        "colab": {
          "base_uri": "https://localhost:8080/",
          "height": 931
        },
        "id": "TM7CFsvmGD2i",
        "outputId": "06dec8e1-b904-496c-af0f-5b0f1491b68e"
      },
      "outputs": [
        {
          "output_type": "execute_result",
          "data": {
            "text/plain": [
              "<matplotlib.axes._subplots.AxesSubplot at 0x7f46f9497790>"
            ]
          },
          "metadata": {},
          "execution_count": 14
        },
        {
          "output_type": "display_data",
          "data": {
            "text/plain": [
              "<Figure size 1800x1800 with 2 Axes>"
            ],
            "image/png": "[encoded data removed]"
          },
          "metadata": {
            "needs_background": "light"
          }
        }
      ],
      "source": [
        "corr=df.corr()\n",
        "plt.figure(figsize=(25,25))\n",
        "sns.heatmap(corr , cbar=True, square= True, fmt='.1f', annot=True, annot_kws={'size':15}, cmap='Greens')"
      ]
    },
    {
      "cell_type": "code",
      "execution_count": 15,
      "metadata": {
        "colab": {
          "base_uri": "https://localhost:8080/"
        },
        "id": "z9vszoACIjjw",
        "outputId": "21ef85ed-cdc0-4fa0-ec26-4dfd6b54072e"
      },
      "outputs": [
        {
          "output_type": "execute_result",
          "data": {
            "text/plain": [
              "Index(['Gas', 'Rock', 'TOC (%)', 'Moisture (%)', 'Temp (C)', 'Pres. (MPa)',\n",
              "       'C1 Excess Sorption (cm3/gr)', 'CO2 Excess Sorption (cm3/gr)'],\n",
              "      dtype='object')"
            ]
          },
          "metadata": {},
          "execution_count": 15
        }
      ],
      "source": [
        "df.columns"
      ]
    },
    {
      "cell_type": "code",
      "execution_count": 16,
      "metadata": {
        "colab": {
          "base_uri": "https://localhost:8080/"
        },
        "id": "x3fnw-CNI6-t",
        "outputId": "43f7e2ae-cd6c-4f93-8689-af48f918f19c"
      },
      "outputs": [
        {
          "output_type": "execute_result",
          "data": {
            "text/plain": [
              "Gas                               int64\n",
              "Rock                             object\n",
              "TOC (%)                         float64\n",
              "Moisture (%)                    float64\n",
              "Temp (C)                          int64\n",
              "Pres. (MPa)                     float64\n",
              "C1 Excess Sorption (cm3/gr)     float64\n",
              "CO2 Excess Sorption (cm3/gr)      int64\n",
              "dtype: object"
            ]
          },
          "metadata": {},
          "execution_count": 16
        }
      ],
      "source": [
        "df.dtypes"
      ]
    },
    {
      "cell_type": "code",
      "execution_count": 17,
      "metadata": {
        "colab": {
          "base_uri": "https://localhost:8080/"
        },
        "id": "6oXdTfL2JLL2",
        "outputId": "c3051da6-80e0-42b7-db88-2b9ceb674c58"
      },
      "outputs": [
        {
          "output_type": "stream",
          "name": "stdout",
          "text": [
            "<class 'pandas.core.frame.DataFrame'>\n",
            "RangeIndex: 1200 entries, 0 to 1199\n",
            "Data columns (total 8 columns):\n",
            " #   Column                        Non-Null Count  Dtype  \n",
            "---  ------                        --------------  -----  \n",
            " 0   Gas                           1200 non-null   int64  \n",
            " 1   Rock                          1200 non-null   object \n",
            " 2   TOC (%)                       1200 non-null   float64\n",
            " 3   Moisture (%)                  1200 non-null   float64\n",
            " 4   Temp (C)                      1200 non-null   int64  \n",
            " 5   Pres. (MPa)                   1200 non-null   float64\n",
            " 6   C1 Excess Sorption (cm3/gr)   1200 non-null   float64\n",
            " 7   CO2 Excess Sorption (cm3/gr)  1200 non-null   int64  \n",
            "dtypes: float64(4), int64(3), object(1)\n",
            "memory usage: 75.1+ KB\n"
          ]
        }
      ],
      "source": [
        "df.info()"
      ]
    },
    {
      "cell_type": "code",
      "execution_count": 18,
      "metadata": {
        "colab": {
          "base_uri": "https://localhost:8080/",
          "height": 362
        },
        "id": "YJN55BpjJTiL",
        "outputId": "71441d9d-9f06-40d4-8f93-8e1fc3a4a6f2"
      },
      "outputs": [
        {
          "output_type": "execute_result",
          "data": {
            "text/plain": [
              "          Gas      TOC (%)  Moisture (%)     Temp (C)  Pres. (MPa)  \\\n",
              "count  1200.0  1200.000000   1200.000000  1200.000000  1200.000000   \n",
              "mean      0.0    11.946637      2.495300    48.523333     9.969668   \n",
              "std       0.0    21.084400      2.050286    19.675333     7.214140   \n",
              "min       0.0     0.090000      0.200000    30.000000     0.164000   \n",
              "25%       0.0     1.700000      0.680000    30.000000     5.233850   \n",
              "50%       0.0     5.150000      1.660000    45.000000     7.018250   \n",
              "75%       0.0    10.940000      4.000000    60.000000    14.900250   \n",
              "max       0.0    88.500000     10.970000   130.000000    27.861700   \n",
              "\n",
              "       C1 Excess Sorption (cm3/gr)  CO2 Excess Sorption (cm3/gr)  \n",
              "count                  1200.000000                        1200.0  \n",
              "mean                      1.260853                           0.0  \n",
              "std                       1.260792                           0.0  \n",
              "min                       0.001600                           0.0  \n",
              "25%                       0.300000                           0.0  \n",
              "50%                       0.695720                           0.0  \n",
              "75%                       1.720940                           0.0  \n",
              "max                       5.360000                           0.0  "
            ],
            "text/html": [
              "\n",
              "  <div id=\"df-c5d9cd71-89a7-441b-a4cc-ddad3aeb4547\">\n",
              "    <div class=\"colab-df-container\">\n",
              "      <div>\n",
              "<style scoped>\n",
              "    .dataframe tbody tr th:only-of-type {\n",
              "        vertical-align: middle;\n",
              "    }\n",
              "\n",
              "    .dataframe tbody tr th {\n",
              "        vertical-align: top;\n",
              "    }\n",
              "\n",
              "    .dataframe thead th {\n",
              "        text-align: right;\n",
              "    }\n",
              "</style>\n",
              "<table border=\"1\" class=\"dataframe\">\n",
              "  <thead>\n",
              "    <tr style=\"text-align: right;\">\n",
              "      <th></th>\n",
              "      <th>Gas</th>\n",
              "      <th>TOC (%)</th>\n",
              "      <th>Moisture (%)</th>\n",
              "      <th>Temp (C)</th>\n",
              "      <th>Pres. (MPa)</th>\n",
              "      <th>C1 Excess Sorption (cm3/gr)</th>\n",
              "      <th>CO2 Excess Sorption (cm3/gr)</th>\n",
              "    </tr>\n",
              "  </thead>\n",
              "  <tbody>\n",
              "    <tr>\n",
              "      <th>count</th>\n",
              "      <td>1200.0</td>\n",
              "      <td>1200.000000</td>\n",
              "      <td>1200.000000</td>\n",
              "      <td>1200.000000</td>\n",
              "      <td>1200.000000</td>\n",
              "      <td>1200.000000</td>\n",
              "      <td>1200.0</td>\n",
              "    </tr>\n",
              "    <tr>\n",
              "      <th>mean</th>\n",
              "      <td>0.0</td>\n",
              "      <td>11.946637</td>\n",
              "      <td>2.495300</td>\n",
              "      <td>48.523333</td>\n",
              "      <td>9.969668</td>\n",
              "      <td>1.260853</td>\n",
              "      <td>0.0</td>\n",
              "    </tr>\n",
              "    <tr>\n",
              "      <th>std</th>\n",
              "      <td>0.0</td>\n",
              "      <td>21.084400</td>\n",
              "      <td>2.050286</td>\n",
              "      <td>19.675333</td>\n",
              "      <td>7.214140</td>\n",
              "      <td>1.260792</td>\n",
              "      <td>0.0</td>\n",
              "    </tr>\n",
              "    <tr>\n",
              "      <th>min</th>\n",
              "      <td>0.0</td>\n",
              "      <td>0.090000</td>\n",
              "      <td>0.200000</td>\n",
              "      <td>30.000000</td>\n",
              "      <td>0.164000</td>\n",
              "      <td>0.001600</td>\n",
              "      <td>0.0</td>\n",
              "    </tr>\n",
              "    <tr>\n",
              "      <th>25%</th>\n",
              "      <td>0.0</td>\n",
              "      <td>1.700000</td>\n",
              "      <td>0.680000</td>\n",
              "      <td>30.000000</td>\n",
              "      <td>5.233850</td>\n",
              "      <td>0.300000</td>\n",
              "      <td>0.0</td>\n",
              "    </tr>\n",
              "    <tr>\n",
              "      <th>50%</th>\n",
              "      <td>0.0</td>\n",
              "      <td>5.150000</td>\n",
              "      <td>1.660000</td>\n",
              "      <td>45.000000</td>\n",
              "      <td>7.018250</td>\n",
              "      <td>0.695720</td>\n",
              "      <td>0.0</td>\n",
              "    </tr>\n",
              "    <tr>\n",
              "      <th>75%</th>\n",
              "      <td>0.0</td>\n",
              "      <td>10.940000</td>\n",
              "      <td>4.000000</td>\n",
              "      <td>60.000000</td>\n",
              "      <td>14.900250</td>\n",
              "      <td>1.720940</td>\n",
              "      <td>0.0</td>\n",
              "    </tr>\n",
              "    <tr>\n",
              "      <th>max</th>\n",
              "      <td>0.0</td>\n",
              "      <td>88.500000</td>\n",
              "      <td>10.970000</td>\n",
              "      <td>130.000000</td>\n",
              "      <td>27.861700</td>\n",
              "      <td>5.360000</td>\n",
              "      <td>0.0</td>\n",
              "    </tr>\n",
              "  </tbody>\n",
              "</table>\n",
              "</div>\n",
              "      <button class=\"colab-df-convert\" onclick=\"convertToInteractive('df-c5d9cd71-89a7-441b-a4cc-ddad3aeb4547')\"\n",
              "              title=\"Convert this dataframe to an interactive table.\"\n",
              "              style=\"display:none;\">\n",
              "        \n",
              "  <svg xmlns=\"http://www.w3.org/2000/svg\" height=\"24px\"viewBox=\"0 0 24 24\"\n",
              "       width=\"24px\">\n",
              "    <path d=\"M0 0h24v24H0V0z\" fill=\"none\"/>\n",
              "    <path d=\"M18.56 5.44l.94 2.06.94-2.06 2.06-.94-2.06-.94-.94-2.06-.94 2.06-2.06.94zm-11 1L8.5 8.5l.94-2.06 2.06-.94-2.06-.94L8.5 2.5l-.94 2.06-2.06.94zm10 10l.94 2.06.94-2.06 2.06-.94-2.06-.94-.94-2.06-.94 2.06-2.06.94z\"/><path d=\"M17.41 7.96l-1.37-1.37c-.4-.4-.92-.59-1.43-.59-.52 0-1.04.2-1.43.59L10.3 9.45l-7.72 7.72c-.78.78-.78 2.05 0 2.83L4 21.41c.39.39.9.59 1.41.59.51 0 1.02-.2 1.41-.59l7.78-7.78 2.81-2.81c.8-.78.8-2.07 0-2.86zM5.41 20L4 18.59l7.72-7.72 1.47 1.35L5.41 20z\"/>\n",
              "  </svg>\n",
              "      </button>\n",
              "      \n",
              "  <style>\n",
              "    .colab-df-container {\n",
              "      display:flex;\n",
              "      flex-wrap:wrap;\n",
              "      gap: 12px;\n",
              "    }\n",
              "\n",
              "    .colab-df-convert {\n",
              "      background-color: #E8F0FE;\n",
              "      border: none;\n",
              "      border-radius: 50%;\n",
              "      cursor: pointer;\n",
              "      display: none;\n",
              "      fill: #1967D2;\n",
              "      height: 32px;\n",
              "      padding: 0 0 0 0;\n",
              "      width: 32px;\n",
              "    }\n",
              "\n",
              "    .colab-df-convert:hover {\n",
              "      background-color: #E2EBFA;\n",
              "      box-shadow: 0px 1px 2px rgba(60, 64, 67, 0.3), 0px 1px 3px 1px rgba(60, 64, 67, 0.15);\n",
              "      fill: #174EA6;\n",
              "    }\n",
              "\n",
              "    [theme=dark] .colab-df-convert {\n",
              "      background-color: #3B4455;\n",
              "      fill: #D2E3FC;\n",
              "    }\n",
              "\n",
              "    [theme=dark] .colab-df-convert:hover {\n",
              "      background-color: #434B5C;\n",
              "      box-shadow: 0px 1px 3px 1px rgba(0, 0, 0, 0.15);\n",
              "      filter: drop-shadow(0px 1px 2px rgba(0, 0, 0, 0.3));\n",
              "      fill: #FFFFFF;\n",
              "    }\n",
              "  </style>\n",
              "\n",
              "      <script>\n",
              "        const buttonEl =\n",
              "          document.querySelector('#df-c5d9cd71-89a7-441b-a4cc-ddad3aeb4547 button.colab-df-convert');\n",
              "        buttonEl.style.display =\n",
              "          google.colab.kernel.accessAllowed ? 'block' : 'none';\n",
              "\n",
              "        async function convertToInteractive(key) {\n",
              "          const element = document.querySelector('#df-c5d9cd71-89a7-441b-a4cc-ddad3aeb4547');\n",
              "          const dataTable =\n",
              "            await google.colab.kernel.invokeFunction('convertToInteractive',\n",
              "                                                     [key], {});\n",
              "          if (!dataTable) return;\n",
              "\n",
              "          const docLinkHtml = 'Like what you see? Visit the ' +\n",
              "            '<a target=\"_blank\" href=https://colab.research.google.com/notebooks/data_table.ipynb>data table notebook</a>'\n",
              "            + ' to learn more about interactive tables.';\n",
              "          element.innerHTML = '';\n",
              "          dataTable['output_type'] = 'display_data';\n",
              "          await google.colab.output.renderOutput(dataTable, element);\n",
              "          const docLink = document.createElement('div');\n",
              "          docLink.innerHTML = docLinkHtml;\n",
              "          element.appendChild(docLink);\n",
              "        }\n",
              "      </script>\n",
              "    </div>\n",
              "  </div>\n",
              "  "
            ]
          },
          "metadata": {},
          "execution_count": 18
        }
      ],
      "source": [
        "df.describe()"
      ]
    },
    {
      "cell_type": "code",
      "execution_count": 19,
      "metadata": {
        "id": "g1ao96PlBGrA"
      },
      "outputs": [],
      "source": [
        "y=df['C1 Excess Sorption (cm3/gr)']"
      ]
    },
    {
      "cell_type": "code",
      "execution_count": 20,
      "metadata": {
        "colab": {
          "base_uri": "https://localhost:8080/"
        },
        "id": "nFSkFM-e0tJ-",
        "outputId": "dead38ea-2f35-4134-dece-29f271baef82"
      },
      "outputs": [
        {
          "output_type": "execute_result",
          "data": {
            "text/plain": [
              "0       0.0468\n",
              "1       0.0842\n",
              "2       0.1186\n",
              "3       0.2246\n",
              "4       0.3682\n",
              "         ...  \n",
              "1195    1.4600\n",
              "1196    1.9500\n",
              "1197    2.1700\n",
              "1198    2.2600\n",
              "1199    2.3000\n",
              "Name: C1 Excess Sorption (cm3/gr), Length: 1200, dtype: float64"
            ]
          },
          "metadata": {},
          "execution_count": 20
        }
      ],
      "source": [
        "y"
      ]
    },
    {
      "cell_type": "code",
      "execution_count": 21,
      "metadata": {
        "id": "Is7VyF7n_fLU"
      },
      "outputs": [],
      "source": [
        "X = df[['TOC (%)','Temp (C)','Moisture (%)','Pres. (MPa)',]].values"
      ]
    },
    {
      "cell_type": "code",
      "execution_count": 22,
      "metadata": {
        "colab": {
          "base_uri": "https://localhost:8080/"
        },
        "id": "jUXkvR-YCllZ",
        "outputId": "61c35e00-5670-4eb9-e72c-117485bdeb88"
      },
      "outputs": [
        {
          "output_type": "execute_result",
          "data": {
            "text/plain": [
              "array([[ 1.66  , 50.    ,  1.42  ,  0.4413],\n",
              "       [ 1.66  , 50.    ,  1.42  ,  0.9308],\n",
              "       [ 1.66  , 50.    ,  1.42  ,  1.4617],\n",
              "       ...,\n",
              "       [ 4.76  , 70.    ,  1.5   ,  6.21  ],\n",
              "       [ 4.76  , 70.    ,  1.5   ,  8.67  ],\n",
              "       [ 4.76  , 70.    ,  1.5   , 10.94  ]])"
            ]
          },
          "metadata": {},
          "execution_count": 22
        }
      ],
      "source": [
        "X"
      ]
    },
    {
      "cell_type": "code",
      "execution_count": 23,
      "metadata": {
        "id": "T8v5E_k4Clpa"
      },
      "outputs": [],
      "source": [
        "X_train, X_test , y_train , y_test = train_test_split(X,y,test_size=0.20,random_state=26)"
      ]
    },
    {
      "cell_type": "code",
      "source": [
        "X_test"
      ],
      "metadata": {
        "colab": {
          "base_uri": "https://localhost:8080/"
        },
        "id": "EyTvzJ4z5B4F",
        "outputId": "ff5d5ef2-e3e5-43b7-a801-08f9da9a2545"
      },
      "execution_count": 24,
      "outputs": [
        {
          "output_type": "execute_result",
          "data": {
            "text/plain": [
              "array([[ 62.2       ,  61.        ,   6.4       ,   7.91      ],\n",
              "       [  3.98      ,  45.        ,   0.25      ,  18.012     ],\n",
              "       [ 10.94      ,  70.        ,   2.65      ,  13.84997887],\n",
              "       [  0.45      ,  80.        ,   0.61      ,   1.4962    ],\n",
              "       [  3.46      ,  30.        ,   5.51      ,   6.        ],\n",
              "       [  1.72      ,  30.        ,   2.62      ,   6.        ],\n",
              "       [ 10.94      ,  45.        ,   0.39      ,  14.313     ],\n",
              "       [  5.15      ,  30.        ,   6.94      ,   6.1761    ],\n",
              "       [  5.79      ,  45.        ,   0.41      ,   5.102     ],\n",
              "       [  5.41      ,  45.        ,   0.3       ,   3.473     ],\n",
              "       [  5.41      ,  45.        ,   1.81      ,  20.902     ],\n",
              "       [ 10.94      , 100.        ,   2.65      ,  15.38228783],\n",
              "       [  5.7       ,  38.        ,   2.8       ,  21.7095    ],\n",
              "       [  1.91      ,  30.        ,   3.63      ,   6.        ],\n",
              "       [ 10.94      , 130.        ,   2.65      ,  15.5253222 ],\n",
              "       [  1.81      ,  30.        ,   2.97      ,   6.        ],\n",
              "       [  5.41      ,  45.        ,   0.41      ,  24.813     ],\n",
              "       [  2.34      ,  30.        ,   6.52      ,   0.5636    ],\n",
              "       [ 15.91      ,  45.        ,   0.4       ,  22.05      ],\n",
              "       [  3.04      ,  30.        ,   4.87      ,   6.        ],\n",
              "       [ 10.94      ,  45.        ,   0.39      ,   5.67      ],\n",
              "       [  0.59      ,  51.        ,   1.12      ,   5.7227    ],\n",
              "       [  0.75      ,  38.        ,   0.59      ,   3.3026    ],\n",
              "       [  5.7       ,  38.        ,   2.8       ,  19.3646    ],\n",
              "       [  3.98      ,  45.        ,   0.76      ,   9.29      ],\n",
              "       [  4.76      ,  60.        ,   1.5       ,   0.38      ],\n",
              "       [ 74.4       ,  61.        ,   4.        ,   6.54      ],\n",
              "       [ 74.4       ,  61.        ,   4.        ,   1.44      ],\n",
              "       [ 88.5       ,  61.        ,   4.8       ,   6.14      ],\n",
              "       [  5.41      ,  45.        ,   0.41      ,  10.939     ],\n",
              "       [  5.29      ,  62.        ,   1.5       ,   5.89      ],\n",
              "       [  0.44      ,  50.        ,   0.66      ,  20.4154    ],\n",
              "       [  0.56      ,  30.        ,   2.34      ,   6.        ],\n",
              "       [  4.76      ,  30.        ,   1.5       ,   8.67      ],\n",
              "       [  2.34      ,  30.        ,   6.52      ,   5.2       ],\n",
              "       [  0.38      ,  38.        ,   1.87      ,   0.2689    ],\n",
              "       [  4.76      ,  70.        ,   1.5       ,  10.94      ],\n",
              "       [  3.98      ,  45.        ,   0.25      ,  13.622     ],\n",
              "       [  1.64      ,  30.        ,   4.37      ,   0.82      ],\n",
              "       [  1.51      ,  45.        ,   0.6       ,   9.1423    ],\n",
              "       [  4.82      ,  30.        ,   5.31      ,   6.        ],\n",
              "       [ 74.4       ,  61.        ,   4.        ,  14.3       ],\n",
              "       [  3.98      ,  45.        ,   0.3       ,  18.707     ],\n",
              "       [  4.76      ,  40.        ,   1.5       ,   8.67      ],\n",
              "       [ 62.2       ,  61.        ,   6.4       ,   6.03      ],\n",
              "       [ 10.94      , 130.        ,   2.65      ,  13.35470299],\n",
              "       [  6.7       ,  38.        ,   3.3       ,  11.6385    ],\n",
              "       [  7.18      ,  30.        ,   4.48      ,   6.        ],\n",
              "       [  7.18      ,  30.        ,   4.48      ,   7.1636    ],\n",
              "       [ 10.94      ,  45.        ,   0.39      ,   2.63      ],\n",
              "       [  3.98      ,  45.        ,   0.3       ,   6.154     ],\n",
              "       [ 10.94      , 100.        ,   2.65      ,  19.49166741],\n",
              "       [ 74.4       ,  61.        ,   4.        ,   9.88      ],\n",
              "       [  1.68      ,  30.        ,   3.35      ,   6.        ],\n",
              "       [  1.75      ,  30.        ,   6.36      ,   6.        ],\n",
              "       [  5.41      ,  45.        ,   0.41      ,  23.344     ],\n",
              "       [  0.59      ,  51.        ,   1.12      ,   0.8274    ],\n",
              "       [  1.51      ,  45.        ,   0.6       ,  11.2711    ],\n",
              "       [  1.51      ,  45.        ,   1.59      ,  10.408     ],\n",
              "       [ 74.4       ,  61.        ,   4.        ,  11.27      ],\n",
              "       [  1.66      ,  50.        ,   1.42      ,   5.7158    ],\n",
              "       [  5.41      ,  45.        ,   0.3       ,  15.521     ],\n",
              "       [  3.28      ,  60.        ,   1.5       ,  20.22      ],\n",
              "       [  1.65      ,  30.        ,   5.1       ,   6.        ],\n",
              "       [ 62.2       ,  61.        ,   6.4       ,  11.21      ],\n",
              "       [  5.79      ,  45.        ,   0.36      ,   9.921     ],\n",
              "       [  5.41      ,  45.        ,   1.81      ,  11.018     ],\n",
              "       [  0.81      ,  30.        ,   4.98      ,   6.2126    ],\n",
              "       [  5.79      ,  45.        ,   1.34      ,  14.702     ],\n",
              "       [ 10.94      ,  45.        ,   0.68      ,  14.279     ],\n",
              "       [  0.81      ,  30.        ,   4.98      ,   3.3522    ],\n",
              "       [  1.73      ,  67.        ,   0.55      ,  13.1207    ],\n",
              "       [  2.34      ,  67.        ,   1.72      ,  15.2374    ],\n",
              "       [  1.51      ,  45.        ,   1.59      ,  21.718     ],\n",
              "       [  1.51      ,  45.        ,   1.59      ,   4.797     ],\n",
              "       [  6.84      ,  30.        ,   5.24      ,   4.2449    ],\n",
              "       [  5.32      ,  30.        ,   8.95      ,   6.        ],\n",
              "       [ 10.94      , 130.        ,   2.65      ,  10.67342095],\n",
              "       [  5.79      ,  45.        ,   0.36      ,  21.489     ],\n",
              "       [  2.59      ,  30.        ,   7.53      ,   6.        ],\n",
              "       [  5.79      ,  45.        ,   0.41      ,  24.866     ],\n",
              "       [  1.57      ,  30.        ,   4.51      ,   6.        ],\n",
              "       [  6.7       ,  38.        ,   3.3       ,  19.4444    ],\n",
              "       [  3.98      ,  45.        ,   0.3       ,   7.638     ],\n",
              "       [ 74.4       ,  61.        ,   4.        ,   8.55      ],\n",
              "       [  2.19      ,  30.        ,   5.12      ,   6.        ],\n",
              "       [ 74.4       ,  61.        ,   4.        ,  10.25      ],\n",
              "       [  1.64      ,  30.        ,   4.37      ,   1.6766    ],\n",
              "       [ 88.5       ,  61.        ,   4.8       ,   1.97      ],\n",
              "       [  4.48      ,  38.        ,   0.77      ,   0.8136    ],\n",
              "       [  0.45      ,  80.        ,   0.61      ,   8.7081    ],\n",
              "       [  5.79      ,  45.        ,   1.34      ,  14.046     ],\n",
              "       [  5.41      ,  45.        ,   1.81      ,   4.956     ],\n",
              "       [  1.66      ,  50.        ,   1.42      ,   8.5978    ],\n",
              "       [  3.28      ,  60.        ,   1.5       ,  13.25      ],\n",
              "       [  2.03      ,  30.        ,   6.3       ,   6.        ],\n",
              "       [  4.76      ,  30.        ,   1.5       ,   2.21      ],\n",
              "       [ 88.5       ,  61.        ,   4.8       ,   0.95      ],\n",
              "       [  5.15      ,  70.        ,   1.5       ,   0.36      ],\n",
              "       [ 74.4       ,  61.        ,   4.        ,  12.2       ],\n",
              "       [  5.41      ,  45.        ,   1.81      ,  26.966     ],\n",
              "       [  5.29      ,  62.        ,   1.5       ,   3.13      ],\n",
              "       [ 74.4       ,  61.        ,   4.        ,  13.26      ],\n",
              "       [ 74.4       ,  61.        ,   4.        ,  12.35      ],\n",
              "       [  1.51      ,  45.        ,   0.6       ,  10.2711    ],\n",
              "       [  5.7       ,  38.        ,   2.8       ,   5.7867    ],\n",
              "       [  5.79      ,  45.        ,   0.41      ,  21.751     ],\n",
              "       [  0.38      ,  38.        ,   1.87      ,   3.1647    ],\n",
              "       [ 15.91      ,  45.        ,   0.4       ,   3.125     ],\n",
              "       [  1.73      ,  67.        ,   0.55      ,  27.6618    ],\n",
              "       [  5.79      ,  45.        ,   1.34      ,  22.241     ],\n",
              "       [  4.05      ,  57.        ,   1.5       ,  20.22      ],\n",
              "       [  4.76      ,  40.        ,   1.5       ,  10.83      ],\n",
              "       [ 15.91      ,  45.        ,   1.66      ,  20.401     ],\n",
              "       [ 10.94      , 130.        ,   2.65      ,  20.44441552],\n",
              "       [  5.79      ,  45.        ,   0.36      ,  13.439     ],\n",
              "       [ 15.91      ,  45.        ,   1.66      ,  13.525     ],\n",
              "       [  1.11      ,  54.        ,   1.5       ,   3.13      ],\n",
              "       [ 88.5       ,  61.        ,   4.8       ,   9.86      ],\n",
              "       [  1.51      ,  45.        ,   0.74      ,  20.591     ],\n",
              "       [  2.13      ,  30.        ,   6.54      ,   6.        ],\n",
              "       [ 15.91      ,  45.        ,   0.62      ,  19.359     ],\n",
              "       [  0.38      ,  38.        ,   1.87      ,   9.0115    ],\n",
              "       [  6.84      ,  30.        ,   5.24      ,   6.        ],\n",
              "       [ 10.94      , 130.        ,   2.65      ,  14.00916314],\n",
              "       [  6.01      ,  53.        ,   1.5       ,  20.22      ],\n",
              "       [  5.7       ,  38.        ,   2.8       ,   1.7398    ],\n",
              "       [ 62.2       ,  61.        ,   6.4       ,  15.42      ],\n",
              "       [ 10.94      ,  45.        ,   0.39      ,  16.993     ],\n",
              "       [ 62.2       ,  61.        ,   6.4       ,  16.58      ],\n",
              "       [  4.        ,  30.        ,   5.34      ,   6.        ],\n",
              "       [  6.7       ,  38.        ,   3.3       ,   4.1843    ],\n",
              "       [  7.18      ,  30.        ,   4.48      ,   4.2909    ],\n",
              "       [  6.7       ,  38.        ,   3.3       ,  20.6751    ],\n",
              "       [  2.84      ,  72.        ,   0.92      ,   2.9647    ],\n",
              "       [ 10.94      ,  45.        ,   0.68      ,  16.636     ],\n",
              "       [  4.48      ,  38.        ,   0.77      ,  11.3832    ],\n",
              "       [ 10.94      ,  45.        ,   0.68      ,   2.659     ],\n",
              "       [  4.48      ,  38.        ,   0.77      ,   1.2893    ],\n",
              "       [  2.84      ,  72.        ,   0.92      ,  21.6909    ],\n",
              "       [  5.79      ,  45.        ,   0.41      ,  25.15      ],\n",
              "       [  3.25      ,  38.        ,   1.47      ,   0.6688    ],\n",
              "       [  5.79      ,  45.        ,   0.41      ,  16.045     ],\n",
              "       [  5.15      ,  30.        ,   1.5       ,   8.67      ],\n",
              "       [  5.79      ,  45.        ,   0.41      ,  23.564     ],\n",
              "       [ 74.4       ,  61.        ,   4.        ,   9.88      ],\n",
              "       [ 15.91      ,  45.        ,   1.66      ,  22.577     ],\n",
              "       [  1.28      ,  30.        ,   5.48      ,   6.        ],\n",
              "       [ 88.5       ,  61.        ,   4.8       ,  10.83      ],\n",
              "       [  6.05      ,  30.        ,   7.34      ,   2.7692    ],\n",
              "       [  1.64      ,  30.        ,   4.37      ,   6.        ],\n",
              "       [  1.58      ,  30.        ,   4.01      ,   6.        ],\n",
              "       [ 88.5       ,  61.        ,   4.8       ,  11.91      ],\n",
              "       [  5.41      ,  45.        ,   1.81      ,   8.428     ],\n",
              "       [ 10.16      ,  30.        ,   2.63      ,   1.2141    ],\n",
              "       [ 74.4       ,  61.        ,   4.        ,   4.51      ],\n",
              "       [  1.51      ,  45.        ,   1.59      ,  20.91      ],\n",
              "       [  1.92      ,  30.        ,   3.73      ,   6.        ],\n",
              "       [ 62.2       ,  61.        ,   6.4       ,  10.9       ],\n",
              "       [  1.51      ,  45.        ,   0.74      ,   9.147     ],\n",
              "       [  3.25      ,  38.        ,   1.47      ,   7.9152    ],\n",
              "       [  7.18      ,  30.        ,   4.48      ,   5.2364    ],\n",
              "       [  1.51      ,  45.        ,   0.74      ,  24.283     ],\n",
              "       [ 10.94      , 130.        ,   2.65      ,  24.85945611],\n",
              "       [ 10.94      , 100.        ,   2.65      ,   5.64109749],\n",
              "       [  3.98      ,  45.        ,   0.3       ,  12.142     ],\n",
              "       [  1.11      ,  54.        ,   1.5       ,  20.22      ],\n",
              "       [  0.75      ,  38.        ,   0.59      ,   0.4068    ],\n",
              "       [ 10.94      , 130.        ,   2.65      ,  12.65424676],\n",
              "       [  1.51      ,  45.        ,   1.59      ,   1.781     ],\n",
              "       [ 10.94      ,  45.        ,   0.68      ,  10.175     ],\n",
              "       [  5.79      ,  45.        ,   0.41      ,  10.98      ],\n",
              "       [  5.29      ,  62.        ,   1.5       ,  20.22      ],\n",
              "       [  4.05      ,  57.        ,   1.5       ,   3.13      ],\n",
              "       [  1.29      ,  72.        ,   0.26      ,   5.7985    ],\n",
              "       [  1.68      ,  30.        ,   2.52      ,   6.        ],\n",
              "       [  1.7       ,  30.        ,   4.62      ,   6.        ],\n",
              "       [  4.76      ,  60.        ,   1.5       ,   2.21      ],\n",
              "       [ 10.94      ,  70.        ,   2.65      ,  25.12482476],\n",
              "       [  1.01      ,  30.        ,   4.48      ,   6.        ],\n",
              "       [  5.79      ,  45.        ,   0.36      ,  17.344     ],\n",
              "       [  5.15      ,  70.        ,   1.5       ,   4.28      ],\n",
              "       [  1.42      ,  30.        ,   6.55      ,   6.        ],\n",
              "       [  0.75      ,  38.        ,   0.59      ,  15.527     ],\n",
              "       [  1.91      ,  30.        ,   3.57      ,   6.        ],\n",
              "       [  3.98      ,  45.        ,   0.3       ,  14.753     ],\n",
              "       [  1.64      ,  30.        ,   4.37      ,   6.1607    ],\n",
              "       [  2.07      ,  30.        ,   5.63      ,   6.        ],\n",
              "       [ 10.94      , 100.        ,   2.65      ,  17.79605431],\n",
              "       [ 15.91      ,  45.        ,   0.62      ,   5.13      ],\n",
              "       [  1.64      ,  30.        ,   4.37      ,   1.2392    ],\n",
              "       [ 88.5       ,  61.        ,   4.8       ,   7.18      ],\n",
              "       [  5.15      ,  30.        ,   6.94      ,   0.672     ],\n",
              "       [  1.51      ,  45.        ,   0.74      ,  15.911     ],\n",
              "       [ 88.5       ,  61.        ,   4.8       ,   6.83      ],\n",
              "       [  5.41      ,  45.        ,   0.41      ,   6.006     ],\n",
              "       [ 15.91      ,  45.        ,   0.4       ,  24.497     ],\n",
              "       [  0.75      ,  38.        ,   0.59      ,   7.5567    ],\n",
              "       [ 10.94      , 100.        ,   2.65      ,  24.91354546],\n",
              "       [  1.3       ,  30.        ,   8.59      ,   6.        ],\n",
              "       [  1.73      ,  67.        ,   0.55      ,   1.6203    ],\n",
              "       [  1.38      ,  30.        ,   5.62      ,   6.        ],\n",
              "       [ 15.91      ,  45.        ,   0.62      ,  22.885     ],\n",
              "       [  6.11      ,  64.        ,   1.5       ,   5.89      ],\n",
              "       [  0.38      ,  38.        ,   1.87      ,   2.5511    ],\n",
              "       [  4.76      ,  40.        ,   1.5       ,   6.21      ],\n",
              "       [ 10.94      , 100.        ,   2.65      ,  25.98226189],\n",
              "       [  5.41      ,  45.        ,   0.41      ,  10.084     ],\n",
              "       [  5.15      ,  30.        ,   6.94      ,   1.0533    ],\n",
              "       [ 88.5       ,  61.        ,   4.8       ,   7.96      ],\n",
              "       [  3.06792021,  30.        ,   5.9       ,   6.        ],\n",
              "       [  3.98      ,  45.        ,   0.3       ,   9.        ],\n",
              "       [  6.05      ,  30.        ,   7.34      ,   5.4838    ],\n",
              "       [  1.15      ,  30.        ,   5.36      ,   6.        ],\n",
              "       [ 74.4       ,  61.        ,   4.        ,   1.41      ],\n",
              "       [  2.34      ,  67.        ,   1.72      ,   0.4413    ],\n",
              "       [  1.73      ,  67.        ,   0.55      ,   9.2045    ],\n",
              "       [ 62.2       ,  61.        ,   6.4       ,   1.46      ],\n",
              "       [ 10.16      ,  30.        ,   2.63      ,   0.1812    ],\n",
              "       [  4.76      ,  30.        ,   1.5       ,  10.94      ],\n",
              "       [  0.91      ,  60.        ,   1.5       ,   3.13      ],\n",
              "       [  2.37      ,  30.        ,   4.04      ,   6.        ],\n",
              "       [  4.51      ,  30.        ,   6.71      ,   6.        ],\n",
              "       [  3.98      ,  45.        ,   0.76      ,  21.885     ],\n",
              "       [  6.05      ,  30.        ,   7.34      ,   1.1842    ],\n",
              "       [ 10.94      ,  70.        ,   2.65      ,   1.22737565],\n",
              "       [  1.96      ,  30.        ,   3.36      ,   6.        ],\n",
              "       [  4.03      ,  85.        ,   0.26      ,   3.1716    ],\n",
              "       [ 62.2       ,  61.        ,   6.4       ,   5.15      ],\n",
              "       [ 15.91      ,  45.        ,   1.66      ,  21.533     ],\n",
              "       [  0.75      ,  38.        ,   0.59      ,   2.6959    ],\n",
              "       [ 10.94      , 100.        ,   2.65      ,  24.32391839],\n",
              "       [  2.34      ,  30.        ,   6.52      ,   6.1818    ],\n",
              "       [  4.05      ,  57.        ,   1.5       ,   5.89      ],\n",
              "       [  5.41      ,  45.        ,   1.81      ,  17.31      ],\n",
              "       [ 15.91      ,  45.        ,   0.62      ,  15.762     ],\n",
              "       [  5.79      ,  45.        ,   0.41      ,   1.618     ],\n",
              "       [  1.74      ,  30.        ,   2.35      ,   6.        ],\n",
              "       [ 10.94      ,  70.        ,   2.65      ,   7.90896477],\n",
              "       [  3.98      ,  45.        ,   0.25      ,  24.185     ]])"
            ]
          },
          "metadata": {},
          "execution_count": 24
        }
      ]
    },
    {
      "cell_type": "code",
      "execution_count": 25,
      "metadata": {
        "colab": {
          "base_uri": "https://localhost:8080/"
        },
        "id": "GIIKleAuKycJ",
        "outputId": "d00ca1ea-b27e-4258-daf9-63bd21cfec77"
      },
      "outputs": [
        {
          "output_type": "execute_result",
          "data": {
            "text/plain": [
              "array([[  4.76      ,  60.        ,   1.5       ,   8.67      ],\n",
              "       [ 10.94      ,  45.        ,   0.39      ,   4.205     ],\n",
              "       [  1.51      ,  45.        ,   0.74      ,   5.448     ],\n",
              "       ...,\n",
              "       [  6.11      ,  64.        ,   1.5       ,  20.22      ],\n",
              "       [  4.05      ,  57.        ,   1.5       ,   9.57      ],\n",
              "       [ 10.94      , 130.        ,   2.65      ,  19.01113305]])"
            ]
          },
          "metadata": {},
          "execution_count": 25
        }
      ],
      "source": [
        "X_train"
      ]
    },
    {
      "cell_type": "code",
      "source": [
        "y_train"
      ],
      "metadata": {
        "colab": {
          "base_uri": "https://localhost:8080/"
        },
        "id": "h6EE4qJ5o419",
        "outputId": "705a3413-8722-42c5-cc34-2a7a2f56dcca"
      },
      "execution_count": 26,
      "outputs": [
        {
          "output_type": "execute_result",
          "data": {
            "text/plain": [
              "1191    2.590000\n",
              "692     3.051496\n",
              "513     0.152777\n",
              "489     1.329100\n",
              "580     0.461797\n",
              "          ...   \n",
              "941     3.991722\n",
              "160     0.265200\n",
              "1101    4.780000\n",
              "1126    2.950000\n",
              "821     2.304704\n",
              "Name: C1 Excess Sorption (cm3/gr), Length: 960, dtype: float64"
            ]
          },
          "metadata": {},
          "execution_count": 26
        }
      ]
    },
    {
      "cell_type": "markdown",
      "metadata": {
        "id": "4b3YMARsEbJu"
      },
      "source": [
        ""
      ]
    },
    {
      "cell_type": "code",
      "execution_count": 27,
      "metadata": {
        "id": "geW_S9HrBnir"
      },
      "outputs": [],
      "source": [
        "from sklearn.preprocessing import MinMaxScaler\n",
        "sc = MinMaxScaler()\n",
        "X_train[:, :] = sc.fit_transform(X_train[:, :])\n",
        "X_test[:, :] = sc.transform(X_test[:, :])"
      ]
    },
    {
      "cell_type": "code",
      "execution_count": 28,
      "metadata": {
        "colab": {
          "base_uri": "https://localhost:8080/"
        },
        "id": "w3l8THdoazLx",
        "outputId": "badd7d36-fad5-41f4-9b3c-b22ad0e14e57"
      },
      "outputs": [
        {
          "output_type": "execute_result",
          "data": {
            "text/plain": [
              "array([[0.05282208, 0.3       , 0.12070566, 0.30710131],\n",
              "       [0.12272367, 0.15      , 0.0176416 , 0.14589659],\n",
              "       [0.01606153, 0.15      , 0.05013928, 0.19077396],\n",
              "       ...,\n",
              "       [0.06809184, 0.34      , 0.12070566, 0.72410345],\n",
              "       [0.04479131, 0.27      , 0.12070566, 0.33959498],\n",
              "       [0.12272367, 1.        , 0.22748375, 0.68045842]])"
            ]
          },
          "metadata": {},
          "execution_count": 28
        }
      ],
      "source": [
        "X_train"
      ]
    },
    {
      "cell_type": "code",
      "execution_count": 29,
      "metadata": {
        "colab": {
          "base_uri": "https://localhost:8080/"
        },
        "id": "ApPS3yW_Clro",
        "outputId": "4394670d-9863-4261-d1c6-65f185065e53"
      },
      "outputs": [
        {
          "output_type": "stream",
          "name": "stdout",
          "text": [
            "(960, 4)\n",
            "(240, 4)\n"
          ]
        }
      ],
      "source": [
        "print(X_train.shape)\n",
        "print(X_test.shape)"
      ]
    },
    {
      "cell_type": "code",
      "source": [
        "from tensorflow.keras.losses import MeanSquaredLogarithmicError\n",
        "import tensorflow as tf\n",
        "import kerastuner as kt\n",
        "msle = MeanSquaredLogarithmicError()\n",
        "def build_model(hp):\n",
        "  model = tf.keras.Sequential()\n",
        "  \n",
        "  # Tune the number of units in the first Dense layer\n",
        "  # Choose an optimal value between 32-512\n",
        "  hp_units1 = hp.Int('units1', min_value=8, max_value=512, step=32)\n",
        "  hp_units2 = hp.Int('units2', min_value=8, max_value=512, step=32)\n",
        "  hp_units3 = hp.Int('units3', min_value=8, max_value=512, step=32)\n",
        "  model.add(Dense(units=hp_units1, activation='relu'))\n",
        "  model.add(tf.keras.layers.Dense(units=hp_units2, activation='relu'))\n",
        "  model.add(tf.keras.layers.Dense(units=hp_units3, activation='relu'))\n",
        "  model.add(Dense(1, kernel_initializer='normal', activation='linear'))\n",
        "  hp_learning_rate = hp.Choice('learning_rate', values=[1e-2, 1e-3, 1e-4])\n",
        "\n",
        "  model.compile(\n",
        "      optimizer=tf.keras.optimizers.Adam(learning_rate=hp_learning_rate),\n",
        "      loss=msle,\n",
        "      metrics=[msle] )\n",
        "  return model\n",
        "\n",
        "tuner = kt.Hyperband(\n",
        "    build_model,\n",
        "    objective='val_mean_squared_logarithmic_error',\n",
        "    max_epochs=10,\n",
        "    directory='keras_tuner_dir',\n",
        "    project_name='keras_tuner_demo')\n",
        "tuner.search(X_train, y_train, epochs=10, validation_split=0.2)"
      ],
      "metadata": {
        "colab": {
          "base_uri": "https://localhost:8080/"
        },
        "id": "i5viFgx2SGC8",
        "outputId": "7c236ae4-9354-4864-cf76-f805dc57f27d"
      },
      "execution_count": 30,
      "outputs": [
        {
          "output_type": "stream",
          "name": "stdout",
          "text": [
            "Trial 30 Complete [00h 00m 02s]\n",
            "val_mean_squared_logarithmic_error: 0.0809108093380928\n",
            "\n",
            "Best val_mean_squared_logarithmic_error So Far: 0.049130309373140335\n",
            "Total elapsed time: 00h 00m 55s\n",
            "INFO:tensorflow:Oracle triggered exit\n"
          ]
        }
      ]
    },
    {
      "cell_type": "code",
      "source": [
        "from kerastuner import HyperModel\n",
        "\n",
        "\n",
        "class ANNHyperModel(HyperModel):\n",
        "    \n",
        "    def build(self, hp):\n",
        "      model = tf.keras.Sequential()\n",
        "      # Tune the number of units in the first Dense layer\n",
        "      # Choose an optimal value between 32-512\n",
        "      hp_units1 = hp.Int('units1', min_value=8, max_value=512, step=32)\n",
        "      hp_units2 = hp.Int('units2', min_value=8, max_value=512, step=32)\n",
        "      hp_units3 = hp.Int('units3', min_value=8, max_value=512, step=32)\n",
        "      model.add(Dense(units=hp_units1, activation='relu'))\n",
        "      model.add(tf.keras.layers.Dense(units=hp_units2, activation='relu'))\n",
        "      model.add(tf.keras.layers.Dense(units=hp_units3, activation='relu'))\n",
        "      model.add(Dense(1, kernel_initializer='normal', activation='linear'))\n",
        "\n",
        "      # Tune the learning rate for the optimizer\n",
        "      # Choose an optimal value from 0.01, 0.001, or 0.0001\n",
        "      hp_learning_rate = hp.Choice('learning_rate', values=[1e-2, 1e-3, 1e-4])\n",
        "\n",
        "      model.compile(\n",
        "          optimizer=tf.keras.optimizers.Adam(learning_rate=hp_learning_rate),\n",
        "          loss=msle,\n",
        "          metrics=[msle]\n",
        "      )\n",
        "\n",
        "      return model\n",
        "\n",
        "hypermodel = ANNHyperModel()\n",
        "\n",
        "tuner = kt.Hyperband(\n",
        "    hypermodel,\n",
        "    objective='val_mean_squared_logarithmic_error',\n",
        "    max_epochs=10,\n",
        "    factor=3,\n",
        "    directory='keras_tuner_dir',\n",
        "    project_name='keras_tuner_demo2'\n",
        ")\n",
        "\n",
        "tuner.search(X_train, y_train, epochs=10, validation_split=0.2)"
      ],
      "metadata": {
        "colab": {
          "base_uri": "https://localhost:8080/"
        },
        "id": "ZTVtETzYU16C",
        "outputId": "784becf7-137c-4697-94d0-8f70cbfd8f24"
      },
      "execution_count": 31,
      "outputs": [
        {
          "output_type": "stream",
          "name": "stdout",
          "text": [
            "Trial 30 Complete [00h 00m 03s]\n",
            "val_mean_squared_logarithmic_error: 0.05604426562786102\n",
            "\n",
            "Best val_mean_squared_logarithmic_error So Far: 0.050553541630506516\n",
            "Total elapsed time: 00h 00m 51s\n",
            "INFO:tensorflow:Oracle triggered exit\n"
          ]
        }
      ]
    },
    {
      "cell_type": "code",
      "source": [
        "for h_param in [f\"units{i}\" for i in range(1,4)] + ['learning_rate']:\n",
        "  print(h_param, tuner.get_best_hyperparameters()[0].get(h_param))\n",
        " \n"
      ],
      "metadata": {
        "colab": {
          "base_uri": "https://localhost:8080/"
        },
        "id": "dnsq_YrOVqTJ",
        "outputId": "40cdab13-816e-4f24-dfcd-390f377d4202"
      },
      "execution_count": 32,
      "outputs": [
        {
          "output_type": "stream",
          "name": "stdout",
          "text": [
            "units1 456\n",
            "units2 392\n",
            "units3 360\n",
            "learning_rate 0.01\n"
          ]
        }
      ]
    },
    {
      "cell_type": "code",
      "source": [
        "best_model = tuner.get_best_models()[0]\n",
        "best_model.build(X_train.shape)\n"
      ],
      "metadata": {
        "id": "vLAwSyi8V2sc"
      },
      "execution_count": 33,
      "outputs": []
    },
    {
      "cell_type": "code",
      "source": [
        "best_model.summary()"
      ],
      "metadata": {
        "colab": {
          "base_uri": "https://localhost:8080/"
        },
        "id": "k3j6J5rTWg8R",
        "outputId": "c0723dd9-d601-4a5c-fbd6-86fb636e2590"
      },
      "execution_count": 34,
      "outputs": [
        {
          "output_type": "stream",
          "name": "stdout",
          "text": [
            "Model: \"sequential\"\n",
            "_________________________________________________________________\n",
            " Layer (type)                Output Shape              Param #   \n",
            "=================================================================\n",
            " dense (Dense)               (960, 456)                2280      \n",
            "                                                                 \n",
            " dense_1 (Dense)             (960, 392)                179144    \n",
            "                                                                 \n",
            " dense_2 (Dense)             (960, 360)                141480    \n",
            "                                                                 \n",
            " dense_3 (Dense)             (960, 1)                  361       \n",
            "                                                                 \n",
            "=================================================================\n",
            "Total params: 323,265\n",
            "Trainable params: 323,265\n",
            "Non-trainable params: 0\n",
            "_________________________________________________________________\n"
          ]
        }
      ]
    },
    {
      "cell_type": "code",
      "source": [
        "best_model.fit(\n",
        "    X_train, \n",
        "    y_train,\n",
        "    epochs=10,\n",
        "    batch_size=64)"
      ],
      "metadata": {
        "colab": {
          "base_uri": "https://localhost:8080/"
        },
        "id": "LNdqWhOYWLro",
        "outputId": "8e059611-63e7-4162-e98e-b39dd1327eb0"
      },
      "execution_count": 35,
      "outputs": [
        {
          "output_type": "stream",
          "name": "stdout",
          "text": [
            "Epoch 1/10\n",
            "15/15 [==============================] - 0s 3ms/step - loss: 0.0423 - mean_squared_logarithmic_error: 0.0423\n",
            "Epoch 2/10\n",
            "15/15 [==============================] - 0s 3ms/step - loss: 0.0360 - mean_squared_logarithmic_error: 0.0360\n",
            "Epoch 3/10\n",
            "15/15 [==============================] - 0s 2ms/step - loss: 0.0382 - mean_squared_logarithmic_error: 0.0382\n",
            "Epoch 4/10\n",
            "15/15 [==============================] - 0s 2ms/step - loss: 0.0356 - mean_squared_logarithmic_error: 0.0356\n",
            "Epoch 5/10\n",
            "15/15 [==============================] - 0s 2ms/step - loss: 0.0388 - mean_squared_logarithmic_error: 0.0388\n",
            "Epoch 6/10\n",
            "15/15 [==============================] - 0s 3ms/step - loss: 0.0361 - mean_squared_logarithmic_error: 0.0361\n",
            "Epoch 7/10\n",
            "15/15 [==============================] - 0s 2ms/step - loss: 0.0342 - mean_squared_logarithmic_error: 0.0342\n",
            "Epoch 8/10\n",
            "15/15 [==============================] - 0s 2ms/step - loss: 0.0336 - mean_squared_logarithmic_error: 0.0336\n",
            "Epoch 9/10\n",
            "15/15 [==============================] - 0s 3ms/step - loss: 0.0324 - mean_squared_logarithmic_error: 0.0324\n",
            "Epoch 10/10\n",
            "15/15 [==============================] - 0s 2ms/step - loss: 0.0293 - mean_squared_logarithmic_error: 0.0293\n"
          ]
        },
        {
          "output_type": "execute_result",
          "data": {
            "text/plain": [
              "<keras.callbacks.History at 0x7f464ef48850>"
            ]
          },
          "metadata": {},
          "execution_count": 35
        }
      ]
    },
    {
      "cell_type": "code",
      "source": [
        "# mean squared logarithmic error\n",
        "msle(y_test, best_model.predict(X_test)).numpy()\n",
        "\n"
      ],
      "metadata": {
        "colab": {
          "base_uri": "https://localhost:8080/"
        },
        "id": "1zOns7eCXVXy",
        "outputId": "81630625-b3d0-4958-f685-4600f9d65e7c"
      },
      "execution_count": 36,
      "outputs": [
        {
          "output_type": "execute_result",
          "data": {
            "text/plain": [
              "0.45114508"
            ]
          },
          "metadata": {},
          "execution_count": 36
        }
      ]
    },
    {
      "cell_type": "code",
      "source": [
        "predictions=best_model.predict(X_test)"
      ],
      "metadata": {
        "id": "8VOzii0GpbBq"
      },
      "execution_count": 37,
      "outputs": []
    },
    {
      "cell_type": "code",
      "source": [
        "predictions"
      ],
      "metadata": {
        "colab": {
          "base_uri": "https://localhost:8080/"
        },
        "id": "Piq-uN1bpkXf",
        "outputId": "aadad398-dbe0-44b6-ff8b-0cd98e774d12"
      },
      "execution_count": 38,
      "outputs": [
        {
          "output_type": "execute_result",
          "data": {
            "text/plain": [
              "array([[0.29365256],\n",
              "       [0.7413641 ],\n",
              "       [3.2789953 ],\n",
              "       [0.04517402],\n",
              "       [0.61159205],\n",
              "       [0.37153354],\n",
              "       [3.8340218 ],\n",
              "       [0.79308695],\n",
              "       [1.3689693 ],\n",
              "       [1.032986  ],\n",
              "       [1.3036538 ],\n",
              "       [2.3925836 ],\n",
              "       [0.8552383 ],\n",
              "       [0.3380366 ],\n",
              "       [2.1942487 ],\n",
              "       [0.34769142],\n",
              "       [1.5478213 ],\n",
              "       [0.04167383],\n",
              "       [4.3866153 ],\n",
              "       [0.5444072 ],\n",
              "       [3.55991   ],\n",
              "       [0.19519627],\n",
              "       [0.12484397],\n",
              "       [0.9931913 ],\n",
              "       [0.8337531 ],\n",
              "       [0.9021327 ],\n",
              "       [0.6990643 ],\n",
              "       [0.5656356 ],\n",
              "       [0.83345395],\n",
              "       [1.4389466 ],\n",
              "       [2.6586823 ],\n",
              "       [0.22722417],\n",
              "       [0.2256605 ],\n",
              "       [2.0163138 ],\n",
              "       [0.39240754],\n",
              "       [0.04049563],\n",
              "       [2.5209436 ],\n",
              "       [0.75758123],\n",
              "       [0.04970666],\n",
              "       [0.23409489],\n",
              "       [0.7876398 ],\n",
              "       [0.8412768 ],\n",
              "       [0.7458648 ],\n",
              "       [2.0083663 ],\n",
              "       [0.2496447 ],\n",
              "       [2.1153636 ],\n",
              "       [1.3783123 ],\n",
              "       [0.97600216],\n",
              "       [1.0551299 ],\n",
              "       [3.2302394 ],\n",
              "       [0.6777783 ],\n",
              "       [2.512589  ],\n",
              "       [0.7894596 ],\n",
              "       [0.31328893],\n",
              "       [0.3447459 ],\n",
              "       [1.5540212 ],\n",
              "       [0.05250332],\n",
              "       [0.23467961],\n",
              "       [0.29557508],\n",
              "       [0.81313044],\n",
              "       [0.40547734],\n",
              "       [1.461257  ],\n",
              "       [1.7675349 ],\n",
              "       [0.32062617],\n",
              "       [0.36986423],\n",
              "       [1.5822772 ],\n",
              "       [2.1939688 ],\n",
              "       [0.2760566 ],\n",
              "       [2.1396387 ],\n",
              "       [3.7153475 ],\n",
              "       [0.16551097],\n",
              "       [0.33341283],\n",
              "       [1.5794147 ],\n",
              "       [0.27481472],\n",
              "       [0.19769552],\n",
              "       [0.73091805],\n",
              "       [0.7103408 ],\n",
              "       [1.985843  ],\n",
              "       [1.7493922 ],\n",
              "       [0.4757823 ],\n",
              "       [1.7275577 ],\n",
              "       [0.3128101 ],\n",
              "       [1.1141127 ],\n",
              "       [0.7248469 ],\n",
              "       [0.75346386],\n",
              "       [0.40189597],\n",
              "       [0.79947346],\n",
              "       [0.09944072],\n",
              "       [0.72203493],\n",
              "       [0.3867991 ],\n",
              "       [0.18839523],\n",
              "       [2.1861537 ],\n",
              "       [2.0485086 ],\n",
              "       [0.5054894 ],\n",
              "       [1.9836092 ],\n",
              "       [0.38533953],\n",
              "       [2.0509007 ],\n",
              "       [0.69536847],\n",
              "       [0.45731175],\n",
              "       [0.8249135 ],\n",
              "       [0.976999  ],\n",
              "       [2.1766365 ],\n",
              "       [0.83331126],\n",
              "       [0.8263412 ],\n",
              "       [0.23582831],\n",
              "       [1.2539148 ],\n",
              "       [1.7670915 ],\n",
              "       [0.09208016],\n",
              "       [3.885383  ],\n",
              "       [0.4556034 ],\n",
              "       [1.4231224 ],\n",
              "       [1.8259001 ],\n",
              "       [1.836304  ],\n",
              "       [3.7445626 ],\n",
              "       [2.329019  ],\n",
              "       [1.6846853 ],\n",
              "       [3.5813906 ],\n",
              "       [0.2405025 ],\n",
              "       [0.93402797],\n",
              "       [0.2444328 ],\n",
              "       [0.4048294 ],\n",
              "       [4.324347  ],\n",
              "       [0.19497037],\n",
              "       [0.9007822 ],\n",
              "       [2.1387796 ],\n",
              "       [2.3891728 ],\n",
              "       [0.5126568 ],\n",
              "       [0.41275796],\n",
              "       [3.7859037 ],\n",
              "       [0.42258763],\n",
              "       [0.6905531 ],\n",
              "       [0.9443314 ],\n",
              "       [0.8260836 ],\n",
              "       [1.0636818 ],\n",
              "       [0.19952288],\n",
              "       [3.7121453 ],\n",
              "       [1.0420904 ],\n",
              "       [3.1819346 ],\n",
              "       [0.48484683],\n",
              "       [0.8190985 ],\n",
              "       [1.7199731 ],\n",
              "       [0.11181945],\n",
              "       [1.7568191 ],\n",
              "       [2.2467368 ],\n",
              "       [1.7573884 ],\n",
              "       [0.7894596 ],\n",
              "       [3.7783277 ],\n",
              "       [0.29493397],\n",
              "       [0.96023375],\n",
              "       [0.3232541 ],\n",
              "       [0.31626678],\n",
              "       [0.3085696 ],\n",
              "       [0.98941123],\n",
              "       [2.263576  ],\n",
              "       [0.9699439 ],\n",
              "       [0.64591473],\n",
              "       [0.27414218],\n",
              "       [0.34026766],\n",
              "       [0.3651753 ],\n",
              "       [0.231704  ],\n",
              "       [0.76005906],\n",
              "       [0.92480916],\n",
              "       [0.2589431 ],\n",
              "       [2.444408  ],\n",
              "       [1.7536415 ],\n",
              "       [0.7680719 ],\n",
              "       [0.521771  ],\n",
              "       [0.05027528],\n",
              "       [2.0894172 ],\n",
              "       [0.08709703],\n",
              "       [3.6977336 ],\n",
              "       [1.651926  ],\n",
              "       [2.7043839 ],\n",
              "       [1.5917441 ],\n",
              "       [0.15949252],\n",
              "       [0.36607558],\n",
              "       [0.32477036],\n",
              "       [1.7113534 ],\n",
              "       [3.5148852 ],\n",
              "       [0.27790484],\n",
              "       [1.7308106 ],\n",
              "       [1.8341405 ],\n",
              "       [0.31591558],\n",
              "       [0.22455168],\n",
              "       [0.33760312],\n",
              "       [0.7604695 ],\n",
              "       [0.31858066],\n",
              "       [0.383922  ],\n",
              "       [2.4629836 ],\n",
              "       [4.0093403 ],\n",
              "       [0.06883013],\n",
              "       [0.861587  ],\n",
              "       [0.08118744],\n",
              "       [0.23357853],\n",
              "       [0.8521231 ],\n",
              "       [1.2438431 ],\n",
              "       [4.386246  ],\n",
              "       [0.18833277],\n",
              "       [2.6745734 ],\n",
              "       [0.35629737],\n",
              "       [0.07255551],\n",
              "       [0.30123243],\n",
              "       [4.3026867 ],\n",
              "       [2.728462  ],\n",
              "       [0.07658061],\n",
              "       [2.0793738 ],\n",
              "       [2.7069588 ],\n",
              "       [1.414242  ],\n",
              "       [0.11335647],\n",
              "       [0.88267785],\n",
              "       [0.5437038 ],\n",
              "       [0.7403713 ],\n",
              "       [0.73527735],\n",
              "       [0.28763065],\n",
              "       [0.5648513 ],\n",
              "       [0.12395907],\n",
              "       [0.2845798 ],\n",
              "       [0.17572881],\n",
              "       [0.6089116 ],\n",
              "       [1.7531854 ],\n",
              "       [0.24828312],\n",
              "       [0.41210622],\n",
              "       [0.7395553 ],\n",
              "       [0.84707767],\n",
              "       [0.13060623],\n",
              "       [1.4624963 ],\n",
              "       [0.34289625],\n",
              "       [0.17189303],\n",
              "       [0.23252466],\n",
              "       [3.7639084 ],\n",
              "       [0.10749517],\n",
              "       [2.6569135 ],\n",
              "       [0.44481385],\n",
              "       [2.0793312 ],\n",
              "       [1.6806445 ],\n",
              "       [4.3010416 ],\n",
              "       [1.0286819 ],\n",
              "       [0.37764153],\n",
              "       [2.9968367 ],\n",
              "       [0.7179865 ]], dtype=float32)"
            ]
          },
          "metadata": {},
          "execution_count": 38
        }
      ]
    },
    {
      "cell_type": "code",
      "source": [
        "y_test"
      ],
      "metadata": {
        "colab": {
          "base_uri": "https://localhost:8080/"
        },
        "id": "yutoowVHpfaY",
        "outputId": "3eb3376b-fca3-41e8-c6ce-b4c2d5c56003"
      },
      "execution_count": 39,
      "outputs": [
        {
          "output_type": "execute_result",
          "data": {
            "text/plain": [
              "970    0.238400\n",
              "568    0.746137\n",
              "766    3.383213\n",
              "110    0.040600\n",
              "350    0.900000\n",
              "         ...   \n",
              "936    3.978579\n",
              "639    1.314027\n",
              "385    0.430000\n",
              "761    3.057582\n",
              "573    0.696059\n",
              "Name: C1 Excess Sorption (cm3/gr), Length: 240, dtype: float64"
            ]
          },
          "metadata": {},
          "execution_count": 39
        }
      ]
    },
    {
      "cell_type": "code",
      "source": [
        "from sklearn import metrics"
      ],
      "metadata": {
        "id": "prRS8ygXqKZ3"
      },
      "execution_count": 40,
      "outputs": []
    },
    {
      "cell_type": "code",
      "source": [
        "print('Training , Mean Absolute Error:', metrics.mean_absolute_error(y_test, predictions))  \n",
        "print('Training , Mean Squared Error:', metrics.mean_squared_error(y_test, predictions))  \n",
        "print('Training , Root Mean Squared Error:', np.sqrt(metrics.mean_squared_error(y_test, predictions)))"
      ],
      "metadata": {
        "colab": {
          "base_uri": "https://localhost:8080/"
        },
        "id": "o9xDcYsnZXa-",
        "outputId": "c1f5bbff-bdb8-4320-be9e-6d739eb494bd"
      },
      "execution_count": 41,
      "outputs": [
        {
          "output_type": "stream",
          "name": "stdout",
          "text": [
            "Training , Mean Absolute Error: 0.3179349078129147\n",
            "Training , Mean Squared Error: 0.4028855678862504\n",
            "Training , Root Mean Squared Error: 0.6347326743490131\n"
          ]
        }
      ]
    },
    {
      "cell_type": "code",
      "source": [
        "plt.figure(figsize=(10,10))\n",
        "plt.scatter(y_test,predictions, c='crimson')\n",
        "\n",
        "\n",
        "p1 = max(max(predictions), max(y_test))\n",
        "p2 = min(min(predictions), min(y_test))\n",
        "plt.plot([p1, p2], [p1, p2], 'b-')\n",
        "plt.xlabel('y_test', fontsize=15)\n",
        "plt.ylabel('Predictions', fontsize=15)\n",
        "plt.axis('equal')\n",
        "plt.show()"
      ],
      "metadata": {
        "colab": {
          "base_uri": "https://localhost:8080/",
          "height": 611
        },
        "id": "OPa6_heUpwc_",
        "outputId": "c9c87181-42b7-4de5-c08b-93d571a5db7b"
      },
      "execution_count": 42,
      "outputs": [
        {
          "output_type": "display_data",
          "data": {
            "text/plain": [
              "<Figure size 720x720 with 1 Axes>"
            ],
            "image/png": "[encoded data removed]"
          },
          "metadata": {
            "needs_background": "light"
          }
        }
      ]
    },
    {
      "cell_type": "code",
      "source": [
        "print(metrics.r2_score(y_test, predictions)) "
      ],
      "metadata": {
        "colab": {
          "base_uri": "https://localhost:8080/"
        },
        "id": "piG0czkXqSvT",
        "outputId": "fe732e34-d5bb-41ba-d3a1-0fc43241d7f2"
      },
      "execution_count": 44,
      "outputs": [
        {
          "output_type": "stream",
          "name": "stdout",
          "text": [
            "0.7577063482193159\n"
          ]
        }
      ]
    }
  ],
  "metadata": {
    "accelerator": "GPU",
    "colab": {
      "collapsed_sections": [],
      "name": "Untitled5.ipynb",
      "provenance": []
    },
    "gpuClass": "standard",
    "kernelspec": {
      "display_name": "Python 3",
      "name": "python3"
    },
    "language_info": {
      "name": "python"
    }
  },
  "nbformat": 4,
  "nbformat_minor": 0
}